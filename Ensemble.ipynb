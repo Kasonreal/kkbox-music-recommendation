{
 "cells": [
  {
   "cell_type": "markdown",
   "metadata": {},
   "source": [
    "# This is for Level 2 ensemble over all Level 1 model outputs"
   ]
  },
  {
   "cell_type": "code",
   "execution_count": 1,
   "metadata": {
    "collapsed": true
   },
   "outputs": [],
   "source": [
    "import numpy as np\n",
    "import pandas as pd"
   ]
  },
  {
   "cell_type": "code",
   "execution_count": 2,
   "metadata": {
    "collapsed": true
   },
   "outputs": [],
   "source": [
    "from sklearn.linear_model import LinearRegression\n",
    "from sklearn.linear_model import SGDRegressor"
   ]
  },
  {
   "cell_type": "code",
   "execution_count": 3,
   "metadata": {
    "collapsed": false
   },
   "outputs": [],
   "source": [
    "# A list of predictions that we ensemble\n",
    "lgbm_path='../data/'\n",
    "\n",
    "lgbm0=pd.read_csv(lgbm_path+'train_lgbm_phase5_new.csv')\n",
    "lgbm1=pd.read_csv(lgbm_path+'train_lgbm_phase5_model1.csv')\n",
    "lgbm2=pd.read_csv(lgbm_path+'train_lgbm_phase5_model2.csv')"
   ]
  },
  {
   "cell_type": "code",
   "execution_count": 4,
   "metadata": {
    "collapsed": true
   },
   "outputs": [],
   "source": [
    "dnn_path='./jl4305/backup/'\n",
    "\n",
    "dnn0=pd.read_csv(dnn_path+'output_float_phase5_epoch_10.csv')\n",
    "dnn1=pd.read_csv(dnn_path+'output_float_phase5_epoch_20.csv')"
   ]
  },
  {
   "cell_type": "code",
   "execution_count": 5,
   "metadata": {
    "collapsed": false
   },
   "outputs": [
    {
     "name": "stdout",
     "output_type": "stream",
     "text": [
      "<class 'pandas.core.frame.DataFrame'>\n",
      "RangeIndex: 7377418 entries, 0 to 7377417\n",
      "Data columns (total 2 columns):\n",
      "id        int64\n",
      "target    float64\n",
      "dtypes: float64(1), int64(1)\n",
      "memory usage: 112.6 MB\n"
     ]
    }
   ],
   "source": [
    "dnn0.info()"
   ]
  },
  {
   "cell_type": "code",
   "execution_count": 6,
   "metadata": {
    "collapsed": false
   },
   "outputs": [],
   "source": [
    "# Concatenate columns\n",
    "train=pd.DataFrame(index=lgbm0.index)\n",
    "\n",
    "train['lgbm0']=lgbm0.target\n",
    "train['lgbm1']=lgbm1.target\n",
    "train['lgbm2']=lgbm2.target\n",
    "\n",
    "train['dnn0']=dnn0.target\n",
    "train['dnn1']=dnn1.target"
   ]
  },
  {
   "cell_type": "code",
   "execution_count": 7,
   "metadata": {
    "collapsed": true
   },
   "outputs": [],
   "source": [
    "# Read test columns\n",
    "lgbm_test0=pd.read_csv(lgbm_path+'submission_lgbm_phase5_new.csv')\n",
    "lgbm_test1=pd.read_csv(lgbm_path+'train_lgbm_phase5_model1.csv')\n",
    "lgbm_test2=pd.read_csv(lgbm_path+'train_lgbm_phase5_model2.csv')\n",
    "\n",
    "dnn_test0=pd.read_csv(dnn_path+'train_phase5_epoch10.csv')\n",
    "dnn_test1=pd.read_csv(dnn_path+'train_phase5_epoch20.csv')"
   ]
  },
  {
   "cell_type": "code",
   "execution_count": 8,
   "metadata": {
    "collapsed": true
   },
   "outputs": [],
   "source": [
    "test=pd.DataFrame(index=lgbm_test0.index)\n",
    "\n",
    "test['lgbm0']=lgbm_test0.target\n",
    "test['lgbm1']=lgbm_test1.target\n",
    "test['lgbm2']=lgbm_test2.target\n",
    "\n",
    "test['dnn0']=dnn_test0.target\n",
    "test['dnn1']=dnn_test1.target"
   ]
  },
  {
   "cell_type": "code",
   "execution_count": 9,
   "metadata": {
    "collapsed": false
   },
   "outputs": [
    {
     "name": "stderr",
     "output_type": "stream",
     "text": [
      "/home/jiacheliu3/anaconda3/lib/python3.5/site-packages/numpy/lib/arraysetops.py:463: FutureWarning: elementwise comparison failed; returning scalar instead, but in the future will perform elementwise comparison\n",
      "  mask |= (ar1 == a)\n"
     ]
    }
   ],
   "source": [
    "# Load example answer\n",
    "data_path='../data/'\n",
    "example=pd.read_csv(data_path + 'train_phase5.csv', index_col=0)"
   ]
  },
  {
   "cell_type": "code",
   "execution_count": 10,
   "metadata": {
    "collapsed": true
   },
   "outputs": [],
   "source": [
    "y=example['target']"
   ]
  },
  {
   "cell_type": "code",
   "execution_count": 11,
   "metadata": {
    "collapsed": false
   },
   "outputs": [
    {
     "data": {
      "text/plain": [
       "count    7.377418e+06\n",
       "mean     5.035171e-01\n",
       "std      4.999877e-01\n",
       "min      0.000000e+00\n",
       "25%      0.000000e+00\n",
       "50%      1.000000e+00\n",
       "75%      1.000000e+00\n",
       "max      1.000000e+00\n",
       "Name: target, dtype: float64"
      ]
     },
     "execution_count": 11,
     "metadata": {},
     "output_type": "execute_result"
    }
   ],
   "source": [
    "y.describe()"
   ]
  },
  {
   "cell_type": "code",
   "execution_count": 30,
   "metadata": {
    "collapsed": false
   },
   "outputs": [
    {
     "data": {
      "text/plain": [
       "LinearRegression(copy_X=True, fit_intercept=True, n_jobs=1, normalize=True)"
      ]
     },
     "execution_count": 30,
     "metadata": {},
     "output_type": "execute_result"
    }
   ],
   "source": [
    "lr=LinearRegression(normalize=True)\n",
    "lr.fit(train,y)"
   ]
  },
  {
   "cell_type": "code",
   "execution_count": 31,
   "metadata": {
    "collapsed": true
   },
   "outputs": [],
   "source": [
    "pred=lr.predict(test)"
   ]
  },
  {
   "cell_type": "code",
   "execution_count": 35,
   "metadata": {
    "collapsed": false
   },
   "outputs": [],
   "source": [
    "# Normalize to 0-1\n",
    "pred=(pred-np.min(pred))/(np.max(pred)-np.min(pred))"
   ]
  },
  {
   "cell_type": "code",
   "execution_count": 37,
   "metadata": {
    "collapsed": false
   },
   "outputs": [],
   "source": [
    "pred_df=pd.DataFrame()\n",
    "pred_df['id']=test.index\n",
    "pred_df['target']=pred\n",
    "pred_df.to_csv(data_path+'ensemble_phase5_lr.csv', index=False)"
   ]
  },
  {
   "cell_type": "markdown",
   "metadata": {},
   "source": [
    "# Print the coefficients used in Level 2 model to see the importance of Level 1 models"
   ]
  },
  {
   "cell_type": "code",
   "execution_count": 33,
   "metadata": {
    "collapsed": false
   },
   "outputs": [
    {
     "data": {
      "text/plain": [
       "array([ 1.61349017, -0.84253125,  0.29199245, -1.52670813,  1.48192019])"
      ]
     },
     "execution_count": 33,
     "metadata": {},
     "output_type": "execute_result"
    }
   ],
   "source": [
    "lr.coef_"
   ]
  }
 ],
 "metadata": {
  "anaconda-cloud": {},
  "kernelspec": {
   "display_name": "Python [conda root]",
   "language": "python",
   "name": "conda-root-py"
  },
  "language_info": {
   "codemirror_mode": {
    "name": "ipython",
    "version": 3
   },
   "file_extension": ".py",
   "mimetype": "text/x-python",
   "name": "python",
   "nbconvert_exporter": "python",
   "pygments_lexer": "ipython3",
   "version": "3.5.2"
  }
 },
 "nbformat": 4,
 "nbformat_minor": 1
}
