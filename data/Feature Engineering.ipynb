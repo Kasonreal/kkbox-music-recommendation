{
 "cells": [
  {
   "cell_type": "code",
   "execution_count": 1,
   "metadata": {
    "collapsed": true
   },
   "outputs": [],
   "source": [
    "# https://www.kaggle.com/asmitavikas/feature-engineered-0-68310\n",
    "import numpy as np\n",
    "import pandas as pd\n",
    "import lightgbm as lgb\n",
    "import datetime\n",
    "import math"
   ]
  },
  {
   "cell_type": "code",
   "execution_count": 2,
   "metadata": {
    "collapsed": false
   },
   "outputs": [
    {
     "name": "stdout",
     "output_type": "stream",
     "text": [
      "Current directory: /home/jiacheliu3/Kaggle/kkbox-music-recommendation/data\n",
      "Loading data...\n",
      "Done loading...\n"
     ]
    }
   ],
   "source": [
    "import os\n",
    "cwd = os.getcwd()\n",
    "print(\"Current directory: %s\" % cwd)\n",
    "\n",
    "print('Loading data...')\n",
    "data_path = '../../kaggle/'\n",
    "train = pd.read_csv(data_path + 'train.csv')\n",
    "test = pd.read_csv(data_path + 'test.csv')\n",
    "songs = pd.read_csv(data_path + 'songs.csv')\n",
    "members = pd.read_csv(data_path + 'members.csv',\n",
    "                     parse_dates=['registration_init_time','expiration_date'])\n",
    "songs_extra = pd.read_csv(data_path + 'song_extra_info.csv')\n",
    "print('Done loading...')"
   ]
  },
  {
   "cell_type": "code",
   "execution_count": 3,
   "metadata": {
    "collapsed": false,
    "scrolled": true
   },
   "outputs": [
    {
     "name": "stdout",
     "output_type": "stream",
     "text": [
      "Member table:\n",
      "<class 'pandas.core.frame.DataFrame'>\n",
      "RangeIndex: 34403 entries, 0 to 34402\n",
      "Data columns (total 7 columns):\n",
      "msno                      34403 non-null object\n",
      "city                      34403 non-null int64\n",
      "bd                        34403 non-null int64\n",
      "gender                    14501 non-null object\n",
      "registered_via            34403 non-null int64\n",
      "registration_init_time    34403 non-null datetime64[ns]\n",
      "expiration_date           34403 non-null datetime64[ns]\n",
      "dtypes: datetime64[ns](2), int64(3), object(2)\n",
      "memory usage: 1.8+ MB\n",
      "None\n",
      "Song table:\n",
      "<class 'pandas.core.frame.DataFrame'>\n",
      "RangeIndex: 2296320 entries, 0 to 2296319\n",
      "Data columns (total 7 columns):\n",
      "song_id        object\n",
      "song_length    int64\n",
      "genre_ids      object\n",
      "artist_name    object\n",
      "composer       object\n",
      "lyricist       object\n",
      "language       float64\n",
      "dtypes: float64(1), int64(1), object(5)\n",
      "memory usage: 122.6+ MB\n",
      "None\n",
      "Song extra info table:\n",
      "<class 'pandas.core.frame.DataFrame'>\n",
      "RangeIndex: 2295971 entries, 0 to 2295970\n",
      "Data columns (total 3 columns):\n",
      "song_id    object\n",
      "name       object\n",
      "isrc       object\n",
      "dtypes: object(3)\n",
      "memory usage: 52.6+ MB\n",
      "None\n"
     ]
    }
   ],
   "source": [
    "print('Member table:')\n",
    "print(members.info())\n",
    "\n",
    "print('Song table:')\n",
    "print(songs.info())\n",
    "\n",
    "print('Song extra info table:')\n",
    "print(songs_extra.info())"
   ]
  },
  {
   "cell_type": "markdown",
   "metadata": {},
   "source": [
    "# Engineering members table"
   ]
  },
  {
   "cell_type": "code",
   "execution_count": 4,
   "metadata": {
    "collapsed": true
   },
   "outputs": [],
   "source": [
    "from datetime import datetime\n",
    "# Convert datetime to int timestamp\n",
    "def to_timestamp(x):\n",
    "    return datetime.timestamp(x)"
   ]
  },
  {
   "cell_type": "code",
   "execution_count": 5,
   "metadata": {
    "collapsed": true
   },
   "outputs": [],
   "source": [
    "members['membership_days'] = members['expiration_date'].subtract(members['registration_init_time']).dt.days.astype(np.int16)\n",
    "\n",
    "# Convert datetime to int\n",
    "members['registration_timestamp']=members['registration_init_time'].apply(to_timestamp)\n",
    "members['expiration_timestamp']=members['expiration_date'].apply(to_timestamp)"
   ]
  },
  {
   "cell_type": "code",
   "execution_count": 7,
   "metadata": {
    "collapsed": true
   },
   "outputs": [],
   "source": [
    "# Drop date columns\n",
    "members.drop(['registration_init_time', 'expiration_date'], axis=1, inplace=True)"
   ]
  },
  {
   "cell_type": "code",
   "execution_count": 6,
   "metadata": {
    "collapsed": true
   },
   "outputs": [],
   "source": [
    "# Phase 5: Not splitting anymore as timestamps make more sense\n",
    "\n",
    "# members['membership_days'] = members['expiration_date'].subtract(members['registration_init_time']).dt.days.astype(np.int16)\n",
    "\n",
    "# members['registration_year'] = members['registration_init_time'].dt.year\n",
    "# members['registration_month'] = members['registration_init_time'].dt.month\n",
    "# members['registration_date'] = members['registration_init_time'].dt.day\n",
    "\n",
    "# members['expiration_year'] = members['expiration_date'].dt.year\n",
    "# members['expiration_month'] = members['expiration_date'].dt.month\n",
    "# members['expiration_date'] = members['expiration_date'].dt.day"
   ]
  },
  {
   "cell_type": "markdown",
   "metadata": {},
   "source": [
    "# Engineering songs table"
   ]
  },
  {
   "cell_type": "code",
   "execution_count": 8,
   "metadata": {
    "collapsed": true
   },
   "outputs": [],
   "source": [
    "# Convert to lower case\n",
    "# NaN values are kept for replacement\n",
    "def to_lower_case(X, list_of_columns):\n",
    "    for col in list_of_columns:\n",
    "        print(\"Converting column %s\" % col)\n",
    "        X[col]=X[col].str.lower()"
   ]
  },
  {
   "cell_type": "code",
   "execution_count": 9,
   "metadata": {
    "collapsed": false
   },
   "outputs": [
    {
     "name": "stdout",
     "output_type": "stream",
     "text": [
      "Song length mean: 246993  std: 160920\n"
     ]
    }
   ],
   "source": [
    "# Song length\n",
    "MEAN_SONG_LENGTH = int(round(np.mean(songs['song_length'])))\n",
    "STD_SONG_LENGTH = int(round(np.std(songs['song_length'])))\n",
    "print(\"Song length mean: %i  std: %i\" % (MEAN_SONG_LENGTH, STD_SONG_LENGTH))"
   ]
  },
  {
   "cell_type": "code",
   "execution_count": 10,
   "metadata": {
    "collapsed": true
   },
   "outputs": [],
   "source": [
    "# Fill with mean length\n",
    "songs.song_length.fillna(MEAN_SONG_LENGTH,inplace=True)"
   ]
  },
  {
   "cell_type": "code",
   "execution_count": 11,
   "metadata": {
    "collapsed": true
   },
   "outputs": [],
   "source": [
    "def shorter_song(x):\n",
    "    if x < MEAN_SONG_LENGTH:\n",
    "        return 1\n",
    "    return 0\n",
    "\n",
    "songs['short_song'] = songs['song_length'].apply(shorter_song).astype(np.int8)\n",
    "songs['short_song'] = songs['song_length'].apply(shorter_song).astype(np.int8)"
   ]
  },
  {
   "cell_type": "code",
   "execution_count": 12,
   "metadata": {
    "collapsed": true
   },
   "outputs": [],
   "source": [
    "# How many std is the song length from mean\n",
    "def mean_length_dist(x):\n",
    "    return x-MEAN_SONG_LENGTH\n",
    "\n",
    "songs['mean_length_distance'] = songs['song_length'].apply(mean_length_dist).astype(np.uint16)\n",
    "songs['mean_length_distance'] = songs['song_length'].apply(mean_length_dist).astype(np.uint16)"
   ]
  },
  {
   "cell_type": "code",
   "execution_count": 13,
   "metadata": {
    "collapsed": false
   },
   "outputs": [
    {
     "name": "stdout",
     "output_type": "stream",
     "text": [
      "Converting column artist_name\n",
      "Converting column composer\n",
      "Converting column lyricist\n"
     ]
    }
   ],
   "source": [
    "# Cast to lower letters\n",
    "cols_to_lower=['artist_name', 'composer', 'lyricist']\n",
    "to_lower_case(songs, cols_to_lower)"
   ]
  },
  {
   "cell_type": "markdown",
   "metadata": {},
   "source": [
    "# Engineering songs_extra table"
   ]
  },
  {
   "cell_type": "code",
   "execution_count": 14,
   "metadata": {
    "collapsed": true
   },
   "outputs": [],
   "source": [
    "'''\n",
    "ISRC is in the form \"CC-XXX-YY-NNNNN\"\n",
    "CC: Country code\n",
    "XXX: Issuer\n",
    "YY: Year\n",
    "NNNNN: Unique identifier\n",
    "'''\n",
    "def split_isrc(x):\n",
    "    if type(x) == str:\n",
    "        country=x[0:2]\n",
    "        issuer=x[2:5]\n",
    "        if int(x[5:7]) > 17:\n",
    "            year=1900 + int(x[5:7])\n",
    "        else:\n",
    "            year=2000 + int(x[5:7])\n",
    "        unique_code=x[7:12]\n",
    "        \n",
    "        return country, issuer, year, unique_code\n",
    "    else:\n",
    "        return \"empty\", \"empty\", np.NaN, \"empty\"  \n",
    "    \n"
   ]
  },
  {
   "cell_type": "code",
   "execution_count": 15,
   "metadata": {
    "collapsed": true
   },
   "outputs": [],
   "source": [
    "# Split isrc into 4 columns\n",
    "S=songs_extra['isrc'].apply(split_isrc).to_frame()\n",
    "songs_extra[['country_code', 'issuer', 'issue_year' ,'unique_id']]=pd.DataFrame(S['isrc'].tolist())"
   ]
  },
  {
   "cell_type": "code",
   "execution_count": 16,
   "metadata": {
    "collapsed": true,
    "scrolled": false
   },
   "outputs": [],
   "source": [
    "# Safely drop isrc\n",
    "songs_extra.drop(['isrc'], axis=1, inplace=True)"
   ]
  },
  {
   "cell_type": "code",
   "execution_count": 17,
   "metadata": {
    "collapsed": true,
    "scrolled": true
   },
   "outputs": [],
   "source": [
    "# Rename column 'name' to 'song_name' to avoid confusion\n",
    "songs_extra.rename(columns={\"name\": \"song_name\"}, inplace=True)"
   ]
  },
  {
   "cell_type": "markdown",
   "metadata": {},
   "source": [
    "# Merge tables"
   ]
  },
  {
   "cell_type": "code",
   "execution_count": 18,
   "metadata": {
    "collapsed": true,
    "scrolled": true
   },
   "outputs": [],
   "source": [
    "# Merge songs\n",
    "train = train.merge(songs, on='song_id', how='left')\n",
    "test = test.merge(songs, on='song_id', how='left')\n",
    "\n",
    "# Merge members\n",
    "train = train.merge(members, on='msno', how='left')\n",
    "test = test.merge(members, on='msno', how='left')\n",
    "\n",
    "# Merge songs_extra\n",
    "train = train.merge(songs_extra, on = 'song_id', how = 'left')\n",
    "test = test.merge(songs_extra, on = 'song_id', how = 'left')"
   ]
  },
  {
   "cell_type": "code",
   "execution_count": 19,
   "metadata": {
    "collapsed": false
   },
   "outputs": [
    {
     "name": "stdout",
     "output_type": "stream",
     "text": [
      "7377418 rows in train set\n",
      "2556790 rows in test set\n"
     ]
    }
   ],
   "source": [
    "TRAIN_SIZE=train.shape[0]\n",
    "print(\"%i rows in train set\" % TRAIN_SIZE)\n",
    "\n",
    "TEST_SIZE=test.shape[0]\n",
    "print(\"%i rows in test set\" % TEST_SIZE)"
   ]
  },
  {
   "cell_type": "code",
   "execution_count": 20,
   "metadata": {
    "collapsed": false,
    "scrolled": true
   },
   "outputs": [
    {
     "name": "stdout",
     "output_type": "stream",
     "text": [
      "<class 'pandas.core.frame.DataFrame'>\n",
      "Int64Index: 7377418 entries, 0 to 7377417\n",
      "Data columns (total 26 columns):\n",
      "msno                      object\n",
      "song_id                   object\n",
      "source_system_tab         object\n",
      "source_screen_name        object\n",
      "source_type               object\n",
      "target                    int64\n",
      "song_length               float64\n",
      "genre_ids                 object\n",
      "artist_name               object\n",
      "composer                  object\n",
      "lyricist                  object\n",
      "language                  float64\n",
      "short_song                float64\n",
      "mean_length_distance      float64\n",
      "city                      int64\n",
      "bd                        int64\n",
      "gender                    object\n",
      "registered_via            int64\n",
      "membership_days           int16\n",
      "registration_timestamp    float64\n",
      "expiration_timestamp      float64\n",
      "song_name                 object\n",
      "country_code              object\n",
      "issuer                    object\n",
      "issue_year                float64\n",
      "unique_id                 object\n",
      "dtypes: float64(7), int16(1), int64(4), object(14)\n",
      "memory usage: 1.4+ GB\n",
      "None\n"
     ]
    }
   ],
   "source": [
    "# List current columns\n",
    "print(train.info())"
   ]
  },
  {
   "cell_type": "code",
   "execution_count": 23,
   "metadata": {
    "collapsed": true
   },
   "outputs": [],
   "source": [
    "# Remove newline characters from string fields\n",
    "def replace_if_string(x):\n",
    "    if type(x) is str:\n",
    "        return x.replace('\\n', '')\n",
    "    else:\n",
    "        return x\n",
    "\n",
    "def remove_newline(X):\n",
    "    X_nobreak = pd.concat([\n",
    "        X.select_dtypes([], ['object']),\n",
    "        X.select_dtypes(['object']).apply(lambda M: M.apply(lambda s: replace_if_string(s)))\n",
    "        ], axis=1).reindex_axis(X.columns, axis=1)\n",
    "    print(\"After removing newline\")\n",
    "    print(X_nobreak.info())\n",
    "    return X_nobreak"
   ]
  },
  {
   "cell_type": "code",
   "execution_count": 24,
   "metadata": {
    "collapsed": false,
    "scrolled": true
   },
   "outputs": [
    {
     "name": "stderr",
     "output_type": "stream",
     "text": [
      "/home/jiacheliu3/anaconda3/lib/python3.5/site-packages/ipykernel/__main__.py:12: FutureWarning: '.reindex_axis' is deprecated and will be removed in a future version. Use '.reindex' instead.\n"
     ]
    },
    {
     "name": "stdout",
     "output_type": "stream",
     "text": [
      "After removing newline\n",
      "<class 'pandas.core.frame.DataFrame'>\n",
      "Int64Index: 7377418 entries, 0 to 7377417\n",
      "Data columns (total 26 columns):\n",
      "msno                      object\n",
      "song_id                   object\n",
      "source_system_tab         object\n",
      "source_screen_name        object\n",
      "source_type               object\n",
      "target                    int64\n",
      "song_length               float64\n",
      "genre_ids                 object\n",
      "artist_name               object\n",
      "composer                  object\n",
      "lyricist                  object\n",
      "language                  float64\n",
      "short_song                float64\n",
      "mean_length_distance      float64\n",
      "city                      int64\n",
      "bd                        int64\n",
      "gender                    object\n",
      "registered_via            int64\n",
      "membership_days           int16\n",
      "registration_timestamp    float64\n",
      "expiration_timestamp      float64\n",
      "song_name                 object\n",
      "country_code              object\n",
      "issuer                    object\n",
      "issue_year                float64\n",
      "unique_id                 object\n",
      "dtypes: float64(7), int16(1), int64(4), object(14)\n",
      "memory usage: 1.4+ GB\n",
      "None\n",
      "After removing newline\n",
      "<class 'pandas.core.frame.DataFrame'>\n",
      "Int64Index: 2556790 entries, 0 to 2556789\n",
      "Data columns (total 26 columns):\n",
      "id                        int64\n",
      "msno                      object\n",
      "song_id                   object\n",
      "source_system_tab         object\n",
      "source_screen_name        object\n",
      "source_type               object\n",
      "song_length               float64\n",
      "genre_ids                 object\n",
      "artist_name               object\n",
      "composer                  object\n",
      "lyricist                  object\n",
      "language                  float64\n",
      "short_song                float64\n",
      "mean_length_distance      float64\n",
      "city                      int64\n",
      "bd                        int64\n",
      "gender                    object\n",
      "registered_via            int64\n",
      "membership_days           int16\n",
      "registration_timestamp    float64\n",
      "expiration_timestamp      float64\n",
      "song_name                 object\n",
      "country_code              object\n",
      "issuer                    object\n",
      "issue_year                float64\n",
      "unique_id                 object\n",
      "dtypes: float64(7), int16(1), int64(4), object(14)\n",
      "memory usage: 512.1+ MB\n",
      "None\n"
     ]
    }
   ],
   "source": [
    "# Remove newline from all columns\n",
    "train=remove_newline(train)\n",
    "test=remove_newline(test)"
   ]
  },
  {
   "cell_type": "code",
   "execution_count": 34,
   "metadata": {
    "collapsed": false
   },
   "outputs": [
    {
     "name": "stderr",
     "output_type": "stream",
     "text": [
      "/home/jiacheliu3/anaconda3/lib/python3.5/site-packages/numpy/lib/function_base.py:4274: RuntimeWarning: Invalid value encountered in percentile\n",
      "  interpolation=interpolation)\n",
      "/home/jiacheliu3/anaconda3/lib/python3.5/site-packages/numpy/lib/function_base.py:4274: RuntimeWarning: Invalid value encountered in percentile\n",
      "  interpolation=interpolation)\n"
     ]
    },
    {
     "data": {
      "text/html": [
       "<div>\n",
       "<table border=\"1\" class=\"dataframe\">\n",
       "  <thead>\n",
       "    <tr style=\"text-align: right;\">\n",
       "      <th></th>\n",
       "      <th>target</th>\n",
       "      <th>song_length</th>\n",
       "      <th>language</th>\n",
       "      <th>short_song</th>\n",
       "      <th>mean_length_distance</th>\n",
       "      <th>city</th>\n",
       "      <th>bd</th>\n",
       "      <th>registered_via</th>\n",
       "      <th>membership_days</th>\n",
       "      <th>registration_timestamp</th>\n",
       "      <th>expiration_timestamp</th>\n",
       "      <th>issue_year</th>\n",
       "    </tr>\n",
       "  </thead>\n",
       "  <tbody>\n",
       "    <tr>\n",
       "      <th>count</th>\n",
       "      <td>7.377418e+06</td>\n",
       "      <td>7.377304e+06</td>\n",
       "      <td>7.377268e+06</td>\n",
       "      <td>7.377304e+06</td>\n",
       "      <td>7.377304e+06</td>\n",
       "      <td>7.377418e+06</td>\n",
       "      <td>7.377418e+06</td>\n",
       "      <td>7.377418e+06</td>\n",
       "      <td>7.377418e+06</td>\n",
       "      <td>7.377418e+06</td>\n",
       "      <td>7.377418e+06</td>\n",
       "      <td>6.799560e+06</td>\n",
       "    </tr>\n",
       "    <tr>\n",
       "      <th>mean</th>\n",
       "      <td>5.035171e-01</td>\n",
       "      <td>2.451210e+05</td>\n",
       "      <td>1.860933e+01</td>\n",
       "      <td>5.442132e-01</td>\n",
       "      <td>3.261635e+04</td>\n",
       "      <td>7.511399e+00</td>\n",
       "      <td>1.753927e+01</td>\n",
       "      <td>6.794068e+00</td>\n",
       "      <td>1.627961e+03</td>\n",
       "      <td>1.365339e+09</td>\n",
       "      <td>1.505995e+09</td>\n",
       "      <td>2.011230e+03</td>\n",
       "    </tr>\n",
       "    <tr>\n",
       "      <th>std</th>\n",
       "      <td>4.999877e-01</td>\n",
       "      <td>6.734471e+04</td>\n",
       "      <td>2.117681e+01</td>\n",
       "      <td>4.980414e-01</td>\n",
       "      <td>1.840872e+04</td>\n",
       "      <td>6.641625e+00</td>\n",
       "      <td>2.155447e+01</td>\n",
       "      <td>2.275774e+00</td>\n",
       "      <td>1.128673e+03</td>\n",
       "      <td>9.527880e+07</td>\n",
       "      <td>1.107399e+07</td>\n",
       "      <td>6.682440e+00</td>\n",
       "    </tr>\n",
       "    <tr>\n",
       "      <th>min</th>\n",
       "      <td>0.000000e+00</td>\n",
       "      <td>1.393000e+03</td>\n",
       "      <td>-1.000000e+00</td>\n",
       "      <td>0.000000e+00</td>\n",
       "      <td>0.000000e+00</td>\n",
       "      <td>1.000000e+00</td>\n",
       "      <td>-4.300000e+01</td>\n",
       "      <td>3.000000e+00</td>\n",
       "      <td>-1.619100e+04</td>\n",
       "      <td>1.080259e+09</td>\n",
       "      <td>0.000000e+00</td>\n",
       "      <td>1.918000e+03</td>\n",
       "    </tr>\n",
       "    <tr>\n",
       "      <th>25%</th>\n",
       "      <td>0.000000e+00</td>\n",
       "      <td>NaN</td>\n",
       "      <td>NaN</td>\n",
       "      <td>NaN</td>\n",
       "      <td>NaN</td>\n",
       "      <td>1.000000e+00</td>\n",
       "      <td>0.000000e+00</td>\n",
       "      <td>4.000000e+00</td>\n",
       "      <td>7.010000e+02</td>\n",
       "      <td>1.309824e+09</td>\n",
       "      <td>1.505088e+09</td>\n",
       "      <td>NaN</td>\n",
       "    </tr>\n",
       "    <tr>\n",
       "      <th>50%</th>\n",
       "      <td>1.000000e+00</td>\n",
       "      <td>NaN</td>\n",
       "      <td>NaN</td>\n",
       "      <td>NaN</td>\n",
       "      <td>NaN</td>\n",
       "      <td>5.000000e+00</td>\n",
       "      <td>2.100000e+01</td>\n",
       "      <td>7.000000e+00</td>\n",
       "      <td>1.433000e+03</td>\n",
       "      <td>1.382486e+09</td>\n",
       "      <td>1.506384e+09</td>\n",
       "      <td>NaN</td>\n",
       "    </tr>\n",
       "    <tr>\n",
       "      <th>75%</th>\n",
       "      <td>1.000000e+00</td>\n",
       "      <td>NaN</td>\n",
       "      <td>NaN</td>\n",
       "      <td>NaN</td>\n",
       "      <td>NaN</td>\n",
       "      <td>1.300000e+01</td>\n",
       "      <td>2.900000e+01</td>\n",
       "      <td>9.000000e+00</td>\n",
       "      <td>2.286000e+03</td>\n",
       "      <td>1.445472e+09</td>\n",
       "      <td>1.507248e+09</td>\n",
       "      <td>NaN</td>\n",
       "    </tr>\n",
       "    <tr>\n",
       "      <th>max</th>\n",
       "      <td>1.000000e+00</td>\n",
       "      <td>1.085171e+07</td>\n",
       "      <td>5.900000e+01</td>\n",
       "      <td>1.000000e+00</td>\n",
       "      <td>6.553500e+04</td>\n",
       "      <td>2.200000e+01</td>\n",
       "      <td>1.051000e+03</td>\n",
       "      <td>1.300000e+01</td>\n",
       "      <td>5.149000e+03</td>\n",
       "      <td>1.485821e+09</td>\n",
       "      <td>1.602893e+09</td>\n",
       "      <td>2.017000e+03</td>\n",
       "    </tr>\n",
       "  </tbody>\n",
       "</table>\n",
       "</div>"
      ],
      "text/plain": [
       "             target   song_length      language    short_song  \\\n",
       "count  7.377418e+06  7.377304e+06  7.377268e+06  7.377304e+06   \n",
       "mean   5.035171e-01  2.451210e+05  1.860933e+01  5.442132e-01   \n",
       "std    4.999877e-01  6.734471e+04  2.117681e+01  4.980414e-01   \n",
       "min    0.000000e+00  1.393000e+03 -1.000000e+00  0.000000e+00   \n",
       "25%    0.000000e+00           NaN           NaN           NaN   \n",
       "50%    1.000000e+00           NaN           NaN           NaN   \n",
       "75%    1.000000e+00           NaN           NaN           NaN   \n",
       "max    1.000000e+00  1.085171e+07  5.900000e+01  1.000000e+00   \n",
       "\n",
       "       mean_length_distance          city            bd  registered_via  \\\n",
       "count          7.377304e+06  7.377418e+06  7.377418e+06    7.377418e+06   \n",
       "mean           3.261635e+04  7.511399e+00  1.753927e+01    6.794068e+00   \n",
       "std            1.840872e+04  6.641625e+00  2.155447e+01    2.275774e+00   \n",
       "min            0.000000e+00  1.000000e+00 -4.300000e+01    3.000000e+00   \n",
       "25%                     NaN  1.000000e+00  0.000000e+00    4.000000e+00   \n",
       "50%                     NaN  5.000000e+00  2.100000e+01    7.000000e+00   \n",
       "75%                     NaN  1.300000e+01  2.900000e+01    9.000000e+00   \n",
       "max            6.553500e+04  2.200000e+01  1.051000e+03    1.300000e+01   \n",
       "\n",
       "       membership_days  registration_timestamp  expiration_timestamp  \\\n",
       "count     7.377418e+06            7.377418e+06          7.377418e+06   \n",
       "mean      1.627961e+03            1.365339e+09          1.505995e+09   \n",
       "std       1.128673e+03            9.527880e+07          1.107399e+07   \n",
       "min      -1.619100e+04            1.080259e+09          0.000000e+00   \n",
       "25%       7.010000e+02            1.309824e+09          1.505088e+09   \n",
       "50%       1.433000e+03            1.382486e+09          1.506384e+09   \n",
       "75%       2.286000e+03            1.445472e+09          1.507248e+09   \n",
       "max       5.149000e+03            1.485821e+09          1.602893e+09   \n",
       "\n",
       "         issue_year  \n",
       "count  6.799560e+06  \n",
       "mean   2.011230e+03  \n",
       "std    6.682440e+00  \n",
       "min    1.918000e+03  \n",
       "25%             NaN  \n",
       "50%             NaN  \n",
       "75%             NaN  \n",
       "max    2.017000e+03  "
      ]
     },
     "execution_count": 34,
     "metadata": {},
     "output_type": "execute_result"
    }
   ],
   "source": [
    "# Stop here and examine all columns\n",
    "train.describe()"
   ]
  },
  {
   "cell_type": "markdown",
   "metadata": {},
   "source": [
    "Fill empty before output"
   ]
  },
  {
   "cell_type": "code",
   "execution_count": 25,
   "metadata": {
    "collapsed": true
   },
   "outputs": [],
   "source": [
    "# Fill source_system_tab\n",
    "train['source_system_tab'].replace([np.nan, 'null'], 'empty', inplace=True)\n",
    "test['source_system_tab'].replace([np.nan, 'null'], 'empty', inplace=True)\n",
    "\n",
    "# Fill source_screen_name \n",
    "train['source_screen_name'].replace([np.nan], 'empty', inplace=True)\n",
    "test['source_screen_name'].replace([np.nan], 'empty', inplace=True)\n",
    "\n",
    "# Fill source_type \n",
    "train['source_type'].replace([np.nan], 'empty', inplace=True)\n",
    "test['source_type'].replace([np.nan], 'empty', inplace=True)"
   ]
  },
  {
   "cell_type": "code",
   "execution_count": 26,
   "metadata": {
    "collapsed": true
   },
   "outputs": [],
   "source": [
    "# Fill song_length\n",
    "train['song_length'].replace([np.nan], MEAN_SONG_LENGTH, inplace=True)\n",
    "test['song_length'].replace([np.nan], MEAN_SONG_LENGTH, inplace=True)"
   ]
  },
  {
   "cell_type": "code",
   "execution_count": 27,
   "metadata": {
    "collapsed": true
   },
   "outputs": [],
   "source": [
    "# Fill language\n",
    "train['language'].replace([np.nan], 0.0, inplace=True)\n",
    "test['language'].replace([np.nan], 0.0, inplace=True)"
   ]
  },
  {
   "cell_type": "code",
   "execution_count": 28,
   "metadata": {
    "collapsed": true
   },
   "outputs": [],
   "source": [
    "# Fill short_song\n",
    "train['short_song'].replace([np.nan], 0, inplace=True)\n",
    "test['short_song'].replace([np.nan], 0, inplace=True)"
   ]
  },
  {
   "cell_type": "code",
   "execution_count": 29,
   "metadata": {
    "collapsed": true
   },
   "outputs": [],
   "source": [
    "# Fill mean_length_distance \n",
    "train['mean_length_distance'].replace([np.nan], 0.0, inplace=True)\n",
    "test['mean_length_distance'].replace([np.nan], 0.0, inplace=True)"
   ]
  },
  {
   "cell_type": "code",
   "execution_count": 30,
   "metadata": {
    "collapsed": true
   },
   "outputs": [],
   "source": [
    "# Fill gender \n",
    "train['gender'].replace([np.nan], 'unknown', inplace=True)\n",
    "test['gender'].replace([np.nan], 'unknown', inplace=True)"
   ]
  },
  {
   "cell_type": "code",
   "execution_count": 31,
   "metadata": {
    "collapsed": true
   },
   "outputs": [],
   "source": [
    "# Fill song_name\n",
    "train['song_name'].replace([np.nan], 'empty', inplace=True)\n",
    "test['song_name'].replace([np.nan], 'empty', inplace=True)"
   ]
  },
  {
   "cell_type": "code",
   "execution_count": 32,
   "metadata": {
    "collapsed": true
   },
   "outputs": [],
   "source": [
    "# Fill country_code\n",
    "train['country_code'].replace([np.nan], 'empty', inplace=True)\n",
    "test['country_code'].replace([np.nan], 'empty', inplace=True)\n",
    "\n",
    "# Fill issuer\n",
    "train['issuer'].replace([np.nan], 'empty', inplace=True)\n",
    "test['issuer'].replace([np.nan], 'empty', inplace=True)\n",
    "\n",
    "# Fill issue_year\n",
    "train['issue_year'].replace([np.nan], 0.0, inplace=True)\n",
    "test['issue_year'].replace([np.nan], 0.0, inplace=True)\n",
    "\n",
    "# Fill unique_id\n",
    "train['unique_id'].replace([np.nan], 'empty', inplace=True)\n",
    "test['unique_id'].replace([np.nan], 'empty', inplace=True)"
   ]
  },
  {
   "cell_type": "code",
   "execution_count": 33,
   "metadata": {
    "collapsed": true
   },
   "outputs": [],
   "source": [
    "# Fill genre_ids\n",
    "train['genre_ids'].replace([np.nan], 'empty', inplace=True)\n",
    "test['genre_ids'].replace([np.nan], 'empty', inplace=True)"
   ]
  },
  {
   "cell_type": "code",
   "execution_count": 34,
   "metadata": {
    "collapsed": true
   },
   "outputs": [],
   "source": [
    "def find_nan(X):\n",
    "    for c in X.columns:\n",
    "        has_null=X[c].isnull().values.any()\n",
    "        if has_null:\n",
    "            print(\"Column %s has null\" % c)"
   ]
  },
  {
   "cell_type": "code",
   "execution_count": 35,
   "metadata": {
    "collapsed": false
   },
   "outputs": [
    {
     "name": "stdout",
     "output_type": "stream",
     "text": [
      "Column artist_name has null\n",
      "Column composer has null\n",
      "Column lyricist has null\n"
     ]
    }
   ],
   "source": [
    "find_nan(train)"
   ]
  },
  {
   "cell_type": "code",
   "execution_count": 36,
   "metadata": {
    "collapsed": false
   },
   "outputs": [
    {
     "data": {
      "text/plain": [
       "array([   0,   24,   26,   27,   18,   34,   20,   19,   28,   41,   32,\n",
       "         36,   46,   30,   23,   67,   22,   29,   21,   31,   39,   35,\n",
       "         16,   25,   38,   17,   43,   47,   33,   37,   44,   49,   50,\n",
       "         40,   52,   45,   53,   64,   57,   48,   51,   59,   54,   42,\n",
       "         55,    3,  111,   65,   73,   60,   58,   56,   66,   14,  131,\n",
       "         74,   62,   61,   63,    7,  103, 1030,  -43,   15,  105,  107,\n",
       "         68,   13,  931,   72,   11,    2,   87,  144,   95,   83,   12,\n",
       "         93,    5,  112,   90,   10,   70,  -38,   82,   89,  106,  102,\n",
       "         85, 1051,   78,   76])"
      ]
     },
     "execution_count": 36,
     "metadata": {},
     "output_type": "execute_result"
    }
   ],
   "source": [
    "# Some age information are incorrect\n",
    "train['bd'].unique()"
   ]
  },
  {
   "cell_type": "code",
   "execution_count": 37,
   "metadata": {
    "collapsed": true
   },
   "outputs": [],
   "source": [
    "def filter_birthday(x):\n",
    "    if x<10 or x>70:\n",
    "        # False info\n",
    "        return np.nan\n",
    "    else:\n",
    "        return x"
   ]
  },
  {
   "cell_type": "code",
   "execution_count": 38,
   "metadata": {
    "collapsed": true
   },
   "outputs": [],
   "source": [
    "# Get rid of falseful ages\n",
    "train['bd']=train['bd'].apply(filter_birthday)\n",
    "test['bd']=test['bd'].apply(filter_birthday)"
   ]
  },
  {
   "cell_type": "code",
   "execution_count": 39,
   "metadata": {
    "collapsed": false
   },
   "outputs": [
    {
     "name": "stdout",
     "output_type": "stream",
     "text": [
      "28.696307466568665\n",
      "28.82796897786027\n"
     ]
    }
   ],
   "source": [
    "print(train['bd'].mean())\n",
    "print(test['bd'].mean())"
   ]
  },
  {
   "cell_type": "code",
   "execution_count": 40,
   "metadata": {
    "collapsed": true
   },
   "outputs": [],
   "source": [
    "# Re-fill with credible mean\n",
    "train['bd'].replace([np.nan], 29, inplace=True)\n",
    "test['bd'].replace([np.nan], 29, inplace=True)"
   ]
  },
  {
   "cell_type": "markdown",
   "metadata": {},
   "source": [
    "Plotting distribution of some columns"
   ]
  },
  {
   "cell_type": "code",
   "execution_count": 41,
   "metadata": {
    "collapsed": false
   },
   "outputs": [
    {
     "ename": "NameError",
     "evalue": "name 'plt' is not defined",
     "output_type": "error",
     "traceback": [
      "\u001b[0;31m---------------------------------------------------------------------------\u001b[0m",
      "\u001b[0;31mNameError\u001b[0m                                 Traceback (most recent call last)",
      "\u001b[0;32m<ipython-input-41-757caf68d33f>\u001b[0m in \u001b[0;36m<module>\u001b[0;34m()\u001b[0m\n\u001b[1;32m      1\u001b[0m \u001b[0mget_ipython\u001b[0m\u001b[0;34m(\u001b[0m\u001b[0;34m)\u001b[0m\u001b[0;34m.\u001b[0m\u001b[0mmagic\u001b[0m\u001b[0;34m(\u001b[0m\u001b[0;34m'matplotlib inline'\u001b[0m\u001b[0;34m)\u001b[0m\u001b[0;34m\u001b[0m\u001b[0m\n\u001b[0;32m----> 2\u001b[0;31m \u001b[0mplt\u001b[0m\u001b[0;34m.\u001b[0m\u001b[0mfigure\u001b[0m\u001b[0;34m(\u001b[0m\u001b[0;34m)\u001b[0m\u001b[0;34m\u001b[0m\u001b[0m\n\u001b[0m\u001b[1;32m      3\u001b[0m \u001b[0mtrain\u001b[0m\u001b[0;34m[\u001b[0m\u001b[0;34m'song_length'\u001b[0m\u001b[0;34m]\u001b[0m\u001b[0;34m.\u001b[0m\u001b[0mplot\u001b[0m\u001b[0;34m.\u001b[0m\u001b[0mhist\u001b[0m\u001b[0;34m(\u001b[0m\u001b[0mbins\u001b[0m\u001b[0;34m=\u001b[0m\u001b[0;36m50\u001b[0m\u001b[0;34m,\u001b[0m \u001b[0mrange\u001b[0m\u001b[0;34m=\u001b[0m\u001b[0;34m[\u001b[0m\u001b[0;36m0.0\u001b[0m\u001b[0;34m,\u001b[0m \u001b[0;36m600000\u001b[0m\u001b[0;34m]\u001b[0m\u001b[0;34m)\u001b[0m\u001b[0;34m\u001b[0m\u001b[0m\n",
      "\u001b[0;31mNameError\u001b[0m: name 'plt' is not defined"
     ]
    }
   ],
   "source": [
    "%matplotlib inline  \n",
    "plt.figure()\n",
    "train['song_length'].plot.hist(bins=50, range=[0.0, 600000])"
   ]
  },
  {
   "cell_type": "code",
   "execution_count": null,
   "metadata": {
    "collapsed": false
   },
   "outputs": [],
   "source": [
    "plt.figure()\n",
    "train['city'].plot.hist(range=[0, 25])"
   ]
  },
  {
   "cell_type": "code",
   "execution_count": 88,
   "metadata": {
    "collapsed": false
   },
   "outputs": [
    {
     "data": {
      "text/plain": [
       "<matplotlib.axes._subplots.AxesSubplot at 0x7f259cd374e0>"
      ]
     },
     "execution_count": 88,
     "metadata": {},
     "output_type": "execute_result"
    },
    {
     "data": {
      "image/png": "[encoded data removed]",
      "text/plain": [
       "<matplotlib.figure.Figure at 0x7f2556213b38>"
      ]
     },
     "metadata": {},
     "output_type": "display_data"
    }
   ],
   "source": [
    "plt.figure()\n",
    "train['registered_via'].plot.hist()"
   ]
  },
  {
   "cell_type": "code",
   "execution_count": 90,
   "metadata": {
    "collapsed": false
   },
   "outputs": [
    {
     "data": {
      "text/plain": [
       "array([ 7,  9,  4,  3, 13])"
      ]
     },
     "execution_count": 90,
     "metadata": {},
     "output_type": "execute_result"
    }
   ],
   "source": [
    "train['registered_via'].unique()"
   ]
  },
  {
   "cell_type": "code",
   "execution_count": 91,
   "metadata": {
    "collapsed": false
   },
   "outputs": [
    {
     "data": {
      "text/plain": [
       "array([ 5, 11,  4, 30, 22, 12,  9, 13, 16,  1,  3,  2, 25,  7,  8,  6, 14,\n",
       "       23, 10, 15, 24, 18, 17, 19, 20, 26, 29, 28, 21, 31, 27])"
      ]
     },
     "execution_count": 91,
     "metadata": {},
     "output_type": "execute_result"
    }
   ],
   "source": [
    "train['expiration_date'].unique()"
   ]
  },
  {
   "cell_type": "code",
   "execution_count": 89,
   "metadata": {
    "collapsed": false
   },
   "outputs": [
    {
     "data": {
      "text/plain": [
       "<matplotlib.axes._subplots.AxesSubplot at 0x7f254b7fe710>"
      ]
     },
     "execution_count": 89,
     "metadata": {},
     "output_type": "execute_result"
    },
    {
     "data": {
      "image/png": "[encoded data removed]",
      "text/plain": [
       "<matplotlib.figure.Figure at 0x7f254b883780>"
      ]
     },
     "metadata": {},
     "output_type": "display_data"
    }
   ],
   "source": [
    "plt.figure()\n",
    "train['expiration_date'].plot.hist()"
   ]
  },
  {
   "cell_type": "code",
   "execution_count": 50,
   "metadata": {
    "collapsed": false,
    "scrolled": true
   },
   "outputs": [
    {
     "name": "stdout",
     "output_type": "stream",
     "text": [
      "<class 'pandas.core.frame.DataFrame'>\n",
      "Int64Index: 7377418 entries, 0 to 7377417\n",
      "Data columns (total 26 columns):\n",
      "msno                      object\n",
      "song_id                   object\n",
      "source_system_tab         object\n",
      "source_screen_name        object\n",
      "source_type               object\n",
      "target                    int64\n",
      "song_length               float64\n",
      "genre_ids                 object\n",
      "artist_name               object\n",
      "composer                  object\n",
      "lyricist                  object\n",
      "language                  float64\n",
      "short_song                float64\n",
      "mean_length_distance      float64\n",
      "city                      int64\n",
      "bd                        float64\n",
      "gender                    object\n",
      "registered_via            int64\n",
      "membership_days           int16\n",
      "registration_timestamp    float64\n",
      "expiration_timestamp      float64\n",
      "song_name                 object\n",
      "country_code              object\n",
      "issuer                    object\n",
      "issue_year                float64\n",
      "unique_id                 object\n",
      "dtypes: float64(8), int16(1), int64(3), object(14)\n",
      "memory usage: 1.4+ GB\n"
     ]
    }
   ],
   "source": [
    "train.info()"
   ]
  },
  {
   "cell_type": "markdown",
   "metadata": {},
   "source": [
    "Phase 1 feature engineering:\n",
    "31 features\n",
    "\n",
    "0.66770 without cv"
   ]
  },
  {
   "cell_type": "markdown",
   "metadata": {},
   "source": [
    "# Phase 2 feature engineering"
   ]
  },
  {
   "cell_type": "code",
   "execution_count": 42,
   "metadata": {
    "collapsed": true
   },
   "outputs": [],
   "source": [
    "# Copy to new start\n",
    "train_2=train.copy()\n",
    "test_2=test.copy()"
   ]
  },
  {
   "cell_type": "code",
   "execution_count": 43,
   "metadata": {
    "collapsed": false,
    "scrolled": true
   },
   "outputs": [
    {
     "name": "stdout",
     "output_type": "stream",
     "text": [
      "<class 'pandas.core.frame.DataFrame'>\n",
      "Int64Index: 7377418 entries, 0 to 7377417\n",
      "Data columns (total 26 columns):\n",
      "msno                      object\n",
      "song_id                   object\n",
      "source_system_tab         object\n",
      "source_screen_name        object\n",
      "source_type               object\n",
      "target                    int64\n",
      "song_length               float64\n",
      "genre_ids                 object\n",
      "artist_name               object\n",
      "composer                  object\n",
      "lyricist                  object\n",
      "language                  float64\n",
      "short_song                float64\n",
      "mean_length_distance      float64\n",
      "city                      int64\n",
      "bd                        float64\n",
      "gender                    object\n",
      "registered_via            int64\n",
      "membership_days           int16\n",
      "registration_timestamp    float64\n",
      "expiration_timestamp      float64\n",
      "song_name                 object\n",
      "country_code              object\n",
      "issuer                    object\n",
      "issue_year                float64\n",
      "unique_id                 object\n",
      "dtypes: float64(8), int16(1), int64(3), object(14)\n",
      "memory usage: 1.4+ GB\n"
     ]
    }
   ],
   "source": [
    "train_2.info()"
   ]
  },
  {
   "cell_type": "code",
   "execution_count": 44,
   "metadata": {
    "collapsed": false,
    "scrolled": false
   },
   "outputs": [
    {
     "data": {
      "text/plain": [
       "91"
      ]
     },
     "execution_count": 44,
     "metadata": {},
     "output_type": "execute_result"
    }
   ],
   "source": [
    "# GC old df\n",
    "import gc\n",
    "del train, test\n",
    "del songs, members, songs_extra\n",
    "gc.collect()"
   ]
  },
  {
   "cell_type": "code",
   "execution_count": 56,
   "metadata": {
    "collapsed": false
   },
   "outputs": [
    {
     "data": {
      "text/plain": [
       "6456"
      ]
     },
     "execution_count": 56,
     "metadata": {},
     "output_type": "execute_result"
    }
   ],
   "source": [
    "len(train_2['issuer'].unique())"
   ]
  },
  {
   "cell_type": "markdown",
   "metadata": {},
   "source": [
    "# Fille empty in genre_id/artist/composer/lyricist "
   ]
  },
  {
   "cell_type": "code",
   "execution_count": 45,
   "metadata": {
    "collapsed": true
   },
   "outputs": [],
   "source": [
    "NO_GENRE_FILL=\"empty\"\n",
    "def genre_id_count(x):\n",
    "    if x == NO_GENRE_FILL:\n",
    "        return 0\n",
    "    else:\n",
    "        return x.count('|') + 1"
   ]
  },
  {
   "cell_type": "code",
   "execution_count": 46,
   "metadata": {
    "collapsed": true
   },
   "outputs": [],
   "source": [
    "# this add_categories can only be run once\n",
    "train_2['genre_ids'].fillna(NO_GENRE_FILL,inplace=True)\n",
    "test_2['genre_ids'].fillna(NO_GENRE_FILL,inplace=True)\n",
    "train_2['genre_ids_count'] = train_2['genre_ids'].apply(genre_id_count).astype(np.int8)\n",
    "test_2['genre_ids_count'] = test_2['genre_ids'].apply(genre_id_count).astype(np.int8)"
   ]
  },
  {
   "cell_type": "code",
   "execution_count": 47,
   "metadata": {
    "collapsed": true
   },
   "outputs": [],
   "source": [
    "NO_LYRICIST_FILL=\"empty\"\n",
    "def lyricist_count(x):\n",
    "    if x == NO_LYRICIST_FILL:\n",
    "        return 0\n",
    "    else:\n",
    "        return sum(map(x.count, ['|', '/', '\\\\', ';'])) + 1\n",
    "    return sum(map(x.count, ['|', '/', '\\\\', ';']))"
   ]
  },
  {
   "cell_type": "code",
   "execution_count": 48,
   "metadata": {
    "collapsed": true
   },
   "outputs": [],
   "source": [
    "# this add_categories can only be run once\n",
    "train_2['lyricist'].fillna(NO_LYRICIST_FILL,inplace=True)\n",
    "test_2['lyricist'].fillna(NO_LYRICIST_FILL,inplace=True)\n",
    "train_2['lyricists_count'] = train_2['lyricist'].apply(lyricist_count).astype(np.int8)\n",
    "test_2['lyricists_count'] = test_2['lyricist'].apply(lyricist_count).astype(np.int8)"
   ]
  },
  {
   "cell_type": "code",
   "execution_count": 49,
   "metadata": {
    "collapsed": true
   },
   "outputs": [],
   "source": [
    "NO_COMPOSER_FILL=\"empty\"\n",
    "def composer_count(x):\n",
    "    if x == NO_COMPOSER_FILL:\n",
    "        return 0\n",
    "    else:\n",
    "        return sum(map(x.count, ['|', '/', '\\\\', ';'])) + 1"
   ]
  },
  {
   "cell_type": "code",
   "execution_count": 50,
   "metadata": {
    "collapsed": true
   },
   "outputs": [],
   "source": [
    "# this add_categories can only be run once\n",
    "train_2['composer'].fillna(NO_COMPOSER_FILL,inplace=True)\n",
    "test_2['composer'].fillna(NO_COMPOSER_FILL,inplace=True)\n",
    "train_2['composer_count'] = train_2['composer'].apply(composer_count).astype(np.int8)\n",
    "test_2['composer_count'] = test_2['composer'].apply(composer_count).astype(np.int8)"
   ]
  },
  {
   "cell_type": "code",
   "execution_count": 51,
   "metadata": {
    "collapsed": true
   },
   "outputs": [],
   "source": [
    "NO_ARTIST_FILL='empty'\n",
    "    \n",
    "def artist_count(x):\n",
    "    if x == NO_ARTIST_FILL:\n",
    "        return 0\n",
    "    else:\n",
    "        count = x.count(',') + x.count('&') + x.count('+') + x.count('|')\n",
    "        # Add English separators\n",
    "        count += x.count('and') + x.count('feat')\n",
    "        # Add Chinese separators\n",
    "        count += x.count('，') + x.count('、') + x.count('＆') + x.count('＋')\n",
    "        \n",
    "        return count"
   ]
  },
  {
   "cell_type": "code",
   "execution_count": 52,
   "metadata": {
    "collapsed": true
   },
   "outputs": [],
   "source": [
    "train_2['artist_name'].fillna(NO_ARTIST_FILL,inplace=True)\n",
    "test_2['artist_name'].fillna(NO_ARTIST_FILL,inplace=True)\n",
    "train_2['artist_count'] = train_2['artist_name'].apply(artist_count).astype(np.int8)\n",
    "test_2['artist_count'] = test_2['artist_name'].apply(artist_count).astype(np.int8)"
   ]
  },
  {
   "cell_type": "code",
   "execution_count": 53,
   "metadata": {
    "collapsed": true
   },
   "outputs": [],
   "source": [
    "NO_SONG_NAME_FILL='empty'\n",
    "train_2['song_name'].fillna(NO_SONG_NAME_FILL,inplace=True)\n",
    "test_2['song_name'].fillna(NO_SONG_NAME_FILL,inplace=True)"
   ]
  },
  {
   "cell_type": "markdown",
   "metadata": {},
   "source": [
    "# Check if the song is featured/acoustic/instrumental/remix"
   ]
  },
  {
   "cell_type": "code",
   "execution_count": 54,
   "metadata": {
    "collapsed": true
   },
   "outputs": [],
   "source": [
    "def is_featured(x):\n",
    "    if 'feat' in str(x) :\n",
    "        return 1\n",
    "    return 0"
   ]
  },
  {
   "cell_type": "code",
   "execution_count": 55,
   "metadata": {
    "collapsed": true
   },
   "outputs": [],
   "source": [
    "# Find if the song is featured\n",
    "train_2['is_featured_artist'] = train_2['artist_name'].apply(is_featured).astype(np.int8)\n",
    "test_2['is_featured_artist'] = test_2['artist_name'].apply(is_featured).astype(np.int8)"
   ]
  },
  {
   "cell_type": "code",
   "execution_count": 56,
   "metadata": {
    "collapsed": true
   },
   "outputs": [],
   "source": [
    "# Find if the song is featured by song name\n",
    "train_2['is_featured_song'] = train_2['song_name'].apply(is_featured).astype(np.int8)\n",
    "test_2['is_featured_song'] = test_2['song_name'].apply(is_featured).astype(np.int8)"
   ]
  },
  {
   "cell_type": "code",
   "execution_count": 57,
   "metadata": {
    "collapsed": true
   },
   "outputs": [],
   "source": [
    "# Find if the song is featured\n",
    "train_2['is_featured'] = train_2['is_featured_artist'] | train_2['is_featured_song']\n",
    "test_2['is_featured'] = test_2['is_featured_artist'] | test_2['is_featured_song']"
   ]
  },
  {
   "cell_type": "code",
   "execution_count": 58,
   "metadata": {
    "collapsed": true
   },
   "outputs": [],
   "source": [
    "# Drop featured check for separate song_name and artist_name\n",
    "train_2.drop(['is_featured_artist', 'is_featured_song'], axis=1, inplace=True)\n",
    "test_2.drop(['is_featured_artist', 'is_featured_song'], axis=1, inplace=True)"
   ]
  },
  {
   "cell_type": "code",
   "execution_count": 59,
   "metadata": {
    "collapsed": false,
    "scrolled": true
   },
   "outputs": [
    {
     "data": {
      "text/html": [
       "<div>\n",
       "<style scoped>\n",
       "    .dataframe tbody tr th:only-of-type {\n",
       "        vertical-align: middle;\n",
       "    }\n",
       "\n",
       "    .dataframe tbody tr th {\n",
       "        vertical-align: top;\n",
       "    }\n",
       "\n",
       "    .dataframe thead th {\n",
       "        text-align: right;\n",
       "    }\n",
       "</style>\n",
       "<table border=\"1\" class=\"dataframe\">\n",
       "  <thead>\n",
       "    <tr style=\"text-align: right;\">\n",
       "      <th></th>\n",
       "      <th>artist_name</th>\n",
       "      <th>song_name</th>\n",
       "    </tr>\n",
       "  </thead>\n",
       "  <tbody>\n",
       "    <tr>\n",
       "      <th>12</th>\n",
       "      <td>林俊傑 (jj lin)</td>\n",
       "      <td>手心的薔薇 (Beautiful) feat. G.E.M.鄧紫棋</td>\n",
       "    </tr>\n",
       "    <tr>\n",
       "      <th>53</th>\n",
       "      <td>謝和弦 (r-chord)</td>\n",
       "      <td>在沒有你以後 (feat. 張智成) (Without You)</td>\n",
       "    </tr>\n",
       "    <tr>\n",
       "      <th>55</th>\n",
       "      <td>林俊傑 (jj lin)</td>\n",
       "      <td>手心的薔薇 (Beautiful) feat. G.E.M.鄧紫棋</td>\n",
       "    </tr>\n",
       "    <tr>\n",
       "      <th>137</th>\n",
       "      <td>劉佳</td>\n",
       "      <td>愛很美-feat.sara</td>\n",
       "    </tr>\n",
       "    <tr>\n",
       "      <th>180</th>\n",
       "      <td>david guetta</td>\n",
       "      <td>Hey Mama (feat. Nicki Minaj| Bebe Rexha &amp; Afro...</td>\n",
       "    </tr>\n",
       "    <tr>\n",
       "      <th>184</th>\n",
       "      <td>major lazer</td>\n",
       "      <td>Cold Water (feat. Justin Bieber &amp; MØ)</td>\n",
       "    </tr>\n",
       "    <tr>\n",
       "      <th>186</th>\n",
       "      <td>major lazer</td>\n",
       "      <td>Lean On (feat. MØ &amp; DJ Snake)</td>\n",
       "    </tr>\n",
       "    <tr>\n",
       "      <th>187</th>\n",
       "      <td>david guetta</td>\n",
       "      <td>Titanium (feat. Sia)</td>\n",
       "    </tr>\n",
       "    <tr>\n",
       "      <th>207</th>\n",
       "      <td>alex goot feat. kurt hugo schneider &amp; atc</td>\n",
       "      <td>Let Me Love You</td>\n",
       "    </tr>\n",
       "    <tr>\n",
       "      <th>414</th>\n",
       "      <td>謝和弦 (r-chord)</td>\n",
       "      <td>在沒有你以後 (feat. 張智成) (Without You)</td>\n",
       "    </tr>\n",
       "    <tr>\n",
       "      <th>444</th>\n",
       "      <td>clean bandit</td>\n",
       "      <td>Rather Be (feat. Jess Glynne)</td>\n",
       "    </tr>\n",
       "    <tr>\n",
       "      <th>445</th>\n",
       "      <td>謝和弦 (r-chord)</td>\n",
       "      <td>愛不需要裝乖 (feat.王詩安) (Love Doesn't Need To Pretend)</td>\n",
       "    </tr>\n",
       "    <tr>\n",
       "      <th>553</th>\n",
       "      <td>twilight soundtrack</td>\n",
       "      <td>A Thousand Years (feat. Steve Kazee)</td>\n",
       "    </tr>\n",
       "    <tr>\n",
       "      <th>624</th>\n",
       "      <td>謝和弦 (r-chord)</td>\n",
       "      <td>蘋果 (feat. 頑童MJ116瘦子) (The Apple)</td>\n",
       "    </tr>\n",
       "    <tr>\n",
       "      <th>703</th>\n",
       "      <td>major lazer</td>\n",
       "      <td>Lean On (feat. MØ &amp; DJ Snake)</td>\n",
       "    </tr>\n",
       "    <tr>\n",
       "      <th>791</th>\n",
       "      <td>林俊傑 (jj lin)</td>\n",
       "      <td>I Am Alive feat. Jason Mraz</td>\n",
       "    </tr>\n",
       "    <tr>\n",
       "      <th>797</th>\n",
       "      <td>林俊傑 (jj lin)</td>\n",
       "      <td>手心的薔薇 (Beautiful) feat. G.E.M.鄧紫棋</td>\n",
       "    </tr>\n",
       "    <tr>\n",
       "      <th>835</th>\n",
       "      <td>clean bandit</td>\n",
       "      <td>Rather Be (feat. Jess Glynne)</td>\n",
       "    </tr>\n",
       "    <tr>\n",
       "      <th>857</th>\n",
       "      <td>我的祕密飯店 電視原聲帶</td>\n",
       "      <td>Secret (Inst.) - Studio Musicians - feat.Young...</td>\n",
       "    </tr>\n",
       "    <tr>\n",
       "      <th>860</th>\n",
       "      <td>我的祕密飯店 電視原聲帶</td>\n",
       "      <td>Propose - Im| Jik Won Il Dong - feat.President</td>\n",
       "    </tr>\n",
       "    <tr>\n",
       "      <th>863</th>\n",
       "      <td>黃文星</td>\n",
       "      <td>三心兩意 (feat. 曾昱嘉)</td>\n",
       "    </tr>\n",
       "    <tr>\n",
       "      <th>897</th>\n",
       "      <td>justin bieber</td>\n",
       "      <td>As Long As You Love Me – feat. Big Sean</td>\n",
       "    </tr>\n",
       "    <tr>\n",
       "      <th>964</th>\n",
       "      <td>蔡依林 (jolin tsai)</td>\n",
       "      <td>I'm Not Yours - feat.安室奈美惠NAMIE AMURO</td>\n",
       "    </tr>\n",
       "    <tr>\n",
       "      <th>970</th>\n",
       "      <td>david guetta</td>\n",
       "      <td>Bang My Head (feat. Sia &amp; Fetty Wap)</td>\n",
       "    </tr>\n",
       "    <tr>\n",
       "      <th>988</th>\n",
       "      <td>fun.</td>\n",
       "      <td>We Are Young (feat. Janelle Monáe)</td>\n",
       "    </tr>\n",
       "    <tr>\n",
       "      <th>1035</th>\n",
       "      <td>謝和弦 (r-chord)</td>\n",
       "      <td>足夠 (feat. Sea Level) (Satisfy)</td>\n",
       "    </tr>\n",
       "    <tr>\n",
       "      <th>1038</th>\n",
       "      <td>謝和弦 (r-chord)</td>\n",
       "      <td>就是要你知道 (feat. Sea Level) (I Want You To Know)</td>\n",
       "    </tr>\n",
       "    <tr>\n",
       "      <th>1057</th>\n",
       "      <td>david guetta</td>\n",
       "      <td>Titanium (feat. Sia)</td>\n",
       "    </tr>\n",
       "    <tr>\n",
       "      <th>1058</th>\n",
       "      <td>魚乾 (annie)</td>\n",
       "      <td>預感 (feat. 朱康)</td>\n",
       "    </tr>\n",
       "    <tr>\n",
       "      <th>1153</th>\n",
       "      <td>macklemore &amp; ryan lewis</td>\n",
       "      <td>Same Love (feat. Mary Lambert)</td>\n",
       "    </tr>\n",
       "    <tr>\n",
       "      <th>...</th>\n",
       "      <td>...</td>\n",
       "      <td>...</td>\n",
       "    </tr>\n",
       "    <tr>\n",
       "      <th>7376227</th>\n",
       "      <td>d.r.a.m.</td>\n",
       "      <td>Broccoli (feat. Lil Yachty)</td>\n",
       "    </tr>\n",
       "    <tr>\n",
       "      <th>7376333</th>\n",
       "      <td>mark ronson feat. bruno mars</td>\n",
       "      <td>Uptown Funk</td>\n",
       "    </tr>\n",
       "    <tr>\n",
       "      <th>7376340</th>\n",
       "      <td>major lazer</td>\n",
       "      <td>Run Up (feat. PARTYNEXTDOOR &amp; Nicki Minaj)</td>\n",
       "    </tr>\n",
       "    <tr>\n",
       "      <th>7376350</th>\n",
       "      <td>wale</td>\n",
       "      <td>Running Back (feat. Lil Wayne)</td>\n",
       "    </tr>\n",
       "    <tr>\n",
       "      <th>7376440</th>\n",
       "      <td>erika</td>\n",
       "      <td>當一個天使的憂愁 (feat.小宇) (An Angel's Secret)</td>\n",
       "    </tr>\n",
       "    <tr>\n",
       "      <th>7376548</th>\n",
       "      <td>erika</td>\n",
       "      <td>當一個天使的憂愁 (feat.小宇) (An Angel's Secret)</td>\n",
       "    </tr>\n",
       "    <tr>\n",
       "      <th>7376560</th>\n",
       "      <td>bonobo</td>\n",
       "      <td>No Reason(feat.Nick Murphy)</td>\n",
       "    </tr>\n",
       "    <tr>\n",
       "      <th>7376589</th>\n",
       "      <td>major lazer</td>\n",
       "      <td>Run Up (feat. PARTYNEXTDOOR &amp; Nicki Minaj)</td>\n",
       "    </tr>\n",
       "    <tr>\n",
       "      <th>7376637</th>\n",
       "      <td>謝和弦 (r-chord)</td>\n",
       "      <td>愛不需要裝乖 (feat.王詩安) (Love Doesn't Need To Pretend)</td>\n",
       "    </tr>\n",
       "    <tr>\n",
       "      <th>7376650</th>\n",
       "      <td>major lazer</td>\n",
       "      <td>Run Up (feat. PARTYNEXTDOOR &amp; Nicki Minaj)</td>\n",
       "    </tr>\n",
       "    <tr>\n",
       "      <th>7376655</th>\n",
       "      <td>jay park</td>\n",
       "      <td>All I Wanna Do (feat. Hoody &amp; 로꼬 Loco) [Korean...</td>\n",
       "    </tr>\n",
       "    <tr>\n",
       "      <th>7376707</th>\n",
       "      <td>david guetta</td>\n",
       "      <td>Titanium (feat. Sia)</td>\n",
       "    </tr>\n",
       "    <tr>\n",
       "      <th>7376709</th>\n",
       "      <td>major lazer</td>\n",
       "      <td>Lean On (feat. MØ &amp; DJ Snake)</td>\n",
       "    </tr>\n",
       "    <tr>\n",
       "      <th>7376713</th>\n",
       "      <td>hardwell featuring mitch crown</td>\n",
       "      <td>Call Me A Spaceman</td>\n",
       "    </tr>\n",
       "    <tr>\n",
       "      <th>7376732</th>\n",
       "      <td>蔡依林 (jolin tsai)</td>\n",
       "      <td>I'm Not Yours - feat.安室奈美惠NAMIE AMURO</td>\n",
       "    </tr>\n",
       "    <tr>\n",
       "      <th>7376733</th>\n",
       "      <td>dizzy dizzo</td>\n",
       "      <td>02 (feat. MJ116) (02)</td>\n",
       "    </tr>\n",
       "    <tr>\n",
       "      <th>7376757</th>\n",
       "      <td>lucas &amp; steve featuring bethany</td>\n",
       "      <td>Blinded (Original Mix)</td>\n",
       "    </tr>\n",
       "    <tr>\n",
       "      <th>7376763</th>\n",
       "      <td>stereo sound feat. valentine</td>\n",
       "      <td>Symphony Of Love (Original Mix)</td>\n",
       "    </tr>\n",
       "    <tr>\n",
       "      <th>7376885</th>\n",
       "      <td>major lazer</td>\n",
       "      <td>Run Up (feat. PARTYNEXTDOOR &amp; Nicki Minaj)</td>\n",
       "    </tr>\n",
       "    <tr>\n",
       "      <th>7376931</th>\n",
       "      <td>tinie tempah</td>\n",
       "      <td>Text From Your Ex (feat. Tinashe)</td>\n",
       "    </tr>\n",
       "    <tr>\n",
       "      <th>7376951</th>\n",
       "      <td>step up original motion picture soundtrack</td>\n",
       "      <td>Club Can't Handle Me (feat. David Guetta)</td>\n",
       "    </tr>\n",
       "    <tr>\n",
       "      <th>7376955</th>\n",
       "      <td>migos</td>\n",
       "      <td>Bad and Boujee (feat. Lil Uzi Vert)</td>\n",
       "    </tr>\n",
       "    <tr>\n",
       "      <th>7376973</th>\n",
       "      <td>謝和弦 (r-chord)</td>\n",
       "      <td>在沒有你以後 (feat. 張智成) (Without You)</td>\n",
       "    </tr>\n",
       "    <tr>\n",
       "      <th>7377013</th>\n",
       "      <td>far east movement</td>\n",
       "      <td>Like A G6 – feat. The Cataracs &amp; Dev</td>\n",
       "    </tr>\n",
       "    <tr>\n",
       "      <th>7377249</th>\n",
       "      <td>major lazer</td>\n",
       "      <td>Run Up (feat. PARTYNEXTDOOR &amp; Nicki Minaj)</td>\n",
       "    </tr>\n",
       "    <tr>\n",
       "      <th>7377251</th>\n",
       "      <td>wiley</td>\n",
       "      <td>Bring Them All / Holy Grime (feat. Devlin)</td>\n",
       "    </tr>\n",
       "    <tr>\n",
       "      <th>7377285</th>\n",
       "      <td>major lazer</td>\n",
       "      <td>Run Up (feat. PARTYNEXTDOOR &amp; Nicki Minaj)</td>\n",
       "    </tr>\n",
       "    <tr>\n",
       "      <th>7377300</th>\n",
       "      <td>major lazer</td>\n",
       "      <td>Run Up (feat. PARTYNEXTDOOR &amp; Nicki Minaj)</td>\n",
       "    </tr>\n",
       "    <tr>\n",
       "      <th>7377402</th>\n",
       "      <td>major lazer</td>\n",
       "      <td>Light It Up (feat. Nyla &amp; Fuse ODG)</td>\n",
       "    </tr>\n",
       "    <tr>\n",
       "      <th>7377414</th>\n",
       "      <td>r. city feat.  adam levine</td>\n",
       "      <td>Locked Away</td>\n",
       "    </tr>\n",
       "  </tbody>\n",
       "</table>\n",
       "<p>163237 rows × 2 columns</p>\n",
       "</div>"
      ],
      "text/plain": [
       "                                        artist_name  \\\n",
       "12                                     林俊傑 (jj lin)   \n",
       "53                                    謝和弦 (r-chord)   \n",
       "55                                     林俊傑 (jj lin)   \n",
       "137                                              劉佳   \n",
       "180                                    david guetta   \n",
       "184                                     major lazer   \n",
       "186                                     major lazer   \n",
       "187                                    david guetta   \n",
       "207       alex goot feat. kurt hugo schneider & atc   \n",
       "414                                   謝和弦 (r-chord)   \n",
       "444                                    clean bandit   \n",
       "445                                   謝和弦 (r-chord)   \n",
       "553                             twilight soundtrack   \n",
       "624                                   謝和弦 (r-chord)   \n",
       "703                                     major lazer   \n",
       "791                                    林俊傑 (jj lin)   \n",
       "797                                    林俊傑 (jj lin)   \n",
       "835                                    clean bandit   \n",
       "857                                    我的祕密飯店 電視原聲帶   \n",
       "860                                    我的祕密飯店 電視原聲帶   \n",
       "863                                             黃文星   \n",
       "897                                   justin bieber   \n",
       "964                                蔡依林 (jolin tsai)   \n",
       "970                                    david guetta   \n",
       "988                                            fun.   \n",
       "1035                                  謝和弦 (r-chord)   \n",
       "1038                                  謝和弦 (r-chord)   \n",
       "1057                                   david guetta   \n",
       "1058                                     魚乾 (annie)   \n",
       "1153                        macklemore & ryan lewis   \n",
       "...                                             ...   \n",
       "7376227                                    d.r.a.m.   \n",
       "7376333                mark ronson feat. bruno mars   \n",
       "7376340                                 major lazer   \n",
       "7376350                                        wale   \n",
       "7376440                                       erika   \n",
       "7376548                                       erika   \n",
       "7376560                                      bonobo   \n",
       "7376589                                 major lazer   \n",
       "7376637                               謝和弦 (r-chord)   \n",
       "7376650                                 major lazer   \n",
       "7376655                                    jay park   \n",
       "7376707                                david guetta   \n",
       "7376709                                 major lazer   \n",
       "7376713              hardwell featuring mitch crown   \n",
       "7376732                            蔡依林 (jolin tsai)   \n",
       "7376733                                 dizzy dizzo   \n",
       "7376757             lucas & steve featuring bethany   \n",
       "7376763                stereo sound feat. valentine   \n",
       "7376885                                 major lazer   \n",
       "7376931                                tinie tempah   \n",
       "7376951  step up original motion picture soundtrack   \n",
       "7376955                                       migos   \n",
       "7376973                               謝和弦 (r-chord)   \n",
       "7377013                           far east movement   \n",
       "7377249                                 major lazer   \n",
       "7377251                                       wiley   \n",
       "7377285                                 major lazer   \n",
       "7377300                                 major lazer   \n",
       "7377402                                 major lazer   \n",
       "7377414                  r. city feat.  adam levine   \n",
       "\n",
       "                                                 song_name  \n",
       "12                       手心的薔薇 (Beautiful) feat. G.E.M.鄧紫棋  \n",
       "53                        在沒有你以後 (feat. 張智成) (Without You)  \n",
       "55                       手心的薔薇 (Beautiful) feat. G.E.M.鄧紫棋  \n",
       "137                                          愛很美-feat.sara  \n",
       "180      Hey Mama (feat. Nicki Minaj| Bebe Rexha & Afro...  \n",
       "184                  Cold Water (feat. Justin Bieber & MØ)  \n",
       "186                          Lean On (feat. MØ & DJ Snake)  \n",
       "187                                   Titanium (feat. Sia)  \n",
       "207                                        Let Me Love You  \n",
       "414                       在沒有你以後 (feat. 張智成) (Without You)  \n",
       "444                          Rather Be (feat. Jess Glynne)  \n",
       "445       愛不需要裝乖 (feat.王詩安) (Love Doesn't Need To Pretend)  \n",
       "553                   A Thousand Years (feat. Steve Kazee)  \n",
       "624                       蘋果 (feat. 頑童MJ116瘦子) (The Apple)  \n",
       "703                          Lean On (feat. MØ & DJ Snake)  \n",
       "791                            I Am Alive feat. Jason Mraz  \n",
       "797                      手心的薔薇 (Beautiful) feat. G.E.M.鄧紫棋  \n",
       "835                          Rather Be (feat. Jess Glynne)  \n",
       "857      Secret (Inst.) - Studio Musicians - feat.Young...  \n",
       "860         Propose - Im| Jik Won Il Dong - feat.President  \n",
       "863                                       三心兩意 (feat. 曾昱嘉)  \n",
       "897                As Long As You Love Me – feat. Big Sean  \n",
       "964                  I'm Not Yours - feat.安室奈美惠NAMIE AMURO  \n",
       "970                   Bang My Head (feat. Sia & Fetty Wap)  \n",
       "988                     We Are Young (feat. Janelle Monáe)  \n",
       "1035                        足夠 (feat. Sea Level) (Satisfy)  \n",
       "1038         就是要你知道 (feat. Sea Level) (I Want You To Know)  \n",
       "1057                                  Titanium (feat. Sia)  \n",
       "1058                                         預感 (feat. 朱康)  \n",
       "1153                        Same Love (feat. Mary Lambert)  \n",
       "...                                                    ...  \n",
       "7376227                        Broccoli (feat. Lil Yachty)  \n",
       "7376333                                        Uptown Funk  \n",
       "7376340         Run Up (feat. PARTYNEXTDOOR & Nicki Minaj)  \n",
       "7376350                     Running Back (feat. Lil Wayne)  \n",
       "7376440             當一個天使的憂愁 (feat.小宇) (An Angel's Secret)  \n",
       "7376548             當一個天使的憂愁 (feat.小宇) (An Angel's Secret)  \n",
       "7376560                        No Reason(feat.Nick Murphy)  \n",
       "7376589         Run Up (feat. PARTYNEXTDOOR & Nicki Minaj)  \n",
       "7376637   愛不需要裝乖 (feat.王詩安) (Love Doesn't Need To Pretend)  \n",
       "7376650         Run Up (feat. PARTYNEXTDOOR & Nicki Minaj)  \n",
       "7376655  All I Wanna Do (feat. Hoody & 로꼬 Loco) [Korean...  \n",
       "7376707                               Titanium (feat. Sia)  \n",
       "7376709                      Lean On (feat. MØ & DJ Snake)  \n",
       "7376713                                 Call Me A Spaceman  \n",
       "7376732              I'm Not Yours - feat.安室奈美惠NAMIE AMURO  \n",
       "7376733                              02 (feat. MJ116) (02)  \n",
       "7376757                             Blinded (Original Mix)  \n",
       "7376763                    Symphony Of Love (Original Mix)  \n",
       "7376885         Run Up (feat. PARTYNEXTDOOR & Nicki Minaj)  \n",
       "7376931                  Text From Your Ex (feat. Tinashe)  \n",
       "7376951          Club Can't Handle Me (feat. David Guetta)  \n",
       "7376955                Bad and Boujee (feat. Lil Uzi Vert)  \n",
       "7376973                   在沒有你以後 (feat. 張智成) (Without You)  \n",
       "7377013               Like A G6 – feat. The Cataracs & Dev  \n",
       "7377249         Run Up (feat. PARTYNEXTDOOR & Nicki Minaj)  \n",
       "7377251         Bring Them All / Holy Grime (feat. Devlin)  \n",
       "7377285         Run Up (feat. PARTYNEXTDOOR & Nicki Minaj)  \n",
       "7377300         Run Up (feat. PARTYNEXTDOOR & Nicki Minaj)  \n",
       "7377402                Light It Up (feat. Nyla & Fuse ODG)  \n",
       "7377414                                        Locked Away  \n",
       "\n",
       "[163237 rows x 2 columns]"
      ]
     },
     "execution_count": 59,
     "metadata": {},
     "output_type": "execute_result"
    }
   ],
   "source": [
    "# Look at artist names that contains 'feat'\n",
    "check_feat=train_2.loc[train_2['is_featured'] == 1]\n",
    "check_feat[['artist_name', 'song_name']]"
   ]
  },
  {
   "cell_type": "code",
   "execution_count": 60,
   "metadata": {
    "collapsed": true
   },
   "outputs": [],
   "source": [
    "# Find the main and featuring artist names\n",
    "def feat_name(x):\n",
    "    if 'feat.' in str(x) :\n",
    "        idx=x.find('feat.')\n",
    "        feat_name=x[idx+5:].strip()\n",
    "        return feat_name\n",
    "    elif 'feat' in str(x) :\n",
    "        idx=x.find('feat')\n",
    "        feat_name=x[idx+5:].strip()\n",
    "        return feat_name\n",
    "    return \"empty\"\n",
    "def main_name(x):\n",
    "    if 'feat' in str(x) :\n",
    "        idx=x.find('feat')\n",
    "        main_name=x[:idx].strip()\n",
    "        return main_name\n",
    "    return x"
   ]
  },
  {
   "cell_type": "code",
   "execution_count": 61,
   "metadata": {
    "collapsed": true
   },
   "outputs": [],
   "source": [
    "# Split featuring artist names\n",
    "train_2['feat_artist'] = train_2['artist_name'].apply(feat_name)\n",
    "test_2['feat_artist'] = test_2['artist_name'].apply(feat_name)\n",
    "\n",
    "train_2['main_artist'] = train_2['artist_name'].apply(main_name)\n",
    "test_2['main_artist'] = test_2['artist_name'].apply(main_name)\n",
    "\n",
    "# Split featuring song names\n",
    "train_2['feat_song_name'] = train_2['song_name'].apply(feat_name)\n",
    "test_2['feat_song_name'] = test_2['song_name'].apply(feat_name)\n",
    "\n",
    "train_2['main_song_name'] = train_2['song_name'].apply(main_name)\n",
    "test_2['main_song_name'] = test_2['song_name'].apply(main_name)\n"
   ]
  },
  {
   "cell_type": "code",
   "execution_count": 62,
   "metadata": {
    "collapsed": true
   },
   "outputs": [],
   "source": [
    "def is_remix(x):\n",
    "    if 'remix' in str(x):\n",
    "        return 1\n",
    "    return 0"
   ]
  },
  {
   "cell_type": "code",
   "execution_count": 63,
   "metadata": {
    "collapsed": true
   },
   "outputs": [],
   "source": [
    "train_2['is_remix_artist']=train_2['artist_name'].apply(is_remix).astype(np.int8)\n",
    "test_2['is_remix_artist']=test_2['artist_name'].apply(is_remix).astype(np.int8)\n",
    "\n",
    "train_2['is_remix_song']=train_2['song_name'].apply(is_remix).astype(np.int8)\n",
    "test_2['is_remix_song']=test_2['song_name'].apply(is_remix).astype(np.int8)\n",
    "\n",
    "train_2['is_remix'] = train_2['is_remix_artist'] | train_2['is_remix_song']\n",
    "test_2['is_remix'] = test_2['is_remix_artist'] | test_2['is_remix_song']"
   ]
  },
  {
   "cell_type": "code",
   "execution_count": 64,
   "metadata": {
    "collapsed": true
   },
   "outputs": [],
   "source": [
    "# Drop remix check for separate song_name and artist_name\n",
    "train_2.drop(['is_remix_artist', 'is_remix_song'], axis=1, inplace=True)\n",
    "test_2.drop(['is_remix_artist', 'is_remix_song'], axis=1, inplace=True)"
   ]
  },
  {
   "cell_type": "code",
   "execution_count": 65,
   "metadata": {
    "collapsed": false,
    "scrolled": true
   },
   "outputs": [
    {
     "data": {
      "text/html": [
       "<div>\n",
       "<style scoped>\n",
       "    .dataframe tbody tr th:only-of-type {\n",
       "        vertical-align: middle;\n",
       "    }\n",
       "\n",
       "    .dataframe tbody tr th {\n",
       "        vertical-align: top;\n",
       "    }\n",
       "\n",
       "    .dataframe thead th {\n",
       "        text-align: right;\n",
       "    }\n",
       "</style>\n",
       "<table border=\"1\" class=\"dataframe\">\n",
       "  <thead>\n",
       "    <tr style=\"text-align: right;\">\n",
       "      <th></th>\n",
       "      <th>artist_name</th>\n",
       "      <th>song_name</th>\n",
       "    </tr>\n",
       "  </thead>\n",
       "  <tbody>\n",
       "    <tr>\n",
       "      <th>2901</th>\n",
       "      <td>dj remix factory</td>\n",
       "      <td>Where Are U Now (DJ Remixed)</td>\n",
       "    </tr>\n",
       "    <tr>\n",
       "      <th>12699</th>\n",
       "      <td>nowhere樂團 (nowhere band)</td>\n",
       "      <td>1984 remix special</td>\n",
       "    </tr>\n",
       "    <tr>\n",
       "      <th>18877</th>\n",
       "      <td>蔡依林 (jolin tsai)</td>\n",
       "      <td>MR.Q（All Night Party remixed by DJ Submarine） ...</td>\n",
       "    </tr>\n",
       "    <tr>\n",
       "      <th>26418</th>\n",
       "      <td>群星 (remix 101)</td>\n",
       "      <td>男人KTV (Karaoke Men)</td>\n",
       "    </tr>\n",
       "    <tr>\n",
       "      <th>30596</th>\n",
       "      <td>various artists (bhangra remixes)</td>\n",
       "      <td>The Fox (What Does The Fox Say?)</td>\n",
       "    </tr>\n",
       "    <tr>\n",
       "      <th>37821</th>\n",
       "      <td>g-dragon</td>\n",
       "      <td>THIS LOVE (FEAT.G.H remix)</td>\n",
       "    </tr>\n",
       "    <tr>\n",
       "      <th>38495</th>\n",
       "      <td>ayumi hamasaki (浜崎あゆみ)</td>\n",
       "      <td>Feel the love 敢愛 (DJ Hello Kitty remix)</td>\n",
       "    </tr>\n",
       "    <tr>\n",
       "      <th>38607</th>\n",
       "      <td>dj remix factory</td>\n",
       "      <td>Payphone</td>\n",
       "    </tr>\n",
       "    <tr>\n",
       "      <th>39552</th>\n",
       "      <td>seoan</td>\n",
       "      <td>What is Right? (Downtempo remix)</td>\n",
       "    </tr>\n",
       "    <tr>\n",
       "      <th>49608</th>\n",
       "      <td>billboard masters</td>\n",
       "      <td>Dessert (remix) - Tribute to Dawin and Silento</td>\n",
       "    </tr>\n",
       "    <tr>\n",
       "      <th>53650</th>\n",
       "      <td>remix radio dj</td>\n",
       "      <td>Right Above It (Originally Performed By Lil Wa...</td>\n",
       "    </tr>\n",
       "    <tr>\n",
       "      <th>55112</th>\n",
       "      <td>various artists (bhangra remixes)</td>\n",
       "      <td>The Fox (What Does The Fox Say?)</td>\n",
       "    </tr>\n",
       "    <tr>\n",
       "      <th>72927</th>\n",
       "      <td>五月天 (mayday)</td>\n",
       "      <td>離開地球表面remix by DJ ROCK</td>\n",
       "    </tr>\n",
       "    <tr>\n",
       "      <th>110496</th>\n",
       "      <td>remix radio dj</td>\n",
       "      <td>The Next Episode (Originally Performed By Dr. ...</td>\n",
       "    </tr>\n",
       "    <tr>\n",
       "      <th>110499</th>\n",
       "      <td>dance remix factory</td>\n",
       "      <td>Worth It (remix)</td>\n",
       "    </tr>\n",
       "    <tr>\n",
       "      <th>110500</th>\n",
       "      <td>dance remix inc.</td>\n",
       "      <td>Turn Me On (David Guetta Feat. Nicki Minaj Rem...</td>\n",
       "    </tr>\n",
       "    <tr>\n",
       "      <th>112951</th>\n",
       "      <td>dj remix factory</td>\n",
       "      <td>Team (Remix)</td>\n",
       "    </tr>\n",
       "    <tr>\n",
       "      <th>112952</th>\n",
       "      <td>dj remix factory</td>\n",
       "      <td>Turn up the Speakers (Dance Mix)</td>\n",
       "    </tr>\n",
       "    <tr>\n",
       "      <th>112954</th>\n",
       "      <td>dj remix factory</td>\n",
       "      <td>Beauty and a Beat (Remix)</td>\n",
       "    </tr>\n",
       "    <tr>\n",
       "      <th>112958</th>\n",
       "      <td>dj remix factory</td>\n",
       "      <td>Pumped Up Kicks (Remix)</td>\n",
       "    </tr>\n",
       "    <tr>\n",
       "      <th>117139</th>\n",
       "      <td>various artists (bhangra remixes)</td>\n",
       "      <td>The Fox (What Does The Fox Say?)</td>\n",
       "    </tr>\n",
       "    <tr>\n",
       "      <th>117598</th>\n",
       "      <td>far east movement</td>\n",
       "      <td>Live My Life-party rock remix(feat. Justin Bie...</td>\n",
       "    </tr>\n",
       "    <tr>\n",
       "      <th>119215</th>\n",
       "      <td>dj remix factory</td>\n",
       "      <td>Dark Horse (Remix)</td>\n",
       "    </tr>\n",
       "    <tr>\n",
       "      <th>119216</th>\n",
       "      <td>dj remix factory</td>\n",
       "      <td>Wake Me Up (Remix)</td>\n",
       "    </tr>\n",
       "    <tr>\n",
       "      <th>119222</th>\n",
       "      <td>dj remix factory</td>\n",
       "      <td>All About the Bass (DJ Remixed)</td>\n",
       "    </tr>\n",
       "    <tr>\n",
       "      <th>127261</th>\n",
       "      <td>dj remix factory</td>\n",
       "      <td>Bad (Remix)</td>\n",
       "    </tr>\n",
       "    <tr>\n",
       "      <th>146015</th>\n",
       "      <td>dj remix factory</td>\n",
       "      <td>Pompeii (Remix)</td>\n",
       "    </tr>\n",
       "    <tr>\n",
       "      <th>146028</th>\n",
       "      <td>dj remix factory</td>\n",
       "      <td>Happy (Remix)</td>\n",
       "    </tr>\n",
       "    <tr>\n",
       "      <th>171842</th>\n",
       "      <td>celine dion</td>\n",
       "      <td>A New Day Has Come (Radio remix)</td>\n",
       "    </tr>\n",
       "    <tr>\n",
       "      <th>175439</th>\n",
       "      <td>群星 (remix 101)</td>\n",
       "      <td>囚鳥</td>\n",
       "    </tr>\n",
       "    <tr>\n",
       "      <th>...</th>\n",
       "      <td>...</td>\n",
       "      <td>...</td>\n",
       "    </tr>\n",
       "    <tr>\n",
       "      <th>7240955</th>\n",
       "      <td>various artists (bhangra remixes)</td>\n",
       "      <td>Non dimenticar</td>\n",
       "    </tr>\n",
       "    <tr>\n",
       "      <th>7240959</th>\n",
       "      <td>various artists (bhangra remixes)</td>\n",
       "      <td>La conga blicoti</td>\n",
       "    </tr>\n",
       "    <tr>\n",
       "      <th>7243062</th>\n",
       "      <td>dj remix factory</td>\n",
       "      <td>Habits (Stay High) [Remixed Reworked]</td>\n",
       "    </tr>\n",
       "    <tr>\n",
       "      <th>7243066</th>\n",
       "      <td>dj remix factory</td>\n",
       "      <td>Hey Mama (Remix)</td>\n",
       "    </tr>\n",
       "    <tr>\n",
       "      <th>7245459</th>\n",
       "      <td>dj remix factory</td>\n",
       "      <td>All About the Bass (DJ Remixed)</td>\n",
       "    </tr>\n",
       "    <tr>\n",
       "      <th>7249323</th>\n",
       "      <td>五月天 (mayday)</td>\n",
       "      <td>離開地球表面remix by DJ ROCK</td>\n",
       "    </tr>\n",
       "    <tr>\n",
       "      <th>7270696</th>\n",
       "      <td>club des belugas</td>\n",
       "      <td>Puttin' on the Ritz feat. Fred Astaire (CdB re...</td>\n",
       "    </tr>\n",
       "    <tr>\n",
       "      <th>7272176</th>\n",
       "      <td>club des belugas</td>\n",
       "      <td>Air Mail Special feat. Ella Fitzgerald (CdB re...</td>\n",
       "    </tr>\n",
       "    <tr>\n",
       "      <th>7272177</th>\n",
       "      <td>club des belugas</td>\n",
       "      <td>The Hunting feat. Bajka (Club des Belugas remix)</td>\n",
       "    </tr>\n",
       "    <tr>\n",
       "      <th>7274539</th>\n",
       "      <td>群星 (remix 101)</td>\n",
       "      <td>羊咩勁過「小蘋果」</td>\n",
       "    </tr>\n",
       "    <tr>\n",
       "      <th>7274881</th>\n",
       "      <td>workout remix factory</td>\n",
       "      <td>Downtown (Workout Mix) [130 BPM]</td>\n",
       "    </tr>\n",
       "    <tr>\n",
       "      <th>7280392</th>\n",
       "      <td>various artists (bhangra remixes)</td>\n",
       "      <td>The Fox (What Does The Fox Say?)</td>\n",
       "    </tr>\n",
       "    <tr>\n",
       "      <th>7286365</th>\n",
       "      <td>various artists (bhangra remixes)</td>\n",
       "      <td>Boom Boom Dollars '96</td>\n",
       "    </tr>\n",
       "    <tr>\n",
       "      <th>7291317</th>\n",
       "      <td>workout remix factory</td>\n",
       "      <td>Middle (2017 Cooldown Workout Mix)</td>\n",
       "    </tr>\n",
       "    <tr>\n",
       "      <th>7309586</th>\n",
       "      <td>various artists (bhangra remixes)</td>\n",
       "      <td>The Fox (What Does The Fox Say?)</td>\n",
       "    </tr>\n",
       "    <tr>\n",
       "      <th>7323739</th>\n",
       "      <td>g.e.m.鄧紫棋</td>\n",
       "      <td>Where Did You Go (2.0 remix)</td>\n",
       "    </tr>\n",
       "    <tr>\n",
       "      <th>7327545</th>\n",
       "      <td>far east movement</td>\n",
       "      <td>Live My Life-party rock remix(feat. Justin Bie...</td>\n",
       "    </tr>\n",
       "    <tr>\n",
       "      <th>7332707</th>\n",
       "      <td>紅色狂想曲之好過年</td>\n",
       "      <td>財神咒30秒remix</td>\n",
       "    </tr>\n",
       "    <tr>\n",
       "      <th>7334465</th>\n",
       "      <td>livetune feat. 初音ミク</td>\n",
       "      <td>DECORATOR (TeddyLoid remix)</td>\n",
       "    </tr>\n",
       "    <tr>\n",
       "      <th>7335873</th>\n",
       "      <td>billboard masters</td>\n",
       "      <td>Dessert (remix) - Tribute to Dawin and Silento</td>\n",
       "    </tr>\n",
       "    <tr>\n",
       "      <th>7345582</th>\n",
       "      <td>far east movement</td>\n",
       "      <td>Live My Life-party rock remix(feat. Justin Bie...</td>\n",
       "    </tr>\n",
       "    <tr>\n",
       "      <th>7350097</th>\n",
       "      <td>remix &amp; repent</td>\n",
       "      <td>Begin Again</td>\n",
       "    </tr>\n",
       "    <tr>\n",
       "      <th>7351589</th>\n",
       "      <td>dj remix factory</td>\n",
       "      <td>Stressed Out (Remix)</td>\n",
       "    </tr>\n",
       "    <tr>\n",
       "      <th>7359012</th>\n",
       "      <td>celine dion</td>\n",
       "      <td>A New Day Has Come (Radio remix)</td>\n",
       "    </tr>\n",
       "    <tr>\n",
       "      <th>7365028</th>\n",
       "      <td>remix radio dj</td>\n",
       "      <td>The Next Episode (Originally Performed By Dr. ...</td>\n",
       "    </tr>\n",
       "    <tr>\n",
       "      <th>7365238</th>\n",
       "      <td>workout remix factory</td>\n",
       "      <td>Take Me Home (Workout Mixed)</td>\n",
       "    </tr>\n",
       "    <tr>\n",
       "      <th>7368866</th>\n",
       "      <td>livetune feat. 初音ミク</td>\n",
       "      <td>Packaged (Shipping in 2013 remix)</td>\n",
       "    </tr>\n",
       "    <tr>\n",
       "      <th>7368911</th>\n",
       "      <td>livetune feat. 初音ミク</td>\n",
       "      <td>DECORATOR (TeddyLoid remix)</td>\n",
       "    </tr>\n",
       "    <tr>\n",
       "      <th>7370847</th>\n",
       "      <td>workout remix factory</td>\n",
       "      <td>Without You (2017 Dance Workout Mix)</td>\n",
       "    </tr>\n",
       "    <tr>\n",
       "      <th>7376837</th>\n",
       "      <td>群星 (remix 101)</td>\n",
       "      <td>至少還有你</td>\n",
       "    </tr>\n",
       "  </tbody>\n",
       "</table>\n",
       "<p>1967 rows × 2 columns</p>\n",
       "</div>"
      ],
      "text/plain": [
       "                               artist_name  \\\n",
       "2901                      dj remix factory   \n",
       "12699             nowhere樂團 (nowhere band)   \n",
       "18877                     蔡依林 (jolin tsai)   \n",
       "26418                       群星 (remix 101)   \n",
       "30596    various artists (bhangra remixes)   \n",
       "37821                             g-dragon   \n",
       "38495               ayumi hamasaki (浜崎あゆみ)   \n",
       "38607                     dj remix factory   \n",
       "39552                                seoan   \n",
       "49608                    billboard masters   \n",
       "53650                       remix radio dj   \n",
       "55112    various artists (bhangra remixes)   \n",
       "72927                         五月天 (mayday)   \n",
       "110496                      remix radio dj   \n",
       "110499                 dance remix factory   \n",
       "110500                    dance remix inc.   \n",
       "112951                    dj remix factory   \n",
       "112952                    dj remix factory   \n",
       "112954                    dj remix factory   \n",
       "112958                    dj remix factory   \n",
       "117139   various artists (bhangra remixes)   \n",
       "117598                   far east movement   \n",
       "119215                    dj remix factory   \n",
       "119216                    dj remix factory   \n",
       "119222                    dj remix factory   \n",
       "127261                    dj remix factory   \n",
       "146015                    dj remix factory   \n",
       "146028                    dj remix factory   \n",
       "171842                         celine dion   \n",
       "175439                      群星 (remix 101)   \n",
       "...                                    ...   \n",
       "7240955  various artists (bhangra remixes)   \n",
       "7240959  various artists (bhangra remixes)   \n",
       "7243062                   dj remix factory   \n",
       "7243066                   dj remix factory   \n",
       "7245459                   dj remix factory   \n",
       "7249323                       五月天 (mayday)   \n",
       "7270696                   club des belugas   \n",
       "7272176                   club des belugas   \n",
       "7272177                   club des belugas   \n",
       "7274539                     群星 (remix 101)   \n",
       "7274881              workout remix factory   \n",
       "7280392  various artists (bhangra remixes)   \n",
       "7286365  various artists (bhangra remixes)   \n",
       "7291317              workout remix factory   \n",
       "7309586  various artists (bhangra remixes)   \n",
       "7323739                          g.e.m.鄧紫棋   \n",
       "7327545                  far east movement   \n",
       "7332707                          紅色狂想曲之好過年   \n",
       "7334465                livetune feat. 初音ミク   \n",
       "7335873                  billboard masters   \n",
       "7345582                  far east movement   \n",
       "7350097                     remix & repent   \n",
       "7351589                   dj remix factory   \n",
       "7359012                        celine dion   \n",
       "7365028                     remix radio dj   \n",
       "7365238              workout remix factory   \n",
       "7368866                livetune feat. 初音ミク   \n",
       "7368911                livetune feat. 初音ミク   \n",
       "7370847              workout remix factory   \n",
       "7376837                     群星 (remix 101)   \n",
       "\n",
       "                                                 song_name  \n",
       "2901                          Where Are U Now (DJ Remixed)  \n",
       "12699                                   1984 remix special  \n",
       "18877    MR.Q（All Night Party remixed by DJ Submarine） ...  \n",
       "26418                                  男人KTV (Karaoke Men)  \n",
       "30596                     The Fox (What Does The Fox Say?)  \n",
       "37821                           THIS LOVE (FEAT.G.H remix)  \n",
       "38495              Feel the love 敢愛 (DJ Hello Kitty remix)  \n",
       "38607                                             Payphone  \n",
       "39552                     What is Right? (Downtempo remix)  \n",
       "49608       Dessert (remix) - Tribute to Dawin and Silento  \n",
       "53650    Right Above It (Originally Performed By Lil Wa...  \n",
       "55112                     The Fox (What Does The Fox Say?)  \n",
       "72927                               離開地球表面remix by DJ ROCK  \n",
       "110496   The Next Episode (Originally Performed By Dr. ...  \n",
       "110499                                    Worth It (remix)  \n",
       "110500   Turn Me On (David Guetta Feat. Nicki Minaj Rem...  \n",
       "112951                                        Team (Remix)  \n",
       "112952                    Turn up the Speakers (Dance Mix)  \n",
       "112954                           Beauty and a Beat (Remix)  \n",
       "112958                             Pumped Up Kicks (Remix)  \n",
       "117139                    The Fox (What Does The Fox Say?)  \n",
       "117598   Live My Life-party rock remix(feat. Justin Bie...  \n",
       "119215                                  Dark Horse (Remix)  \n",
       "119216                                  Wake Me Up (Remix)  \n",
       "119222                     All About the Bass (DJ Remixed)  \n",
       "127261                                         Bad (Remix)  \n",
       "146015                                     Pompeii (Remix)  \n",
       "146028                                       Happy (Remix)  \n",
       "171842                    A New Day Has Come (Radio remix)  \n",
       "175439                                                  囚鳥  \n",
       "...                                                    ...  \n",
       "7240955                                     Non dimenticar  \n",
       "7240959                                   La conga blicoti  \n",
       "7243062              Habits (Stay High) [Remixed Reworked]  \n",
       "7243066                                   Hey Mama (Remix)  \n",
       "7245459                    All About the Bass (DJ Remixed)  \n",
       "7249323                             離開地球表面remix by DJ ROCK  \n",
       "7270696  Puttin' on the Ritz feat. Fred Astaire (CdB re...  \n",
       "7272176  Air Mail Special feat. Ella Fitzgerald (CdB re...  \n",
       "7272177   The Hunting feat. Bajka (Club des Belugas remix)  \n",
       "7274539                                          羊咩勁過「小蘋果」  \n",
       "7274881                   Downtown (Workout Mix) [130 BPM]  \n",
       "7280392                   The Fox (What Does The Fox Say?)  \n",
       "7286365                              Boom Boom Dollars '96  \n",
       "7291317                 Middle (2017 Cooldown Workout Mix)  \n",
       "7309586                   The Fox (What Does The Fox Say?)  \n",
       "7323739                       Where Did You Go (2.0 remix)  \n",
       "7327545  Live My Life-party rock remix(feat. Justin Bie...  \n",
       "7332707                                        財神咒30秒remix  \n",
       "7334465                        DECORATOR (TeddyLoid remix)  \n",
       "7335873     Dessert (remix) - Tribute to Dawin and Silento  \n",
       "7345582  Live My Life-party rock remix(feat. Justin Bie...  \n",
       "7350097                                        Begin Again  \n",
       "7351589                               Stressed Out (Remix)  \n",
       "7359012                   A New Day Has Come (Radio remix)  \n",
       "7365028  The Next Episode (Originally Performed By Dr. ...  \n",
       "7365238                       Take Me Home (Workout Mixed)  \n",
       "7368866                  Packaged (Shipping in 2013 remix)  \n",
       "7368911                        DECORATOR (TeddyLoid remix)  \n",
       "7370847               Without You (2017 Dance Workout Mix)  \n",
       "7376837                                              至少還有你  \n",
       "\n",
       "[1967 rows x 2 columns]"
      ]
     },
     "execution_count": 65,
     "metadata": {},
     "output_type": "execute_result"
    }
   ],
   "source": [
    "# Look at artist names that contains 'remix'\n",
    "check_remix=train_2.loc[train_2['is_remix'] == 1]\n",
    "check_remix[['artist_name','song_name']]"
   ]
  },
  {
   "cell_type": "code",
   "execution_count": 66,
   "metadata": {
    "collapsed": true
   },
   "outputs": [],
   "source": [
    "def is_live(x):\n",
    "    live_keywords=[' live', '现场', '現場', '演唱會', '演唱会', '演出']\n",
    "    # some sings name start with 'live'\n",
    "    if any(s in str(x) for s in live_keywords):\n",
    "        return 1\n",
    "    return 0"
   ]
  },
  {
   "cell_type": "code",
   "execution_count": 67,
   "metadata": {
    "collapsed": true
   },
   "outputs": [],
   "source": [
    "\n",
    "train_2['is_live_artist']=train_2['artist_name'].apply(is_live).astype(np.int8)\n",
    "test_2['is_live_artist']=test_2['artist_name'].apply(is_live).astype(np.int8)\n",
    "\n",
    "train_2['is_live_song']=train_2['song_name'].apply(is_live).astype(np.int8)\n",
    "test_2['is_live_song']=test_2['song_name'].apply(is_live).astype(np.int8)\n",
    "\n",
    "train_2['is_live'] = train_2['is_live_artist'] | train_2['is_live_song']\n",
    "test_2['is_live'] = test_2['is_live_artist'] | test_2['is_live_song']"
   ]
  },
  {
   "cell_type": "code",
   "execution_count": 68,
   "metadata": {
    "collapsed": true
   },
   "outputs": [],
   "source": [
    "# Drop live check for separate song_name and artist_name\n",
    "train_2.drop(['is_live_artist', 'is_live_song'], axis=1, inplace=True)\n",
    "test_2.drop(['is_live_artist', 'is_live_song'], axis=1, inplace=True)"
   ]
  },
  {
   "cell_type": "code",
   "execution_count": 69,
   "metadata": {
    "collapsed": false,
    "scrolled": true
   },
   "outputs": [
    {
     "data": {
      "text/html": [
       "<div>\n",
       "<style scoped>\n",
       "    .dataframe tbody tr th:only-of-type {\n",
       "        vertical-align: middle;\n",
       "    }\n",
       "\n",
       "    .dataframe tbody tr th {\n",
       "        vertical-align: top;\n",
       "    }\n",
       "\n",
       "    .dataframe thead th {\n",
       "        text-align: right;\n",
       "    }\n",
       "</style>\n",
       "<table border=\"1\" class=\"dataframe\">\n",
       "  <thead>\n",
       "    <tr style=\"text-align: right;\">\n",
       "      <th></th>\n",
       "      <th>artist_name</th>\n",
       "      <th>song_name</th>\n",
       "    </tr>\n",
       "  </thead>\n",
       "  <tbody>\n",
       "    <tr>\n",
       "      <th>2380</th>\n",
       "      <td>五月天 (mayday)</td>\n",
       "      <td>諾亞方舟【2012世界巡迴演唱會「諾亞方舟」主題曲】</td>\n",
       "    </tr>\n",
       "    <tr>\n",
       "      <th>8137</th>\n",
       "      <td>郭靜 (claire kuo)</td>\n",
       "      <td>放肆一下 (Wild Things) - &lt;Fun 4 一夏&gt;福茂女朋友 演唱會主題歌</td>\n",
       "    </tr>\n",
       "    <tr>\n",
       "      <th>10058</th>\n",
       "      <td>五月天 (mayday)</td>\n",
       "      <td>諾亞方舟【2012世界巡迴演唱會「諾亞方舟」主題曲】</td>\n",
       "    </tr>\n",
       "    <tr>\n",
       "      <th>10204</th>\n",
       "      <td>五月天 (mayday)</td>\n",
       "      <td>如煙+如果還有明天  【五月天諾亞方舟世界巡迴演唱會LIVE版】</td>\n",
       "    </tr>\n",
       "    <tr>\n",
       "      <th>11520</th>\n",
       "      <td>五月天 (mayday)</td>\n",
       "      <td>諾亞方舟【2012世界巡迴演唱會「諾亞方舟」主題曲】</td>\n",
       "    </tr>\n",
       "    <tr>\n",
       "      <th>13553</th>\n",
       "      <td>張國榮 (leslie cheung)</td>\n",
       "      <td>我(熱情演唱會壓軸主題曲)</td>\n",
       "    </tr>\n",
       "    <tr>\n",
       "      <th>16676</th>\n",
       "      <td>五月天 (mayday)</td>\n",
       "      <td>愛情萬歲【五月天諾亞方舟世界巡迴演唱會LIVE版】</td>\n",
       "    </tr>\n",
       "    <tr>\n",
       "      <th>16681</th>\n",
       "      <td>五月天 (mayday)</td>\n",
       "      <td>2012【五月天諾亞方舟世界巡迴演唱會LIVE版】</td>\n",
       "    </tr>\n",
       "    <tr>\n",
       "      <th>23907</th>\n",
       "      <td>五月天 (mayday)</td>\n",
       "      <td>諾亞方舟【2012世界巡迴演唱會「諾亞方舟」主題曲】</td>\n",
       "    </tr>\n",
       "    <tr>\n",
       "      <th>28772</th>\n",
       "      <td>五月天 (mayday)</td>\n",
       "      <td>諾亞方舟【2012世界巡迴演唱會「諾亞方舟」主題曲】</td>\n",
       "    </tr>\n",
       "    <tr>\n",
       "      <th>30012</th>\n",
       "      <td>grey's anatomy 2</td>\n",
       "      <td>Chasing Cars(Album Version) (Snow Patrol (prev...</td>\n",
       "    </tr>\n",
       "    <tr>\n",
       "      <th>30030</th>\n",
       "      <td>張學友 (jacky cheung)</td>\n",
       "      <td>她來聽我的演唱會</td>\n",
       "    </tr>\n",
       "    <tr>\n",
       "      <th>31485</th>\n",
       "      <td>五月天 (mayday)</td>\n",
       "      <td>愛情萬歲【五月天諾亞方舟世界巡迴演唱會LIVE版】</td>\n",
       "    </tr>\n",
       "    <tr>\n",
       "      <th>34018</th>\n",
       "      <td>五月天 (mayday)</td>\n",
       "      <td>諾亞方舟【2012世界巡迴演唱會「諾亞方舟」主題曲】</td>\n",
       "    </tr>\n",
       "    <tr>\n",
       "      <th>35208</th>\n",
       "      <td>張學友 (jacky cheung)</td>\n",
       "      <td>她來聽我的演唱會</td>\n",
       "    </tr>\n",
       "    <tr>\n",
       "      <th>36616</th>\n",
       "      <td>五月天 (mayday)</td>\n",
       "      <td>乾杯【五月天諾亞方舟世界巡迴演唱會LIVE版】</td>\n",
       "    </tr>\n",
       "    <tr>\n",
       "      <th>36617</th>\n",
       "      <td>五月天 (mayday)</td>\n",
       "      <td>第二人生【五月天諾亞方舟世界巡迴演唱會LIVE版】</td>\n",
       "    </tr>\n",
       "    <tr>\n",
       "      <th>36618</th>\n",
       "      <td>五月天 (mayday)</td>\n",
       "      <td>如煙+如果還有明天  【五月天諾亞方舟世界巡迴演唱會LIVE版】</td>\n",
       "    </tr>\n",
       "    <tr>\n",
       "      <th>36619</th>\n",
       "      <td>五月天 (mayday)</td>\n",
       "      <td>瘋狂世界【五月天諾亞方舟世界巡迴演唱會LIVE版】</td>\n",
       "    </tr>\n",
       "    <tr>\n",
       "      <th>36620</th>\n",
       "      <td>五月天 (mayday)</td>\n",
       "      <td>擁抱【五月天諾亞方舟世界巡迴演唱會LIVE版】</td>\n",
       "    </tr>\n",
       "    <tr>\n",
       "      <th>37025</th>\n",
       "      <td>hillsong live</td>\n",
       "      <td>With Everything</td>\n",
       "    </tr>\n",
       "    <tr>\n",
       "      <th>37027</th>\n",
       "      <td>hillsong live</td>\n",
       "      <td>It Is Well With My Soul</td>\n",
       "    </tr>\n",
       "    <tr>\n",
       "      <th>37028</th>\n",
       "      <td>hillsong live</td>\n",
       "      <td>Cornerstone</td>\n",
       "    </tr>\n",
       "    <tr>\n",
       "      <th>37824</th>\n",
       "      <td>五月天 (mayday)</td>\n",
       "      <td>諾亞方舟【2012世界巡迴演唱會「諾亞方舟」主題曲】</td>\n",
       "    </tr>\n",
       "    <tr>\n",
       "      <th>39229</th>\n",
       "      <td>何韻詩 (hocc)</td>\n",
       "      <td>無與倫比的美麗 (台北大河岸現場)</td>\n",
       "    </tr>\n",
       "    <tr>\n",
       "      <th>39381</th>\n",
       "      <td>五月天 (mayday)</td>\n",
       "      <td>OK啦【五月天諾亞方舟世界巡迴演唱會LIVE版】</td>\n",
       "    </tr>\n",
       "    <tr>\n",
       "      <th>39382</th>\n",
       "      <td>五月天 (mayday)</td>\n",
       "      <td>溫柔【五月天諾亞方舟世界巡迴演唱會LIVE版】</td>\n",
       "    </tr>\n",
       "    <tr>\n",
       "      <th>39383</th>\n",
       "      <td>五月天 (mayday)</td>\n",
       "      <td>三個傻瓜【五月天諾亞方舟世界巡迴演唱會LIVE版】</td>\n",
       "    </tr>\n",
       "    <tr>\n",
       "      <th>39879</th>\n",
       "      <td>hillsong live</td>\n",
       "      <td>You</td>\n",
       "    </tr>\n",
       "    <tr>\n",
       "      <th>39880</th>\n",
       "      <td>hillsong live</td>\n",
       "      <td>Rhythms Of Grace</td>\n",
       "    </tr>\n",
       "    <tr>\n",
       "      <th>...</th>\n",
       "      <td>...</td>\n",
       "      <td>...</td>\n",
       "    </tr>\n",
       "    <tr>\n",
       "      <th>7349658</th>\n",
       "      <td>五月天 (mayday)</td>\n",
       "      <td>諾亞方舟【2012世界巡迴演唱會「諾亞方舟」主題曲】</td>\n",
       "    </tr>\n",
       "    <tr>\n",
       "      <th>7350316</th>\n",
       "      <td>五月天 (mayday)</td>\n",
       "      <td>溫柔【五月天諾亞方舟世界巡迴演唱會LIVE版】</td>\n",
       "    </tr>\n",
       "    <tr>\n",
       "      <th>7350639</th>\n",
       "      <td>五月天 (mayday)</td>\n",
       "      <td>如煙+如果還有明天  【五月天諾亞方舟世界巡迴演唱會LIVE版】</td>\n",
       "    </tr>\n",
       "    <tr>\n",
       "      <th>7352091</th>\n",
       "      <td>romeo &amp; juliette-en live</td>\n",
       "      <td>Aimer</td>\n",
       "    </tr>\n",
       "    <tr>\n",
       "      <th>7354386</th>\n",
       "      <td>聖安東尼奧聖經教會現場敬拜讚美精選輯</td>\n",
       "      <td>The Reason</td>\n",
       "    </tr>\n",
       "    <tr>\n",
       "      <th>7354389</th>\n",
       "      <td>聖安東尼奧聖經教會現場敬拜讚美精選輯</td>\n",
       "      <td>Rejoice</td>\n",
       "    </tr>\n",
       "    <tr>\n",
       "      <th>7355150</th>\n",
       "      <td>五月天 (mayday)</td>\n",
       "      <td>如煙+如果還有明天  【五月天諾亞方舟世界巡迴演唱會LIVE版】</td>\n",
       "    </tr>\n",
       "    <tr>\n",
       "      <th>7355512</th>\n",
       "      <td>張學友 (jacky cheung)</td>\n",
       "      <td>她來聽我的演唱會</td>\n",
       "    </tr>\n",
       "    <tr>\n",
       "      <th>7355810</th>\n",
       "      <td>聖安東尼奧聖經教會現場敬拜讚美精選輯</td>\n",
       "      <td>Sweet Praises</td>\n",
       "    </tr>\n",
       "    <tr>\n",
       "      <th>7355811</th>\n",
       "      <td>聖安東尼奧聖經教會現場敬拜讚美精選輯</td>\n",
       "      <td>Prayer of Jabez</td>\n",
       "    </tr>\n",
       "    <tr>\n",
       "      <th>7356602</th>\n",
       "      <td>五月天 (mayday)</td>\n",
       "      <td>諾亞方舟【2012世界巡迴演唱會「諾亞方舟」主題曲】</td>\n",
       "    </tr>\n",
       "    <tr>\n",
       "      <th>7356941</th>\n",
       "      <td>聖安東尼奧聖經教會現場敬拜讚美精選輯</td>\n",
       "      <td>Com Thou Fount</td>\n",
       "    </tr>\n",
       "    <tr>\n",
       "      <th>7357497</th>\n",
       "      <td>五月天 (mayday)</td>\n",
       "      <td>叫我第一名【五月天諾亞方舟世界巡迴演唱會LIVE版】</td>\n",
       "    </tr>\n",
       "    <tr>\n",
       "      <th>7359188</th>\n",
       "      <td>五月天 (mayday)</td>\n",
       "      <td>諾亞方舟【2012世界巡迴演唱會「諾亞方舟」主題曲】</td>\n",
       "    </tr>\n",
       "    <tr>\n",
       "      <th>7360276</th>\n",
       "      <td>五月天 (mayday)</td>\n",
       "      <td>愛情萬歲【五月天諾亞方舟世界巡迴演唱會LIVE版】</td>\n",
       "    </tr>\n",
       "    <tr>\n",
       "      <th>7362159</th>\n",
       "      <td>孫燕姿 (yanzi sun)</td>\n",
       "      <td>開始懂了(2000台北萬人演唱會) (Realize)</td>\n",
       "    </tr>\n",
       "    <tr>\n",
       "      <th>7362490</th>\n",
       "      <td>五月天 (mayday)</td>\n",
       "      <td>諾亞方舟【2012世界巡迴演唱會「諾亞方舟」主題曲】</td>\n",
       "    </tr>\n",
       "    <tr>\n",
       "      <th>7363072</th>\n",
       "      <td>五月天 (mayday)</td>\n",
       "      <td>諾亞方舟【五月天諾亞方舟世界巡迴演唱會LIVE版】</td>\n",
       "    </tr>\n",
       "    <tr>\n",
       "      <th>7363174</th>\n",
       "      <td>五月天 (mayday)</td>\n",
       "      <td>如煙+如果還有明天  【五月天諾亞方舟世界巡迴演唱會LIVE版】</td>\n",
       "    </tr>\n",
       "    <tr>\n",
       "      <th>7363380</th>\n",
       "      <td>五月天 (mayday)</td>\n",
       "      <td>諾亞方舟【2012世界巡迴演唱會「諾亞方舟」主題曲】</td>\n",
       "    </tr>\n",
       "    <tr>\n",
       "      <th>7363792</th>\n",
       "      <td>五月天 (mayday)</td>\n",
       "      <td>我不願讓你一個人【五月天諾亞方舟世界巡迴演唱會LIVE版】</td>\n",
       "    </tr>\n",
       "    <tr>\n",
       "      <th>7364983</th>\n",
       "      <td>張學友 (jacky cheung)</td>\n",
       "      <td>她來聽我的演唱會</td>\n",
       "    </tr>\n",
       "    <tr>\n",
       "      <th>7366294</th>\n",
       "      <td>勞動服務 (community service)</td>\n",
       "      <td>阮住佇艋舺 (We live in Monga)</td>\n",
       "    </tr>\n",
       "    <tr>\n",
       "      <th>7367140</th>\n",
       "      <td>郭靜 (claire kuo)</td>\n",
       "      <td>放肆一下 (Wild Things) - &lt;Fun 4 一夏&gt;福茂女朋友 演唱會主題歌</td>\n",
       "    </tr>\n",
       "    <tr>\n",
       "      <th>7367682</th>\n",
       "      <td>五月天 (mayday)</td>\n",
       "      <td>如煙+如果還有明天  【五月天諾亞方舟世界巡迴演唱會LIVE版】</td>\n",
       "    </tr>\n",
       "    <tr>\n",
       "      <th>7368515</th>\n",
       "      <td>五月天 (mayday)</td>\n",
       "      <td>諾亞方舟【2012世界巡迴演唱會「諾亞方舟」主題曲】</td>\n",
       "    </tr>\n",
       "    <tr>\n",
       "      <th>7369774</th>\n",
       "      <td>misia</td>\n",
       "      <td>銀河 (2009年【KOSE雪肌精極淬SUPREME】廣告曲 / 【米希亞星空現場V】主題曲...</td>\n",
       "    </tr>\n",
       "    <tr>\n",
       "      <th>7370534</th>\n",
       "      <td>五月天 (mayday)</td>\n",
       "      <td>愛情萬歲【五月天諾亞方舟世界巡迴演唱會LIVE版】</td>\n",
       "    </tr>\n",
       "    <tr>\n",
       "      <th>7370793</th>\n",
       "      <td>五月天 (mayday)</td>\n",
       "      <td>諾亞方舟【2012世界巡迴演唱會「諾亞方舟」主題曲】</td>\n",
       "    </tr>\n",
       "    <tr>\n",
       "      <th>7374251</th>\n",
       "      <td>五月天 (mayday)</td>\n",
       "      <td>諾亞方舟【2012世界巡迴演唱會「諾亞方舟」主題曲】</td>\n",
       "    </tr>\n",
       "  </tbody>\n",
       "</table>\n",
       "<p>9003 rows × 2 columns</p>\n",
       "</div>"
      ],
      "text/plain": [
       "                      artist_name  \\\n",
       "2380                 五月天 (mayday)   \n",
       "8137              郭靜 (claire kuo)   \n",
       "10058                五月天 (mayday)   \n",
       "10204                五月天 (mayday)   \n",
       "11520                五月天 (mayday)   \n",
       "13553         張國榮 (leslie cheung)   \n",
       "16676                五月天 (mayday)   \n",
       "16681                五月天 (mayday)   \n",
       "23907                五月天 (mayday)   \n",
       "28772                五月天 (mayday)   \n",
       "30012            grey's anatomy 2   \n",
       "30030          張學友 (jacky cheung)   \n",
       "31485                五月天 (mayday)   \n",
       "34018                五月天 (mayday)   \n",
       "35208          張學友 (jacky cheung)   \n",
       "36616                五月天 (mayday)   \n",
       "36617                五月天 (mayday)   \n",
       "36618                五月天 (mayday)   \n",
       "36619                五月天 (mayday)   \n",
       "36620                五月天 (mayday)   \n",
       "37025               hillsong live   \n",
       "37027               hillsong live   \n",
       "37028               hillsong live   \n",
       "37824                五月天 (mayday)   \n",
       "39229                  何韻詩 (hocc)   \n",
       "39381                五月天 (mayday)   \n",
       "39382                五月天 (mayday)   \n",
       "39383                五月天 (mayday)   \n",
       "39879               hillsong live   \n",
       "39880               hillsong live   \n",
       "...                           ...   \n",
       "7349658              五月天 (mayday)   \n",
       "7350316              五月天 (mayday)   \n",
       "7350639              五月天 (mayday)   \n",
       "7352091  romeo & juliette-en live   \n",
       "7354386        聖安東尼奧聖經教會現場敬拜讚美精選輯   \n",
       "7354389        聖安東尼奧聖經教會現場敬拜讚美精選輯   \n",
       "7355150              五月天 (mayday)   \n",
       "7355512        張學友 (jacky cheung)   \n",
       "7355810        聖安東尼奧聖經教會現場敬拜讚美精選輯   \n",
       "7355811        聖安東尼奧聖經教會現場敬拜讚美精選輯   \n",
       "7356602              五月天 (mayday)   \n",
       "7356941        聖安東尼奧聖經教會現場敬拜讚美精選輯   \n",
       "7357497              五月天 (mayday)   \n",
       "7359188              五月天 (mayday)   \n",
       "7360276              五月天 (mayday)   \n",
       "7362159           孫燕姿 (yanzi sun)   \n",
       "7362490              五月天 (mayday)   \n",
       "7363072              五月天 (mayday)   \n",
       "7363174              五月天 (mayday)   \n",
       "7363380              五月天 (mayday)   \n",
       "7363792              五月天 (mayday)   \n",
       "7364983        張學友 (jacky cheung)   \n",
       "7366294  勞動服務 (community service)   \n",
       "7367140           郭靜 (claire kuo)   \n",
       "7367682              五月天 (mayday)   \n",
       "7368515              五月天 (mayday)   \n",
       "7369774                     misia   \n",
       "7370534              五月天 (mayday)   \n",
       "7370793              五月天 (mayday)   \n",
       "7374251              五月天 (mayday)   \n",
       "\n",
       "                                                 song_name  \n",
       "2380                            諾亞方舟【2012世界巡迴演唱會「諾亞方舟」主題曲】  \n",
       "8137           放肆一下 (Wild Things) - <Fun 4 一夏>福茂女朋友 演唱會主題歌  \n",
       "10058                           諾亞方舟【2012世界巡迴演唱會「諾亞方舟」主題曲】  \n",
       "10204                     如煙+如果還有明天  【五月天諾亞方舟世界巡迴演唱會LIVE版】  \n",
       "11520                           諾亞方舟【2012世界巡迴演唱會「諾亞方舟」主題曲】  \n",
       "13553                                        我(熱情演唱會壓軸主題曲)  \n",
       "16676                            愛情萬歲【五月天諾亞方舟世界巡迴演唱會LIVE版】  \n",
       "16681                            2012【五月天諾亞方舟世界巡迴演唱會LIVE版】  \n",
       "23907                           諾亞方舟【2012世界巡迴演唱會「諾亞方舟」主題曲】  \n",
       "28772                           諾亞方舟【2012世界巡迴演唱會「諾亞方舟」主題曲】  \n",
       "30012    Chasing Cars(Album Version) (Snow Patrol (prev...  \n",
       "30030                                             她來聽我的演唱會  \n",
       "31485                            愛情萬歲【五月天諾亞方舟世界巡迴演唱會LIVE版】  \n",
       "34018                           諾亞方舟【2012世界巡迴演唱會「諾亞方舟」主題曲】  \n",
       "35208                                             她來聽我的演唱會  \n",
       "36616                              乾杯【五月天諾亞方舟世界巡迴演唱會LIVE版】  \n",
       "36617                            第二人生【五月天諾亞方舟世界巡迴演唱會LIVE版】  \n",
       "36618                     如煙+如果還有明天  【五月天諾亞方舟世界巡迴演唱會LIVE版】  \n",
       "36619                            瘋狂世界【五月天諾亞方舟世界巡迴演唱會LIVE版】  \n",
       "36620                              擁抱【五月天諾亞方舟世界巡迴演唱會LIVE版】  \n",
       "37025                                      With Everything  \n",
       "37027                              It Is Well With My Soul  \n",
       "37028                                          Cornerstone  \n",
       "37824                           諾亞方舟【2012世界巡迴演唱會「諾亞方舟」主題曲】  \n",
       "39229                                   無與倫比的美麗 (台北大河岸現場)   \n",
       "39381                             OK啦【五月天諾亞方舟世界巡迴演唱會LIVE版】  \n",
       "39382                              溫柔【五月天諾亞方舟世界巡迴演唱會LIVE版】  \n",
       "39383                            三個傻瓜【五月天諾亞方舟世界巡迴演唱會LIVE版】  \n",
       "39879                                                  You  \n",
       "39880                                     Rhythms Of Grace  \n",
       "...                                                    ...  \n",
       "7349658                         諾亞方舟【2012世界巡迴演唱會「諾亞方舟」主題曲】  \n",
       "7350316                            溫柔【五月天諾亞方舟世界巡迴演唱會LIVE版】  \n",
       "7350639                   如煙+如果還有明天  【五月天諾亞方舟世界巡迴演唱會LIVE版】  \n",
       "7352091                                              Aimer  \n",
       "7354386                                         The Reason  \n",
       "7354389                                            Rejoice  \n",
       "7355150                   如煙+如果還有明天  【五月天諾亞方舟世界巡迴演唱會LIVE版】  \n",
       "7355512                                           她來聽我的演唱會  \n",
       "7355810                                      Sweet Praises  \n",
       "7355811                                    Prayer of Jabez  \n",
       "7356602                         諾亞方舟【2012世界巡迴演唱會「諾亞方舟」主題曲】  \n",
       "7356941                                     Com Thou Fount  \n",
       "7357497                         叫我第一名【五月天諾亞方舟世界巡迴演唱會LIVE版】  \n",
       "7359188                         諾亞方舟【2012世界巡迴演唱會「諾亞方舟」主題曲】  \n",
       "7360276                          愛情萬歲【五月天諾亞方舟世界巡迴演唱會LIVE版】  \n",
       "7362159                        開始懂了(2000台北萬人演唱會) (Realize)  \n",
       "7362490                         諾亞方舟【2012世界巡迴演唱會「諾亞方舟」主題曲】  \n",
       "7363072                          諾亞方舟【五月天諾亞方舟世界巡迴演唱會LIVE版】  \n",
       "7363174                   如煙+如果還有明天  【五月天諾亞方舟世界巡迴演唱會LIVE版】  \n",
       "7363380                         諾亞方舟【2012世界巡迴演唱會「諾亞方舟」主題曲】  \n",
       "7363792                      我不願讓你一個人【五月天諾亞方舟世界巡迴演唱會LIVE版】  \n",
       "7364983                                           她來聽我的演唱會  \n",
       "7366294                           阮住佇艋舺 (We live in Monga)  \n",
       "7367140        放肆一下 (Wild Things) - <Fun 4 一夏>福茂女朋友 演唱會主題歌  \n",
       "7367682                   如煙+如果還有明天  【五月天諾亞方舟世界巡迴演唱會LIVE版】  \n",
       "7368515                         諾亞方舟【2012世界巡迴演唱會「諾亞方舟」主題曲】  \n",
       "7369774  銀河 (2009年【KOSE雪肌精極淬SUPREME】廣告曲 / 【米希亞星空現場V】主題曲...  \n",
       "7370534                          愛情萬歲【五月天諾亞方舟世界巡迴演唱會LIVE版】  \n",
       "7370793                         諾亞方舟【2012世界巡迴演唱會「諾亞方舟」主題曲】  \n",
       "7374251                         諾亞方舟【2012世界巡迴演唱會「諾亞方舟」主題曲】  \n",
       "\n",
       "[9003 rows x 2 columns]"
      ]
     },
     "execution_count": 69,
     "metadata": {},
     "output_type": "execute_result"
    }
   ],
   "source": [
    "# Look at artist names that contains 'live'\n",
    "check_live=train_2.loc[train_2['is_live'] == 1]\n",
    "check_live[['artist_name', 'song_name']]"
   ]
  },
  {
   "cell_type": "code",
   "execution_count": 70,
   "metadata": {
    "collapsed": true
   },
   "outputs": [],
   "source": [
    "def is_acoustic(x):\n",
    "    acoustic_keywords=['acoustic', '原声', '原聲']\n",
    "    # some sings name start with 'live'\n",
    "    if any(s in str(x) for s in acoustic_keywords):\n",
    "        return 1\n",
    "    return 0"
   ]
  },
  {
   "cell_type": "code",
   "execution_count": 71,
   "metadata": {
    "collapsed": true
   },
   "outputs": [],
   "source": [
    "train_2['is_acoustic_artist']=train_2['artist_name'].apply(is_acoustic).astype(np.int8)\n",
    "test_2['is_acoustic_artist']=test_2['artist_name'].apply(is_acoustic).astype(np.int8)\n",
    "\n",
    "train_2['is_acoustic_song']=train_2['song_name'].apply(is_acoustic).astype(np.int8)\n",
    "test_2['is_acoustic_song']=test_2['song_name'].apply(is_acoustic).astype(np.int8)\n",
    "\n",
    "train_2['is_acoustic'] = train_2['is_acoustic_artist'] | train_2['is_acoustic_song']\n",
    "test_2['is_acoustic'] = test_2['is_acoustic_artist'] | test_2['is_acoustic_song']"
   ]
  },
  {
   "cell_type": "code",
   "execution_count": 72,
   "metadata": {
    "collapsed": true
   },
   "outputs": [],
   "source": [
    "# Drop live check for separate song_name and artist_name\n",
    "train_2.drop(['is_acoustic_artist', 'is_acoustic_song'], axis=1, inplace=True)\n",
    "test_2.drop(['is_acoustic_artist', 'is_acoustic_song'], axis=1, inplace=True)"
   ]
  },
  {
   "cell_type": "code",
   "execution_count": 73,
   "metadata": {
    "collapsed": false,
    "scrolled": true
   },
   "outputs": [
    {
     "data": {
      "text/html": [
       "<div>\n",
       "<style scoped>\n",
       "    .dataframe tbody tr th:only-of-type {\n",
       "        vertical-align: middle;\n",
       "    }\n",
       "\n",
       "    .dataframe tbody tr th {\n",
       "        vertical-align: top;\n",
       "    }\n",
       "\n",
       "    .dataframe thead th {\n",
       "        text-align: right;\n",
       "    }\n",
       "</style>\n",
       "<table border=\"1\" class=\"dataframe\">\n",
       "  <thead>\n",
       "    <tr style=\"text-align: right;\">\n",
       "      <th></th>\n",
       "      <th>artist_name</th>\n",
       "      <th>song_name</th>\n",
       "    </tr>\n",
       "  </thead>\n",
       "  <tbody>\n",
       "    <tr>\n",
       "      <th>103</th>\n",
       "      <td>相愛穿梭千年 電視原聲帶</td>\n",
       "      <td>相愛不能見</td>\n",
       "    </tr>\n",
       "    <tr>\n",
       "      <th>112</th>\n",
       "      <td>16個夏天 電視原聲帶</td>\n",
       "      <td>浪漫來襲 (Romance Strikes)</td>\n",
       "    </tr>\n",
       "    <tr>\n",
       "      <th>144</th>\n",
       "      <td>生日快樂電影原聲帶</td>\n",
       "      <td>I MISS YOU</td>\n",
       "    </tr>\n",
       "    <tr>\n",
       "      <th>146</th>\n",
       "      <td>生日快樂電影原聲帶</td>\n",
       "      <td>生日快樂</td>\n",
       "    </tr>\n",
       "    <tr>\n",
       "      <th>149</th>\n",
       "      <td>生日快樂電影原聲帶</td>\n",
       "      <td>回憶</td>\n",
       "    </tr>\n",
       "    <tr>\n",
       "      <th>213</th>\n",
       "      <td>16個夏天 電視原聲帶</td>\n",
       "      <td>公轉自轉 (Gong Zhuan Zi Zhuan)</td>\n",
       "    </tr>\n",
       "    <tr>\n",
       "      <th>467</th>\n",
       "      <td>沒關係 是愛情啊  電視原聲帶 volume 1</td>\n",
       "      <td>最佳的幸運 (Sung by CHEN(EXO))</td>\n",
       "    </tr>\n",
       "    <tr>\n",
       "      <th>606</th>\n",
       "      <td>16個夏天 電視原聲帶</td>\n",
       "      <td>以後別做朋友 (Yi Hou Bie Zuo Peng You)</td>\n",
       "    </tr>\n",
       "    <tr>\n",
       "      <th>662</th>\n",
       "      <td>22k夢想高飛 電視原聲帶</td>\n",
       "      <td>藏不住</td>\n",
       "    </tr>\n",
       "    <tr>\n",
       "      <th>855</th>\n",
       "      <td>我的祕密飯店 電視原聲帶</td>\n",
       "      <td>Secret Killer (Inst.) - Studio Musicians</td>\n",
       "    </tr>\n",
       "    <tr>\n",
       "      <th>856</th>\n",
       "      <td>我的祕密飯店 電視原聲帶</td>\n",
       "      <td>Is It Love? - Go| Young Jun (Brown Eyed Soul)</td>\n",
       "    </tr>\n",
       "    <tr>\n",
       "      <th>857</th>\n",
       "      <td>我的祕密飯店 電視原聲帶</td>\n",
       "      <td>Secret (Inst.) - Studio Musicians - feat.Young...</td>\n",
       "    </tr>\n",
       "    <tr>\n",
       "      <th>860</th>\n",
       "      <td>我的祕密飯店 電視原聲帶</td>\n",
       "      <td>Propose - Im| Jik Won Il Dong - feat.President</td>\n",
       "    </tr>\n",
       "    <tr>\n",
       "      <th>1165</th>\n",
       "      <td>聽見幸福 電視劇原聲帶</td>\n",
       "      <td>空</td>\n",
       "    </tr>\n",
       "    <tr>\n",
       "      <th>1224</th>\n",
       "      <td>[逆轉勝] 五月天∕怪獸 原聲原創紀 ([second chance] soundtrack...</td>\n",
       "      <td>九號球</td>\n",
       "    </tr>\n",
       "    <tr>\n",
       "      <th>1229</th>\n",
       "      <td>原來是美男 電視原聲帶</td>\n",
       "      <td>好不好</td>\n",
       "    </tr>\n",
       "    <tr>\n",
       "      <th>1251</th>\n",
       "      <td>霹靂布袋戲劇集原聲帶</td>\n",
       "      <td>浪逐千秋峰</td>\n",
       "    </tr>\n",
       "    <tr>\n",
       "      <th>1252</th>\n",
       "      <td>霹靂布袋戲劇集原聲帶</td>\n",
       "      <td>墨痕八舞</td>\n",
       "    </tr>\n",
       "    <tr>\n",
       "      <th>1386</th>\n",
       "      <td>16個夏天 電視原聲帶</td>\n",
       "      <td>以後別做朋友 (Yi Hou Bie Zuo Peng You)</td>\n",
       "    </tr>\n",
       "    <tr>\n",
       "      <th>1668</th>\n",
       "      <td>皮諾丘 電視原聲帶</td>\n",
       "      <td>Pinocchio - ROY KIM</td>\n",
       "    </tr>\n",
       "    <tr>\n",
       "      <th>1669</th>\n",
       "      <td>沒關係 是愛情啊  電視原聲帶 volume 1</td>\n",
       "      <td>無法入睡的夜 (Sung by CRUSH feat. Punch)</td>\n",
       "    </tr>\n",
       "    <tr>\n",
       "      <th>1707</th>\n",
       "      <td>練習曲電影原聲帶</td>\n",
       "      <td>太平洋的風</td>\n",
       "    </tr>\n",
       "    <tr>\n",
       "      <th>1708</th>\n",
       "      <td>練習曲電影原聲帶</td>\n",
       "      <td>莎韻之鐘</td>\n",
       "    </tr>\n",
       "    <tr>\n",
       "      <th>1725</th>\n",
       "      <td>[逆轉勝] 五月天∕怪獸 原聲原創紀 ([second chance] soundtrack...</td>\n",
       "      <td>笑忘歌【電影[逆轉勝] 溫尚翊自選】(五月天)</td>\n",
       "    </tr>\n",
       "    <tr>\n",
       "      <th>1867</th>\n",
       "      <td>那些年，我們一起追的女孩 電影原聲帶</td>\n",
       "      <td>那些年</td>\n",
       "    </tr>\n",
       "    <tr>\n",
       "      <th>1876</th>\n",
       "      <td>莫非，這就是愛情 原聲帶</td>\n",
       "      <td>你的愛是什麼形狀</td>\n",
       "    </tr>\n",
       "    <tr>\n",
       "      <th>1910</th>\n",
       "      <td>16個夏天 電視原聲帶</td>\n",
       "      <td>以後別做朋友 (Yi Hou Bie Zuo Peng You)</td>\n",
       "    </tr>\n",
       "    <tr>\n",
       "      <th>1971</th>\n",
       "      <td>聽見下雨的聲音 電影原聲帶</td>\n",
       "      <td>聽見下雨的聲音 (演唱：魏如昀)</td>\n",
       "    </tr>\n",
       "    <tr>\n",
       "      <th>2083</th>\n",
       "      <td>16個夏天 電視原聲帶</td>\n",
       "      <td>以後別做朋友 (Yi Hou Bie Zuo Peng You)</td>\n",
       "    </tr>\n",
       "    <tr>\n",
       "      <th>2698</th>\n",
       "      <td>命中注定我愛你電視原聲帶</td>\n",
       "      <td>心願便利貼</td>\n",
       "    </tr>\n",
       "    <tr>\n",
       "      <th>...</th>\n",
       "      <td>...</td>\n",
       "      <td>...</td>\n",
       "    </tr>\n",
       "    <tr>\n",
       "      <th>7372256</th>\n",
       "      <td>美味的想念 電視原聲帶</td>\n",
       "      <td>不應該勇敢</td>\n",
       "    </tr>\n",
       "    <tr>\n",
       "      <th>7372413</th>\n",
       "      <td>16個夏天 電視原聲帶</td>\n",
       "      <td>以後別做朋友 (Yi Hou Bie Zuo Peng You)</td>\n",
       "    </tr>\n",
       "    <tr>\n",
       "      <th>7372414</th>\n",
       "      <td>命中注定我愛你電視原聲帶</td>\n",
       "      <td>99 次我愛他</td>\n",
       "    </tr>\n",
       "    <tr>\n",
       "      <th>7372459</th>\n",
       "      <td>沒關係 是愛情啊  電視原聲帶 volume 1</td>\n",
       "      <td>沒關係 是愛情啊 (Sung by DAVICHI)</td>\n",
       "    </tr>\n",
       "    <tr>\n",
       "      <th>7372565</th>\n",
       "      <td>沒關係 是愛情啊  電視原聲帶 volume 1</td>\n",
       "      <td>最佳的幸運 (Sung by CHEN(EXO))</td>\n",
       "    </tr>\n",
       "    <tr>\n",
       "      <th>7372631</th>\n",
       "      <td>霹靂布袋戲劇集原聲帶</td>\n",
       "      <td>人中之龍</td>\n",
       "    </tr>\n",
       "    <tr>\n",
       "      <th>7372791</th>\n",
       "      <td>天國的嫁衣電視原聲帶</td>\n",
       "      <td>花的嫁紗</td>\n",
       "    </tr>\n",
       "    <tr>\n",
       "      <th>7372872</th>\n",
       "      <td>[逆轉勝] 五月天∕怪獸 原聲原創紀 ([second chance] soundtrack...</td>\n",
       "      <td>九號球</td>\n",
       "    </tr>\n",
       "    <tr>\n",
       "      <th>7373243</th>\n",
       "      <td>我的祕密飯店 電視原聲帶</td>\n",
       "      <td>Is It Love? - Go| Young Jun (Brown Eyed Soul)</td>\n",
       "    </tr>\n",
       "    <tr>\n",
       "      <th>7373696</th>\n",
       "      <td>紫禁之巔電視原聲帶</td>\n",
       "      <td>風雲變色</td>\n",
       "    </tr>\n",
       "    <tr>\n",
       "      <th>7373908</th>\n",
       "      <td>『終極x宿舍』電視原聲帶</td>\n",
       "      <td>愛存在</td>\n",
       "    </tr>\n",
       "    <tr>\n",
       "      <th>7373932</th>\n",
       "      <td>來自紅花坂 電影原聲大碟</td>\n",
       "      <td>道別的夏天～來自紅花坂～</td>\n",
       "    </tr>\n",
       "    <tr>\n",
       "      <th>7374028</th>\n",
       "      <td>[逆轉勝] 五月天∕怪獸 原聲原創紀 ([second chance] soundtrack...</td>\n",
       "      <td>九號球</td>\n",
       "    </tr>\n",
       "    <tr>\n",
       "      <th>7374087</th>\n",
       "      <td>聽見下雨的聲音 電影原聲帶</td>\n",
       "      <td>聽見下雨的聲音 (演唱：魏如昀)</td>\n",
       "    </tr>\n",
       "    <tr>\n",
       "      <th>7374175</th>\n",
       "      <td>那些年，我們一起追的女孩 電影原聲帶</td>\n",
       "      <td>人海中遇見你</td>\n",
       "    </tr>\n",
       "    <tr>\n",
       "      <th>7374177</th>\n",
       "      <td>那些年，我們一起追的女孩 電影原聲帶</td>\n",
       "      <td>那些年</td>\n",
       "    </tr>\n",
       "    <tr>\n",
       "      <th>7374406</th>\n",
       "      <td>蘭陵王電視原聲帶</td>\n",
       "      <td>入陣曲</td>\n",
       "    </tr>\n",
       "    <tr>\n",
       "      <th>7374420</th>\n",
       "      <td>蘭陵王電視原聲帶</td>\n",
       "      <td>入陣曲</td>\n",
       "    </tr>\n",
       "    <tr>\n",
       "      <th>7374528</th>\n",
       "      <td>蘭陵王電視原聲帶</td>\n",
       "      <td>入陣曲</td>\n",
       "    </tr>\n",
       "    <tr>\n",
       "      <th>7374570</th>\n",
       "      <td>那些年，我們一起追的女孩 電影原聲帶</td>\n",
       "      <td>那些年</td>\n",
       "    </tr>\n",
       "    <tr>\n",
       "      <th>7374905</th>\n",
       "      <td>下一站，幸福電視原聲帶</td>\n",
       "      <td>突然想愛你</td>\n",
       "    </tr>\n",
       "    <tr>\n",
       "      <th>7375080</th>\n",
       "      <td>我們結婚吧電視原聲帶</td>\n",
       "      <td>我愛你</td>\n",
       "    </tr>\n",
       "    <tr>\n",
       "      <th>7375571</th>\n",
       "      <td>16個夏天 電視原聲帶</td>\n",
       "      <td>我不知道愛是什麼 (Wo Bu Zhi Dao Ai Shi Shen Mo)</td>\n",
       "    </tr>\n",
       "    <tr>\n",
       "      <th>7375600</th>\n",
       "      <td>第一次 電影原聲帶</td>\n",
       "      <td>都要微笑好嗎</td>\n",
       "    </tr>\n",
       "    <tr>\n",
       "      <th>7375835</th>\n",
       "      <td>第一次 電影原聲帶</td>\n",
       "      <td>都要微笑好嗎</td>\n",
       "    </tr>\n",
       "    <tr>\n",
       "      <th>7376009</th>\n",
       "      <td>韓版 命中注定我愛你 電視原聲帶</td>\n",
       "      <td>Joie</td>\n",
       "    </tr>\n",
       "    <tr>\n",
       "      <th>7376555</th>\n",
       "      <td>莫非，這就是愛情 原聲帶</td>\n",
       "      <td>Fly with me</td>\n",
       "    </tr>\n",
       "    <tr>\n",
       "      <th>7376639</th>\n",
       "      <td>16個夏天 電視原聲帶</td>\n",
       "      <td>以後別做朋友 (Yi Hou Bie Zuo Peng You)</td>\n",
       "    </tr>\n",
       "    <tr>\n",
       "      <th>7376948</th>\n",
       "      <td>16個夏天 電視原聲帶</td>\n",
       "      <td>以後別做朋友 (Yi Hou Bie Zuo Peng You)</td>\n",
       "    </tr>\n",
       "    <tr>\n",
       "      <th>7377395</th>\n",
       "      <td>聽見下雨的聲音 電影原聲帶</td>\n",
       "      <td>來愛我啦</td>\n",
       "    </tr>\n",
       "  </tbody>\n",
       "</table>\n",
       "<p>73291 rows × 2 columns</p>\n",
       "</div>"
      ],
      "text/plain": [
       "                                               artist_name  \\\n",
       "103                                           相愛穿梭千年 電視原聲帶   \n",
       "112                                            16個夏天 電視原聲帶   \n",
       "144                                              生日快樂電影原聲帶   \n",
       "146                                              生日快樂電影原聲帶   \n",
       "149                                              生日快樂電影原聲帶   \n",
       "213                                            16個夏天 電視原聲帶   \n",
       "467                               沒關係 是愛情啊  電視原聲帶 volume 1   \n",
       "606                                            16個夏天 電視原聲帶   \n",
       "662                                          22k夢想高飛 電視原聲帶   \n",
       "855                                           我的祕密飯店 電視原聲帶   \n",
       "856                                           我的祕密飯店 電視原聲帶   \n",
       "857                                           我的祕密飯店 電視原聲帶   \n",
       "860                                           我的祕密飯店 電視原聲帶   \n",
       "1165                                           聽見幸福 電視劇原聲帶   \n",
       "1224     [逆轉勝] 五月天∕怪獸 原聲原創紀 ([second chance] soundtrack...   \n",
       "1229                                           原來是美男 電視原聲帶   \n",
       "1251                                            霹靂布袋戲劇集原聲帶   \n",
       "1252                                            霹靂布袋戲劇集原聲帶   \n",
       "1386                                           16個夏天 電視原聲帶   \n",
       "1668                                             皮諾丘 電視原聲帶   \n",
       "1669                              沒關係 是愛情啊  電視原聲帶 volume 1   \n",
       "1707                                              練習曲電影原聲帶   \n",
       "1708                                              練習曲電影原聲帶   \n",
       "1725     [逆轉勝] 五月天∕怪獸 原聲原創紀 ([second chance] soundtrack...   \n",
       "1867                                    那些年，我們一起追的女孩 電影原聲帶   \n",
       "1876                                          莫非，這就是愛情 原聲帶   \n",
       "1910                                           16個夏天 電視原聲帶   \n",
       "1971                                         聽見下雨的聲音 電影原聲帶   \n",
       "2083                                           16個夏天 電視原聲帶   \n",
       "2698                                          命中注定我愛你電視原聲帶   \n",
       "...                                                    ...   \n",
       "7372256                                        美味的想念 電視原聲帶   \n",
       "7372413                                        16個夏天 電視原聲帶   \n",
       "7372414                                       命中注定我愛你電視原聲帶   \n",
       "7372459                           沒關係 是愛情啊  電視原聲帶 volume 1   \n",
       "7372565                           沒關係 是愛情啊  電視原聲帶 volume 1   \n",
       "7372631                                         霹靂布袋戲劇集原聲帶   \n",
       "7372791                                         天國的嫁衣電視原聲帶   \n",
       "7372872  [逆轉勝] 五月天∕怪獸 原聲原創紀 ([second chance] soundtrack...   \n",
       "7373243                                       我的祕密飯店 電視原聲帶   \n",
       "7373696                                          紫禁之巔電視原聲帶   \n",
       "7373908                                       『終極x宿舍』電視原聲帶   \n",
       "7373932                                       來自紅花坂 電影原聲大碟   \n",
       "7374028  [逆轉勝] 五月天∕怪獸 原聲原創紀 ([second chance] soundtrack...   \n",
       "7374087                                      聽見下雨的聲音 電影原聲帶   \n",
       "7374175                                 那些年，我們一起追的女孩 電影原聲帶   \n",
       "7374177                                 那些年，我們一起追的女孩 電影原聲帶   \n",
       "7374406                                           蘭陵王電視原聲帶   \n",
       "7374420                                           蘭陵王電視原聲帶   \n",
       "7374528                                           蘭陵王電視原聲帶   \n",
       "7374570                                 那些年，我們一起追的女孩 電影原聲帶   \n",
       "7374905                                        下一站，幸福電視原聲帶   \n",
       "7375080                                         我們結婚吧電視原聲帶   \n",
       "7375571                                        16個夏天 電視原聲帶   \n",
       "7375600                                          第一次 電影原聲帶   \n",
       "7375835                                          第一次 電影原聲帶   \n",
       "7376009                                   韓版 命中注定我愛你 電視原聲帶   \n",
       "7376555                                       莫非，這就是愛情 原聲帶   \n",
       "7376639                                        16個夏天 電視原聲帶   \n",
       "7376948                                        16個夏天 電視原聲帶   \n",
       "7377395                                      聽見下雨的聲音 電影原聲帶   \n",
       "\n",
       "                                                 song_name  \n",
       "103                                                  相愛不能見  \n",
       "112                                 浪漫來襲 (Romance Strikes)  \n",
       "144                                             I MISS YOU  \n",
       "146                                                   生日快樂  \n",
       "149                                                     回憶  \n",
       "213                             公轉自轉 (Gong Zhuan Zi Zhuan)  \n",
       "467                              最佳的幸運 (Sung by CHEN(EXO))  \n",
       "606                       以後別做朋友 (Yi Hou Bie Zuo Peng You)  \n",
       "662                                                    藏不住  \n",
       "855               Secret Killer (Inst.) - Studio Musicians  \n",
       "856          Is It Love? - Go| Young Jun (Brown Eyed Soul)  \n",
       "857      Secret (Inst.) - Studio Musicians - feat.Young...  \n",
       "860         Propose - Im| Jik Won Il Dong - feat.President  \n",
       "1165                                                     空  \n",
       "1224                                                   九號球  \n",
       "1229                                                   好不好  \n",
       "1251                                                 浪逐千秋峰  \n",
       "1252                                                  墨痕八舞  \n",
       "1386                      以後別做朋友 (Yi Hou Bie Zuo Peng You)  \n",
       "1668                                   Pinocchio - ROY KIM  \n",
       "1669                    無法入睡的夜 (Sung by CRUSH feat. Punch)  \n",
       "1707                                                 太平洋的風  \n",
       "1708                                                  莎韻之鐘  \n",
       "1725                               笑忘歌【電影[逆轉勝] 溫尚翊自選】(五月天)  \n",
       "1867                                                   那些年  \n",
       "1876                                              你的愛是什麼形狀  \n",
       "1910                      以後別做朋友 (Yi Hou Bie Zuo Peng You)  \n",
       "1971                                      聽見下雨的聲音 (演唱：魏如昀)  \n",
       "2083                      以後別做朋友 (Yi Hou Bie Zuo Peng You)  \n",
       "2698                                                 心願便利貼  \n",
       "...                                                    ...  \n",
       "7372256                                              不應該勇敢  \n",
       "7372413                   以後別做朋友 (Yi Hou Bie Zuo Peng You)  \n",
       "7372414                                            99 次我愛他  \n",
       "7372459                         沒關係 是愛情啊 (Sung by DAVICHI)  \n",
       "7372565                          最佳的幸運 (Sung by CHEN(EXO))  \n",
       "7372631                                               人中之龍  \n",
       "7372791                                               花的嫁紗  \n",
       "7372872                                                九號球  \n",
       "7373243      Is It Love? - Go| Young Jun (Brown Eyed Soul)  \n",
       "7373696                                               風雲變色  \n",
       "7373908                                                愛存在  \n",
       "7373932                                       道別的夏天～來自紅花坂～  \n",
       "7374028                                                九號球  \n",
       "7374087                                   聽見下雨的聲音 (演唱：魏如昀)  \n",
       "7374175                                             人海中遇見你  \n",
       "7374177                                                那些年  \n",
       "7374406                                                入陣曲  \n",
       "7374420                                                入陣曲  \n",
       "7374528                                                入陣曲  \n",
       "7374570                                                那些年  \n",
       "7374905                                              突然想愛你  \n",
       "7375080                                                我愛你  \n",
       "7375571            我不知道愛是什麼 (Wo Bu Zhi Dao Ai Shi Shen Mo)  \n",
       "7375600                                             都要微笑好嗎  \n",
       "7375835                                             都要微笑好嗎  \n",
       "7376009                                               Joie  \n",
       "7376555                                        Fly with me  \n",
       "7376639                   以後別做朋友 (Yi Hou Bie Zuo Peng You)  \n",
       "7376948                   以後別做朋友 (Yi Hou Bie Zuo Peng You)  \n",
       "7377395                                               來愛我啦  \n",
       "\n",
       "[73291 rows x 2 columns]"
      ]
     },
     "execution_count": 73,
     "metadata": {},
     "output_type": "execute_result"
    }
   ],
   "source": [
    "# Look at artist names that contains 'remix'\n",
    "check_acoustic=train_2.loc[train_2['is_acoustic'] == 1]\n",
    "check_acoustic[['artist_name', 'song_name']]"
   ]
  },
  {
   "cell_type": "code",
   "execution_count": 74,
   "metadata": {
    "collapsed": true
   },
   "outputs": [],
   "source": [
    "def is_instrumental(x):\n",
    "    intru_keywords=['instrumental', 'インスト', '配樂', '配乐', '伴奏']\n",
    "    # some sings name start with 'live'\n",
    "    if any(s in str(x) for s in intru_keywords):\n",
    "        return 1\n",
    "    return 0"
   ]
  },
  {
   "cell_type": "code",
   "execution_count": 75,
   "metadata": {
    "collapsed": true
   },
   "outputs": [],
   "source": [
    "train_2['is_instrumental_artist']=train_2['artist_name'].apply(is_instrumental).astype(np.int8)\n",
    "test_2['is_instrumental_artist']=test_2['artist_name'].apply(is_instrumental).astype(np.int8)\n",
    "\n",
    "train_2['is_instrumental_song']=train_2['song_name'].apply(is_instrumental).astype(np.int8)\n",
    "test_2['is_instrumental_song']=test_2['song_name'].apply(is_instrumental).astype(np.int8)\n",
    "\n",
    "train_2['is_instrumental'] = train_2['is_instrumental_artist'] | train_2['is_instrumental_song']\n",
    "test_2['is_instrumental'] = test_2['is_instrumental_artist'] | test_2['is_instrumental_song']"
   ]
  },
  {
   "cell_type": "code",
   "execution_count": 76,
   "metadata": {
    "collapsed": true
   },
   "outputs": [],
   "source": [
    "# Drop instrumental check for separate song_name and artist_name\n",
    "train_2.drop(['is_instrumental_artist', 'is_instrumental_song'], axis=1, inplace=True)\n",
    "test_2.drop(['is_instrumental_artist', 'is_instrumental_song'], axis=1, inplace=True)"
   ]
  },
  {
   "cell_type": "code",
   "execution_count": 77,
   "metadata": {
    "collapsed": false,
    "scrolled": true
   },
   "outputs": [
    {
     "data": {
      "text/html": [
       "<div>\n",
       "<style scoped>\n",
       "    .dataframe tbody tr th:only-of-type {\n",
       "        vertical-align: middle;\n",
       "    }\n",
       "\n",
       "    .dataframe tbody tr th {\n",
       "        vertical-align: top;\n",
       "    }\n",
       "\n",
       "    .dataframe thead th {\n",
       "        text-align: right;\n",
       "    }\n",
       "</style>\n",
       "<table border=\"1\" class=\"dataframe\">\n",
       "  <thead>\n",
       "    <tr style=\"text-align: right;\">\n",
       "      <th></th>\n",
       "      <th>artist_name</th>\n",
       "      <th>song_name</th>\n",
       "    </tr>\n",
       "  </thead>\n",
       "  <tbody>\n",
       "    <tr>\n",
       "      <th>22075</th>\n",
       "      <td>piano music for christmas &amp; instrumental chris...</td>\n",
       "      <td>On a December Night - Violin and Piano Xmas Carol</td>\n",
       "    </tr>\n",
       "    <tr>\n",
       "      <th>22076</th>\n",
       "      <td>piano music for christmas &amp; instrumental chris...</td>\n",
       "      <td>Merry Christmas - Solo Piano Music</td>\n",
       "    </tr>\n",
       "    <tr>\n",
       "      <th>22077</th>\n",
       "      <td>piano music for christmas &amp; instrumental chris...</td>\n",
       "      <td>The Gift of Christmas</td>\n",
       "    </tr>\n",
       "    <tr>\n",
       "      <th>24964</th>\n",
       "      <td>黃慧音</td>\n",
       "      <td>藥師灌頂真言(梵音唱誦-鋼琴伴奏版)</td>\n",
       "    </tr>\n",
       "    <tr>\n",
       "      <th>40183</th>\n",
       "      <td>various artists</td>\n",
       "      <td>Love Is… (輕快漫畫配樂版) (金嘆與恩尚的心動之歌)</td>\n",
       "    </tr>\n",
       "    <tr>\n",
       "      <th>41854</th>\n",
       "      <td>the art of instrumental</td>\n",
       "      <td>Concerto A Cinque: I. Allegro moderato</td>\n",
       "    </tr>\n",
       "    <tr>\n",
       "      <th>46749</th>\n",
       "      <td>the art of instrumental</td>\n",
       "      <td>Sinfonie D-Dur: III. Presto</td>\n",
       "    </tr>\n",
       "    <tr>\n",
       "      <th>46750</th>\n",
       "      <td>the art of instrumental</td>\n",
       "      <td>Sarabande: 2. Satz</td>\n",
       "    </tr>\n",
       "    <tr>\n",
       "      <th>50677</th>\n",
       "      <td>[逆轉勝] 五月天∕怪獸 原聲原創紀 ([second chance] soundtrack...</td>\n",
       "      <td>光榮 【電影[逆轉勝]配樂】</td>\n",
       "    </tr>\n",
       "    <tr>\n",
       "      <th>53031</th>\n",
       "      <td>ジブリサウンドトラック</td>\n",
       "      <td>風のとおり道 (インストゥルメンタル)</td>\n",
       "    </tr>\n",
       "    <tr>\n",
       "      <th>53760</th>\n",
       "      <td>ryo(supercell) feat. hatsune miku (ryo(superce...</td>\n",
       "      <td>Yellow (instrumental)</td>\n",
       "    </tr>\n",
       "    <tr>\n",
       "      <th>56353</th>\n",
       "      <td>18禁不禁影音全記錄</td>\n",
       "      <td>SHA LA LA配樂</td>\n",
       "    </tr>\n",
       "    <tr>\n",
       "      <th>59360</th>\n",
       "      <td>ジブリサウンドトラック</td>\n",
       "      <td>風のとおり道 (インストゥルメンタル)</td>\n",
       "    </tr>\n",
       "    <tr>\n",
       "      <th>62431</th>\n",
       "      <td>[逆轉勝] 五月天∕怪獸 原聲原創紀 ([second chance] soundtrack...</td>\n",
       "      <td>十年不晚【電影[逆轉勝]配樂】</td>\n",
       "    </tr>\n",
       "    <tr>\n",
       "      <th>62641</th>\n",
       "      <td>yo-yo ma</td>\n",
       "      <td>Bach: Prelude from Cello Suite No. 1 in G Majo...</td>\n",
       "    </tr>\n",
       "    <tr>\n",
       "      <th>79827</th>\n",
       "      <td>instrumental</td>\n",
       "      <td>Hand in Hand</td>\n",
       "    </tr>\n",
       "    <tr>\n",
       "      <th>82941</th>\n",
       "      <td>various artists</td>\n",
       "      <td>Love Is… (輕快漫畫配樂版) (金嘆與恩尚的心動之歌)</td>\n",
       "    </tr>\n",
       "    <tr>\n",
       "      <th>108134</th>\n",
       "      <td>the art of instrumental</td>\n",
       "      <td>Concerto A Cinque mit Violin-Solo| C-Dur: II. ...</td>\n",
       "    </tr>\n",
       "    <tr>\n",
       "      <th>113938</th>\n",
       "      <td>yo-yo ma</td>\n",
       "      <td>Bach: Prelude from Cello Suite No. 1 in G Majo...</td>\n",
       "    </tr>\n",
       "    <tr>\n",
       "      <th>116331</th>\n",
       "      <td>ジブリサウンドトラック</td>\n",
       "      <td>風のとおり道 (インストゥルメンタル)</td>\n",
       "    </tr>\n",
       "    <tr>\n",
       "      <th>149601</th>\n",
       "      <td>ジブリサウンドトラック</td>\n",
       "      <td>風のとおり道 (インストゥルメンタル)</td>\n",
       "    </tr>\n",
       "    <tr>\n",
       "      <th>150730</th>\n",
       "      <td>david garrett</td>\n",
       "      <td>Misirlou (希臘名曲．電影「黑色追緝令」主題配樂)</td>\n",
       "    </tr>\n",
       "    <tr>\n",
       "      <th>158792</th>\n",
       "      <td>蘭陵王電視原聲帶</td>\n",
       "      <td>一寸光陰一寸心（OT：手掌心）【中視古裝大戲「蘭陵王」配樂】</td>\n",
       "    </tr>\n",
       "    <tr>\n",
       "      <th>174091</th>\n",
       "      <td>be still &amp; know - instrumental songs of faith</td>\n",
       "      <td>Baby Baby</td>\n",
       "    </tr>\n",
       "    <tr>\n",
       "      <th>176144</th>\n",
       "      <td>yo-yo ma</td>\n",
       "      <td>Bach: Prelude from Cello Suite No. 1 in G Majo...</td>\n",
       "    </tr>\n",
       "    <tr>\n",
       "      <th>185257</th>\n",
       "      <td>ジブリサウンドトラック</td>\n",
       "      <td>風のとおり道 (インストゥルメンタル)</td>\n",
       "    </tr>\n",
       "    <tr>\n",
       "      <th>186858</th>\n",
       "      <td>星專輯之only chow (周星馳電影配樂大全)</td>\n",
       "      <td>五黑寶-影片：大話西遊</td>\n",
       "    </tr>\n",
       "    <tr>\n",
       "      <th>189594</th>\n",
       "      <td>the art of instrumental</td>\n",
       "      <td>Concerto A Cinque: I. Allegro moderato</td>\n",
       "    </tr>\n",
       "    <tr>\n",
       "      <th>193955</th>\n",
       "      <td>蘭陵王電視原聲帶</td>\n",
       "      <td>一寸光陰一寸心（OT：手掌心）【中視古裝大戲「蘭陵王」配樂】</td>\n",
       "    </tr>\n",
       "    <tr>\n",
       "      <th>194604</th>\n",
       "      <td>the art of instrumental</td>\n",
       "      <td>Sinfonie D-Dur: III. Presto</td>\n",
       "    </tr>\n",
       "    <tr>\n",
       "      <th>...</th>\n",
       "      <td>...</td>\n",
       "      <td>...</td>\n",
       "    </tr>\n",
       "    <tr>\n",
       "      <th>7220708</th>\n",
       "      <td>[逆轉勝] 五月天∕怪獸 原聲原創紀 ([second chance] soundtrack...</td>\n",
       "      <td>冠軍撞球館【電影[逆轉勝]配樂】</td>\n",
       "    </tr>\n",
       "    <tr>\n",
       "      <th>7224508</th>\n",
       "      <td>黃慧音</td>\n",
       "      <td>藥師灌頂真言(梵音唱誦-鋼琴伴奏版)</td>\n",
       "    </tr>\n",
       "    <tr>\n",
       "      <th>7228333</th>\n",
       "      <td>yo-yo ma</td>\n",
       "      <td>Bach: Prelude from Cello Suite No. 1 in G Majo...</td>\n",
       "    </tr>\n",
       "    <tr>\n",
       "      <th>7230567</th>\n",
       "      <td>蘭陵王電視原聲帶</td>\n",
       "      <td>天人可見|不違天意（OT：命運）【中視古裝大戲「蘭陵王」配樂】</td>\n",
       "    </tr>\n",
       "    <tr>\n",
       "      <th>7236437</th>\n",
       "      <td>the art of instrumental</td>\n",
       "      <td>Concerto A Cinque mit Violin-Solo| C-Dur: III....</td>\n",
       "    </tr>\n",
       "    <tr>\n",
       "      <th>7242898</th>\n",
       "      <td>ikimonogakari (いきものがかり)</td>\n",
       "      <td>LIGHTS OUT -The Ending-（instrumental）</td>\n",
       "    </tr>\n",
       "    <tr>\n",
       "      <th>7245730</th>\n",
       "      <td>銀幕古典</td>\n",
       "      <td>奧芬巴哈 天堂與地獄(紅磨坊電影配樂)</td>\n",
       "    </tr>\n",
       "    <tr>\n",
       "      <th>7258832</th>\n",
       "      <td>various artists</td>\n",
       "      <td>發飆_配樂(Fantastic版)</td>\n",
       "    </tr>\n",
       "    <tr>\n",
       "      <th>7258844</th>\n",
       "      <td>various artists</td>\n",
       "      <td>發飆_配樂(Madness版)</td>\n",
       "    </tr>\n",
       "    <tr>\n",
       "      <th>7258846</th>\n",
       "      <td>various artists</td>\n",
       "      <td>一個人想個一個人_配樂 (Dreaming版)</td>\n",
       "    </tr>\n",
       "    <tr>\n",
       "      <th>7258890</th>\n",
       "      <td>various artists</td>\n",
       "      <td>一個人想個一個人_配樂 (Lonely Time版)</td>\n",
       "    </tr>\n",
       "    <tr>\n",
       "      <th>7271089</th>\n",
       "      <td>[逆轉勝] 五月天∕怪獸 原聲原創紀 ([second chance] soundtrack...</td>\n",
       "      <td>困獸之鬥【電影[逆轉勝]配樂】</td>\n",
       "    </tr>\n",
       "    <tr>\n",
       "      <th>7274059</th>\n",
       "      <td>the art of instrumental</td>\n",
       "      <td>Sarabande: 3. Satz</td>\n",
       "    </tr>\n",
       "    <tr>\n",
       "      <th>7274198</th>\n",
       "      <td>廣告配樂精選</td>\n",
       "      <td>One Fish in the Sea a</td>\n",
       "    </tr>\n",
       "    <tr>\n",
       "      <th>7281051</th>\n",
       "      <td>bruno mars tributors</td>\n",
       "      <td>The Lazy Song (instrumental)</td>\n",
       "    </tr>\n",
       "    <tr>\n",
       "      <th>7284653</th>\n",
       "      <td>ジブリサウンドトラック</td>\n",
       "      <td>風のとおり道 (インストゥルメンタル)</td>\n",
       "    </tr>\n",
       "    <tr>\n",
       "      <th>7294742</th>\n",
       "      <td>yo-yo ma</td>\n",
       "      <td>Bach: Prelude from Cello Suite No. 1 in G Majo...</td>\n",
       "    </tr>\n",
       "    <tr>\n",
       "      <th>7295284</th>\n",
       "      <td>piano love songs: classic easy listening piano...</td>\n",
       "      <td>Berlin Song</td>\n",
       "    </tr>\n",
       "    <tr>\n",
       "      <th>7301998</th>\n",
       "      <td>全球電影配樂大師</td>\n",
       "      <td>Somewhere in Time/Somewhere in Time(John Barry)</td>\n",
       "    </tr>\n",
       "    <tr>\n",
       "      <th>7313293</th>\n",
       "      <td>the art of instrumental</td>\n",
       "      <td>Concerto A Cinque mit Violin-Solo| C-Dur: III....</td>\n",
       "    </tr>\n",
       "    <tr>\n",
       "      <th>7324973</th>\n",
       "      <td>piano love songs: classic easy listening piano...</td>\n",
       "      <td>Love Me</td>\n",
       "    </tr>\n",
       "    <tr>\n",
       "      <th>7329810</th>\n",
       "      <td>kohak</td>\n",
       "      <td>Zipangu  (偶像劇【流氓蛋糕店】配樂)</td>\n",
       "    </tr>\n",
       "    <tr>\n",
       "      <th>7329920</th>\n",
       "      <td>instrumental music group</td>\n",
       "      <td>Stand By Me</td>\n",
       "    </tr>\n",
       "    <tr>\n",
       "      <th>7336581</th>\n",
       "      <td>蘭陵王電視原聲帶</td>\n",
       "      <td>假面真情（OT：入陣曲）【中視古裝大戲「蘭陵王」配樂】</td>\n",
       "    </tr>\n",
       "    <tr>\n",
       "      <th>7341970</th>\n",
       "      <td>kohak</td>\n",
       "      <td>Zipangu  (偶像劇【流氓蛋糕店】配樂)</td>\n",
       "    </tr>\n",
       "    <tr>\n",
       "      <th>7344002</th>\n",
       "      <td>the art of instrumental</td>\n",
       "      <td>Concerto A Cinque mit Violin-Solo| C-Dur: III....</td>\n",
       "    </tr>\n",
       "    <tr>\n",
       "      <th>7349968</th>\n",
       "      <td>kousuke atari (中孝介)</td>\n",
       "      <td>戀歌(Koi) -instrumental-</td>\n",
       "    </tr>\n",
       "    <tr>\n",
       "      <th>7361108</th>\n",
       "      <td>the art of instrumental</td>\n",
       "      <td>Sarabande: 1. Satz</td>\n",
       "    </tr>\n",
       "    <tr>\n",
       "      <th>7367543</th>\n",
       "      <td>yo-yo ma</td>\n",
       "      <td>Bach: Prelude from Cello Suite No. 1 in G Majo...</td>\n",
       "    </tr>\n",
       "    <tr>\n",
       "      <th>7375350</th>\n",
       "      <td>劉若英 (rene liu)</td>\n",
       "      <td>沙特&amp;西蒙波娃 (配樂)</td>\n",
       "    </tr>\n",
       "  </tbody>\n",
       "</table>\n",
       "<p>1581 rows × 2 columns</p>\n",
       "</div>"
      ],
      "text/plain": [
       "                                               artist_name  \\\n",
       "22075    piano music for christmas & instrumental chris...   \n",
       "22076    piano music for christmas & instrumental chris...   \n",
       "22077    piano music for christmas & instrumental chris...   \n",
       "24964                                                  黃慧音   \n",
       "40183                                      various artists   \n",
       "41854                              the art of instrumental   \n",
       "46749                              the art of instrumental   \n",
       "46750                              the art of instrumental   \n",
       "50677    [逆轉勝] 五月天∕怪獸 原聲原創紀 ([second chance] soundtrack...   \n",
       "53031                                          ジブリサウンドトラック   \n",
       "53760    ryo(supercell) feat. hatsune miku (ryo(superce...   \n",
       "56353                                           18禁不禁影音全記錄   \n",
       "59360                                          ジブリサウンドトラック   \n",
       "62431    [逆轉勝] 五月天∕怪獸 原聲原創紀 ([second chance] soundtrack...   \n",
       "62641                                             yo-yo ma   \n",
       "79827                                         instrumental   \n",
       "82941                                      various artists   \n",
       "108134                             the art of instrumental   \n",
       "113938                                            yo-yo ma   \n",
       "116331                                         ジブリサウンドトラック   \n",
       "149601                                         ジブリサウンドトラック   \n",
       "150730                                       david garrett   \n",
       "158792                                            蘭陵王電視原聲帶   \n",
       "174091       be still & know - instrumental songs of faith   \n",
       "176144                                            yo-yo ma   \n",
       "185257                                         ジブリサウンドトラック   \n",
       "186858                           星專輯之only chow (周星馳電影配樂大全)   \n",
       "189594                             the art of instrumental   \n",
       "193955                                            蘭陵王電視原聲帶   \n",
       "194604                             the art of instrumental   \n",
       "...                                                    ...   \n",
       "7220708  [逆轉勝] 五月天∕怪獸 原聲原創紀 ([second chance] soundtrack...   \n",
       "7224508                                                黃慧音   \n",
       "7228333                                           yo-yo ma   \n",
       "7230567                                           蘭陵王電視原聲帶   \n",
       "7236437                            the art of instrumental   \n",
       "7242898                            ikimonogakari (いきものがかり)   \n",
       "7245730                                               銀幕古典   \n",
       "7258832                                    various artists   \n",
       "7258844                                    various artists   \n",
       "7258846                                    various artists   \n",
       "7258890                                    various artists   \n",
       "7271089  [逆轉勝] 五月天∕怪獸 原聲原創紀 ([second chance] soundtrack...   \n",
       "7274059                            the art of instrumental   \n",
       "7274198                                             廣告配樂精選   \n",
       "7281051                               bruno mars tributors   \n",
       "7284653                                        ジブリサウンドトラック   \n",
       "7294742                                           yo-yo ma   \n",
       "7295284  piano love songs: classic easy listening piano...   \n",
       "7301998                                           全球電影配樂大師   \n",
       "7313293                            the art of instrumental   \n",
       "7324973  piano love songs: classic easy listening piano...   \n",
       "7329810                                              kohak   \n",
       "7329920                           instrumental music group   \n",
       "7336581                                           蘭陵王電視原聲帶   \n",
       "7341970                                              kohak   \n",
       "7344002                            the art of instrumental   \n",
       "7349968                                kousuke atari (中孝介)   \n",
       "7361108                            the art of instrumental   \n",
       "7367543                                           yo-yo ma   \n",
       "7375350                                     劉若英 (rene liu)   \n",
       "\n",
       "                                                 song_name  \n",
       "22075    On a December Night - Violin and Piano Xmas Carol  \n",
       "22076                   Merry Christmas - Solo Piano Music  \n",
       "22077                                The Gift of Christmas  \n",
       "24964                                   藥師灌頂真言(梵音唱誦-鋼琴伴奏版)  \n",
       "40183                      Love Is… (輕快漫畫配樂版) (金嘆與恩尚的心動之歌)  \n",
       "41854               Concerto A Cinque: I. Allegro moderato  \n",
       "46749                          Sinfonie D-Dur: III. Presto  \n",
       "46750                                   Sarabande: 2. Satz  \n",
       "50677                                       光榮 【電影[逆轉勝]配樂】  \n",
       "53031                                  風のとおり道 (インストゥルメンタル)  \n",
       "53760                                Yellow (instrumental)  \n",
       "56353                                          SHA LA LA配樂  \n",
       "59360                                  風のとおり道 (インストゥルメンタル)  \n",
       "62431                                      十年不晚【電影[逆轉勝]配樂】  \n",
       "62641    Bach: Prelude from Cello Suite No. 1 in G Majo...  \n",
       "79827                                         Hand in Hand  \n",
       "82941                      Love Is… (輕快漫畫配樂版) (金嘆與恩尚的心動之歌)  \n",
       "108134   Concerto A Cinque mit Violin-Solo| C-Dur: II. ...  \n",
       "113938   Bach: Prelude from Cello Suite No. 1 in G Majo...  \n",
       "116331                                 風のとおり道 (インストゥルメンタル)  \n",
       "149601                                 風のとおり道 (インストゥルメンタル)  \n",
       "150730                       Misirlou (希臘名曲．電影「黑色追緝令」主題配樂)  \n",
       "158792                      一寸光陰一寸心（OT：手掌心）【中視古裝大戲「蘭陵王」配樂】  \n",
       "174091                                           Baby Baby  \n",
       "176144   Bach: Prelude from Cello Suite No. 1 in G Majo...  \n",
       "185257                                 風のとおり道 (インストゥルメンタル)  \n",
       "186858                                         五黑寶-影片：大話西遊  \n",
       "189594              Concerto A Cinque: I. Allegro moderato  \n",
       "193955                      一寸光陰一寸心（OT：手掌心）【中視古裝大戲「蘭陵王」配樂】  \n",
       "194604                         Sinfonie D-Dur: III. Presto  \n",
       "...                                                    ...  \n",
       "7220708                                   冠軍撞球館【電影[逆轉勝]配樂】  \n",
       "7224508                                 藥師灌頂真言(梵音唱誦-鋼琴伴奏版)  \n",
       "7228333  Bach: Prelude from Cello Suite No. 1 in G Majo...  \n",
       "7230567                    天人可見|不違天意（OT：命運）【中視古裝大戲「蘭陵王」配樂】  \n",
       "7236437  Concerto A Cinque mit Violin-Solo| C-Dur: III....  \n",
       "7242898              LIGHTS OUT -The Ending-（instrumental）  \n",
       "7245730                                奧芬巴哈 天堂與地獄(紅磨坊電影配樂)  \n",
       "7258832                                  發飆_配樂(Fantastic版)  \n",
       "7258844                                    發飆_配樂(Madness版)  \n",
       "7258846                            一個人想個一個人_配樂 (Dreaming版)  \n",
       "7258890                         一個人想個一個人_配樂 (Lonely Time版)  \n",
       "7271089                                    困獸之鬥【電影[逆轉勝]配樂】  \n",
       "7274059                                 Sarabande: 3. Satz  \n",
       "7274198                              One Fish in the Sea a  \n",
       "7281051                       The Lazy Song (instrumental)  \n",
       "7284653                                風のとおり道 (インストゥルメンタル)  \n",
       "7294742  Bach: Prelude from Cello Suite No. 1 in G Majo...  \n",
       "7295284                                        Berlin Song  \n",
       "7301998    Somewhere in Time/Somewhere in Time(John Barry)  \n",
       "7313293  Concerto A Cinque mit Violin-Solo| C-Dur: III....  \n",
       "7324973                                            Love Me  \n",
       "7329810                            Zipangu  (偶像劇【流氓蛋糕店】配樂)  \n",
       "7329920                                        Stand By Me  \n",
       "7336581                        假面真情（OT：入陣曲）【中視古裝大戲「蘭陵王」配樂】  \n",
       "7341970                            Zipangu  (偶像劇【流氓蛋糕店】配樂)  \n",
       "7344002  Concerto A Cinque mit Violin-Solo| C-Dur: III....  \n",
       "7349968                             戀歌(Koi) -instrumental-  \n",
       "7361108                                 Sarabande: 1. Satz  \n",
       "7367543  Bach: Prelude from Cello Suite No. 1 in G Majo...  \n",
       "7375350                                       沙特&西蒙波娃 (配樂)  \n",
       "\n",
       "[1581 rows x 2 columns]"
      ]
     },
     "execution_count": 77,
     "metadata": {},
     "output_type": "execute_result"
    }
   ],
   "source": [
    "# Look at artist names that contains 'instrumental'\n",
    "check_instrumental=train_2.loc[train_2['is_instrumental'] == 1]\n",
    "check_instrumental[['artist_name', 'song_name']]"
   ]
  },
  {
   "cell_type": "markdown",
   "metadata": {},
   "source": [
    "# Check if artist/composer/lyricist is the same person"
   ]
  },
  {
   "cell_type": "code",
   "execution_count": 78,
   "metadata": {
    "collapsed": true
   },
   "outputs": [],
   "source": [
    "# if artist is same as composer\n",
    "train_2['artist_is_composer'] = (train_2['main_artist'] == train_2['composer']).astype(np.int8)\n",
    "test_2['artist_is_composer'] = (test_2['main_artist'] == test_2['composer']).astype(np.int8)\n",
    "\n",
    "# if artist, lyricist and composer are all three same\n",
    "train_2['artist_is_composer_is_lyricist'] = ((train_2['main_artist'] == train_2['composer']) & (train_2['main_artist'] == train_2['lyricist'])).astype(np.int8)\n",
    "test_2['artist_is_composer_is_lyricist'] = ((test_2['main_artist'] == test_2['composer']) & (test_2['main_artist'] == test_2['lyricist'])).astype(np.int8)"
   ]
  },
  {
   "cell_type": "markdown",
   "metadata": {},
   "source": [
    "# Language related"
   ]
  },
  {
   "cell_type": "code",
   "execution_count": 90,
   "metadata": {
    "collapsed": false
   },
   "outputs": [
    {
     "data": {
      "text/plain": [
       "array([ 52.,  -1.,  31.,   3.,  17.,  10.,  24.,  59.,  45.,   0.,  38.])"
      ]
     },
     "execution_count": 90,
     "metadata": {},
     "output_type": "execute_result"
    }
   ],
   "source": [
    "train_2.language.unique()"
   ]
  },
  {
   "cell_type": "code",
   "execution_count": 91,
   "metadata": {
    "collapsed": false,
    "scrolled": true
   },
   "outputs": [
    {
     "data": {
      "text/html": [
       "<div>\n",
       "<table border=\"1\" class=\"dataframe\">\n",
       "  <thead>\n",
       "    <tr style=\"text-align: right;\">\n",
       "      <th></th>\n",
       "      <th>artist_name</th>\n",
       "      <th>song_name</th>\n",
       "      <th>language</th>\n",
       "    </tr>\n",
       "  </thead>\n",
       "  <tbody>\n",
       "    <tr>\n",
       "      <th>3</th>\n",
       "      <td>soundway</td>\n",
       "      <td>Disco Africa</td>\n",
       "      <td>-1.0</td>\n",
       "    </tr>\n",
       "    <tr>\n",
       "      <th>36</th>\n",
       "      <td>years &amp; years</td>\n",
       "      <td>Shine</td>\n",
       "      <td>-1.0</td>\n",
       "    </tr>\n",
       "    <tr>\n",
       "      <th>122</th>\n",
       "      <td>gate to classics</td>\n",
       "      <td>J.Strauss: Radetzky March</td>\n",
       "      <td>-1.0</td>\n",
       "    </tr>\n",
       "    <tr>\n",
       "      <th>183</th>\n",
       "      <td>dance music junkies</td>\n",
       "      <td>Take over Control (Dubstep Party Remix)</td>\n",
       "      <td>-1.0</td>\n",
       "    </tr>\n",
       "    <tr>\n",
       "      <th>186</th>\n",
       "      <td>major lazer</td>\n",
       "      <td>Lean On (feat. MØ &amp; DJ Snake)</td>\n",
       "      <td>-1.0</td>\n",
       "    </tr>\n",
       "    <tr>\n",
       "      <th>187</th>\n",
       "      <td>david guetta</td>\n",
       "      <td>Titanium (feat. Sia)</td>\n",
       "      <td>-1.0</td>\n",
       "    </tr>\n",
       "    <tr>\n",
       "      <th>188</th>\n",
       "      <td>various artists</td>\n",
       "      <td>羅德利果：阿蘭費茲吉他協奏曲/第二樂章：慢板 (Concierto de Aranjuez ...</td>\n",
       "      <td>-1.0</td>\n",
       "    </tr>\n",
       "    <tr>\n",
       "      <th>189</th>\n",
       "      <td>various artists</td>\n",
       "      <td>莫札特：第23號鋼琴協奏曲/第二樂章：慢板 (Piano Concerto No. 23 i...</td>\n",
       "      <td>-1.0</td>\n",
       "    </tr>\n",
       "    <tr>\n",
       "      <th>210</th>\n",
       "      <td>紀曉君</td>\n",
       "      <td>流浪記</td>\n",
       "      <td>-1.0</td>\n",
       "    </tr>\n",
       "    <tr>\n",
       "      <th>252</th>\n",
       "      <td>α波童話音樂盒系列</td>\n",
       "      <td>時之歌</td>\n",
       "      <td>-1.0</td>\n",
       "    </tr>\n",
       "    <tr>\n",
       "      <th>255</th>\n",
       "      <td>α波童話音樂盒系列</td>\n",
       "      <td>瑟魯之歌</td>\n",
       "      <td>-1.0</td>\n",
       "    </tr>\n",
       "    <tr>\n",
       "      <th>257</th>\n",
       "      <td>α波童話音樂盒系列</td>\n",
       "      <td>風的通道</td>\n",
       "      <td>-1.0</td>\n",
       "    </tr>\n",
       "    <tr>\n",
       "      <th>274</th>\n",
       "      <td>lullaby maestro</td>\n",
       "      <td>Can't Help Falling in Love</td>\n",
       "      <td>-1.0</td>\n",
       "    </tr>\n",
       "    <tr>\n",
       "      <th>278</th>\n",
       "      <td>brian crain</td>\n",
       "      <td>Rock-a-Bye Baby</td>\n",
       "      <td>-1.0</td>\n",
       "    </tr>\n",
       "    <tr>\n",
       "      <th>280</th>\n",
       "      <td>寶寶的音樂花園</td>\n",
       "      <td>美麗的聖誕樹</td>\n",
       "      <td>-1.0</td>\n",
       "    </tr>\n",
       "    <tr>\n",
       "      <th>282</th>\n",
       "      <td>α波童話音樂盒系列</td>\n",
       "      <td>時之歌</td>\n",
       "      <td>-1.0</td>\n",
       "    </tr>\n",
       "    <tr>\n",
       "      <th>286</th>\n",
       "      <td>α波童話音樂盒系列</td>\n",
       "      <td>世界的約束</td>\n",
       "      <td>-1.0</td>\n",
       "    </tr>\n",
       "    <tr>\n",
       "      <th>288</th>\n",
       "      <td>α波童話音樂盒系列</td>\n",
       "      <td>魔法公主</td>\n",
       "      <td>-1.0</td>\n",
       "    </tr>\n",
       "    <tr>\n",
       "      <th>298</th>\n",
       "      <td>kenny g</td>\n",
       "      <td>Theme From Dying Young</td>\n",
       "      <td>-1.0</td>\n",
       "    </tr>\n",
       "    <tr>\n",
       "      <th>311</th>\n",
       "      <td>kenny g</td>\n",
       "      <td>The Moment</td>\n",
       "      <td>-1.0</td>\n",
       "    </tr>\n",
       "    <tr>\n",
       "      <th>370</th>\n",
       "      <td>dreaming</td>\n",
       "      <td>雨中漫步</td>\n",
       "      <td>-1.0</td>\n",
       "    </tr>\n",
       "    <tr>\n",
       "      <th>679</th>\n",
       "      <td>宮崎駿‧兒童合唱精選</td>\n",
       "      <td>鄉村小路 / 選自《心之谷》</td>\n",
       "      <td>-1.0</td>\n",
       "    </tr>\n",
       "    <tr>\n",
       "      <th>680</th>\n",
       "      <td>宮崎駿‧動物音樂特輯</td>\n",
       "      <td>龍貓</td>\n",
       "      <td>-1.0</td>\n",
       "    </tr>\n",
       "    <tr>\n",
       "      <th>688</th>\n",
       "      <td>游學志</td>\n",
       "      <td>無論如何</td>\n",
       "      <td>-1.0</td>\n",
       "    </tr>\n",
       "    <tr>\n",
       "      <th>690</th>\n",
       "      <td>游學志</td>\n",
       "      <td>思念的季節</td>\n",
       "      <td>-1.0</td>\n",
       "    </tr>\n",
       "    <tr>\n",
       "      <th>703</th>\n",
       "      <td>major lazer</td>\n",
       "      <td>Lean On (feat. MØ &amp; DJ Snake)</td>\n",
       "      <td>-1.0</td>\n",
       "    </tr>\n",
       "    <tr>\n",
       "      <th>837</th>\n",
       "      <td>kevin kern</td>\n",
       "      <td>Joy of the Journey</td>\n",
       "      <td>-1.0</td>\n",
       "    </tr>\n",
       "    <tr>\n",
       "      <th>846</th>\n",
       "      <td>ocean waves</td>\n",
       "      <td>Coastal Tide</td>\n",
       "      <td>-1.0</td>\n",
       "    </tr>\n",
       "    <tr>\n",
       "      <th>847</th>\n",
       "      <td>ocean waves for sleep</td>\n",
       "      <td>Sea Washes over Debris</td>\n",
       "      <td>-1.0</td>\n",
       "    </tr>\n",
       "    <tr>\n",
       "      <th>849</th>\n",
       "      <td>ocean wave sounds</td>\n",
       "      <td>Waves: On the Beach</td>\n",
       "      <td>-1.0</td>\n",
       "    </tr>\n",
       "    <tr>\n",
       "      <th>...</th>\n",
       "      <td>...</td>\n",
       "      <td>...</td>\n",
       "      <td>...</td>\n",
       "    </tr>\n",
       "    <tr>\n",
       "      <th>7376709</th>\n",
       "      <td>major lazer</td>\n",
       "      <td>Lean On (feat. MØ &amp; DJ Snake)</td>\n",
       "      <td>-1.0</td>\n",
       "    </tr>\n",
       "    <tr>\n",
       "      <th>7376714</th>\n",
       "      <td>alesso</td>\n",
       "      <td>Heroes (we could be)</td>\n",
       "      <td>-1.0</td>\n",
       "    </tr>\n",
       "    <tr>\n",
       "      <th>7376738</th>\n",
       "      <td>the bad plus</td>\n",
       "      <td>Iron Man</td>\n",
       "      <td>-1.0</td>\n",
       "    </tr>\n",
       "    <tr>\n",
       "      <th>7376739</th>\n",
       "      <td>next collective</td>\n",
       "      <td>Thank You</td>\n",
       "      <td>-1.0</td>\n",
       "    </tr>\n",
       "    <tr>\n",
       "      <th>7376763</th>\n",
       "      <td>stereo sound feat. valentine</td>\n",
       "      <td>Symphony Of Love (Original Mix)</td>\n",
       "      <td>-1.0</td>\n",
       "    </tr>\n",
       "    <tr>\n",
       "      <th>7376821</th>\n",
       "      <td>royal philharmonic orchestra</td>\n",
       "      <td>Serenade For Strings In E Minor| Op.20: Allegr...</td>\n",
       "      <td>-1.0</td>\n",
       "    </tr>\n",
       "    <tr>\n",
       "      <th>7376822</th>\n",
       "      <td>yo-yo ma</td>\n",
       "      <td>Gloria| RV 589: Laudamus Te (Arr. For Cello an...</td>\n",
       "      <td>-1.0</td>\n",
       "    </tr>\n",
       "    <tr>\n",
       "      <th>7376823</th>\n",
       "      <td>サウリュス・ソンデツキス/リトアニア室内管弦楽団</td>\n",
       "      <td>Serenade for String Orchestra in C Major| Op. ...</td>\n",
       "      <td>-1.0</td>\n",
       "    </tr>\n",
       "    <tr>\n",
       "      <th>7376824</th>\n",
       "      <td>christopher warren-green/london chamber orchestra</td>\n",
       "      <td>Suk: Serenade for Strings in E-Flat Major| Op....</td>\n",
       "      <td>-1.0</td>\n",
       "    </tr>\n",
       "    <tr>\n",
       "      <th>7376826</th>\n",
       "      <td>mariko cello</td>\n",
       "      <td>Ancient Flame</td>\n",
       "      <td>-1.0</td>\n",
       "    </tr>\n",
       "    <tr>\n",
       "      <th>7376851</th>\n",
       "      <td>寶寶的音樂花園</td>\n",
       "      <td>搖籃曲</td>\n",
       "      <td>-1.0</td>\n",
       "    </tr>\n",
       "    <tr>\n",
       "      <th>7376852</th>\n",
       "      <td>α波童話音樂盒系列</td>\n",
       "      <td>夢就是你心中的希望</td>\n",
       "      <td>-1.0</td>\n",
       "    </tr>\n",
       "    <tr>\n",
       "      <th>7376864</th>\n",
       "      <td>lenka</td>\n",
       "      <td>Everything at Once</td>\n",
       "      <td>-1.0</td>\n",
       "    </tr>\n",
       "    <tr>\n",
       "      <th>7376876</th>\n",
       "      <td>古典名曲點播100首</td>\n",
       "      <td>Bruch: Violin Concerto no.1 - 2nd movement</td>\n",
       "      <td>-1.0</td>\n",
       "    </tr>\n",
       "    <tr>\n",
       "      <th>7376877</th>\n",
       "      <td>古典名曲點播100首</td>\n",
       "      <td>Tchaikovsky: Love Theme - Romeo and Juliet</td>\n",
       "      <td>-1.0</td>\n",
       "    </tr>\n",
       "    <tr>\n",
       "      <th>7376902</th>\n",
       "      <td>francis goya</td>\n",
       "      <td>Remembering Toselli</td>\n",
       "      <td>-1.0</td>\n",
       "    </tr>\n",
       "    <tr>\n",
       "      <th>7377020</th>\n",
       "      <td>brad mehldau</td>\n",
       "      <td>Paranoid Android</td>\n",
       "      <td>-1.0</td>\n",
       "    </tr>\n",
       "    <tr>\n",
       "      <th>7377027</th>\n",
       "      <td>吳兆南+魏龍豪</td>\n",
       "      <td>燒骨記</td>\n",
       "      <td>-1.0</td>\n",
       "    </tr>\n",
       "    <tr>\n",
       "      <th>7377028</th>\n",
       "      <td>吳兆南+魏龍豪</td>\n",
       "      <td>反七口</td>\n",
       "      <td>-1.0</td>\n",
       "    </tr>\n",
       "    <tr>\n",
       "      <th>7377062</th>\n",
       "      <td>kevin kern</td>\n",
       "      <td>A Time Remembered</td>\n",
       "      <td>-1.0</td>\n",
       "    </tr>\n",
       "    <tr>\n",
       "      <th>7377106</th>\n",
       "      <td>various artists</td>\n",
       "      <td>시간을 거슬러</td>\n",
       "      <td>-1.0</td>\n",
       "    </tr>\n",
       "    <tr>\n",
       "      <th>7377111</th>\n",
       "      <td>art tatum</td>\n",
       "      <td>The Man I Love</td>\n",
       "      <td>-1.0</td>\n",
       "    </tr>\n",
       "    <tr>\n",
       "      <th>7377133</th>\n",
       "      <td>vogler quartet</td>\n",
       "      <td>III. Menuetto grazioso - Trio</td>\n",
       "      <td>-1.0</td>\n",
       "    </tr>\n",
       "    <tr>\n",
       "      <th>7377134</th>\n",
       "      <td>antonio janigro</td>\n",
       "      <td>II. Andante</td>\n",
       "      <td>-1.0</td>\n",
       "    </tr>\n",
       "    <tr>\n",
       "      <th>7377149</th>\n",
       "      <td>唱唱跳跳學兒歌系列</td>\n",
       "      <td>只要我長大</td>\n",
       "      <td>-1.0</td>\n",
       "    </tr>\n",
       "    <tr>\n",
       "      <th>7377187</th>\n",
       "      <td>α波童話音樂盒系列</td>\n",
       "      <td>美女與野獸</td>\n",
       "      <td>-1.0</td>\n",
       "    </tr>\n",
       "    <tr>\n",
       "      <th>7377265</th>\n",
       "      <td>寶寶水晶音樂</td>\n",
       "      <td>Opening Theme</td>\n",
       "      <td>-1.0</td>\n",
       "    </tr>\n",
       "    <tr>\n",
       "      <th>7377286</th>\n",
       "      <td>吳兆南+魏龍豪</td>\n",
       "      <td>聯對兒</td>\n",
       "      <td>-1.0</td>\n",
       "    </tr>\n",
       "    <tr>\n",
       "      <th>7377293</th>\n",
       "      <td>gate to classics</td>\n",
       "      <td>Leopold Mozart: Toy Symphony - I</td>\n",
       "      <td>-1.0</td>\n",
       "    </tr>\n",
       "    <tr>\n",
       "      <th>7377406</th>\n",
       "      <td>寶寶水晶音樂</td>\n",
       "      <td>Longer</td>\n",
       "      <td>-1.0</td>\n",
       "    </tr>\n",
       "  </tbody>\n",
       "</table>\n",
       "<p>308752 rows × 3 columns</p>\n",
       "</div>"
      ],
      "text/plain": [
       "                                               artist_name  \\\n",
       "3                                                 soundway   \n",
       "36                                           years & years   \n",
       "122                                       gate to classics   \n",
       "183                                    dance music junkies   \n",
       "186                                            major lazer   \n",
       "187                                           david guetta   \n",
       "188                                        various artists   \n",
       "189                                        various artists   \n",
       "210                                                    紀曉君   \n",
       "252                                              α波童話音樂盒系列   \n",
       "255                                              α波童話音樂盒系列   \n",
       "257                                              α波童話音樂盒系列   \n",
       "274                                        lullaby maestro   \n",
       "278                                            brian crain   \n",
       "280                                                寶寶的音樂花園   \n",
       "282                                              α波童話音樂盒系列   \n",
       "286                                              α波童話音樂盒系列   \n",
       "288                                              α波童話音樂盒系列   \n",
       "298                                                kenny g   \n",
       "311                                                kenny g   \n",
       "370                                               dreaming   \n",
       "679                                             宮崎駿‧兒童合唱精選   \n",
       "680                                             宮崎駿‧動物音樂特輯   \n",
       "688                                                    游學志   \n",
       "690                                                    游學志   \n",
       "703                                            major lazer   \n",
       "837                                             kevin kern   \n",
       "846                                            ocean waves   \n",
       "847                                  ocean waves for sleep   \n",
       "849                                      ocean wave sounds   \n",
       "...                                                    ...   \n",
       "7376709                                        major lazer   \n",
       "7376714                                             alesso   \n",
       "7376738                                       the bad plus   \n",
       "7376739                                    next collective   \n",
       "7376763                       stereo sound feat. valentine   \n",
       "7376821                       royal philharmonic orchestra   \n",
       "7376822                                           yo-yo ma   \n",
       "7376823                           サウリュス・ソンデツキス/リトアニア室内管弦楽団   \n",
       "7376824  christopher warren-green/london chamber orchestra   \n",
       "7376826                                       mariko cello   \n",
       "7376851                                            寶寶的音樂花園   \n",
       "7376852                                          α波童話音樂盒系列   \n",
       "7376864                                              lenka   \n",
       "7376876                                         古典名曲點播100首   \n",
       "7376877                                         古典名曲點播100首   \n",
       "7376902                                       francis goya   \n",
       "7377020                                       brad mehldau   \n",
       "7377027                                            吳兆南+魏龍豪   \n",
       "7377028                                            吳兆南+魏龍豪   \n",
       "7377062                                         kevin kern   \n",
       "7377106                                    various artists   \n",
       "7377111                                          art tatum   \n",
       "7377133                                     vogler quartet   \n",
       "7377134                                    antonio janigro   \n",
       "7377149                                          唱唱跳跳學兒歌系列   \n",
       "7377187                                          α波童話音樂盒系列   \n",
       "7377265                                             寶寶水晶音樂   \n",
       "7377286                                            吳兆南+魏龍豪   \n",
       "7377293                                   gate to classics   \n",
       "7377406                                             寶寶水晶音樂   \n",
       "\n",
       "                                                 song_name  language  \n",
       "3                                             Disco Africa      -1.0  \n",
       "36                                                   Shine      -1.0  \n",
       "122                              J.Strauss: Radetzky March      -1.0  \n",
       "183                Take over Control (Dubstep Party Remix)      -1.0  \n",
       "186                          Lean On (feat. MØ & DJ Snake)      -1.0  \n",
       "187                                   Titanium (feat. Sia)      -1.0  \n",
       "188      羅德利果：阿蘭費茲吉他協奏曲/第二樂章：慢板 (Concierto de Aranjuez ...      -1.0  \n",
       "189      莫札特：第23號鋼琴協奏曲/第二樂章：慢板 (Piano Concerto No. 23 i...      -1.0  \n",
       "210                                                    流浪記      -1.0  \n",
       "252                                                    時之歌      -1.0  \n",
       "255                                                   瑟魯之歌      -1.0  \n",
       "257                                                   風的通道      -1.0  \n",
       "274                             Can't Help Falling in Love      -1.0  \n",
       "278                                        Rock-a-Bye Baby      -1.0  \n",
       "280                                                 美麗的聖誕樹      -1.0  \n",
       "282                                                    時之歌      -1.0  \n",
       "286                                                  世界的約束      -1.0  \n",
       "288                                                   魔法公主      -1.0  \n",
       "298                                 Theme From Dying Young      -1.0  \n",
       "311                                             The Moment      -1.0  \n",
       "370                                                   雨中漫步      -1.0  \n",
       "679                                         鄉村小路 / 選自《心之谷》      -1.0  \n",
       "680                                                     龍貓      -1.0  \n",
       "688                                                   無論如何      -1.0  \n",
       "690                                                  思念的季節      -1.0  \n",
       "703                          Lean On (feat. MØ & DJ Snake)      -1.0  \n",
       "837                                     Joy of the Journey      -1.0  \n",
       "846                                           Coastal Tide      -1.0  \n",
       "847                                 Sea Washes over Debris      -1.0  \n",
       "849                                    Waves: On the Beach      -1.0  \n",
       "...                                                    ...       ...  \n",
       "7376709                      Lean On (feat. MØ & DJ Snake)      -1.0  \n",
       "7376714                               Heroes (we could be)      -1.0  \n",
       "7376738                                           Iron Man      -1.0  \n",
       "7376739                                          Thank You      -1.0  \n",
       "7376763                    Symphony Of Love (Original Mix)      -1.0  \n",
       "7376821  Serenade For Strings In E Minor| Op.20: Allegr...      -1.0  \n",
       "7376822  Gloria| RV 589: Laudamus Te (Arr. For Cello an...      -1.0  \n",
       "7376823  Serenade for String Orchestra in C Major| Op. ...      -1.0  \n",
       "7376824  Suk: Serenade for Strings in E-Flat Major| Op....      -1.0  \n",
       "7376826                                      Ancient Flame      -1.0  \n",
       "7376851                                                搖籃曲      -1.0  \n",
       "7376852                                          夢就是你心中的希望      -1.0  \n",
       "7376864                                 Everything at Once      -1.0  \n",
       "7376876         Bruch: Violin Concerto no.1 - 2nd movement      -1.0  \n",
       "7376877         Tchaikovsky: Love Theme - Romeo and Juliet      -1.0  \n",
       "7376902                                Remembering Toselli      -1.0  \n",
       "7377020                                   Paranoid Android      -1.0  \n",
       "7377027                                                燒骨記      -1.0  \n",
       "7377028                                                反七口      -1.0  \n",
       "7377062                                  A Time Remembered      -1.0  \n",
       "7377106                                            시간을 거슬러      -1.0  \n",
       "7377111                                     The Man I Love      -1.0  \n",
       "7377133                      III. Menuetto grazioso - Trio      -1.0  \n",
       "7377134                                        II. Andante      -1.0  \n",
       "7377149                                              只要我長大      -1.0  \n",
       "7377187                                              美女與野獸      -1.0  \n",
       "7377265                                      Opening Theme      -1.0  \n",
       "7377286                                                聯對兒      -1.0  \n",
       "7377293                   Leopold Mozart: Toy Symphony - I      -1.0  \n",
       "7377406                                             Longer      -1.0  \n",
       "\n",
       "[308752 rows x 3 columns]"
      ]
     },
     "execution_count": 91,
     "metadata": {},
     "output_type": "execute_result"
    }
   ],
   "source": [
    "'''\n",
    "    Conclusion: \n",
    "        3.0: Chinese\n",
    "        52.0: English\n",
    "        17.0: Japanese\n",
    "        45.0: Thai\n",
    "        10.0: Taiwanese\n",
    "        24.0: Cantonese\n",
    "        38.0: Hindi\n",
    "        59.0: Seems to be Chinese\n",
    "        31.0: Korean\n",
    "'''\n",
    "train_2.loc[train_2['language'] == -1][['artist_name','song_name','language']]"
   ]
  },
  {
   "cell_type": "markdown",
   "metadata": {},
   "source": [
    "Counting features"
   ]
  },
  {
   "cell_type": "code",
   "execution_count": 80,
   "metadata": {
    "collapsed": true
   },
   "outputs": [],
   "source": [
    "def merge_dicts(dict0, dict1):\n",
    "    for k in dict1:\n",
    "        if k in dict0:\n",
    "            dict0[k]+=dict1[k]\n",
    "        else:\n",
    "            dict0[k]=dict1[k]\n",
    "    return dict0\n",
    "\n",
    "def find_item(dict, x):\n",
    "    if x in dict:\n",
    "        return dict[x]\n",
    "    return 0"
   ]
  },
  {
   "cell_type": "code",
   "execution_count": 81,
   "metadata": {
    "collapsed": true,
    "scrolled": true
   },
   "outputs": [],
   "source": [
    "# number of times a song has been played before\n",
    "_dict_count_song_played_train = {k: v for k, v in train_2['unique_id'].value_counts().iteritems()}\n",
    "_dict_count_song_played_test = {k: v for k, v in test_2['unique_id'].value_counts().iteritems()}\n",
    "_dict_count_song_played=merge_dicts(_dict_count_song_played_train, _dict_count_song_played_test)\n",
    "\n",
    "# Remove empty\n",
    "_dict_count_song_played.pop('empty', None)\n",
    "\n",
    "train_2['count_song_played'] = train_2['unique_id'].apply(lambda x: find_item(_dict_count_song_played, x)).astype(np.int16)\n",
    "test_2['count_song_played'] = test_2['unique_id'].apply(lambda x: find_item(_dict_count_song_played, x)).astype(np.int16)"
   ]
  },
  {
   "cell_type": "code",
   "execution_count": 82,
   "metadata": {
    "collapsed": true
   },
   "outputs": [],
   "source": [
    "# number of times the artist has been played\n",
    "_dict_count_artist_played_train = {k: v for k, v in train_2['artist_name'].value_counts().iteritems()}\n",
    "_dict_count_artist_played_test = {k: v for k, v in test_2['artist_name'].value_counts().iteritems()}\n",
    "_dict_count_artist_played=merge_dicts(_dict_count_artist_played_train, _dict_count_artist_played_test)\n",
    "\n",
    "# Remove empty\n",
    "_dict_count_artist_played.pop(NO_ARTIST_FILL, None)\n",
    "\n",
    "train_2['count_artist_played'] = train_2['artist_name'].apply(lambda x: find_item(_dict_count_artist_played, x)).astype(np.int16)\n",
    "test_2['count_artist_played'] = test_2['artist_name'].apply(lambda x: find_item(_dict_count_artist_played, x)).astype(np.int16)\n"
   ]
  },
  {
   "cell_type": "code",
   "execution_count": 83,
   "metadata": {
    "collapsed": true
   },
   "outputs": [],
   "source": [
    "# number of times the composer has been played\n",
    "_dict_count_composer_played_train = {k: v for k, v in train_2['composer'].value_counts().iteritems()}\n",
    "_dict_count_composer_played_test = {k: v for k, v in test_2['composer'].value_counts().iteritems()}\n",
    "_dict_count_composer_played=merge_dicts(_dict_count_composer_played_train, _dict_count_composer_played_test)\n",
    "\n",
    "# Remove empty\n",
    "_dict_count_composer_played.pop(NO_COMPOSER_FILL, None)\n",
    "\n",
    "train_2['count_composer_played'] = train_2['composer'].apply(lambda x: find_item(_dict_count_composer_played, x)).astype(np.int16)\n",
    "test_2['count_composer_played'] = test_2['composer'].apply(lambda x: find_item(_dict_count_composer_played, x)).astype(np.int16)"
   ]
  },
  {
   "cell_type": "code",
   "execution_count": 84,
   "metadata": {
    "collapsed": true
   },
   "outputs": [],
   "source": [
    "# number of times the lyricist has been played\n",
    "_dict_count_lyricist_played_train = {k: v for k, v in train_2['lyricist'].value_counts().iteritems()}\n",
    "_dict_count_lyricist_played_test = {k: v for k, v in test_2['lyricist'].value_counts().iteritems()}\n",
    "_dict_count_lyricist_played=merge_dicts(_dict_count_lyricist_played_train, _dict_count_lyricist_played_test)\n",
    "\n",
    "# Remove empty\n",
    "_dict_count_lyricist_played.pop(NO_LYRICIST_FILL, None)\n",
    "\n",
    "train_2['count_lyricist_played'] = train_2['lyricist'].apply(lambda x: find_item(_dict_count_lyricist_played, x)).astype(np.int16)\n",
    "test_2['count_lyricist_played'] = test_2['lyricist'].apply(lambda x: find_item(_dict_count_lyricist_played, x)).astype(np.int16)"
   ]
  },
  {
   "cell_type": "code",
   "execution_count": 85,
   "metadata": {
    "collapsed": true
   },
   "outputs": [],
   "source": [
    "# number of times the member performs an action\n",
    "_dict_count_member_train = {k: v for k, v in train_2['msno'].value_counts().iteritems()}\n",
    "_dict_count_member_test = {k: v for k, v in test_2['msno'].value_counts().iteritems()}\n",
    "_dict_count_member=merge_dicts(_dict_count_member_train, _dict_count_member_test)\n",
    "\n",
    "# Seems no empty slots\n",
    "\n",
    "train_2['count_member_action'] = train_2['msno'].apply(lambda x: find_item(_dict_count_member, x)).astype(np.int16)\n",
    "test_2['count_member_action'] = test_2['msno'].apply(lambda x: find_item(_dict_count_member, x)).astype(np.int16)"
   ]
  },
  {
   "cell_type": "code",
   "execution_count": 86,
   "metadata": {
    "collapsed": true
   },
   "outputs": [],
   "source": [
    "# Average times a member plays a song per registered day\n",
    "train_2['member_action_per_day'] = train_2['count_member_action']/train_2['membership_days']\n",
    "test_2['member_action_per_day'] = test_2['count_member_action']/test_2['membership_days']\n",
    "\n",
    "# Replace division by zero\n",
    "train_2['member_action_per_day'].replace([np.inf, -np.inf, np.nan], 0, inplace=True)\n",
    "test_2['member_action_per_day'].replace([np.inf, -np.inf, np.nan], 0, inplace=True)"
   ]
  },
  {
   "cell_type": "markdown",
   "metadata": {},
   "source": [
    "End of phase 2\n"
   ]
  },
  {
   "cell_type": "code",
   "execution_count": 87,
   "metadata": {
    "collapsed": false,
    "scrolled": true
   },
   "outputs": [
    {
     "name": "stdout",
     "output_type": "stream",
     "text": [
      "<class 'pandas.core.frame.DataFrame'>\n",
      "Int64Index: 7377418 entries, 0 to 7377417\n",
      "Data columns (total 48 columns):\n",
      "msno                              object\n",
      "song_id                           object\n",
      "source_system_tab                 object\n",
      "source_screen_name                object\n",
      "source_type                       object\n",
      "target                            int64\n",
      "song_length                       float64\n",
      "genre_ids                         object\n",
      "artist_name                       object\n",
      "composer                          object\n",
      "lyricist                          object\n",
      "language                          float64\n",
      "short_song                        float64\n",
      "mean_length_distance              float64\n",
      "city                              int64\n",
      "bd                                float64\n",
      "gender                            object\n",
      "registered_via                    int64\n",
      "membership_days                   int16\n",
      "registration_timestamp            float64\n",
      "expiration_timestamp              float64\n",
      "song_name                         object\n",
      "country_code                      object\n",
      "issuer                            object\n",
      "issue_year                        float64\n",
      "unique_id                         object\n",
      "genre_ids_count                   int8\n",
      "lyricists_count                   int8\n",
      "composer_count                    int8\n",
      "artist_count                      int8\n",
      "is_featured                       int8\n",
      "feat_artist                       object\n",
      "main_artist                       object\n",
      "feat_song_name                    object\n",
      "main_song_name                    object\n",
      "is_remix                          int8\n",
      "is_live                           int8\n",
      "is_acoustic                       int8\n",
      "is_instrumental                   int8\n",
      "artist_is_composer                int8\n",
      "artist_is_composer_is_lyricist    int8\n",
      "song_lang_magic                   int8\n",
      "count_song_played                 int16\n",
      "count_artist_played               int16\n",
      "count_composer_played             int16\n",
      "count_lyricist_played             int16\n",
      "count_member_action               int16\n",
      "member_action_per_day             float64\n",
      "dtypes: float64(9), int16(6), int64(3), int8(12), object(18)\n",
      "memory usage: 1.9+ GB\n"
     ]
    }
   ],
   "source": [
    "train_2.info()\n"
   ]
  },
  {
   "cell_type": "code",
   "execution_count": 102,
   "metadata": {
    "collapsed": false
   },
   "outputs": [
    {
     "data": {
      "text/html": [
       "<div>\n",
       "<table border=\"1\" class=\"dataframe\">\n",
       "  <thead>\n",
       "    <tr style=\"text-align: right;\">\n",
       "      <th></th>\n",
       "      <th>target</th>\n",
       "      <th>song_length</th>\n",
       "      <th>language</th>\n",
       "      <th>short_song</th>\n",
       "      <th>mean_length_distance</th>\n",
       "      <th>city</th>\n",
       "      <th>bd</th>\n",
       "      <th>registered_via</th>\n",
       "      <th>membership_days</th>\n",
       "      <th>registration_timestamp</th>\n",
       "      <th>...</th>\n",
       "      <th>is_instrumental</th>\n",
       "      <th>artist_is_composer</th>\n",
       "      <th>artist_is_composer_is_lyricist</th>\n",
       "      <th>song_lang_magic</th>\n",
       "      <th>count_song_played</th>\n",
       "      <th>count_artist_played</th>\n",
       "      <th>count_composer_played</th>\n",
       "      <th>count_lyricist_played</th>\n",
       "      <th>count_member_action</th>\n",
       "      <th>member_action_per_day</th>\n",
       "    </tr>\n",
       "  </thead>\n",
       "  <tbody>\n",
       "    <tr>\n",
       "      <th>count</th>\n",
       "      <td>7.377418e+06</td>\n",
       "      <td>7.377418e+06</td>\n",
       "      <td>7.377418e+06</td>\n",
       "      <td>7.377418e+06</td>\n",
       "      <td>7.377418e+06</td>\n",
       "      <td>7.377418e+06</td>\n",
       "      <td>7.377418e+06</td>\n",
       "      <td>7.377418e+06</td>\n",
       "      <td>7.377418e+06</td>\n",
       "      <td>7.377418e+06</td>\n",
       "      <td>...</td>\n",
       "      <td>7.377418e+06</td>\n",
       "      <td>7.377418e+06</td>\n",
       "      <td>7.377418e+06</td>\n",
       "      <td>7.377418e+06</td>\n",
       "      <td>7.377418e+06</td>\n",
       "      <td>7.377418e+06</td>\n",
       "      <td>7.377418e+06</td>\n",
       "      <td>7.377418e+06</td>\n",
       "      <td>7.377418e+06</td>\n",
       "      <td>7.377418e+06</td>\n",
       "    </tr>\n",
       "    <tr>\n",
       "      <th>mean</th>\n",
       "      <td>5.035171e-01</td>\n",
       "      <td>2.451210e+05</td>\n",
       "      <td>1.860895e+01</td>\n",
       "      <td>5.442048e-01</td>\n",
       "      <td>3.261585e+04</td>\n",
       "      <td>7.511399e+00</td>\n",
       "      <td>2.881787e+01</td>\n",
       "      <td>6.794068e+00</td>\n",
       "      <td>1.627961e+03</td>\n",
       "      <td>1.365339e+09</td>\n",
       "      <td>...</td>\n",
       "      <td>2.143026e-04</td>\n",
       "      <td>3.101641e-02</td>\n",
       "      <td>1.735716e-02</td>\n",
       "      <td>3.355280e-02</td>\n",
       "      <td>4.246813e+03</td>\n",
       "      <td>4.068814e+03</td>\n",
       "      <td>1.714027e+03</td>\n",
       "      <td>2.262124e+03</td>\n",
       "      <td>8.486281e+02</td>\n",
       "      <td>1.677555e+00</td>\n",
       "    </tr>\n",
       "    <tr>\n",
       "      <th>std</th>\n",
       "      <td>4.999877e-01</td>\n",
       "      <td>6.734419e+04</td>\n",
       "      <td>2.117676e+01</td>\n",
       "      <td>4.980421e-01</td>\n",
       "      <td>1.840902e+04</td>\n",
       "      <td>6.641625e+00</td>\n",
       "      <td>6.595955e+00</td>\n",
       "      <td>2.275774e+00</td>\n",
       "      <td>1.128673e+03</td>\n",
       "      <td>9.527880e+07</td>\n",
       "      <td>...</td>\n",
       "      <td>1.463751e-02</td>\n",
       "      <td>1.733620e-01</td>\n",
       "      <td>1.305982e-01</td>\n",
       "      <td>1.800750e-01</td>\n",
       "      <td>8.334991e+03</td>\n",
       "      <td>1.414525e+04</td>\n",
       "      <td>9.484639e+03</td>\n",
       "      <td>9.190008e+03</td>\n",
       "      <td>7.659078e+02</td>\n",
       "      <td>7.286297e+00</td>\n",
       "    </tr>\n",
       "    <tr>\n",
       "      <th>min</th>\n",
       "      <td>0.000000e+00</td>\n",
       "      <td>1.393000e+03</td>\n",
       "      <td>-1.000000e+00</td>\n",
       "      <td>0.000000e+00</td>\n",
       "      <td>0.000000e+00</td>\n",
       "      <td>1.000000e+00</td>\n",
       "      <td>1.000000e+01</td>\n",
       "      <td>3.000000e+00</td>\n",
       "      <td>-1.619100e+04</td>\n",
       "      <td>1.080259e+09</td>\n",
       "      <td>...</td>\n",
       "      <td>0.000000e+00</td>\n",
       "      <td>0.000000e+00</td>\n",
       "      <td>0.000000e+00</td>\n",
       "      <td>0.000000e+00</td>\n",
       "      <td>-3.145000e+04</td>\n",
       "      <td>-3.247300e+04</td>\n",
       "      <td>-3.221200e+04</td>\n",
       "      <td>-3.229300e+04</td>\n",
       "      <td>1.000000e+00</td>\n",
       "      <td>-1.852881e-04</td>\n",
       "    </tr>\n",
       "    <tr>\n",
       "      <th>25%</th>\n",
       "      <td>0.000000e+00</td>\n",
       "      <td>2.147260e+05</td>\n",
       "      <td>3.000000e+00</td>\n",
       "      <td>0.000000e+00</td>\n",
       "      <td>1.669200e+04</td>\n",
       "      <td>1.000000e+00</td>\n",
       "      <td>2.600000e+01</td>\n",
       "      <td>4.000000e+00</td>\n",
       "      <td>7.010000e+02</td>\n",
       "      <td>1.309824e+09</td>\n",
       "      <td>...</td>\n",
       "      <td>0.000000e+00</td>\n",
       "      <td>0.000000e+00</td>\n",
       "      <td>0.000000e+00</td>\n",
       "      <td>0.000000e+00</td>\n",
       "      <td>3.630000e+02</td>\n",
       "      <td>1.780000e+02</td>\n",
       "      <td>0.000000e+00</td>\n",
       "      <td>0.000000e+00</td>\n",
       "      <td>3.700000e+02</td>\n",
       "      <td>2.511804e-01</td>\n",
       "    </tr>\n",
       "    <tr>\n",
       "      <th>50%</th>\n",
       "      <td>1.000000e+00</td>\n",
       "      <td>2.418120e+05</td>\n",
       "      <td>3.000000e+00</td>\n",
       "      <td>1.000000e+00</td>\n",
       "      <td>3.309100e+04</td>\n",
       "      <td>5.000000e+00</td>\n",
       "      <td>2.900000e+01</td>\n",
       "      <td>7.000000e+00</td>\n",
       "      <td>1.433000e+03</td>\n",
       "      <td>1.382486e+09</td>\n",
       "      <td>...</td>\n",
       "      <td>0.000000e+00</td>\n",
       "      <td>0.000000e+00</td>\n",
       "      <td>0.000000e+00</td>\n",
       "      <td>0.000000e+00</td>\n",
       "      <td>2.183000e+03</td>\n",
       "      <td>4.199000e+03</td>\n",
       "      <td>4.920000e+02</td>\n",
       "      <td>1.000000e+00</td>\n",
       "      <td>6.580000e+02</td>\n",
       "      <td>4.994658e-01</td>\n",
       "    </tr>\n",
       "    <tr>\n",
       "      <th>75%</th>\n",
       "      <td>1.000000e+00</td>\n",
       "      <td>2.721600e+05</td>\n",
       "      <td>5.200000e+01</td>\n",
       "      <td>1.000000e+00</td>\n",
       "      <td>4.826300e+04</td>\n",
       "      <td>1.300000e+01</td>\n",
       "      <td>2.900000e+01</td>\n",
       "      <td>9.000000e+00</td>\n",
       "      <td>2.286000e+03</td>\n",
       "      <td>1.445472e+09</td>\n",
       "      <td>...</td>\n",
       "      <td>0.000000e+00</td>\n",
       "      <td>0.000000e+00</td>\n",
       "      <td>0.000000e+00</td>\n",
       "      <td>0.000000e+00</td>\n",
       "      <td>7.497000e+03</td>\n",
       "      <td>1.293700e+04</td>\n",
       "      <td>4.538000e+03</td>\n",
       "      <td>4.084000e+03</td>\n",
       "      <td>1.087000e+03</td>\n",
       "      <td>1.051029e+00</td>\n",
       "    </tr>\n",
       "    <tr>\n",
       "      <th>max</th>\n",
       "      <td>1.000000e+00</td>\n",
       "      <td>1.085171e+07</td>\n",
       "      <td>5.900000e+01</td>\n",
       "      <td>1.000000e+00</td>\n",
       "      <td>6.553500e+04</td>\n",
       "      <td>2.200000e+01</td>\n",
       "      <td>7.000000e+01</td>\n",
       "      <td>1.300000e+01</td>\n",
       "      <td>5.149000e+03</td>\n",
       "      <td>1.485821e+09</td>\n",
       "      <td>...</td>\n",
       "      <td>1.000000e+00</td>\n",
       "      <td>1.000000e+00</td>\n",
       "      <td>1.000000e+00</td>\n",
       "      <td>1.000000e+00</td>\n",
       "      <td>3.269200e+04</td>\n",
       "      <td>3.249500e+04</td>\n",
       "      <td>3.274800e+04</td>\n",
       "      <td>3.125400e+04</td>\n",
       "      <td>7.894000e+03</td>\n",
       "      <td>2.440000e+02</td>\n",
       "    </tr>\n",
       "  </tbody>\n",
       "</table>\n",
       "<p>8 rows × 30 columns</p>\n",
       "</div>"
      ],
      "text/plain": [
       "             target   song_length      language    short_song  \\\n",
       "count  7.377418e+06  7.377418e+06  7.377418e+06  7.377418e+06   \n",
       "mean   5.035171e-01  2.451210e+05  1.860895e+01  5.442048e-01   \n",
       "std    4.999877e-01  6.734419e+04  2.117676e+01  4.980421e-01   \n",
       "min    0.000000e+00  1.393000e+03 -1.000000e+00  0.000000e+00   \n",
       "25%    0.000000e+00  2.147260e+05  3.000000e+00  0.000000e+00   \n",
       "50%    1.000000e+00  2.418120e+05  3.000000e+00  1.000000e+00   \n",
       "75%    1.000000e+00  2.721600e+05  5.200000e+01  1.000000e+00   \n",
       "max    1.000000e+00  1.085171e+07  5.900000e+01  1.000000e+00   \n",
       "\n",
       "       mean_length_distance          city            bd  registered_via  \\\n",
       "count          7.377418e+06  7.377418e+06  7.377418e+06    7.377418e+06   \n",
       "mean           3.261585e+04  7.511399e+00  2.881787e+01    6.794068e+00   \n",
       "std            1.840902e+04  6.641625e+00  6.595955e+00    2.275774e+00   \n",
       "min            0.000000e+00  1.000000e+00  1.000000e+01    3.000000e+00   \n",
       "25%            1.669200e+04  1.000000e+00  2.600000e+01    4.000000e+00   \n",
       "50%            3.309100e+04  5.000000e+00  2.900000e+01    7.000000e+00   \n",
       "75%            4.826300e+04  1.300000e+01  2.900000e+01    9.000000e+00   \n",
       "max            6.553500e+04  2.200000e+01  7.000000e+01    1.300000e+01   \n",
       "\n",
       "       membership_days  registration_timestamp          ...            \\\n",
       "count     7.377418e+06            7.377418e+06          ...             \n",
       "mean      1.627961e+03            1.365339e+09          ...             \n",
       "std       1.128673e+03            9.527880e+07          ...             \n",
       "min      -1.619100e+04            1.080259e+09          ...             \n",
       "25%       7.010000e+02            1.309824e+09          ...             \n",
       "50%       1.433000e+03            1.382486e+09          ...             \n",
       "75%       2.286000e+03            1.445472e+09          ...             \n",
       "max       5.149000e+03            1.485821e+09          ...             \n",
       "\n",
       "       is_instrumental  artist_is_composer  artist_is_composer_is_lyricist  \\\n",
       "count     7.377418e+06        7.377418e+06                    7.377418e+06   \n",
       "mean      2.143026e-04        3.101641e-02                    1.735716e-02   \n",
       "std       1.463751e-02        1.733620e-01                    1.305982e-01   \n",
       "min       0.000000e+00        0.000000e+00                    0.000000e+00   \n",
       "25%       0.000000e+00        0.000000e+00                    0.000000e+00   \n",
       "50%       0.000000e+00        0.000000e+00                    0.000000e+00   \n",
       "75%       0.000000e+00        0.000000e+00                    0.000000e+00   \n",
       "max       1.000000e+00        1.000000e+00                    1.000000e+00   \n",
       "\n",
       "       song_lang_magic  count_song_played  count_artist_played  \\\n",
       "count     7.377418e+06       7.377418e+06         7.377418e+06   \n",
       "mean      3.355280e-02       4.246813e+03         4.068814e+03   \n",
       "std       1.800750e-01       8.334991e+03         1.414525e+04   \n",
       "min       0.000000e+00      -3.145000e+04        -3.247300e+04   \n",
       "25%       0.000000e+00       3.630000e+02         1.780000e+02   \n",
       "50%       0.000000e+00       2.183000e+03         4.199000e+03   \n",
       "75%       0.000000e+00       7.497000e+03         1.293700e+04   \n",
       "max       1.000000e+00       3.269200e+04         3.249500e+04   \n",
       "\n",
       "       count_composer_played  count_lyricist_played  count_member_action  \\\n",
       "count           7.377418e+06           7.377418e+06         7.377418e+06   \n",
       "mean            1.714027e+03           2.262124e+03         8.486281e+02   \n",
       "std             9.484639e+03           9.190008e+03         7.659078e+02   \n",
       "min            -3.221200e+04          -3.229300e+04         1.000000e+00   \n",
       "25%             0.000000e+00           0.000000e+00         3.700000e+02   \n",
       "50%             4.920000e+02           1.000000e+00         6.580000e+02   \n",
       "75%             4.538000e+03           4.084000e+03         1.087000e+03   \n",
       "max             3.274800e+04           3.125400e+04         7.894000e+03   \n",
       "\n",
       "       member_action_per_day  \n",
       "count           7.377418e+06  \n",
       "mean            1.677555e+00  \n",
       "std             7.286297e+00  \n",
       "min            -1.852881e-04  \n",
       "25%             2.511804e-01  \n",
       "50%             4.994658e-01  \n",
       "75%             1.051029e+00  \n",
       "max             2.440000e+02  \n",
       "\n",
       "[8 rows x 30 columns]"
      ]
     },
     "execution_count": 102,
     "metadata": {},
     "output_type": "execute_result"
    }
   ],
   "source": [
    "train_2.describe()"
   ]
  },
  {
   "cell_type": "code",
   "execution_count": 64,
   "metadata": {
    "collapsed": true
   },
   "outputs": [],
   "source": [
    "# Output to csv\n",
    "train_2.to_csv(data_path + \"train_engineered.csv\")\n",
    "test_2.to_csv(data_path + \"test_engineered.csv\")"
   ]
  },
  {
   "cell_type": "markdown",
   "metadata": {},
   "source": [
    "# Phase 3\n",
    "Added special char handling\n",
    "Added genre clusters"
   ]
  },
  {
   "cell_type": "code",
   "execution_count": 88,
   "metadata": {
    "collapsed": true
   },
   "outputs": [],
   "source": [
    "train_3=train_2.copy()\n",
    "test_3=test_2.copy()"
   ]
  },
  {
   "cell_type": "code",
   "execution_count": 89,
   "metadata": {
    "collapsed": false
   },
   "outputs": [
    {
     "data": {
      "text/plain": [
       "571"
      ]
     },
     "execution_count": 89,
     "metadata": {},
     "output_type": "execute_result"
    }
   ],
   "source": [
    "del train_2, test_2\n",
    "gc.collect()"
   ]
  },
  {
   "cell_type": "code",
   "execution_count": 90,
   "metadata": {
    "collapsed": false,
    "scrolled": true
   },
   "outputs": [
    {
     "name": "stdout",
     "output_type": "stream",
     "text": [
      "<class 'pandas.core.frame.DataFrame'>\n",
      "Int64Index: 7377418 entries, 0 to 7377417\n",
      "Data columns (total 48 columns):\n",
      "msno                              object\n",
      "song_id                           object\n",
      "source_system_tab                 object\n",
      "source_screen_name                object\n",
      "source_type                       object\n",
      "target                            int64\n",
      "song_length                       float64\n",
      "genre_ids                         object\n",
      "artist_name                       object\n",
      "composer                          object\n",
      "lyricist                          object\n",
      "language                          float64\n",
      "short_song                        float64\n",
      "mean_length_distance              float64\n",
      "city                              int64\n",
      "bd                                float64\n",
      "gender                            object\n",
      "registered_via                    int64\n",
      "membership_days                   int16\n",
      "registration_timestamp            float64\n",
      "expiration_timestamp              float64\n",
      "song_name                         object\n",
      "country_code                      object\n",
      "issuer                            object\n",
      "issue_year                        float64\n",
      "unique_id                         object\n",
      "genre_ids_count                   int8\n",
      "lyricists_count                   int8\n",
      "composer_count                    int8\n",
      "artist_count                      int8\n",
      "is_featured                       int8\n",
      "feat_artist                       object\n",
      "main_artist                       object\n",
      "feat_song_name                    object\n",
      "main_song_name                    object\n",
      "is_remix                          int8\n",
      "is_live                           int8\n",
      "is_acoustic                       int8\n",
      "is_instrumental                   int8\n",
      "artist_is_composer                int8\n",
      "artist_is_composer_is_lyricist    int8\n",
      "song_lang_magic                   int8\n",
      "count_song_played                 int16\n",
      "count_artist_played               int16\n",
      "count_composer_played             int16\n",
      "count_lyricist_played             int16\n",
      "count_member_action               int16\n",
      "member_action_per_day             float64\n",
      "dtypes: float64(9), int16(6), int64(3), int8(12), object(18)\n",
      "memory usage: 1.9+ GB\n"
     ]
    }
   ],
   "source": [
    "train_3.info()"
   ]
  },
  {
   "cell_type": "markdown",
   "metadata": {},
   "source": [
    "# Special character handling\n",
    "If removing the special character can shrink the string set size to less than 90%, we deem the technique useful"
   ]
  },
  {
   "cell_type": "code",
   "execution_count": 91,
   "metadata": {
    "collapsed": false
   },
   "outputs": [
    {
     "name": "stdout",
     "output_type": "stream",
     "text": [
      "46286 unique artist names\n",
      "269356 unique song names\n"
     ]
    }
   ],
   "source": [
    "# Check the number of unique artist and song names\n",
    "artist_names=set(train_3['artist_name'].unique()) | set(test_3['artist_name'].unique())\n",
    "ARTIST_SIZE=len(artist_names)\n",
    "print(\"%i unique artist names\" % ARTIST_SIZE)\n",
    "del artist_names\n",
    "\n",
    "song_names=set(train_3['song_name'].unique()) | set(test_3['song_name'].unique())\n",
    "SONG_SIZE=len(song_names)\n",
    "print(\"%i unique song names\" % SONG_SIZE)\n",
    "del song_names"
   ]
  },
  {
   "cell_type": "markdown",
   "metadata": {},
   "source": [
    "# Remove special characters from the string\n"
   ]
  },
  {
   "cell_type": "code",
   "execution_count": 92,
   "metadata": {
    "collapsed": false
   },
   "outputs": [
    {
     "name": "stdout",
     "output_type": "stream",
     "text": [
      "9 special characters to check\n"
     ]
    }
   ],
   "source": [
    "SPECIAL_CHARS=['(', ')', '|', '/', '&', '+', ',']\n",
    "# Punctuations from Chinese\n",
    "SPECIAL_CHARS+=['《》｜、＆＋，']\n",
    "# Punctuations from other languages\n",
    "SPECIAL_CHARS+=['「」『』']\n",
    "print(\"%i special characters to check\" % len(SPECIAL_CHARS))\n",
    "\n",
    "def remove_special_char(x):\n",
    "    if not type(x)==str:\n",
    "        print(\"What is this %s: %s\" % (str(x), str(type(x))))\n",
    "        return x\n",
    "    # Find the first index of special char\n",
    "    idx=min([x.find(c) for c in SPECIAL_CHARS])\n",
    "    \n",
    "    # If the content is not English\n",
    "    if all(ord(char) < 128 for char in str(x)):\n",
    "        return x[:idx]\n",
    "    else:\n",
    "        # If not English, space can be a separator\n",
    "        idx=min(idx, x.find(' '))\n",
    "        return x[:idx]"
   ]
  },
  {
   "cell_type": "code",
   "execution_count": 93,
   "metadata": {
    "collapsed": false
   },
   "outputs": [],
   "source": [
    "train_3['artist_main']=train_3['artist_name'].apply(remove_special_char)\n",
    "test_3['artist_main']=test_3['artist_name'].apply(remove_special_char)\n",
    "\n",
    "train_3['song_main']=train_3['song_name'].apply(remove_special_char)\n",
    "test_3['song_main']=test_3['song_name'].apply(remove_special_char)\n"
   ]
  },
  {
   "cell_type": "code",
   "execution_count": 94,
   "metadata": {
    "collapsed": false
   },
   "outputs": [
    {
     "name": "stdout",
     "output_type": "stream",
     "text": [
      "Reduced artist names by 0.021432\n",
      "Reduced song names by 0.037556\n"
     ]
    }
   ],
   "source": [
    "# How many artist names are there now\n",
    "artist_names=set(train_3['artist_main'].unique()) | set(test_3['artist_main'].unique())\n",
    "print(\"Reduced artist names by %f\" % (1.0-(len(artist_names)/ARTIST_SIZE)))\n",
    "del artist_names\n",
    "\n",
    "# How many song names are there now\n",
    "song_names=set(train_3['song_main'].unique()) | set(test_3['song_main'].unique())\n",
    "print(\"Reduced song names by %f\" % (1.0-(len(song_names)/SONG_SIZE)))\n",
    "del song_names"
   ]
  },
  {
   "cell_type": "markdown",
   "metadata": {},
   "source": [
    "# Some special character has three parts\n",
    "Example: pre (in) post"
   ]
  },
  {
   "cell_type": "markdown",
   "metadata": {},
   "source": [
    "# Conclusion: \n",
    "song_pre_parenthesis, song_pre_titlemark, artist_in_parenthesis, artist_in_titlemark, song_in_parenthesis, song_in_titlemark should be kept"
   ]
  },
  {
   "cell_type": "code",
   "execution_count": 95,
   "metadata": {
    "collapsed": true
   },
   "outputs": [],
   "source": [
    "def split_parenthesis(x):\n",
    "    if '(' in str(x):\n",
    "        pre=x[:x.find(\"(\")].strip()\n",
    "        mid=x[x.find(\"(\")+1:x.find(\")\")].strip()\n",
    "        post=x[x.rfind(\")\")+1:].strip()\n",
    "    elif '（' in str(x):\n",
    "        pre=x[:x.find(\"（\")].strip()\n",
    "        mid=x[x.find(\"（\")+1:x.find(\"）\")].strip()\n",
    "        post=x[x.rfind(\"）\")+1:].strip()\n",
    "    elif '「' in str(x):\n",
    "        pre=x[:x.find(\"「\")].strip()\n",
    "        mid=x[x.find(\"「\")+1:x.find(\"」\")].strip()\n",
    "        post=x[x.rfind(\"」\")+1:].strip()\n",
    "    elif '『' in str(x):\n",
    "        pre=x[:x.find(\"『\")].strip()\n",
    "        mid=x[x.find(\"（『\")+1:x.find(\"』\")].strip()\n",
    "        post=x[x.rfind(\"』\")+1:].strip()\n",
    "    else:\n",
    "        pre=x\n",
    "        mid='empty'\n",
    "        post='empty'\n",
    "    return pre, mid, post"
   ]
  },
  {
   "cell_type": "code",
   "execution_count": 96,
   "metadata": {
    "collapsed": true
   },
   "outputs": [],
   "source": [
    "def split_titlemark(x):\n",
    "    if '《' in str(x):\n",
    "        pre=x[:x.find(\"《\")].strip()\n",
    "        mid=x[x.find(\"《\")+1:x.find(\"》\")].strip()\n",
    "        post=x[x.rfind(\"》\")+1:].strip()\n",
    "    else:\n",
    "        pre=x\n",
    "        mid='empty'\n",
    "        post='empty'\n",
    "    return pre, mid, post"
   ]
  },
  {
   "cell_type": "code",
   "execution_count": 97,
   "metadata": {
    "collapsed": true
   },
   "outputs": [],
   "source": [
    "def tri_split(x):\n",
    "    pre_par, in_par, post_par=split_parenthesis(x)\n",
    "    \n",
    "    pre_title, in_title, post_title=split_titlemark(x)\n",
    "    \n",
    "    return pre_par, in_par, pre_title, in_title"
   ]
  },
  {
   "cell_type": "code",
   "execution_count": 98,
   "metadata": {
    "collapsed": true
   },
   "outputs": [],
   "source": [
    "split_train=train_3['artist_name'].apply(tri_split).to_frame()\n",
    "train_3[['artist_pre_parenthesis', 'artist_in_parenthesis', 'artist_pre_titlemark', 'artist_in_titlemark']]=pd.DataFrame(split_train['artist_name'].tolist())\n",
    "\n",
    "split_test=test_3['artist_name'].apply(tri_split).to_frame()\n",
    "test_3[['artist_pre_parenthesis', 'artist_in_parenthesis', 'artist_pre_titlemark', 'artist_in_titlemark']]=pd.DataFrame(split_test['artist_name'].tolist())\n",
    "\n",
    "# Parenthesis and titlemarks dont really work for artist\n",
    "drop_cols=['artist_pre_parenthesis', 'artist_pre_titlemark']\n",
    "train_3.drop(drop_cols, axis=1, inplace=True)\n",
    "test_3.drop(drop_cols, axis=1, inplace=True)"
   ]
  },
  {
   "cell_type": "code",
   "execution_count": 99,
   "metadata": {
    "collapsed": true
   },
   "outputs": [],
   "source": [
    "split_train=train_3['song_name'].apply(tri_split).to_frame()\n",
    "train_3[['song_pre_parenthesis', 'song_in_parenthesis', 'song_pre_titlemark', 'song_in_titlemark']]=pd.DataFrame(split_train['song_name'].tolist())\n",
    "\n",
    "split_test=test_3['song_name'].apply(tri_split).to_frame()\n",
    "test_3[['song_pre_parenthesis', 'song_in_parenthesis', 'song_pre_titlemark', 'song_in_titlemark']]=pd.DataFrame(split_test['song_name'].tolist())"
   ]
  },
  {
   "cell_type": "code",
   "execution_count": 100,
   "metadata": {
    "collapsed": false,
    "scrolled": true
   },
   "outputs": [
    {
     "name": "stdout",
     "output_type": "stream",
     "text": [
      "<class 'pandas.core.frame.DataFrame'>\n",
      "Int64Index: 7377418 entries, 0 to 7377417\n",
      "Data columns (total 56 columns):\n",
      "msno                              object\n",
      "song_id                           object\n",
      "source_system_tab                 object\n",
      "source_screen_name                object\n",
      "source_type                       object\n",
      "target                            int64\n",
      "song_length                       float64\n",
      "genre_ids                         object\n",
      "artist_name                       object\n",
      "composer                          object\n",
      "lyricist                          object\n",
      "language                          float64\n",
      "short_song                        float64\n",
      "mean_length_distance              float64\n",
      "city                              int64\n",
      "bd                                float64\n",
      "gender                            object\n",
      "registered_via                    int64\n",
      "membership_days                   int16\n",
      "registration_timestamp            float64\n",
      "expiration_timestamp              float64\n",
      "song_name                         object\n",
      "country_code                      object\n",
      "issuer                            object\n",
      "issue_year                        float64\n",
      "unique_id                         object\n",
      "genre_ids_count                   int8\n",
      "lyricists_count                   int8\n",
      "composer_count                    int8\n",
      "artist_count                      int8\n",
      "is_featured                       int8\n",
      "feat_artist                       object\n",
      "main_artist                       object\n",
      "feat_song_name                    object\n",
      "main_song_name                    object\n",
      "is_remix                          int8\n",
      "is_live                           int8\n",
      "is_acoustic                       int8\n",
      "is_instrumental                   int8\n",
      "artist_is_composer                int8\n",
      "artist_is_composer_is_lyricist    int8\n",
      "song_lang_magic                   int8\n",
      "count_song_played                 int16\n",
      "count_artist_played               int16\n",
      "count_composer_played             int16\n",
      "count_lyricist_played             int16\n",
      "count_member_action               int16\n",
      "member_action_per_day             float64\n",
      "artist_main                       object\n",
      "song_main                         object\n",
      "artist_in_parenthesis             object\n",
      "artist_in_titlemark               object\n",
      "song_pre_parenthesis              object\n",
      "song_in_parenthesis               object\n",
      "song_pre_titlemark                object\n",
      "song_in_titlemark                 object\n",
      "dtypes: float64(9), int16(6), int64(3), int8(12), object(26)\n",
      "memory usage: 2.3+ GB\n"
     ]
    }
   ],
   "source": [
    "train_3.info()"
   ]
  },
  {
   "cell_type": "code",
   "execution_count": 101,
   "metadata": {
    "collapsed": true
   },
   "outputs": [],
   "source": [
    "# Drop pre-punctuation filtering raw string\n",
    "train_3.drop(['artist_name', 'song_name'], axis=1, inplace=True)\n",
    "test_3.drop(['artist_name', 'song_name'], axis=1, inplace=True)"
   ]
  },
  {
   "cell_type": "markdown",
   "metadata": {},
   "source": [
    "# Integrate pre-PCAed genre columns\n",
    "# And replace genre_ids column"
   ]
  },
  {
   "cell_type": "code",
   "execution_count": null,
   "metadata": {
    "collapsed": true
   },
   "outputs": [],
   "source": []
  },
  {
   "cell_type": "code",
   "execution_count": 102,
   "metadata": {
    "collapsed": false
   },
   "outputs": [],
   "source": [
    "train_genres=pd.read_csv(data_path+'train_genres.csv')\n",
    "test_genres=pd.read_csv(data_path+'train_genres.csv')"
   ]
  },
  {
   "cell_type": "code",
   "execution_count": 103,
   "metadata": {
    "collapsed": false,
    "scrolled": true
   },
   "outputs": [
    {
     "name": "stdout",
     "output_type": "stream",
     "text": [
      "<class 'pandas.core.frame.DataFrame'>\n",
      "RangeIndex: 7377418 entries, 0 to 7377417\n",
      "Data columns (total 13 columns):\n",
      "Unnamed: 0      int64\n",
      "genre_pca_1     float64\n",
      "genre_pca_2     float64\n",
      "genre_pca_3     float64\n",
      "genre_pca_4     float64\n",
      "genre_pca_5     float64\n",
      "genre_pca_6     float64\n",
      "genre_pca_7     float64\n",
      "genre_pca_8     float64\n",
      "genre_pca_9     float64\n",
      "genre_pca_10    float64\n",
      "genre_pca_11    float64\n",
      "genre_pca_12    float64\n",
      "dtypes: float64(12), int64(1)\n",
      "memory usage: 731.7 MB\n"
     ]
    }
   ],
   "source": [
    "train_genres.info()"
   ]
  },
  {
   "cell_type": "code",
   "execution_count": 104,
   "metadata": {
    "collapsed": false
   },
   "outputs": [],
   "source": [
    "# Add columns to train and test\n",
    "for i in range(1, 13):\n",
    "    column_name='genre_pca_'+str(i)\n",
    "\n",
    "    train_3[column_name]=train_genres[column_name]\n",
    "    test_3[column_name]=test_genres[column_name]"
   ]
  },
  {
   "cell_type": "code",
   "execution_count": 105,
   "metadata": {
    "collapsed": true
   },
   "outputs": [],
   "source": [
    "train_3.drop(['genre_ids'], axis=1, inplace=True)\n",
    "test_3.drop(['genre_ids'], axis=1, inplace=True)"
   ]
  },
  {
   "cell_type": "markdown",
   "metadata": {},
   "source": [
    "# End of phase 3"
   ]
  },
  {
   "cell_type": "code",
   "execution_count": 106,
   "metadata": {
    "collapsed": false,
    "scrolled": true
   },
   "outputs": [
    {
     "name": "stdout",
     "output_type": "stream",
     "text": [
      "<class 'pandas.core.frame.DataFrame'>\n",
      "Int64Index: 7377418 entries, 0 to 7377417\n",
      "Data columns (total 65 columns):\n",
      "msno                              object\n",
      "song_id                           object\n",
      "source_system_tab                 object\n",
      "source_screen_name                object\n",
      "source_type                       object\n",
      "target                            int64\n",
      "song_length                       float64\n",
      "composer                          object\n",
      "lyricist                          object\n",
      "language                          float64\n",
      "short_song                        float64\n",
      "mean_length_distance              float64\n",
      "city                              int64\n",
      "bd                                float64\n",
      "gender                            object\n",
      "registered_via                    int64\n",
      "membership_days                   int16\n",
      "registration_timestamp            float64\n",
      "expiration_timestamp              float64\n",
      "country_code                      object\n",
      "issuer                            object\n",
      "issue_year                        float64\n",
      "unique_id                         object\n",
      "genre_ids_count                   int8\n",
      "lyricists_count                   int8\n",
      "composer_count                    int8\n",
      "artist_count                      int8\n",
      "is_featured                       int8\n",
      "feat_artist                       object\n",
      "main_artist                       object\n",
      "feat_song_name                    object\n",
      "main_song_name                    object\n",
      "is_remix                          int8\n",
      "is_live                           int8\n",
      "is_acoustic                       int8\n",
      "is_instrumental                   int8\n",
      "artist_is_composer                int8\n",
      "artist_is_composer_is_lyricist    int8\n",
      "song_lang_magic                   int8\n",
      "count_song_played                 int16\n",
      "count_artist_played               int16\n",
      "count_composer_played             int16\n",
      "count_lyricist_played             int16\n",
      "count_member_action               int16\n",
      "member_action_per_day             float64\n",
      "artist_main                       object\n",
      "song_main                         object\n",
      "artist_in_parenthesis             object\n",
      "artist_in_titlemark               object\n",
      "song_pre_parenthesis              object\n",
      "song_in_parenthesis               object\n",
      "song_pre_titlemark                object\n",
      "song_in_titlemark                 object\n",
      "genre_pca_1                       float64\n",
      "genre_pca_2                       float64\n",
      "genre_pca_3                       float64\n",
      "genre_pca_4                       float64\n",
      "genre_pca_5                       float64\n",
      "genre_pca_6                       float64\n",
      "genre_pca_7                       float64\n",
      "genre_pca_8                       float64\n",
      "genre_pca_9                       float64\n",
      "genre_pca_10                      float64\n",
      "genre_pca_11                      float64\n",
      "genre_pca_12                      float64\n",
      "dtypes: float64(21), int16(6), int64(3), int8(12), object(23)\n",
      "memory usage: 2.8+ GB\n"
     ]
    }
   ],
   "source": [
    "train_3.info()"
   ]
  },
  {
   "cell_type": "code",
   "execution_count": null,
   "metadata": {
    "collapsed": true
   },
   "outputs": [],
   "source": [
    "train_3.to_csv(data_path + 'train_phase4.csv')\n",
    "test_3.to_csv(data_path + 'test_phase4.csv')"
   ]
  },
  {
   "cell_type": "markdown",
   "metadata": {},
   "source": [
    "# Phase 4"
   ]
  },
  {
   "cell_type": "markdown",
   "metadata": {},
   "source": [
    "# Integrate pre-PCAed keyword columns"
   ]
  },
  {
   "cell_type": "code",
   "execution_count": 107,
   "metadata": {
    "collapsed": false
   },
   "outputs": [],
   "source": [
    "train_keywords=pd.read_csv(data_path+'train_keywords.csv')\n",
    "test_keywords=pd.read_csv(data_path+'test_keywords.csv')"
   ]
  },
  {
   "cell_type": "code",
   "execution_count": 108,
   "metadata": {
    "collapsed": false
   },
   "outputs": [
    {
     "name": "stdout",
     "output_type": "stream",
     "text": [
      "<class 'pandas.core.frame.DataFrame'>\n",
      "RangeIndex: 7377418 entries, 0 to 7377417\n",
      "Data columns (total 3 columns):\n",
      "Unnamed: 0               int64\n",
      "keyword_cluster_pca_0    float64\n",
      "keyword_cluster_pca_1    float64\n",
      "dtypes: float64(2), int64(1)\n",
      "memory usage: 168.9 MB\n"
     ]
    }
   ],
   "source": [
    "train_keywords.info()"
   ]
  },
  {
   "cell_type": "code",
   "execution_count": 109,
   "metadata": {
    "collapsed": true
   },
   "outputs": [],
   "source": [
    "# Add columns to train and test\n",
    "train_3['keyword_cluster_pca_0']=train_keywords['keyword_cluster_pca_0']\n",
    "train_3['keyword_cluster_pca_1']=train_keywords['keyword_cluster_pca_1']\n",
    "\n",
    "test_3['keyword_cluster_pca_0']=test_keywords['keyword_cluster_pca_0']\n",
    "test_3['keyword_cluster_pca_1']=test_keywords['keyword_cluster_pca_1']"
   ]
  },
  {
   "cell_type": "markdown",
   "metadata": {
    "collapsed": true
   },
   "source": [
    "# End of Phase 4"
   ]
  },
  {
   "cell_type": "markdown",
   "metadata": {},
   "source": [
    "# Phase 5\n",
    "Phase 5 removes features from previous phases, instead of adding new ones"
   ]
  },
  {
   "cell_type": "code",
   "execution_count": 110,
   "metadata": {
    "collapsed": true
   },
   "outputs": [],
   "source": [
    "train_3.to_csv(data_path + 'train_phase5.csv')\n",
    "test_3.to_csv(data_path + 'test_phase5.csv')"
   ]
  },
  {
   "cell_type": "code",
   "execution_count": null,
   "metadata": {
    "collapsed": true
   },
   "outputs": [],
   "source": []
  },
  {
   "cell_type": "markdown",
   "metadata": {},
   "source": [
    "# This is how the genre_ids are converted to PCAed columns\n",
    "# Skip this if train_genres.csv and test_genres.csv are available"
   ]
  },
  {
   "cell_type": "markdown",
   "metadata": {},
   "source": [
    "# One-hot conversion of genre_ids"
   ]
  },
  {
   "cell_type": "code",
   "execution_count": 107,
   "metadata": {
    "collapsed": true
   },
   "outputs": [],
   "source": [
    "# One hot-convert genre ids\n",
    "GENRE_SET=set([])\n",
    "\n",
    "def collect_genre(x):\n",
    "    parts=x.split('|')\n",
    "    global GENRE_SET\n",
    "    siz=len(GENRE_SET)\n",
    "    for s in parts:\n",
    "        if s=='empty':\n",
    "            return\n",
    "        else:\n",
    "            GENRE_SET.add(int(s))\n",
    "    if len(GENRE_SET)>siz:\n",
    "        print(\"Now %i genres\" % len(GENRE_SET))"
   ]
  },
  {
   "cell_type": "code",
   "execution_count": 109,
   "metadata": {
    "collapsed": false
   },
   "outputs": [
    {
     "name": "stdout",
     "output_type": "stream",
     "text": [
      "172 genres in total\n"
     ]
    }
   ],
   "source": [
    "train_3['genre_ids'].apply(collect_genre)\n",
    "test_3['genre_ids'].apply(collect_genre)\n",
    "print('%i genres in total' % len(GENRE_SET))"
   ]
  },
  {
   "cell_type": "code",
   "execution_count": 110,
   "metadata": {
    "collapsed": false,
    "scrolled": true
   },
   "outputs": [
    {
     "name": "stdout",
     "output_type": "stream",
     "text": [
      "New column genre 1026, 1/172\n",
      "New column genre 516, 2/172\n",
      "New column genre 2052, 3/172\n",
      "New column genre 1033, 4/172\n",
      "New column genre 2058, 5/172\n",
      "New column genre 1040, 6/172\n",
      "New column genre 2065, 7/172\n",
      "New column genre 531, 8/172\n",
      "New column genre 1047, 9/172\n",
      "New column genre 2072, 10/172\n",
      "New column genre 1054, 11/172\n",
      "New column genre 2079, 12/172\n",
      "New column genre 1568, 13/172\n",
      "New column genre 545, 14/172\n",
      "New column genre 1572, 15/172\n",
      "New column genre 1061, 16/172\n",
      "New column genre 2086, 17/172\n",
      "New column genre 1579, 18/172\n",
      "New column genre 1068, 19/172\n",
      "New column genre 2093, 20/172\n",
      "New column genre 2045, 21/172\n",
      "New column genre 2100, 22/172\n",
      "New column genre 1082, 23/172\n",
      "New column genre 2107, 24/172\n",
      "New column genre 2109, 25/172\n",
      "New column genre 1598, 26/172\n",
      "New column genre 1089, 27/172\n",
      "New column genre 2116, 28/172\n",
      "New column genre 1605, 29/172\n",
      "New column genre 1096, 30/172\n",
      "New column genre 1609, 31/172\n",
      "New column genre 2122, 32/172\n",
      "New column genre 1103, 33/172\n",
      "New column genre 1616, 34/172\n",
      "New column genre 2127, 35/172\n",
      "New column genre 2130, 36/172\n",
      "New column genre 1110, 37/172\n",
      "New column genre 87, 38/172\n",
      "New column genre 1117, 39/172\n",
      "New column genre 94, 40/172\n",
      "New column genre 95, 41/172\n",
      "New column genre 1630, 42/172\n",
      "New column genre 1633, 43/172\n",
      "New column genre 2144, 44/172\n",
      "New column genre 1124, 45/172\n",
      "New column genre 102, 46/172\n",
      "New column genre 2150, 47/172\n",
      "New column genre 1131, 48/172\n",
      "New column genre 109, 49/172\n",
      "New column genre 2157, 50/172\n",
      "New column genre 1138, 51/172\n",
      "New column genre 118, 52/172\n",
      "New column genre 1145, 53/172\n",
      "New column genre 2172, 54/172\n",
      "New column genre 125, 55/172\n",
      "New column genre 1152, 56/172\n",
      "New column genre 2176, 57/172\n",
      "New column genre 1155, 58/172\n",
      "New column genre 2183, 59/172\n",
      "New column genre 649, 60/172\n",
      "New column genre 1162, 61/172\n",
      "New column genre 139, 62/172\n",
      "New column genre 2189, 63/172\n",
      "New column genre 656, 64/172\n",
      "New column genre 1169, 65/172\n",
      "New column genre 2194, 66/172\n",
      "New column genre 2192, 67/172\n",
      "New column genre 152, 68/172\n",
      "New column genre 1180, 69/172\n",
      "New column genre 670, 70/172\n",
      "New column genre 2206, 71/172\n",
      "New column genre 1187, 72/172\n",
      "New column genre 2213, 73/172\n",
      "New column genre 677, 74/172\n",
      "New column genre 2215, 75/172\n",
      "New column genre 166, 76/172\n",
      "New column genre 1194, 77/172\n",
      "New column genre 2219, 78/172\n",
      "New column genre 1201, 79/172\n",
      "New column genre 177, 80/172\n",
      "New column genre 691, 81/172\n",
      "New column genre 184, 82/172\n",
      "New column genre 1208, 83/172\n",
      "New column genre 698, 84/172\n",
      "New column genre 191, 85/172\n",
      "New column genre 2245, 86/172\n",
      "New column genre 198, 87/172\n",
      "New column genre 712, 88/172\n",
      "New column genre 2248, 89/172\n",
      "New column genre 205, 90/172\n",
      "New column genre 719, 91/172\n",
      "New column genre 212, 92/172\n",
      "New column genre 726, 93/172\n",
      "New column genre 744, 94/172\n",
      "New column genre 1259, 95/172\n",
      "New column genre 751, 96/172\n",
      "New column genre 242, 97/172\n",
      "New column genre 1266, 98/172\n",
      "New column genre 1273, 99/172\n",
      "New column genre 252, 100/172\n",
      "New column genre 765, 101/172\n",
      "New column genre 1280, 102/172\n",
      "New column genre 1287, 103/172\n",
      "New column genre 779, 104/172\n",
      "New column genre 786, 105/172\n",
      "New column genre 275, 106/172\n",
      "New column genre 282, 107/172\n",
      "New column genre 798, 108/172\n",
      "New column genre 808, 109/172\n",
      "New column genre 296, 110/172\n",
      "New column genre 303, 111/172\n",
      "New column genre 822, 112/172\n",
      "New column genre 310, 113/172\n",
      "New column genre 829, 114/172\n",
      "New column genre 843, 115/172\n",
      "New column genre 331, 116/172\n",
      "New column genre 850, 117/172\n",
      "New column genre 338, 118/172\n",
      "New column genre 857, 119/172\n",
      "New column genre 864, 120/172\n",
      "New column genre 352, 121/172\n",
      "New column genre 359, 122/172\n",
      "New column genre 873, 123/172\n",
      "New column genre 367, 124/172\n",
      "New column genre 880, 125/172\n",
      "New column genre 374, 126/172\n",
      "New column genre 893, 127/172\n",
      "New column genre 381, 128/172\n",
      "New column genre 388, 129/172\n",
      "New column genre 900, 130/172\n",
      "New column genre 907, 131/172\n",
      "New column genre 402, 132/172\n",
      "New column genre 1944, 133/172\n",
      "New column genre 921, 134/172\n",
      "New column genre 409, 135/172\n",
      "New column genre 416, 136/172\n",
      "New column genre 1955, 137/172\n",
      "New column genre 423, 138/172\n",
      "New column genre 940, 139/172\n",
      "New column genre 1965, 140/172\n",
      "New column genre 430, 141/172\n",
      "New column genre 1969, 142/172\n",
      "New column genre 947, 143/172\n",
      "New column genre 437, 144/172\n",
      "New column genre 1977, 145/172\n",
      "New column genre 444, 146/172\n",
      "New column genre 1981, 147/172\n",
      "New column genre 958, 148/172\n",
      "New column genre 451, 149/172\n",
      "New column genre 1988, 150/172\n",
      "New column genre 965, 151/172\n",
      "New column genre 458, 152/172\n",
      "New column genre 1995, 153/172\n",
      "New column genre 972, 154/172\n",
      "New column genre 465, 155/172\n",
      "New column genre 979, 156/172\n",
      "New column genre 2008, 157/172\n",
      "New column genre 474, 158/172\n",
      "New column genre 986, 159/172\n",
      "New column genre 2015, 160/172\n",
      "New column genre 481, 161/172\n",
      "New column genre 993, 162/172\n",
      "New column genre 2022, 163/172\n",
      "New column genre 1000, 164/172\n",
      "New column genre 488, 165/172\n",
      "New column genre 2029, 166/172\n",
      "New column genre 1007, 167/172\n",
      "New column genre 2032, 168/172\n",
      "New column genre 1011, 169/172\n",
      "New column genre 502, 170/172\n",
      "New column genre 1019, 171/172\n",
      "New column genre 509, 172/172\n",
      "In total this cost 0:21:50.850911\n"
     ]
    }
   ],
   "source": [
    "def find_genre(x, g):\n",
    "    return g in x\n",
    "\n",
    "# For each genre generate one column whether the song has this genre\n",
    "# Estimated 172 features to generate, it takes very long\n",
    "from datetime import datetime\n",
    "i=1\n",
    "before=datetime.now()\n",
    "for k in GENRE_SET:\n",
    "    new_feature_name='genre_'+str(k)\n",
    "    print(\"New column genre %i, %i/%i\" % (k, i, len(GENRE_SET)))\n",
    "    \n",
    "    train_3[new_feature_name]=train_3['genre_ids'].apply(lambda x: find_genre(x, str(k))).astype(np.int8)\n",
    "    test_3[new_feature_name]=train_3['genre_ids'].apply(lambda x: find_genre(x, str(k))).astype(np.int8)\n",
    "    \n",
    "    i+=1\n",
    "after=datetime.now()\n",
    "print(\"In total this cost %s\" % str(after-before))"
   ]
  },
  {
   "cell_type": "code",
   "execution_count": 111,
   "metadata": {
    "collapsed": true
   },
   "outputs": [],
   "source": [
    "genre_names=[\"genre_\"+str(x) for x in list(GENRE_SET)]"
   ]
  },
  {
   "cell_type": "code",
   "execution_count": 114,
   "metadata": {
    "collapsed": true
   },
   "outputs": [],
   "source": [
    "# The target matrix for PCA\n",
    "train_genres=train_3[genre_names]\n",
    "test_genres=test_3[genre_names]"
   ]
  },
  {
   "cell_type": "code",
   "execution_count": 115,
   "metadata": {
    "collapsed": false
   },
   "outputs": [
    {
     "name": "stdout",
     "output_type": "stream",
     "text": [
      "<class 'pandas.core.frame.DataFrame'>\n",
      "Int64Index: 7377418 entries, 0 to 7377417\n",
      "Columns: 172 entries, genre_1026 to genre_509\n",
      "dtypes: int8(172)\n",
      "memory usage: 1.5 GB\n",
      "None\n",
      "<class 'pandas.core.frame.DataFrame'>\n",
      "Int64Index: 2556790 entries, 0 to 2556789\n",
      "Columns: 172 entries, genre_1026 to genre_509\n",
      "dtypes: int8(172)\n",
      "memory usage: 438.9 MB\n",
      "None\n"
     ]
    }
   ],
   "source": [
    "print(train_genres.info())\n",
    "print(test_genres.info())"
   ]
  },
  {
   "cell_type": "code",
   "execution_count": 116,
   "metadata": {
    "collapsed": true
   },
   "outputs": [],
   "source": [
    "genre_mat=pd.concat([train_genres, test_genres])"
   ]
  },
  {
   "cell_type": "code",
   "execution_count": 117,
   "metadata": {
    "collapsed": false
   },
   "outputs": [
    {
     "name": "stdout",
     "output_type": "stream",
     "text": [
      "<class 'pandas.core.frame.DataFrame'>\n",
      "Int64Index: 9934208 entries, 0 to 2556789\n",
      "Columns: 172 entries, genre_1026 to genre_509\n",
      "dtypes: int8(172)\n",
      "memory usage: 1.7 GB\n"
     ]
    }
   ],
   "source": [
    "genre_mat.info()"
   ]
  },
  {
   "cell_type": "code",
   "execution_count": 126,
   "metadata": {
    "collapsed": false
   },
   "outputs": [
    {
     "name": "stdout",
     "output_type": "stream",
     "text": [
      "0.958988038691\n"
     ]
    }
   ],
   "source": [
    "from sklearn.decomposition import IncrementalPCA\n",
    "\n",
    "PCA_COMPONENTS=12\n",
    "\n",
    "before=datetime.now()\n",
    "pca = IncrementalPCA(n_components=20, batch_size=172) # default batch_size is 5*feature_num which can blow you up\n",
    "pca.fit(genre_mat.values)\n",
    "after=datetime.now()\n",
    "print('PCA cost %s' % str(after-before))\n",
    "\n",
    "print('Explained %f of variance' % pca.explained_variance_ratio_.sum())"
   ]
  },
  {
   "cell_type": "code",
   "execution_count": 128,
   "metadata": {
    "collapsed": true
   },
   "outputs": [],
   "source": [
    "genre_pca=pca.transform(genre_mat)\n",
    "print(\"Dimensional reduced matrix has shape %s\" % str(genre_pca.shape))"
   ]
  },
  {
   "cell_type": "code",
   "execution_count": 149,
   "metadata": {
    "collapsed": false
   },
   "outputs": [
    {
     "data": {
      "text/plain": [
       "dtype('float64')"
      ]
     },
     "execution_count": 149,
     "metadata": {},
     "output_type": "execute_result"
    }
   ],
   "source": [
    "genre_pca[0,0].dtype"
   ]
  },
  {
   "cell_type": "code",
   "execution_count": 152,
   "metadata": {
    "collapsed": true
   },
   "outputs": [],
   "source": [
    "# Convert from float64 to float32\n",
    "genre_pca=genre_pca.astype('float32',casting='same_kind')"
   ]
  },
  {
   "cell_type": "code",
   "execution_count": 153,
   "metadata": {
    "collapsed": false
   },
   "outputs": [
    {
     "name": "stdout",
     "output_type": "stream",
     "text": [
      "Training set(7377418 rows) has genres of shape (7377418, 20)\n",
      "Test set(2556790 rows) has genres of shape (2556790, 20)\n"
     ]
    }
   ],
   "source": [
    "# Split back to train and test sets\n",
    "gtrain, gtest=np.vsplit(genre_pca, [TRAIN_SIZE])\n",
    "print(\"Training set(%i rows) has genres of shape %s\" % (TRAIN_SIZE, str(gtrain.shape)))\n",
    "print(\"Test set(%i rows) has genres of shape %s\" % (TEST_SIZE, str(gtest.shape)))"
   ]
  },
  {
   "cell_type": "code",
   "execution_count": 154,
   "metadata": {
    "collapsed": false,
    "scrolled": true
   },
   "outputs": [
    {
     "name": "stdout",
     "output_type": "stream",
     "text": [
      "New genre names: ['genre_pca_1', 'genre_pca_2', 'genre_pca_3', 'genre_pca_4', 'genre_pca_5', 'genre_pca_6', 'genre_pca_7', 'genre_pca_8', 'genre_pca_9', 'genre_pca_10', 'genre_pca_11', 'genre_pca_12', 'genre_pca_13', 'genre_pca_14', 'genre_pca_15', 'genre_pca_16', 'genre_pca_17', 'genre_pca_18', 'genre_pca_19', 'genre_pca_20']\n",
      "<class 'pandas.core.frame.DataFrame'>\n",
      "Int64Index: 7377418 entries, 0 to 7377417\n",
      "Data columns (total 21 columns):\n",
      "temp            float64\n",
      "genre_pca_1     float32\n",
      "genre_pca_2     float32\n",
      "genre_pca_3     float32\n",
      "genre_pca_4     float32\n",
      "genre_pca_5     float32\n",
      "genre_pca_6     float32\n",
      "genre_pca_7     float32\n",
      "genre_pca_8     float32\n",
      "genre_pca_9     float32\n",
      "genre_pca_10    float32\n",
      "genre_pca_11    float32\n",
      "genre_pca_12    float32\n",
      "genre_pca_13    float32\n",
      "genre_pca_14    float32\n",
      "genre_pca_15    float32\n",
      "genre_pca_16    float32\n",
      "genre_pca_17    float32\n",
      "genre_pca_18    float32\n",
      "genre_pca_19    float32\n",
      "genre_pca_20    float32\n",
      "dtypes: float32(20), float64(1)\n",
      "memory usage: 995.4 MB\n",
      "New train dataframe: None\n",
      "<class 'pandas.core.frame.DataFrame'>\n",
      "Int64Index: 2556790 entries, 0 to 2556789\n",
      "Data columns (total 20 columns):\n",
      "genre_pca_1     float32\n",
      "genre_pca_2     float32\n",
      "genre_pca_3     float32\n",
      "genre_pca_4     float32\n",
      "genre_pca_5     float32\n",
      "genre_pca_6     float32\n",
      "genre_pca_7     float32\n",
      "genre_pca_8     float32\n",
      "genre_pca_9     float32\n",
      "genre_pca_10    float32\n",
      "genre_pca_11    float32\n",
      "genre_pca_12    float32\n",
      "genre_pca_13    float32\n",
      "genre_pca_14    float32\n",
      "genre_pca_15    float32\n",
      "genre_pca_16    float32\n",
      "genre_pca_17    float32\n",
      "genre_pca_18    float32\n",
      "genre_pca_19    float32\n",
      "genre_pca_20    float32\n",
      "dtypes: float32(20)\n",
      "memory usage: 214.6 MB\n",
      "New test dataframe: None\n"
     ]
    }
   ],
   "source": [
    "new_genre_names=['genre_pca_'+str(i) for i in range(1, 21)]\n",
    "print(\"New genre names: %s\" % str(new_genre_names))\n",
    "\n",
    "for i in range(20):\n",
    "    train_pca[new_genre_names[i]]=gtrain[:, i]\n",
    "    test_pca[new_genre_names[i]]=gtest[:, i]\n",
    "    \n",
    "print(\"New train dataframe: %s\" % str(train_pca.info()))\n",
    "print(\"New test dataframe: %s\" % str(test_pca.info()))"
   ]
  },
  {
   "cell_type": "code",
   "execution_count": 155,
   "metadata": {
    "collapsed": true
   },
   "outputs": [],
   "source": [
    "# Output to csv as a backup\n",
    "train_pca.to_csv(data_path+'train_genres.csv')\n",
    "test_pca.to_csv(data_path+'test_genres.csv')"
   ]
  },
  {
   "cell_type": "code",
   "execution_count": 157,
   "metadata": {
    "collapsed": true
   },
   "outputs": [],
   "source": [
    "# drop genre columns\n",
    "genre_names=[\"genre_\"+str(x) for x in list(GENRE_SET)]\n",
    "genre_names.append('genre_ids')\n",
    "train_3.drop(genre_names, inplace=True, axis=1)\n",
    "test_3.drop(genre_names, inplace=True, axis=1)"
   ]
  },
  {
   "cell_type": "code",
   "execution_count": null,
   "metadata": {
    "collapsed": true
   },
   "outputs": [],
   "source": [
    "# Add PCA columns\n",
    "names=list(train_pca.columns.values)[1:]\n",
    "names"
   ]
  },
  {
   "cell_type": "markdown",
   "metadata": {},
   "source": [
    "# Cluster on heuristically defined keywords\n",
    "# Skip this part if train_keywords.csv and test_keywords.csv are available"
   ]
  },
  {
   "cell_type": "code",
   "execution_count": 148,
   "metadata": {
    "collapsed": true
   },
   "outputs": [],
   "source": [
    "keyword_file=open(data_path+'keywords.txt')\n",
    "keyword_content=keyword_file.readlines()"
   ]
  },
  {
   "cell_type": "code",
   "execution_count": 149,
   "metadata": {
    "collapsed": false
   },
   "outputs": [
    {
     "data": {
      "text/plain": [
       "['# 1 instrumental\\n',\n",
       " 'instr\\n',\n",
       " '演奏\\n',\n",
       " '配樂\\n',\n",
       " '楽器\\n',\n",
       " '琵琶\\n',\n",
       " 'piano\\n',\n",
       " '钢琴\\n',\n",
       " '大提琴\\n',\n",
       " 'violin\\n',\n",
       " '小提琴\\n',\n",
       " '二胡\\n',\n",
       " '古筝\\n',\n",
       " '# 2 tv\\n',\n",
       " 'theme\\n',\n",
       " 'tv\\n',\n",
       " '電視劇 电视剧\\n',\n",
       " '電視 电视\\n',\n",
       " '原聲 原声\\n',\n",
       " '主題曲 主题曲\\n',\n",
       " '影視 影视\\n',\n",
       " '# 3 general_songs\\n',\n",
       " '歌曲\\n',\n",
       " '歌謠 歌谣\\n',\n",
       " '情歌\\n',\n",
       " '原創 原创\\n',\n",
       " '# 4 live\\n',\n",
       " 'live\\n',\n",
       " 'concert\\n',\n",
       " '演唱\\n',\n",
       " '現場 现场\\n',\n",
       " '實錄 实录\\n',\n",
       " '演出\\n',\n",
       " '演奏\\n',\n",
       " '# 5 collection\\n',\n",
       " 'collection\\n',\n",
       " 'anniversary\\n',\n",
       " '金曲\\n',\n",
       " '系列 \\n',\n",
       " '精選 精选\\n',\n",
       " '紀念 纪念\\n',\n",
       " '週年 周年 \\n',\n",
       " '寶典 宝典\\n',\n",
       " '集\\n',\n",
       " '系列\\n',\n",
       " '大賞 大赏\\n',\n",
       " '全集\\n',\n",
       " '合輯 合辑\\n',\n",
       " '大全\\n',\n",
       " '篇\\n',\n",
       " '# 6 recommendation\\n',\n",
       " 'best\\n',\n",
       " 'hits\\n',\n",
       " '推薦 推荐\\n',\n",
       " '票選 票选\\n',\n",
       " '人氣 人气\\n',\n",
       " '勁歌 劲歌\\n',\n",
       " '排行\\n',\n",
       " 'k歌 \\n',\n",
       " '魅力\\n',\n",
       " '網路 网络\\n',\n",
       " '金曲 \\n',\n",
       " '獎 奖\\n',\n",
       " '冠軍 冠军\\n',\n",
       " '黃金 黄金\\n',\n",
       " '典藏\\n',\n",
       " '# 7 entertainment\\n',\n",
       " '娛樂 娱乐\\n',\n",
       " '廣播 广播\\n',\n",
       " '電音 电音\\n',\n",
       " '廣告 广告\\n',\n",
       " '101\\n',\n",
       " '# 8 type\\n',\n",
       " '舞曲\\n',\n",
       " '搖滾 摇滚\\n',\n",
       " '藍調 蓝调\\n',\n",
       " '童謠 童谣\\n',\n",
       " '民謠 民谣\\n',\n",
       " 'r&b\\n',\n",
       " '美聲 美声\\n',\n",
       " '交響 交响\\n',\n",
       " '古典 \\n',\n",
       " '民樂 民乐\\n',\n",
       " '流行\\n',\n",
       " '輕樂 轻音乐\\n',\n",
       " '# 9 classic\\n',\n",
       " 'classic\\n',\n",
       " 'orchestra\\n',\n",
       " '經典 经典\\n',\n",
       " '名曲 \\n',\n",
       " '名家\\n',\n",
       " '# 10 dual\\n',\n",
       " '重唱\\n',\n",
       " 'trio\\n',\n",
       " 'dual\\n',\n",
       " '# 11 band\\n',\n",
       " 'various\\n',\n",
       " 'band\\n',\n",
       " '組合 组合 バンド\\n',\n",
       " '樂團 乐团 楽団\\n',\n",
       " '樂隊 乐队 楽隊\\n',\n",
       " '樂坊 乐坊\\n',\n",
       " '團 团 団\\n',\n",
       " '俱樂部 俱乐部\\n',\n",
       " '眾 众\\n',\n",
       " '合唱團 合唱团 合唱団\\n',\n",
       " '群星\\n',\n",
       " '男團 男团\\n',\n",
       " '女團 女团\\n',\n",
       " 'チーム\\n',\n",
       " 'グループ\\n',\n",
       " '# 12 anonymous\\n',\n",
       " 'unknown\\n',\n",
       " '佚名\\n',\n",
       " '# 13 compose\\n',\n",
       " 'compose\\n',\n",
       " '作曲\\n',\n",
       " '# 14 idol\\n',\n",
       " 'idol\\n',\n",
       " '偶像\\n',\n",
       " 'アイドル\\n',\n",
       " '# 15 audio\\n',\n",
       " '有聲 有声\\n',\n",
       " '教學 教学 \\n',\n",
       " '# 16 religion\\n',\n",
       " '佛\\n',\n",
       " '菩薩\\n',\n",
       " '心經\\n',\n",
       " '聖歌 圣歌\\n',\n",
       " '福音\\n',\n",
       " '教會 教会\\n',\n",
       " '# 17 area\\n',\n",
       " '台灣 台湾\\n',\n",
       " '香港\\n',\n",
       " '港澳 港澳\\n',\n",
       " '中國 中国\\n',\n",
       " '日韓 日韩\\n',\n",
       " '日本\\n',\n",
       " '# 18 children\\n',\n",
       " 'children\\n',\n",
       " 'kid\\n',\n",
       " '幼兒\\n',\n",
       " '童話\\n',\n",
       " '孩子\\n',\n",
       " '宝宝 寶寶\\n',\n",
       " '胎教\\n',\n",
       " '# 19 language\\n',\n",
       " '閩南\\n',\n",
       " '廣東話 广东话 \\n',\n",
       " '粤 粵\\n',\n",
       " '國語 国语 \\n',\n",
       " '日語 日语\\n',\n",
       " '# 20 opera\\n',\n",
       " 'opera\\n',\n",
       " '相聲 相声\\n',\n",
       " '劇藝 曲艺\\n',\n",
       " '戲曲 戏曲\\n',\n",
       " '聽書 听书\\n']"
      ]
     },
     "execution_count": 149,
     "metadata": {},
     "output_type": "execute_result"
    }
   ],
   "source": [
    "keyword_content"
   ]
  },
  {
   "cell_type": "code",
   "execution_count": 150,
   "metadata": {
    "collapsed": true
   },
   "outputs": [],
   "source": [
    "KEYWORD_CLUSTERS={}"
   ]
  },
  {
   "cell_type": "code",
   "execution_count": 146,
   "metadata": {
    "collapsed": true
   },
   "outputs": [],
   "source": [
    "def keywords_to_clusters(content):\n",
    "    current_cluster=None\n",
    "    for line in content:\n",
    "        line=line.strip()\n",
    "        \n",
    "        # Starts with # means another cluster\n",
    "        if line.startswith('#'):\n",
    "            print(\"New cluster: %s\" % line)\n",
    "            parts=line.split(' ')\n",
    "            cluster_idx=parts[1].strip()\n",
    "            cluster_name=parts[2].strip()\n",
    "            print(\"Cluster %s is %s\" % (cluster_idx, cluster_name))\n",
    "            \n",
    "            KEYWORD_CLUSTERS[cluster_name]={}\n",
    "            \n",
    "            current_cluster=cluster_name\n",
    "        \n",
    "        else:\n",
    "            parts=line.split(' ')\n",
    "            print('Word %s stands for %s' % (parts[0], str(parts)))\n",
    "            \n",
    "            the_cluster=KEYWORD_CLUSTERS[current_cluster]\n",
    "            the_cluster[parts[0]]=parts\n",
    "            "
   ]
  },
  {
   "cell_type": "code",
   "execution_count": 151,
   "metadata": {
    "collapsed": false
   },
   "outputs": [
    {
     "name": "stdout",
     "output_type": "stream",
     "text": [
      "New cluster: # 1 instrumental\n",
      "Cluster 1 is instrumental\n",
      "Word instr stands for ['instr']\n",
      "Word 演奏 stands for ['演奏']\n",
      "Word 配樂 stands for ['配樂']\n",
      "Word 楽器 stands for ['楽器']\n",
      "Word 琵琶 stands for ['琵琶']\n",
      "Word piano stands for ['piano']\n",
      "Word 钢琴 stands for ['钢琴']\n",
      "Word 大提琴 stands for ['大提琴']\n",
      "Word violin stands for ['violin']\n",
      "Word 小提琴 stands for ['小提琴']\n",
      "Word 二胡 stands for ['二胡']\n",
      "Word 古筝 stands for ['古筝']\n",
      "New cluster: # 2 tv\n",
      "Cluster 2 is tv\n",
      "Word theme stands for ['theme']\n",
      "Word tv stands for ['tv']\n",
      "Word 電視劇 stands for ['電視劇', '电视剧']\n",
      "Word 電視 stands for ['電視', '电视']\n",
      "Word 原聲 stands for ['原聲', '原声']\n",
      "Word 主題曲 stands for ['主題曲', '主题曲']\n",
      "Word 影視 stands for ['影視', '影视']\n",
      "New cluster: # 3 general_songs\n",
      "Cluster 3 is general_songs\n",
      "Word 歌曲 stands for ['歌曲']\n",
      "Word 歌謠 stands for ['歌謠', '歌谣']\n",
      "Word 情歌 stands for ['情歌']\n",
      "Word 原創 stands for ['原創', '原创']\n",
      "New cluster: # 4 live\n",
      "Cluster 4 is live\n",
      "Word live stands for ['live']\n",
      "Word concert stands for ['concert']\n",
      "Word 演唱 stands for ['演唱']\n",
      "Word 現場 stands for ['現場', '现场']\n",
      "Word 實錄 stands for ['實錄', '实录']\n",
      "Word 演出 stands for ['演出']\n",
      "Word 演奏 stands for ['演奏']\n",
      "New cluster: # 5 collection\n",
      "Cluster 5 is collection\n",
      "Word collection stands for ['collection']\n",
      "Word anniversary stands for ['anniversary']\n",
      "Word 金曲 stands for ['金曲']\n",
      "Word 系列 stands for ['系列']\n",
      "Word 精選 stands for ['精選', '精选']\n",
      "Word 紀念 stands for ['紀念', '纪念']\n",
      "Word 週年 stands for ['週年', '周年']\n",
      "Word 寶典 stands for ['寶典', '宝典']\n",
      "Word 集 stands for ['集']\n",
      "Word 系列 stands for ['系列']\n",
      "Word 大賞 stands for ['大賞', '大赏']\n",
      "Word 全集 stands for ['全集']\n",
      "Word 合輯 stands for ['合輯', '合辑']\n",
      "Word 大全 stands for ['大全']\n",
      "Word 篇 stands for ['篇']\n",
      "New cluster: # 6 recommendation\n",
      "Cluster 6 is recommendation\n",
      "Word best stands for ['best']\n",
      "Word hits stands for ['hits']\n",
      "Word 推薦 stands for ['推薦', '推荐']\n",
      "Word 票選 stands for ['票選', '票选']\n",
      "Word 人氣 stands for ['人氣', '人气']\n",
      "Word 勁歌 stands for ['勁歌', '劲歌']\n",
      "Word 排行 stands for ['排行']\n",
      "Word k歌 stands for ['k歌']\n",
      "Word 魅力 stands for ['魅力']\n",
      "Word 網路 stands for ['網路', '网络']\n",
      "Word 金曲 stands for ['金曲']\n",
      "Word 獎 stands for ['獎', '奖']\n",
      "Word 冠軍 stands for ['冠軍', '冠军']\n",
      "Word 黃金 stands for ['黃金', '黄金']\n",
      "Word 典藏 stands for ['典藏']\n",
      "New cluster: # 7 entertainment\n",
      "Cluster 7 is entertainment\n",
      "Word 娛樂 stands for ['娛樂', '娱乐']\n",
      "Word 廣播 stands for ['廣播', '广播']\n",
      "Word 電音 stands for ['電音', '电音']\n",
      "Word 廣告 stands for ['廣告', '广告']\n",
      "Word 101 stands for ['101']\n",
      "New cluster: # 8 type\n",
      "Cluster 8 is type\n",
      "Word 舞曲 stands for ['舞曲']\n",
      "Word 搖滾 stands for ['搖滾', '摇滚']\n",
      "Word 藍調 stands for ['藍調', '蓝调']\n",
      "Word 童謠 stands for ['童謠', '童谣']\n",
      "Word 民謠 stands for ['民謠', '民谣']\n",
      "Word r&b stands for ['r&b']\n",
      "Word 美聲 stands for ['美聲', '美声']\n",
      "Word 交響 stands for ['交響', '交响']\n",
      "Word 古典 stands for ['古典']\n",
      "Word 民樂 stands for ['民樂', '民乐']\n",
      "Word 流行 stands for ['流行']\n",
      "Word 輕樂 stands for ['輕樂', '轻音乐']\n",
      "New cluster: # 9 classic\n",
      "Cluster 9 is classic\n",
      "Word classic stands for ['classic']\n",
      "Word orchestra stands for ['orchestra']\n",
      "Word 經典 stands for ['經典', '经典']\n",
      "Word 名曲 stands for ['名曲']\n",
      "Word 名家 stands for ['名家']\n",
      "New cluster: # 10 dual\n",
      "Cluster 10 is dual\n",
      "Word 重唱 stands for ['重唱']\n",
      "Word trio stands for ['trio']\n",
      "Word dual stands for ['dual']\n",
      "New cluster: # 11 band\n",
      "Cluster 11 is band\n",
      "Word various stands for ['various']\n",
      "Word band stands for ['band']\n",
      "Word 組合 stands for ['組合', '组合', 'バンド']\n",
      "Word 樂團 stands for ['樂團', '乐团', '楽団']\n",
      "Word 樂隊 stands for ['樂隊', '乐队', '楽隊']\n",
      "Word 樂坊 stands for ['樂坊', '乐坊']\n",
      "Word 團 stands for ['團', '团', '団']\n",
      "Word 俱樂部 stands for ['俱樂部', '俱乐部']\n",
      "Word 眾 stands for ['眾', '众']\n",
      "Word 合唱團 stands for ['合唱團', '合唱团', '合唱団']\n",
      "Word 群星 stands for ['群星']\n",
      "Word 男團 stands for ['男團', '男团']\n",
      "Word 女團 stands for ['女團', '女团']\n",
      "Word チーム stands for ['チーム']\n",
      "Word グループ stands for ['グループ']\n",
      "New cluster: # 12 anonymous\n",
      "Cluster 12 is anonymous\n",
      "Word unknown stands for ['unknown']\n",
      "Word 佚名 stands for ['佚名']\n",
      "New cluster: # 13 compose\n",
      "Cluster 13 is compose\n",
      "Word compose stands for ['compose']\n",
      "Word 作曲 stands for ['作曲']\n",
      "New cluster: # 14 idol\n",
      "Cluster 14 is idol\n",
      "Word idol stands for ['idol']\n",
      "Word 偶像 stands for ['偶像']\n",
      "Word アイドル stands for ['アイドル']\n",
      "New cluster: # 15 audio\n",
      "Cluster 15 is audio\n",
      "Word 有聲 stands for ['有聲', '有声']\n",
      "Word 教學 stands for ['教學', '教学']\n",
      "New cluster: # 16 religion\n",
      "Cluster 16 is religion\n",
      "Word 佛 stands for ['佛']\n",
      "Word 菩薩 stands for ['菩薩']\n",
      "Word 心經 stands for ['心經']\n",
      "Word 聖歌 stands for ['聖歌', '圣歌']\n",
      "Word 福音 stands for ['福音']\n",
      "Word 教會 stands for ['教會', '教会']\n",
      "New cluster: # 17 area\n",
      "Cluster 17 is area\n",
      "Word 台灣 stands for ['台灣', '台湾']\n",
      "Word 香港 stands for ['香港']\n",
      "Word 港澳 stands for ['港澳', '港澳']\n",
      "Word 中國 stands for ['中國', '中国']\n",
      "Word 日韓 stands for ['日韓', '日韩']\n",
      "Word 日本 stands for ['日本']\n",
      "New cluster: # 18 children\n",
      "Cluster 18 is children\n",
      "Word children stands for ['children']\n",
      "Word kid stands for ['kid']\n",
      "Word 幼兒 stands for ['幼兒']\n",
      "Word 童話 stands for ['童話']\n",
      "Word 孩子 stands for ['孩子']\n",
      "Word 宝宝 stands for ['宝宝', '寶寶']\n",
      "Word 胎教 stands for ['胎教']\n",
      "New cluster: # 19 language\n",
      "Cluster 19 is language\n",
      "Word 閩南 stands for ['閩南']\n",
      "Word 廣東話 stands for ['廣東話', '广东话']\n",
      "Word 粤 stands for ['粤', '粵']\n",
      "Word 國語 stands for ['國語', '国语']\n",
      "Word 日語 stands for ['日語', '日语']\n",
      "New cluster: # 20 opera\n",
      "Cluster 20 is opera\n",
      "Word opera stands for ['opera']\n",
      "Word 相聲 stands for ['相聲', '相声']\n",
      "Word 劇藝 stands for ['劇藝', '曲艺']\n",
      "Word 戲曲 stands for ['戲曲', '戏曲']\n",
      "Word 聽書 stands for ['聽書', '听书']\n"
     ]
    }
   ],
   "source": [
    "keywords_to_clusters(keyword_content)"
   ]
  },
  {
   "cell_type": "code",
   "execution_count": 152,
   "metadata": {
    "collapsed": false
   },
   "outputs": [
    {
     "data": {
      "text/plain": [
       "{'anonymous': {'unknown': ['unknown'], '佚名': ['佚名']},\n",
       " 'area': {'中國': ['中國', '中国'],\n",
       "  '台灣': ['台灣', '台湾'],\n",
       "  '日本': ['日本'],\n",
       "  '日韓': ['日韓', '日韩'],\n",
       "  '港澳': ['港澳', '港澳'],\n",
       "  '香港': ['香港']},\n",
       " 'audio': {'教學': ['教學', '教学'], '有聲': ['有聲', '有声']},\n",
       " 'band': {'band': ['band'],\n",
       "  'various': ['various'],\n",
       "  'グループ': ['グループ'],\n",
       "  'チーム': ['チーム'],\n",
       "  '俱樂部': ['俱樂部', '俱乐部'],\n",
       "  '合唱團': ['合唱團', '合唱团', '合唱団'],\n",
       "  '團': ['團', '团', '団'],\n",
       "  '女團': ['女團', '女团'],\n",
       "  '樂團': ['樂團', '乐团', '楽団'],\n",
       "  '樂坊': ['樂坊', '乐坊'],\n",
       "  '樂隊': ['樂隊', '乐队', '楽隊'],\n",
       "  '男團': ['男團', '男团'],\n",
       "  '眾': ['眾', '众'],\n",
       "  '組合': ['組合', '组合', 'バンド'],\n",
       "  '群星': ['群星']},\n",
       " 'children': {'children': ['children'],\n",
       "  'kid': ['kid'],\n",
       "  '孩子': ['孩子'],\n",
       "  '宝宝': ['宝宝', '寶寶'],\n",
       "  '幼兒': ['幼兒'],\n",
       "  '童話': ['童話'],\n",
       "  '胎教': ['胎教']},\n",
       " 'classic': {'classic': ['classic'],\n",
       "  'orchestra': ['orchestra'],\n",
       "  '名家': ['名家'],\n",
       "  '名曲': ['名曲'],\n",
       "  '經典': ['經典', '经典']},\n",
       " 'collection': {'anniversary': ['anniversary'],\n",
       "  'collection': ['collection'],\n",
       "  '全集': ['全集'],\n",
       "  '合輯': ['合輯', '合辑'],\n",
       "  '大全': ['大全'],\n",
       "  '大賞': ['大賞', '大赏'],\n",
       "  '寶典': ['寶典', '宝典'],\n",
       "  '篇': ['篇'],\n",
       "  '精選': ['精選', '精选'],\n",
       "  '系列': ['系列'],\n",
       "  '紀念': ['紀念', '纪念'],\n",
       "  '週年': ['週年', '周年'],\n",
       "  '金曲': ['金曲'],\n",
       "  '集': ['集']},\n",
       " 'compose': {'compose': ['compose'], '作曲': ['作曲']},\n",
       " 'dual': {'dual': ['dual'], 'trio': ['trio'], '重唱': ['重唱']},\n",
       " 'entertainment': {'101': ['101'],\n",
       "  '娛樂': ['娛樂', '娱乐'],\n",
       "  '廣告': ['廣告', '广告'],\n",
       "  '廣播': ['廣播', '广播'],\n",
       "  '電音': ['電音', '电音']},\n",
       " 'general_songs': {'原創': ['原創', '原创'],\n",
       "  '情歌': ['情歌'],\n",
       "  '歌曲': ['歌曲'],\n",
       "  '歌謠': ['歌謠', '歌谣']},\n",
       " 'idol': {'idol': ['idol'], 'アイドル': ['アイドル'], '偶像': ['偶像']},\n",
       " 'instrumental': {'instr': ['instr'],\n",
       "  'piano': ['piano'],\n",
       "  'violin': ['violin'],\n",
       "  '二胡': ['二胡'],\n",
       "  '古筝': ['古筝'],\n",
       "  '大提琴': ['大提琴'],\n",
       "  '小提琴': ['小提琴'],\n",
       "  '楽器': ['楽器'],\n",
       "  '演奏': ['演奏'],\n",
       "  '琵琶': ['琵琶'],\n",
       "  '配樂': ['配樂'],\n",
       "  '钢琴': ['钢琴']},\n",
       " 'language': {'國語': ['國語', '国语'],\n",
       "  '廣東話': ['廣東話', '广东话'],\n",
       "  '日語': ['日語', '日语'],\n",
       "  '粤': ['粤', '粵'],\n",
       "  '閩南': ['閩南']},\n",
       " 'live': {'concert': ['concert'],\n",
       "  'live': ['live'],\n",
       "  '實錄': ['實錄', '实录'],\n",
       "  '演出': ['演出'],\n",
       "  '演唱': ['演唱'],\n",
       "  '演奏': ['演奏'],\n",
       "  '現場': ['現場', '现场']},\n",
       " 'opera': {'opera': ['opera'],\n",
       "  '劇藝': ['劇藝', '曲艺'],\n",
       "  '戲曲': ['戲曲', '戏曲'],\n",
       "  '相聲': ['相聲', '相声'],\n",
       "  '聽書': ['聽書', '听书']},\n",
       " 'recommendation': {'best': ['best'],\n",
       "  'hits': ['hits'],\n",
       "  'k歌': ['k歌'],\n",
       "  '人氣': ['人氣', '人气'],\n",
       "  '典藏': ['典藏'],\n",
       "  '冠軍': ['冠軍', '冠军'],\n",
       "  '勁歌': ['勁歌', '劲歌'],\n",
       "  '排行': ['排行'],\n",
       "  '推薦': ['推薦', '推荐'],\n",
       "  '獎': ['獎', '奖'],\n",
       "  '票選': ['票選', '票选'],\n",
       "  '網路': ['網路', '网络'],\n",
       "  '金曲': ['金曲'],\n",
       "  '魅力': ['魅力'],\n",
       "  '黃金': ['黃金', '黄金']},\n",
       " 'religion': {'佛': ['佛'],\n",
       "  '心經': ['心經'],\n",
       "  '教會': ['教會', '教会'],\n",
       "  '福音': ['福音'],\n",
       "  '聖歌': ['聖歌', '圣歌'],\n",
       "  '菩薩': ['菩薩']},\n",
       " 'tv': {'theme': ['theme'],\n",
       "  'tv': ['tv'],\n",
       "  '主題曲': ['主題曲', '主题曲'],\n",
       "  '原聲': ['原聲', '原声'],\n",
       "  '影視': ['影視', '影视'],\n",
       "  '電視': ['電視', '电视'],\n",
       "  '電視劇': ['電視劇', '电视剧']},\n",
       " 'type': {'r&b': ['r&b'],\n",
       "  '交響': ['交響', '交响'],\n",
       "  '古典': ['古典'],\n",
       "  '搖滾': ['搖滾', '摇滚'],\n",
       "  '民樂': ['民樂', '民乐'],\n",
       "  '民謠': ['民謠', '民谣'],\n",
       "  '流行': ['流行'],\n",
       "  '童謠': ['童謠', '童谣'],\n",
       "  '美聲': ['美聲', '美声'],\n",
       "  '舞曲': ['舞曲'],\n",
       "  '藍調': ['藍調', '蓝调'],\n",
       "  '輕樂': ['輕樂', '轻音乐']}}"
      ]
     },
     "execution_count": 152,
     "metadata": {},
     "output_type": "execute_result"
    }
   ],
   "source": [
    "KEYWORD_CLUSTERS"
   ]
  },
  {
   "cell_type": "code",
   "execution_count": 153,
   "metadata": {
    "collapsed": true
   },
   "outputs": [],
   "source": [
    "# Concatenate string fields\n",
    "train_2['strings']=train_2['song_name']+' '+train_2['artist_name']\n",
    "test_2['strings']=test_2['song_name']+' '+test_2['artist_name']\n"
   ]
  },
  {
   "cell_type": "code",
   "execution_count": 166,
   "metadata": {
    "collapsed": true
   },
   "outputs": [],
   "source": [
    "# initialize a hist counter\n",
    "KEYWORD_CLUSTER_HIST={}\n",
    "\n",
    "for k in KEYWORD_CLUSTERS:\n",
    "    KEYWORD_CLUSTER_HIST[k]={}"
   ]
  },
  {
   "cell_type": "code",
   "execution_count": 162,
   "metadata": {
    "collapsed": true
   },
   "outputs": [],
   "source": [
    "def count_keyword(x):\n",
    "    for cluster in KEYWORD_CLUSTERS:\n",
    "        for key in KEYWORD_CLUSTERS[cluster]:\n",
    "            list_of_forms=KEYWORD_CLUSTERS[cluster][key]\n",
    "            # Check if present\n",
    "            is_present=any(s in str(x) for s in list_of_forms)\n",
    "            \n",
    "            if key in KEYWORD_CLUSTER_HIST[cluster]:\n",
    "                KEYWORD_CLUSTER_HIST[cluster][key]+=int(is_present)\n",
    "            else:\n",
    "                KEYWORD_CLUSTER_HIST[cluster][key]=int(is_present)"
   ]
  },
  {
   "cell_type": "code",
   "execution_count": 167,
   "metadata": {
    "collapsed": false,
    "scrolled": true
   },
   "outputs": [
    {
     "data": {
      "text/plain": [
       "0          None\n",
       "1          None\n",
       "2          None\n",
       "3          None\n",
       "4          None\n",
       "5          None\n",
       "6          None\n",
       "7          None\n",
       "8          None\n",
       "9          None\n",
       "10         None\n",
       "11         None\n",
       "12         None\n",
       "13         None\n",
       "14         None\n",
       "15         None\n",
       "16         None\n",
       "17         None\n",
       "18         None\n",
       "19         None\n",
       "20         None\n",
       "21         None\n",
       "22         None\n",
       "23         None\n",
       "24         None\n",
       "25         None\n",
       "26         None\n",
       "27         None\n",
       "28         None\n",
       "29         None\n",
       "           ... \n",
       "2556760    None\n",
       "2556761    None\n",
       "2556762    None\n",
       "2556763    None\n",
       "2556764    None\n",
       "2556765    None\n",
       "2556766    None\n",
       "2556767    None\n",
       "2556768    None\n",
       "2556769    None\n",
       "2556770    None\n",
       "2556771    None\n",
       "2556772    None\n",
       "2556773    None\n",
       "2556774    None\n",
       "2556775    None\n",
       "2556776    None\n",
       "2556777    None\n",
       "2556778    None\n",
       "2556779    None\n",
       "2556780    None\n",
       "2556781    None\n",
       "2556782    None\n",
       "2556783    None\n",
       "2556784    None\n",
       "2556785    None\n",
       "2556786    None\n",
       "2556787    None\n",
       "2556788    None\n",
       "2556789    None\n",
       "Name: strings, Length: 2556790, dtype: object"
      ]
     },
     "execution_count": 167,
     "metadata": {},
     "output_type": "execute_result"
    }
   ],
   "source": [
    "test_2['strings'].apply(count_keyword)\n",
    "train_2['strings'].apply(count_keyword)"
   ]
  },
  {
   "cell_type": "code",
   "execution_count": 170,
   "metadata": {
    "collapsed": false,
    "scrolled": true
   },
   "outputs": [
    {
     "data": {
      "text/plain": [
       "{'anonymous': {'unknown': 277, '佚名': 0},\n",
       " 'area': {'中國': 2133, '台灣': 2777, '日本': 1996, '日韓': 44, '港澳': 0, '香港': 297},\n",
       " 'audio': {'教學': 373, '有聲': 1314},\n",
       " 'band': {'band': 34718,\n",
       "  'various': 467663,\n",
       "  'グループ': 0,\n",
       "  'チーム': 65,\n",
       "  '俱樂部': 1676,\n",
       "  '合唱團': 7464,\n",
       "  '團': 97985,\n",
       "  '女團': 29,\n",
       "  '樂團': 83130,\n",
       "  '樂坊': 57,\n",
       "  '樂隊': 3313,\n",
       "  '男團': 2,\n",
       "  '眾': 6641,\n",
       "  '組合': 3562,\n",
       "  '群星': 925},\n",
       " 'children': {'children': 9004,\n",
       "  'kid': 8241,\n",
       "  '孩子': 8434,\n",
       "  '宝宝': 10089,\n",
       "  '幼兒': 3296,\n",
       "  '童話': 9536,\n",
       "  '胎教': 1105},\n",
       " 'classic': {'classic': 15824,\n",
       "  'orchestra': 4780,\n",
       "  '名家': 69,\n",
       "  '名曲': 8154,\n",
       "  '經典': 3723},\n",
       " 'collection': {'anniversary': 1148,\n",
       "  'collection': 2989,\n",
       "  '全集': 185,\n",
       "  '合輯': 1768,\n",
       "  '大全': 106,\n",
       "  '大賞': 81,\n",
       "  '寶典': 516,\n",
       "  '篇': 2629,\n",
       "  '精選': 25827,\n",
       "  '系列': 20912,\n",
       "  '紀念': 3818,\n",
       "  '週年': 600,\n",
       "  '金曲': 3055,\n",
       "  '集': 13265},\n",
       " 'compose': {'compose': 2, '作曲': 947},\n",
       " 'dual': {'dual': 511, 'trio': 3028, '重唱': 1672},\n",
       " 'entertainment': {'101': 2767, '娛樂': 4882, '廣告': 4674, '廣播': 158, '電音': 1372},\n",
       " 'general_songs': {'原創': 3440, '情歌': 37253, '歌曲': 7650, '歌謠': 204},\n",
       " 'idol': {'idol': 128, 'アイドル': 25, '偶像': 16035},\n",
       " 'instrumental': {'instr': 1226,\n",
       "  'piano': 12915,\n",
       "  'violin': 216,\n",
       "  '二胡': 366,\n",
       "  '古筝': 0,\n",
       "  '大提琴': 1014,\n",
       "  '小提琴': 832,\n",
       "  '楽器': 1893,\n",
       "  '演奏': 5856,\n",
       "  '琵琶': 161,\n",
       "  '配樂': 948,\n",
       "  '钢琴': 22},\n",
       " 'language': {'國語': 4487, '廣東話': 222, '日語': 7, '粤': 771, '閩南': 244},\n",
       " 'live': {'concert': 398,\n",
       "  'live': 8130,\n",
       "  '實錄': 84,\n",
       "  '演出': 85,\n",
       "  '演唱': 21723,\n",
       "  '演奏': 5856,\n",
       "  '現場': 164},\n",
       " 'opera': {'opera': 491, '劇藝': 591, '戲曲': 24, '相聲': 4660, '聽書': 258},\n",
       " 'recommendation': {'best': 9426,\n",
       "  'hits': 5184,\n",
       "  'k歌': 2,\n",
       "  '人氣': 1362,\n",
       "  '典藏': 550,\n",
       "  '冠軍': 12037,\n",
       "  '勁歌': 1152,\n",
       "  '排行': 4550,\n",
       "  '推薦': 20,\n",
       "  '獎': 718,\n",
       "  '票選': 1882,\n",
       "  '網路': 2649,\n",
       "  '金曲': 3055,\n",
       "  '魅力': 73,\n",
       "  '黃金': 1495},\n",
       " 'religion': {'佛': 3153,\n",
       "  '心經': 821,\n",
       "  '教會': 6699,\n",
       "  '福音': 218,\n",
       "  '聖歌': 73,\n",
       "  '菩薩': 897},\n",
       " 'tv': {'theme': 488,\n",
       "  'tv': 5112,\n",
       "  '主題曲': 50891,\n",
       "  '原聲': 95551,\n",
       "  '影視': 1184,\n",
       "  '電視': 74745,\n",
       "  '電視劇': 11235},\n",
       " 'type': {'r&b': 1466,\n",
       "  '交響': 4217,\n",
       "  '古典': 2617,\n",
       "  '搖滾': 2768,\n",
       "  '民樂': 256,\n",
       "  '民謠': 1259,\n",
       "  '流行': 2320,\n",
       "  '童謠': 2516,\n",
       "  '美聲': 169,\n",
       "  '舞曲': 4448,\n",
       "  '藍調': 200,\n",
       "  '輕樂': 7}}"
      ]
     },
     "execution_count": 170,
     "metadata": {},
     "output_type": "execute_result"
    }
   ],
   "source": [
    "KEYWORD_CLUSTER_HIST"
   ]
  },
  {
   "cell_type": "code",
   "execution_count": 173,
   "metadata": {
    "collapsed": true
   },
   "outputs": [],
   "source": [
    "KEYWORD_CLUSTER_HIST['anonymous'].pop('佚名', None)\n",
    "KEYWORD_CLUSTER_HIST['area'].pop('港澳', None)\n",
    "KEYWORD_CLUSTER_HIST['band'].pop('グループ', None)\n",
    "KEYWORD_CLUSTER_HIST['instrumental'].pop('古筝', None)"
   ]
  },
  {
   "cell_type": "code",
   "execution_count": 181,
   "metadata": {
    "collapsed": true
   },
   "outputs": [],
   "source": [
    "import json\n",
    "\n",
    "KEYWORD_CLUSTERS_FILEPATH='keyword_clusters.json'\n",
    "KEYWORD_HIST_FILEPATH='keyword_hist.json'\n",
    "# Output to file\n",
    "keyword_clusters_json=open(data_path+KEYWORD_CLUSTERS_FILEPATH, 'w+')\n",
    "json.dump(KEYWORD_CLUSTERS, keyword_clusters_json)\n",
    "\n",
    "keyword_hist_json=open(data_path+KEYWORD_HIST_FILEPATH, 'w+')\n",
    "json.dump(KEYWORD_CLUSTER_HIST, keyword_hist_json)\n",
    "\n",
    "keyword_clusters_json.close()\n",
    "keyword_hist_json.close()"
   ]
  },
  {
   "cell_type": "code",
   "execution_count": 175,
   "metadata": {
    "collapsed": true
   },
   "outputs": [],
   "source": [
    "train_clusters=pd.DataFrame(index=train_2.index)\n",
    "test_clusters=pd.DataFrame(index=test_2.index)"
   ]
  },
  {
   "cell_type": "code",
   "execution_count": 177,
   "metadata": {
    "collapsed": false,
    "scrolled": false
   },
   "outputs": [
    {
     "name": "stdout",
     "output_type": "stream",
     "text": [
      "Generating feature instrumental\n",
      "Generating feature tv\n",
      "Generating feature general_songs\n",
      "Generating feature live\n",
      "Generating feature collection\n",
      "Generating feature recommendation\n",
      "Generating feature entertainment\n",
      "Generating feature type\n",
      "Generating feature classic\n",
      "Generating feature dual\n",
      "Generating feature band\n",
      "Generating feature anonymous\n",
      "Generating feature compose\n",
      "Generating feature idol\n",
      "Generating feature audio\n",
      "Generating feature religion\n",
      "Generating feature area\n",
      "Generating feature children\n",
      "Generating feature language\n",
      "Generating feature opera\n"
     ]
    }
   ],
   "source": [
    "def find_count(cluster_name, x):\n",
    "    for key in KEYWORD_CLUSTERS[cluster_name]:\n",
    "        list_of_forms=KEYWORD_CLUSTERS[cluster_name][key]\n",
    "        is_present=any(s in str(x) for s in list_of_forms)\n",
    "        if is_present:\n",
    "            return KEYWORD_CLUSTER_HIST[cluster_name][key]\n",
    "    return 0\n",
    "\n",
    "# Generate features\n",
    "for cluster in KEYWORD_CLUSTER_HIST:\n",
    "    print(\"Generating feature %s\" % cluster)\n",
    "    train_clusters[cluster]=train_2['strings'].apply(lambda x: find_count(cluster, x))\n",
    "    test_clusters[cluster]=test_2['strings'].apply(lambda x: find_count(cluster, x))"
   ]
  },
  {
   "cell_type": "code",
   "execution_count": 183,
   "metadata": {
    "collapsed": false,
    "scrolled": true
   },
   "outputs": [
    {
     "name": "stdout",
     "output_type": "stream",
     "text": [
      "<class 'pandas.core.frame.DataFrame'>\n",
      "Int64Index: 9934208 entries, 0 to 2556789\n",
      "Data columns (total 20 columns):\n",
      "instrumental      int64\n",
      "tv                int64\n",
      "general_songs     int64\n",
      "live              int64\n",
      "collection        int64\n",
      "recommendation    int64\n",
      "entertainment     int64\n",
      "type              int64\n",
      "classic           int64\n",
      "dual              int64\n",
      "band              int64\n",
      "anonymous         int64\n",
      "compose           int64\n",
      "idol              int64\n",
      "audio             int64\n",
      "religion          int64\n",
      "area              int64\n",
      "children          int64\n",
      "language          int64\n",
      "opera             int64\n",
      "dtypes: int64(20)\n",
      "memory usage: 1.6 GB\n"
     ]
    }
   ],
   "source": [
    "keyword_mat=pd.concat([train_clusters, test_clusters])\n",
    "keyword_mat.info()"
   ]
  },
  {
   "cell_type": "code",
   "execution_count": 188,
   "metadata": {
    "collapsed": false
   },
   "outputs": [
    {
     "name": "stdout",
     "output_type": "stream",
     "text": [
      "PCA cost 0:00:55.713574\n",
      "Explained 0.998901 of variance\n"
     ]
    }
   ],
   "source": [
    "from sklearn.decomposition import IncrementalPCA\n",
    "from datetime import datetime\n",
    "\n",
    "PCA_COMPONENTS=2\n",
    "\n",
    "before=datetime.now()\n",
    "pca = IncrementalPCA(n_components=PCA_COMPONENTS) # default batch_size is 5*feature_num which can blow you up\n",
    "pca.fit(keyword_mat.values)\n",
    "after=datetime.now()\n",
    "print('PCA cost %s' % str(after-before))\n",
    "\n",
    "print('Explained %f of variance' % pca.explained_variance_ratio_.sum())"
   ]
  },
  {
   "cell_type": "code",
   "execution_count": 191,
   "metadata": {
    "collapsed": false
   },
   "outputs": [
    {
     "name": "stdout",
     "output_type": "stream",
     "text": [
      "Dimensional reduced matrix has shape (9934208, 2)\n",
      "Training set(7377418 rows) has genres of shape (7377418, 2)\n",
      "Test set(2556790 rows) has genres of shape (2556790, 2)\n"
     ]
    }
   ],
   "source": [
    "keyword_pca=pca.transform(keyword_mat)\n",
    "print(\"Dimensional reduced matrix has shape %s\" % str(keyword_pca.shape))\n",
    "\n",
    "# Split back to train and test sets\n",
    "ktrain, ktest=np.vsplit(keyword_pca, [TRAIN_SIZE])\n",
    "print(\"Training set(%i rows) has genres of shape %s\" % (TRAIN_SIZE, str(ktrain.shape)))\n",
    "print(\"Test set(%i rows) has genres of shape %s\" % (TEST_SIZE, str(ktest.shape)))"
   ]
  },
  {
   "cell_type": "code",
   "execution_count": 193,
   "metadata": {
    "collapsed": true
   },
   "outputs": [],
   "source": [
    "train_keyword_pca=pd.DataFrame(index=train_2.index)\n",
    "test_keyword_pca=pd.DataFrame(index=test_2.index)"
   ]
  },
  {
   "cell_type": "code",
   "execution_count": 195,
   "metadata": {
    "collapsed": false
   },
   "outputs": [
    {
     "name": "stdout",
     "output_type": "stream",
     "text": [
      "Keyword cluster names: ['keyword_cluster_pca_0', 'keyword_cluster_pca_1']\n",
      "<class 'pandas.core.frame.DataFrame'>\n",
      "Int64Index: 7377418 entries, 0 to 7377417\n",
      "Data columns (total 2 columns):\n",
      "keyword_cluster_pca_0    float64\n",
      "keyword_cluster_pca_1    float64\n",
      "dtypes: float64(2)\n",
      "memory usage: 488.9 MB\n",
      "New train dataframe: None\n",
      "<class 'pandas.core.frame.DataFrame'>\n",
      "Int64Index: 2556790 entries, 0 to 2556789\n",
      "Data columns (total 2 columns):\n",
      "keyword_cluster_pca_0    float64\n",
      "keyword_cluster_pca_1    float64\n",
      "dtypes: float64(2)\n",
      "memory usage: 138.5 MB\n",
      "New test dataframe: None\n"
     ]
    }
   ],
   "source": [
    "keyword_cluster_names=['keyword_cluster_pca_'+str(i) for i in range(PCA_COMPONENTS)]\n",
    "print(\"Keyword cluster names: %s\" % str(keyword_cluster_names))\n",
    "\n",
    "for i in range(PCA_COMPONENTS):\n",
    "    train_keyword_pca[keyword_cluster_names[i]]=ktrain[:, i]\n",
    "    test_keyword_pca[keyword_cluster_names[i]]=ktest[:, i]\n",
    "    \n",
    "print(\"New train dataframe: %s\" % str(train_keyword_pca.info()))\n",
    "print(\"New test dataframe: %s\" % str(test_keyword_pca.info()))"
   ]
  },
  {
   "cell_type": "code",
   "execution_count": 196,
   "metadata": {
    "collapsed": true
   },
   "outputs": [],
   "source": [
    "# Output to csv\n",
    "train_keyword_pca.to_csv(data_path+'train_keywords.csv')\n",
    "test_keyword_pca.to_csv(data_path+'test_keywords.csv')"
   ]
  },
  {
   "cell_type": "markdown",
   "metadata": {},
   "source": [
    "The process how the conclusion is reached"
   ]
  },
  {
   "cell_type": "code",
   "execution_count": 92,
   "metadata": {
    "collapsed": false
   },
   "outputs": [
    {
     "name": "stdout",
     "output_type": "stream",
     "text": [
      "Reduced artist names by 0.002117\n"
     ]
    }
   ],
   "source": [
    "'''\n",
    "    Reduced 0.002, not useful\n",
    "'''\n",
    "\n",
    "par_train=train_3['artist_name'].apply(split_parenthesis).to_frame()\n",
    "train_3[['artist_pre_parenthesis', 'artist_in_parenthesis', 'artist_post_parenthesis']]=pd.DataFrame(par_train['artist_name'].tolist())\n",
    "\n",
    "par_test=test_3['artist_name'].apply(split_parenthesis).to_frame()\n",
    "test_3[['artist_pre_parenthesis', 'artist_in_parenthesis', 'artist_post_parenthesis']]=pd.DataFrame(par_test['artist_name'].tolist())\n",
    "\n",
    "# How many artist names are there now\n",
    "artist_names=set(train_3['artist_pre_parenthesis'].unique()) | set(test_3['artist_pre_parenthesis'].unique())\n",
    "print(\"Reduced artist names by %f\" % (1.0-(len(artist_names)/ARTIST_SIZE)))\n",
    "del artist_names"
   ]
  },
  {
   "cell_type": "code",
   "execution_count": 89,
   "metadata": {
    "collapsed": false
   },
   "outputs": [
    {
     "name": "stdout",
     "output_type": "stream",
     "text": [
      "Number of unique strings after parenthesis: 55\n",
      "{'', 'from attackers', '& spa & spa & zen spa specialists', 'and louis levy and his orchestra', 'and mandisa', \"| slash| adriano p| ancient artists| morphile| dj sledstorm| michael o'howe| blaz| claudia bell| dato| danny andersen| alex boboc\", '、戸田色音', '+鮮于貞娥', '[ill jeanz]', 'אוסף שירים', '& alesso', '方子浩 (李國毅）', 'empty', '& rubberband', '| moscow new opera orchestra & conducted by yevgeny samoilov', '／指揮 & 德國廣播愛樂樂團', '| myundo', '，norikiyo，般若＆dabo', '+brother su', '| ul', '廣西壯族 瑤族 苗族 麼老族 毛南族 京族', '／指揮 & 司圖加特廣播交響樂團', '| 전근화', '+井柏然', 'complete best album', '& mc jin', '| salvo lo greco|', 'feat.chelly', 'オリジナル・サウンドトラック', '+ 范曉萱', '| 西園', '／鋼琴', 'x luna', 'x lee| jin ah', 'dj', '+德勒斯登國立劇院管弦樂團', '】', '+席可維斯基', 'haan', '| 멜로디데이', '| 한수영', '小城故事 電視劇原聲音樂大碟（阿杜)', '/leegigwang', '| ben', 'planet earth', '&나윤권', 'ost', '| 옥탑방 작업실', '| 천재노창', '& his band', 'ready and willing', '| dark beat & dark child| fabrizio pettorelli| redub| robbie jay| oliver gross| tamer fouda| j. osciua| artyom junior| aiho', '電影原聲大碟 vol. 1-3', '2', '電視原聲帶'}\n",
      "Train set has 0.001036 rows not empty after parenthesis\n",
      "Test set has 0.002973 rows not empty after parenthesis\n"
     ]
    }
   ],
   "source": [
    "# How many information does the post-parenthesis contain\n",
    "unique_artists=set(train_3['artist_post_parenthesis'].unique()) | set(test_3['artist_post_parenthesis'].unique())\n",
    "print(\"Number of unique strings after parenthesis: %i\" % len(unique_artists))\n",
    "print(unique_artists)\n",
    "\n",
    "'''\n",
    "    99.8% are empty, not useful\n",
    "'''\n",
    "# How many rows have non-empty information in this\n",
    "cnt=train_3.loc[~train_3['artist_post_parenthesis'].isin(['', 'empty']), 'artist_post_parenthesis'].count()\n",
    "print(\"Train set has %f rows not empty after parenthesis\" % (cnt/TRAIN_SIZE))\n",
    "\n",
    "cnt=test_3.loc[~test_3['artist_post_parenthesis'].isin(['', 'empty']), 'artist_post_parenthesis'].count()\n",
    "print(\"Test set has %f rows not empty after parenthesis\" % (cnt/TEST_SIZE))"
   ]
  },
  {
   "cell_type": "code",
   "execution_count": 93,
   "metadata": {
    "collapsed": false
   },
   "outputs": [
    {
     "name": "stdout",
     "output_type": "stream",
     "text": [
      "Reduced song names by 0.117358\n"
     ]
    }
   ],
   "source": [
    "# Apply to song name as well\n",
    "par_train=train_3['song_name'].apply(split_parenthesis).to_frame()\n",
    "train_3[['song_pre_parenthesis', 'song_in_parenthesis', 'song_post_parenthesis']]=pd.DataFrame(par_train['song_name'].tolist())\n",
    "\n",
    "par_test=test_3['song_name'].apply(split_parenthesis).to_frame()\n",
    "test_3[['song_pre_parenthesis', 'song_in_parenthesis', 'song_post_parenthesis']]=pd.DataFrame(par_test['song_name'].tolist())\n",
    "\n",
    "\n",
    "'''\n",
    "    Reduced 11.7%, useful\n",
    "'''\n",
    "# How many song names are there now\n",
    "song_names=set(train_3['song_pre_parenthesis'].unique()) | set(test_3['song_pre_parenthesis'].unique())\n",
    "print(\"Reduced song names by %f\" % (1.0-(len(song_names)/SONG_SIZE)))\n",
    "del song_names"
   ]
  },
  {
   "cell_type": "code",
   "execution_count": 95,
   "metadata": {
    "collapsed": false
   },
   "outputs": [
    {
     "name": "stdout",
     "output_type": "stream",
     "text": [
      "Number of unique strings after parenthesis: 3530\n",
      "Train set has 0.006347 rows not empty after parenthesis\n",
      "Test set has 0.006584 rows not empty after parenthesis\n"
     ]
    }
   ],
   "source": [
    "# How many information does the post-parenthesis contain\n",
    "unique_songs=set(train_3['song_post_parenthesis'].unique()) | set(test_3['song_post_parenthesis'].unique())\n",
    "print(\"Number of unique strings after parenthesis: %i\" % len(unique_songs))\n",
    "\n",
    "'''\n",
    "    99.4% are empty, not useful\n",
    "'''\n",
    "# How many rows have non-empty information in this\n",
    "cnt=train_3.loc[~train_3['song_post_parenthesis'].isin(['', 'empty']), 'song_post_parenthesis'].count()\n",
    "print(\"Train set has %f rows not empty after parenthesis\" % (cnt/TRAIN_SIZE))\n",
    "\n",
    "cnt=test_3.loc[~test_3['song_post_parenthesis'].isin(['', 'empty']), 'song_post_parenthesis'].count()\n",
    "print(\"Test set has %f rows not empty after parenthesis\" % (cnt/TEST_SIZE))"
   ]
  },
  {
   "cell_type": "code",
   "execution_count": 99,
   "metadata": {
    "collapsed": false
   },
   "outputs": [
    {
     "name": "stdout",
     "output_type": "stream",
     "text": [
      "Dropping uninformative columns: ['artist_pre_parenthesis', 'artist_post_parenthesis', 'song_post_parenthesis']\n"
     ]
    }
   ],
   "source": [
    "# Drop not informative columns\n",
    "drop_cols=['artist_pre_parenthesis', 'artist_post_parenthesis', 'song_post_parenthesis']\n",
    "print('Dropping uninformative columns: %s' % str(drop_cols))\n",
    "\n",
    "train_3.drop(drop_cols, inplace=True, axis=1)\n",
    "test_3.drop(drop_cols, inplace=True, axis=1)"
   ]
  },
  {
   "cell_type": "code",
   "execution_count": 100,
   "metadata": {
    "collapsed": false
   },
   "outputs": [
    {
     "name": "stdout",
     "output_type": "stream",
     "text": [
      "Reduced artist names by 0.000994\n"
     ]
    }
   ],
   "source": [
    "'''\n",
    "    Reduced 0.001, not useful\n",
    "'''\n",
    "\n",
    "title_train=train_3['artist_name'].apply(split_titlemark).to_frame()\n",
    "train_3[['artist_pre_titlemark', 'artist_in_titlemark', 'artist_post_titlemark']]=pd.DataFrame(title_train['artist_name'].tolist())\n",
    "\n",
    "title_test=test_3['artist_name'].apply(split_titlemark).to_frame()\n",
    "test_3[['artist_pre_titlemark', 'artist_in_titlemark', 'artist_post_titlemark']]=pd.DataFrame(title_test['artist_name'].tolist())\n",
    "\n",
    "# How many artist names are there now\n",
    "artist_names=set(train_3['artist_pre_titlemark'].unique()) | set(test_3['artist_pre_titlemark'].unique())\n",
    "print(\"Reduced artist names by %f\" % (1.0-(len(artist_names)/ARTIST_SIZE)))\n",
    "del artist_names"
   ]
  },
  {
   "cell_type": "code",
   "execution_count": 101,
   "metadata": {
    "collapsed": false
   },
   "outputs": [
    {
     "name": "stdout",
     "output_type": "stream",
     "text": [
      "Number of unique strings after titlemark: 10\n",
      "{'', 'original soundtrack)', '原聲帶', '電影原聲帶', '舞台劇原聲帶', '原聲配樂', '影視歌曲', '電影音樂 tiny times ost', '電視原聲帶', 'empty'}\n",
      "Train set has 0.000418 rows not empty after titlemark\n",
      "Test set has 0.000329 rows not empty after titlemark\n"
     ]
    }
   ],
   "source": [
    "# How many information does the post-titlemark contain\n",
    "unique_artists=set(train_3['artist_post_titlemark'].unique()) | set(test_3['artist_post_titlemark'].unique())\n",
    "print(\"Number of unique strings after titlemark: %i\" % len(unique_artists))\n",
    "print(unique_artists)\n",
    "\n",
    "'''\n",
    "    99.9% are empty, not useful\n",
    "'''\n",
    "# How many rows have non-empty information in this\n",
    "cnt=train_3.loc[~train_3['artist_post_titlemark'].isin(['', 'empty']), 'artist_post_titlemark'].count()\n",
    "print(\"Train set has %f rows not empty after titlemark\" % (cnt/TRAIN_SIZE))\n",
    "\n",
    "cnt=test_3.loc[~test_3['artist_post_titlemark'].isin(['', 'empty']), 'artist_post_titlemark'].count()\n",
    "print(\"Test set has %f rows not empty after titlemark\" % (cnt/TEST_SIZE))"
   ]
  },
  {
   "cell_type": "code",
   "execution_count": 102,
   "metadata": {
    "collapsed": false
   },
   "outputs": [
    {
     "name": "stdout",
     "output_type": "stream",
     "text": [
      "Reduced song names by 0.131480\n"
     ]
    }
   ],
   "source": [
    "# Apply to song name as well\n",
    "title_train=train_3['song_name'].apply(split_titlemark).to_frame()\n",
    "train_3[['song_pre_titlemark', 'song_in_titlemark', 'song_post_titlemark']]=pd.DataFrame(title_train['song_name'].tolist())\n",
    "\n",
    "title_test=train_3['song_name'].apply(split_titlemark).to_frame()\n",
    "test_3[['song_pre_titlemark', 'song_in_titlemark', 'song_post_titlemark']]=pd.DataFrame(title_test['song_name'].tolist())\n",
    "\n",
    "'''\n",
    "    Reduced 13.1%, useful\n",
    "'''\n",
    "# How many song names are there now\n",
    "song_names=set(train_3['song_pre_titlemark'].unique()) | set(test_3['song_pre_titlemark'].unique())\n",
    "print(\"Reduced song names by %f\" % (1.0-(len(song_names)/SONG_SIZE)))\n",
    "del song_names"
   ]
  },
  {
   "cell_type": "code",
   "execution_count": 104,
   "metadata": {
    "collapsed": false
   },
   "outputs": [
    {
     "name": "stdout",
     "output_type": "stream",
     "text": [
      "Number of unique strings after titlemark: 212\n",
      "Train set has 0.001127 rows not empty after titlemark\n",
      "Test set has 0.001316 rows not empty after titlemark\n"
     ]
    }
   ],
   "source": [
    "# How many information does the post-parenthesis contain\n",
    "unique_songs=set(train_3['song_post_titlemark'].unique()) | set(test_3['song_post_titlemark'].unique())\n",
    "print(\"Number of unique strings after titlemark: %i\" % len(unique_songs))\n",
    "\n",
    "'''\n",
    "    99.9% are empty, not useful\n",
    "'''\n",
    "# How many rows have non-empty information in this\n",
    "cnt=train_3.loc[~train_3['song_post_titlemark'].isin(['', 'empty']), 'song_post_titlemark'].count()\n",
    "print(\"Train set has %f rows not empty after titlemark\" % (cnt/TRAIN_SIZE))\n",
    "\n",
    "cnt=test_3.loc[~test_3['song_post_titlemark'].isin(['', 'empty']), 'song_post_titlemark'].count()\n",
    "print(\"Test set has %f rows not empty after titlemark\" % (cnt/TEST_SIZE))"
   ]
  },
  {
   "cell_type": "code",
   "execution_count": 105,
   "metadata": {
    "collapsed": false
   },
   "outputs": [
    {
     "name": "stdout",
     "output_type": "stream",
     "text": [
      "Dropping uninformative columns: ['artist_pre_titlemark', 'artist_post_titlemark', 'song_post_titlemark']\n"
     ]
    }
   ],
   "source": [
    "# Drop not informative columns\n",
    "drop_cols=['artist_pre_titlemark', 'artist_post_titlemark', 'song_post_titlemark']\n",
    "print('Dropping uninformative columns: %s' % str(drop_cols))\n",
    "\n",
    "train_3.drop(drop_cols, inplace=True, axis=1)\n",
    "test_3.drop(drop_cols, inplace=True, axis=1)"
   ]
  },
  {
   "cell_type": "markdown",
   "metadata": {},
   "source": [
    "# Other characters can be just treated as separators\n",
    "# Spoiler:\n",
    "Not any one of them is informative"
   ]
  },
  {
   "cell_type": "code",
   "execution_count": 69,
   "metadata": {
    "collapsed": false
   },
   "outputs": [
    {
     "name": "stdout",
     "output_type": "stream",
     "text": [
      "Gotta start here\n"
     ]
    }
   ],
   "source": [
    "print(\"Gotta start here\")"
   ]
  },
  {
   "cell_type": "markdown",
   "metadata": {},
   "source": [
    "# Bar characters: Not useful, SKIP THIS PART"
   ]
  },
  {
   "cell_type": "code",
   "execution_count": 70,
   "metadata": {
    "collapsed": true
   },
   "outputs": [],
   "source": [
    "def split_bar(x):\n",
    "    if '|' in str(x):\n",
    "        pre=x[:x.find(\"|\")].strip()\n",
    "        post=x[x.rfind(\"|\")+1:].strip()\n",
    "    if '｜' in str(x):\n",
    "        pre=x[:x.find(\"｜\")].strip()\n",
    "        post=x[x.rfind(\"｜\")+1:].strip()\n",
    "    else:\n",
    "        pre=x\n",
    "        post='empty'\n",
    "    return pre, post"
   ]
  },
  {
   "cell_type": "code",
   "execution_count": 73,
   "metadata": {
    "collapsed": false
   },
   "outputs": [
    {
     "name": "stdout",
     "output_type": "stream",
     "text": [
      "Reduced artist names by 0.000000\n"
     ]
    }
   ],
   "source": [
    "bar_train=train_3['artist_name'].apply(split_bar).to_frame()\n",
    "train_3[['artist_pre_bar', 'artist_post_bar']]=pd.DataFrame(bar_train['artist_name'].tolist())\n",
    "\n",
    "bar_test=test_3['artist_name'].apply(split_bar).to_frame()\n",
    "test_3[['artist_pre_bar', 'artist_post_bar']]=pd.DataFrame(bar_test['artist_name'].tolist())\n",
    "\n",
    "# How many artist names are there now\n",
    "artist_names=set(train_3['artist_pre_bar'].unique()) | set(test_3['artist_pre_bar'].unique())\n",
    "print(\"Reduced artist names by %f\" % (1.0-(len(artist_names)/ARTIST_SIZE)))\n",
    "del artist_names"
   ]
  },
  {
   "cell_type": "code",
   "execution_count": 74,
   "metadata": {
    "collapsed": false
   },
   "outputs": [
    {
     "name": "stdout",
     "output_type": "stream",
     "text": [
      "Number of unique strings after bar: 1\n",
      "{'empty'}\n",
      "Train set has 0.000000 rows not empty after bar\n",
      "Test set has 0.000000 rows not empty after bar\n"
     ]
    }
   ],
   "source": [
    "# How many information does the post-titlemark contain\n",
    "unique_artists=set(train_3['artist_post_bar'].unique()) | set(test_3['artist_post_bar'].unique())\n",
    "print(\"Number of unique strings after bar: %i\" % len(unique_artists))\n",
    "print(unique_artists)\n",
    "\n",
    "'''\n",
    "    100% are empty, not useful\n",
    "'''\n",
    "# How many rows have non-empty information in this\n",
    "cnt=train_3.loc[~train_3['artist_post_bar'].isin(['', 'empty']), 'artist_post_bar'].count()\n",
    "print(\"Train set has %f rows not empty after bar\" % (cnt/TRAIN_SIZE))\n",
    "\n",
    "cnt=test_3.loc[~test_3['artist_post_bar'].isin(['', 'empty']), 'artist_post_bar'].count()\n",
    "print(\"Test set has %f rows not empty after bar\" % (cnt/TEST_SIZE))"
   ]
  },
  {
   "cell_type": "code",
   "execution_count": 75,
   "metadata": {
    "collapsed": false
   },
   "outputs": [
    {
     "name": "stdout",
     "output_type": "stream",
     "text": [
      "Reduced song names by 0.000000\n",
      "Number of unique strings after bar: 1\n",
      "Train set has 0.000000 rows not empty after bar\n",
      "Test set has 0.000000 rows not empty after bar\n"
     ]
    }
   ],
   "source": [
    "# Apply to song name as well\n",
    "bar_train=train_3['song_name'].apply(split_bar).to_frame()\n",
    "train_3[['song_pre_bar', 'song_post_bar']]=pd.DataFrame(bar_train['song_name'].tolist())\n",
    "\n",
    "bar_test=test_3['song_name'].apply(split_bar).to_frame()\n",
    "test_3[['song_pre_bar', 'song_post_bar']]=pd.DataFrame(bar_test['song_name'].tolist())\n",
    "\n",
    "'''\n",
    "    Reduced 13.1%, useful\n",
    "'''\n",
    "# How many song names are there now\n",
    "song_names=set(train_3['song_pre_bar'].unique()) | set(test_3['song_pre_bar'].unique())\n",
    "print(\"Reduced song names by %f\" % (1.0-(len(song_names)/SONG_SIZE)))\n",
    "del song_names\n",
    "\n",
    "# How many information does the post-titlemark contain\n",
    "unique_songs=set(train_3['song_post_bar'].unique()) | set(test_3['song_post_bar'].unique())\n",
    "print(\"Number of unique strings after bar: %i\" % len(unique_songs))\n",
    "\n",
    "'''\n",
    "    99.9% are empty, not useful\n",
    "'''\n",
    "# How many rows have non-empty information in this\n",
    "cnt=train_3.loc[~train_3['song_post_bar'].isin(['', 'empty']), 'song_post_bar'].count()\n",
    "print(\"Train set has %f rows not empty after bar\" % (cnt/TRAIN_SIZE))\n",
    "\n",
    "cnt=test_3.loc[~test_3['song_post_bar'].isin(['', 'empty']), 'song_post_bar'].count()\n",
    "print(\"Test set has %f rows not empty after bar\" % (cnt/TEST_SIZE))"
   ]
  },
  {
   "cell_type": "code",
   "execution_count": 77,
   "metadata": {
    "collapsed": false
   },
   "outputs": [
    {
     "name": "stdout",
     "output_type": "stream",
     "text": [
      "Dropping uninformative columns: ['artist_pre_bar', 'artist_post_bar', 'song_pre_bar', 'song_post_bar']\n"
     ]
    }
   ],
   "source": [
    "# Drop not informative columns\n",
    "drop_cols=['artist_pre_bar', 'artist_post_bar', 'song_pre_bar', 'song_post_bar']\n",
    "print('Dropping uninformative columns: %s' % str(drop_cols))\n",
    "\n",
    "train_3.drop(drop_cols, inplace=True, axis=1)\n",
    "test_3.drop(drop_cols, inplace=True, axis=1)"
   ]
  },
  {
   "cell_type": "markdown",
   "metadata": {},
   "source": [
    "# Slash character\n"
   ]
  },
  {
   "cell_type": "code",
   "execution_count": 76,
   "metadata": {
    "collapsed": true
   },
   "outputs": [],
   "source": [
    "def split_slash(x):\n",
    "    if '/' in str(x):\n",
    "        pre=x[:x.find(\"/\")].strip()\n",
    "        post=x[x.rfind(\"/\")+1:].strip()\n",
    "    elif '、' in str(x):\n",
    "        pre=x[:x.find(\"、\")].strip()\n",
    "        post=x[x.rfind(\"、\")+1:].strip()\n",
    "    else:\n",
    "        pre=x\n",
    "        post='empty'\n",
    "    return pre, post"
   ]
  },
  {
   "cell_type": "code",
   "execution_count": 78,
   "metadata": {
    "collapsed": false
   },
   "outputs": [
    {
     "name": "stdout",
     "output_type": "stream",
     "text": [
      "Reduced artist names by 0.000086\n",
      "Number of unique strings after slash: 49\n",
      "{'藥師灌頂真言', '李紹繼', '張震嶽 (jackie chan +emil chau +chang chen yue)', '德勒斯登國立劇院管弦樂團', 'the witch and the wardrobe', 'ballionaire mafia', 'cv:村上喜紀)', '佐倉綾音)', 'tomi & roberta stott', '惠晶&澯美)', 'empty', '頑童mj116)', '讀者文摘/愛播聽書', '石黑孝子', 'slamer', '劉季陵', '村田綾野）', '増田俊樹)', 'まだp名はないp', '橘田いずみ）', 'ウリたん(cv:花守ゆみり)', '梁秋妹 (米次古)', '李雲尼斯／鋼琴', 'tail yellow (cv:赤﨑千夏)】', '\"polo wl\")', '戸田色音', '長妻樹里)', '風間陣 (cv松岡禎永)】', '桑傑年巴仁波切', 'ミカサ・アッカーマン(cv:石川由依)from attackers', '吉倫／指揮', '善沙闇子（ｃｖ：日笠陽子）', '札幌交響楽団 & 札響合唱団', '白玉措嘉謝拉達吉林寺阿尼僧眾', '阿曲長老', '乘願領眾敬頌', '司圖嘉特廣播交響樂團', '花守由美里)', 'イヌたん(cv:本多真梨子)', '市ヶ谷有咲(cast:伊藤彩沙))', 'メイたん(cv:渕上 舞)', '鏡音レン', '若松正司編曲指揮，邱玉蘭:演唱，東京愛樂管弦樂團演奏', 'ピヨたん(cv:佐々木未来)', '王建傑', '奇哥 (project early)', '劉怡琪kiki)', '朝山禮拜', '路勇)'}\n",
      "Train set has 0.003741 rows not empty after slash\n",
      "Test set has 0.002302 rows not empty after slash\n"
     ]
    }
   ],
   "source": [
    "slash_train=train_3['artist_name'].apply(split_slash).to_frame()\n",
    "train_3[['artist_pre_slash', 'artist_post_slash']]=pd.DataFrame(slash_train['artist_name'].tolist())\n",
    "\n",
    "slash_test=test_3['artist_name'].apply(split_slash).to_frame()\n",
    "test_3[['artist_pre_slash', 'artist_post_slash']]=pd.DataFrame(slash_test['artist_name'].tolist())\n",
    "\n",
    "# How many artist names are there now\n",
    "artist_names=set(train_3['artist_pre_slash'].unique()) | set(test_3['artist_pre_slash'].unique())\n",
    "print(\"Reduced artist names by %f\" % (1.0-(len(artist_names)/ARTIST_SIZE)))\n",
    "del artist_names\n",
    "\n",
    "# How many information does the post-slash contain\n",
    "unique_artists=set(train_3['artist_post_slash'].unique()) | set(test_3['artist_post_slash'].unique())\n",
    "print(\"Number of unique strings after slash: %i\" % len(unique_artists))\n",
    "print(unique_artists)\n",
    "\n",
    "'''\n",
    "    100% are empty, not useful\n",
    "'''\n",
    "# How many rows have non-empty information in this\n",
    "cnt=train_3.loc[~train_3['artist_post_slash'].isin(['', 'empty']), 'artist_post_slash'].count()\n",
    "print(\"Train set has %f rows not empty after slash\" % (cnt/TRAIN_SIZE))\n",
    "\n",
    "cnt=test_3.loc[~test_3['artist_post_slash'].isin(['', 'empty']), 'artist_post_slash'].count()\n",
    "print(\"Test set has %f rows not empty after slash\" % (cnt/TEST_SIZE))"
   ]
  },
  {
   "cell_type": "code",
   "execution_count": 79,
   "metadata": {
    "collapsed": false
   },
   "outputs": [
    {
     "name": "stdout",
     "output_type": "stream",
     "text": [
      "Reduced song names by 0.000338\n",
      "Number of unique strings after slash: 379\n",
      "Train set has 0.002216 rows not empty after slash\n",
      "Test set has 0.001687 rows not empty after slash\n"
     ]
    }
   ],
   "source": [
    "# Apply to song name as well\n",
    "slash_train=train_3['song_name'].apply(split_slash).to_frame()\n",
    "train_3[['song_pre_slash', 'song_post_slash']]=pd.DataFrame(slash_train['song_name'].tolist())\n",
    "\n",
    "slash_test=test_3['song_name'].apply(split_slash).to_frame()\n",
    "test_3[['song_pre_slash', 'song_post_slash']]=pd.DataFrame(slash_test['song_name'].tolist())\n",
    "\n",
    "'''\n",
    "    Reduced 13.1%, useful\n",
    "'''\n",
    "# How many song names are there now\n",
    "song_names=set(train_3['song_pre_slash'].unique()) | set(test_3['song_pre_slash'].unique())\n",
    "print(\"Reduced song names by %f\" % (1.0-(len(song_names)/SONG_SIZE)))\n",
    "del song_names\n",
    "\n",
    "# How many information does the post-slash contain\n",
    "unique_songs=set(train_3['song_post_slash'].unique()) | set(test_3['song_post_slash'].unique())\n",
    "print(\"Number of unique strings after slash: %i\" % len(unique_songs))\n",
    "\n",
    "'''\n",
    "    99.9% are empty, not useful\n",
    "'''\n",
    "# How many rows have non-empty information in this\n",
    "cnt=train_3.loc[~train_3['song_post_slash'].isin(['', 'empty']), 'song_post_slash'].count()\n",
    "print(\"Train set has %f rows not empty after slash\" % (cnt/TRAIN_SIZE))\n",
    "\n",
    "cnt=test_3.loc[~test_3['song_post_slash'].isin(['', 'empty']), 'song_post_slash'].count()\n",
    "print(\"Test set has %f rows not empty after slash\" % (cnt/TEST_SIZE))"
   ]
  },
  {
   "cell_type": "code",
   "execution_count": 80,
   "metadata": {
    "collapsed": false
   },
   "outputs": [
    {
     "name": "stdout",
     "output_type": "stream",
     "text": [
      "Dropping uninformative columns: ['artist_pre_slash', 'artist_post_slash', 'song_pre_slash', 'song_post_slash']\n"
     ]
    }
   ],
   "source": [
    "# Drop not informative columns\n",
    "drop_cols=['artist_pre_slash', 'artist_post_slash', 'song_pre_slash', 'song_post_slash']\n",
    "print('Dropping uninformative columns: %s' % str(drop_cols))\n",
    "\n",
    "train_3.drop(drop_cols, inplace=True, axis=1)\n",
    "test_3.drop(drop_cols, inplace=True, axis=1)"
   ]
  },
  {
   "cell_type": "markdown",
   "metadata": {},
   "source": [
    "# And character"
   ]
  },
  {
   "cell_type": "code",
   "execution_count": 81,
   "metadata": {
    "collapsed": true
   },
   "outputs": [],
   "source": [
    "def split_and(x):\n",
    "    if '&' in str(x):\n",
    "        pre=x[:x.find(\"&\")].strip()\n",
    "        post=x[x.rfind(\"&\")+1:].strip()\n",
    "    elif '＆' in str(x):\n",
    "        pre=x[:x.find(\"＆\")].strip()\n",
    "        post=x[x.rfind(\"＆\")+1:].strip()\n",
    "    else:\n",
    "        pre=x\n",
    "        post='empty'\n",
    "    return pre, post"
   ]
  },
  {
   "cell_type": "code",
   "execution_count": 82,
   "metadata": {
    "collapsed": false
   },
   "outputs": [
    {
     "name": "stdout",
     "output_type": "stream",
     "text": [
      "Reduced artist names by 0.000108\n",
      "Number of unique strings after and: 59\n",
      "{'顏卓靈', 'niki chow)', 'kate tsui)', 'シンガーズ', 'kenny wong)', '宣萱 (roger kwok & jessica hsuan)', '天草シオン（cv.山下大輝）)', 'wong cho lam)', '鳳 瑛一（cv.緑川 光）)', 'empty', '伊藤ハルトシ)', 'kenny wong & deep ng)', 'angela tong)', 'shirley kwan)', 'ron ng & sky)', 'ron ng)', 'michael tse)', 'fresh prince', '宮本貴奈', 'とくさしけんご', 'johnson lee)', '横浜シンフォニエッタ', 'edwin siu)', 'shermon tang)', 'keiko)', 'limitbreak', 'wayne la)', '林子祥 (sally yeh & george lam)', '聖グレゴリオの家聖歌隊', 'annice ng)', '皇 綺羅（cv.小野大輔）)', '陳鍵鋒 (ron ng & michael tse & sammul chan)', '帝 ナギ（cv.代永 翼）)', '徐子珊 (michael tse & kate tsui)', '胡杏兒 (gallen lo & myolie wu)', '九天民俗技藝團', 'dabo', '胡杏兒 (ron ng & myolie wu)', '吳卓羲 (steven ma & ron ng)', 'fama)', '中山譲)', '高皓正 (angela pang & zac kao)', 'the明星ロケッツ', '偉華', 'yuqui-lah', 'デボラ・ミンキン', 'nancy wu)', 'icchie', '日向大和（cv.木村良平）)', 'sammy leung)', '單立文 (roger kwok & johnson lee & raymond cho & pal sinn)', '湯怡', 'sammul chan)', 'aniu)', '群星 (bernice liu +stars)', 'linda chung)', 'bosco wong)', 'xiaojiao chan)', '陳奕迅'}\n",
      "Train set has 0.000076 rows not empty after and\n",
      "Test set has 0.000092 rows not empty after and\n"
     ]
    }
   ],
   "source": [
    "and_train=train_3['artist_name'].apply(split_and).to_frame()\n",
    "train_3[['artist_pre_and', 'artist_post_and']]=pd.DataFrame(and_train['artist_name'].tolist())\n",
    "\n",
    "and_test=test_3['artist_name'].apply(split_and).to_frame()\n",
    "test_3[['artist_pre_and', 'artist_post_and']]=pd.DataFrame(and_test['artist_name'].tolist())\n",
    "\n",
    "# How many artist names are there now\n",
    "artist_names=set(train_3['artist_pre_and'].unique()) | set(test_3['artist_pre_and'].unique())\n",
    "print(\"Reduced artist names by %f\" % (1.0-(len(artist_names)/ARTIST_SIZE)))\n",
    "del artist_names\n",
    "\n",
    "# How many information does the post-slash contain\n",
    "unique_artists=set(train_3['artist_post_and'].unique()) | set(test_3['artist_post_and'].unique())\n",
    "print(\"Number of unique strings after and: %i\" % len(unique_artists))\n",
    "print(unique_artists)\n",
    "\n",
    "'''\n",
    "    100% are empty, not useful\n",
    "'''\n",
    "# How many rows have non-empty information in this\n",
    "cnt=train_3.loc[~train_3['artist_post_and'].isin(['', 'empty']), 'artist_post_and'].count()\n",
    "print(\"Train set has %f rows not empty after and\" % (cnt/TRAIN_SIZE))\n",
    "\n",
    "cnt=test_3.loc[~test_3['artist_post_and'].isin(['', 'empty']), 'artist_post_and'].count()\n",
    "print(\"Test set has %f rows not empty after and\" % (cnt/TEST_SIZE))"
   ]
  },
  {
   "cell_type": "code",
   "execution_count": 83,
   "metadata": {
    "collapsed": false
   },
   "outputs": [
    {
     "name": "stdout",
     "output_type": "stream",
     "text": [
      "Reduced song names by -0.000631\n",
      "Number of unique strings after and: 273\n",
      "Train set has 0.000044 rows not empty after and\n",
      "Test set has 0.001687 rows not empty after and\n"
     ]
    }
   ],
   "source": [
    "# Apply to song name as well\n",
    "and_train=train_3['song_name'].apply(split_and).to_frame()\n",
    "train_3[['song_pre_and', 'song_post_and']]=pd.DataFrame(and_train['song_name'].tolist())\n",
    "\n",
    "and_test=test_3['song_name'].apply(split_slash).to_frame()\n",
    "test_3[['song_pre_and', 'song_post_and']]=pd.DataFrame(and_test['song_name'].tolist())\n",
    "\n",
    "'''\n",
    "    Reduced 13.1%, useful\n",
    "'''\n",
    "# How many song names are there now\n",
    "song_names=set(train_3['song_pre_and'].unique()) | set(test_3['song_pre_and'].unique())\n",
    "print(\"Reduced song names by %f\" % (1.0-(len(song_names)/SONG_SIZE)))\n",
    "del song_names\n",
    "\n",
    "# How many information does the post-slash contain\n",
    "unique_songs=set(train_3['song_post_and'].unique()) | set(test_3['song_post_and'].unique())\n",
    "print(\"Number of unique strings after and: %i\" % len(unique_songs))\n",
    "\n",
    "'''\n",
    "    99.9% are empty, not useful\n",
    "'''\n",
    "# How many rows have non-empty information in this\n",
    "cnt=train_3.loc[~train_3['song_post_and'].isin(['', 'empty']), 'song_post_and'].count()\n",
    "print(\"Train set has %f rows not empty after and\" % (cnt/TRAIN_SIZE))\n",
    "\n",
    "cnt=test_3.loc[~test_3['song_post_and'].isin(['', 'empty']), 'song_post_and'].count()\n",
    "print(\"Test set has %f rows not empty after and\" % (cnt/TEST_SIZE))"
   ]
  },
  {
   "cell_type": "code",
   "execution_count": 84,
   "metadata": {
    "collapsed": false
   },
   "outputs": [
    {
     "name": "stdout",
     "output_type": "stream",
     "text": [
      "Dropping uninformative columns: ['artist_pre_and', 'artist_post_and', 'song_pre_and', 'song_post_and']\n"
     ]
    }
   ],
   "source": [
    "# Drop not informative columns\n",
    "drop_cols=['artist_pre_and', 'artist_post_and', 'song_pre_and', 'song_post_and']\n",
    "print('Dropping uninformative columns: %s' % str(drop_cols))\n",
    "\n",
    "train_3.drop(drop_cols, inplace=True, axis=1)\n",
    "test_3.drop(drop_cols, inplace=True, axis=1)"
   ]
  },
  {
   "cell_type": "markdown",
   "metadata": {},
   "source": [
    "# Plus character"
   ]
  },
  {
   "cell_type": "code",
   "execution_count": 85,
   "metadata": {
    "collapsed": true
   },
   "outputs": [],
   "source": [
    "def split_plus(x):\n",
    "    if '+' in str(x):\n",
    "        pre=x[:x.find(\"+\")].strip()\n",
    "        post=x[x.rfind(\"+\")+1:].strip()\n",
    "    elif '＋' in str(x):\n",
    "        pre=x[:x.find(\"＋\")].strip()\n",
    "        post=x[x.rfind(\"＋\")+1:].strip()\n",
    "    else:\n",
    "        pre=x\n",
    "        post='empty'\n",
    "    return pre, post"
   ]
  },
  {
   "cell_type": "code",
   "execution_count": 86,
   "metadata": {
    "collapsed": false,
    "scrolled": true
   },
   "outputs": [
    {
     "name": "stdout",
     "output_type": "stream",
     "text": [
      "Reduced artist names by -0.002873\n",
      "Number of unique strings after plus: 351\n",
      "{'', '周友金等演唱合輯', '胡琳', '微胖女神', '石頭', '加治ひとみ', '許蕾', '天草シオン（cv.山下大輝）)', '徐曉菁', '梁多一', 'wang xin lian)', '孫燕姿', 'vincent fang)', '郭少傑', '焦炭樂團', '淺井智子', '李祥', 'andy hui)', 'eric chung)', '蔡曉', 'tracy)', '蔡佳憓', '吉娃楓', '呂淑玲', 'n.flying j.don', 'the liberation', '湯良興', '薛珮潔', '彭佳慧', 'd', '胡艾彤', 'emotion', '楊洋', 'saksit)', '朱元冰', '辦桌阿龍', 'the voidz', '嘜', 'the angel without wings', '小山剛志', 'wayne la)', 'limitbreak', '范曉萱', '100% yue tuan)', '莫文蔚', 'luna)', 'michelle pan)', 'keiko (浜崎あゆみ＆keiko)', '程琇慧', '朝克吉勒圖', '春艷)', 'chen juan juan', '陳鍵鋒 (ron ng & michael tse & sammul chan)', '小虎隊', '易桀齊', '南無觀世音菩薩', 'bii)', '小安)', '胡杏兒 (ron ng & myolie wu)', '葉俐葶', '羅小白', '滅火器) (ni zhuan ． sheng ！(freddy＋fire ex.))', '魏如萱', '周璇', '格子兮', '方怡萍', 'デボラ・ミンキン', '洪薇婷', 'huang pin yuan)', '岡林', 'miss ko)', 'mandy chiang)', '台灣爵士大樂團', '高向鵬', '黃慧音', 'overload)', 'sammul chan)', 'shepard feat. kreesha turner', '陳中申指揮台北市立國樂團', '阿夏', '張方鳴', '劉亮延', '緒方理奈', '柳沢久実', '陳承恩', 'teresa)', 'shay', 'annie hsu)', ')', '郭宗翰', 'kwon jeong yeol', 'empty', '田躍君', 'exo xiumin', '于洋', '/- (plus/minus)', 'vision', 'rose yu)', '小鳳風', '林頌安', '元若藍', '趙自強', '曾素芝', '張蔚乾', '劉奕彤', 'mortar', '辦桌阿傑', '溫佑君', '梅子', '洪辰', '洪敬堯', 'fresh prince', '林明禎', '铃木大介）', 'the daniel ho trio', 'claire kuo)', 'hacken lee)', '張正弟(二胡)', '蔡麗津', '邱罔舍', 'brother su', '歐陽慧儒三重奏', 'ford', '張魁', '林子祥 (sally yeh & george lam)', '5個女主角', 'myolie wu)', '邱芸子', '德德瑪等演唱合輯', '櫻桃姐妹', '禦定六壬', '帝 ナギ（cv.代永 翼）)', '徐子珊 (michael tse & kate tsui)', '九天民俗技藝團', 'tse chin lui)', '黃仲崑', 'alan)', 'ブリー隊長', '洪偉婷', '廚房仔', 'puretone', '高胡演奏', 'freddy yu)', '巴奈', 'icchie', '孫越', 'bae dahae', '傅振輝', '王羚柔', 'sammy leung)', '黃勇', '蘇打綠', 'jimmy lin)', '蓋拉多(鋼琴)', 'aniu)', 'jooyoung', 'edmond leung)', '等演唱合輯', '詹永明', 'mostly live', 'mike robia', 'bobby mcferrin', '佟鐵鑫', '蕭玉芬', 'niki chow)', '杜紹穎 (chang yang-haw & du shaw-in)', 'elaine koo)', '戚葳', 'brandy', 'joey yung)', 'paul rodgers', '伊藤ハルトシ)', 'xiaojiao chan)', 'chitose hajime (お中元)', '林二汶', '小田和正)', 'shirley kwan)', '徐嘉琪', 'ron ng)', '藍又時', '堀沢真己(大提琴)', '林玉英', '劉韻', '達一生', '冷漠', 'ipis)', '馬明', 'とくさしけんご', '奶兔', '姜宇清', 'johnson lee)', 'jabberloop)', '容舒', '李欣怡', '許惠品', '安以軒', 'keiko)', 'gary yang)', '龍眼', 'me', '李建復', '余佳倫', '皇 綺羅（cv.小野大輔）)', 'a', 'paloalto', '李垂誼', '李雲尼斯 (鋼琴)', '今市隆二 from 三代目 j soul brothers', '董璿', 'kym kum)', 'jennifer lee)', '呂薔', 'jeng yi)', '林采緹', 'kim ez (ggotjam project)', 'paul)', 'steve chow)', 'chihei hatakeyama)', 'the明星ロケッツ', 'sylvia chang)', '光良', '鮑正芳', '大阪市音楽団', 'duenn', '孟美岐', '左左右右', 'nancy wu)', 'four tet (feat. romy)', '姚冬青', 'primož parovel', '游宜群', '日向大和（cv.木村良平）)', 'ch feat. coleman hell & jayme', 'ruco chan)', '初音未來', '雅惠', '席可維斯基', '吳俊宏', 'shepard', '吳睿然', '陳怡文', '長久保寛之', '夏淩兮', '許志豪', '張維良', 'claire kuo))', '林海', 'daniel ho', '玄殤', 'war', 'chang chen yue)', '祁隆', 'bosco wong)', '鮮于貞娥', '杜忻恬', 'late night alumni', 'winter', '李明川', '2am', 'ai', '黃靜雅', 'kenny wong)', '宣萱 (roger kwok & jessica hsuan)', 'stefanie sun)', '李玉璽', 'wong cho lam)', '鳳 瑛一（cv.緑川 光）)', '1', '傅薇', '白婧', 'bit sound', '童可可', '黃景瑜', 'orchestra', 'ned shepard feat. the chain gang of 1974', 'ned shepard & bt', '孫清松', 'shalala', 'ไวท์ ณวัชร์ พุ่มโพธิงาม', '妮琪米娜', '洪筠惠', 'fang wu)', '大鵬', '朱逢博等演唱合輯', 'liljay)', 'theピンクトカレフ', '吳靜嫻', '蔣才如', '許紫庭', 'bnsxx', '恩肯能 (指揮 科隆西德廣播交響樂團)', '胡藝芬', 'edwin siu)', '單九希', '伊恩‧方登 (鋼琴)', 'shepard ft. tegan & sara', '嚴錚', 'nicholas tse', '張陶陶', '2beeps', 'the plastics', '亦帆', '上原れな', '曹俊鴻', '大哲', 'plus', 'annice ng)', '林亭翰', 'ryuichi sakamoto', '苗苗', '李雲尼斯(鋼琴)', '池水蓮花收圓心', '德勒斯登國立劇院管弦樂團', '黃正銘', '趙泳鑫', 'matzka', '魏龍豪', 'tarcy su)', 'yen-j)', 'pazolite', '張涵雅', 'angela cheung)', '潘成', 'grimm', '洛天依', 'huang yali)', '黃嘉千', 'singer', '海哲明', '陸侲曦', '儒孺', 'ゲルギエフ', '初晴', 'rostam', '櫻花', 'paul cibis', '四葉草', '可可', 'the machine', 'sun ho)', '群星 (bernice liu +stars)', '趙一豪', 'stella chung)', '沈夢辰', '釋魂', '好朋友現代重奏樂團', '于文華等演唱合輯', 'fennesz', 'hani(exid)', '吉田兄弟', '陳奕迅'}\n",
      "Train set has 0.004851 rows not empty after and\n",
      "Test set has 0.000092 rows not empty after and\n"
     ]
    }
   ],
   "source": [
    "plus_train=train_3['artist_name'].apply(split_plus).to_frame()\n",
    "train_3[['artist_pre_plus', 'artist_post_plus']]=pd.DataFrame(plus_train['artist_name'].tolist())\n",
    "\n",
    "plus_test=test_3['artist_name'].apply(split_and).to_frame()\n",
    "test_3[['artist_pre_plus', 'artist_post_plus']]=pd.DataFrame(plus_test['artist_name'].tolist())\n",
    "\n",
    "# How many artist names are there now\n",
    "artist_names=set(train_3['artist_pre_plus'].unique()) | set(test_3['artist_pre_plus'].unique())\n",
    "print(\"Reduced artist names by %f\" % (1.0-(len(artist_names)/ARTIST_SIZE)))\n",
    "del artist_names\n",
    "\n",
    "# How many information does the post-slash contain\n",
    "unique_artists=set(train_3['artist_post_plus'].unique()) | set(test_3['artist_post_plus'].unique())\n",
    "print(\"Number of unique strings after plus: %i\" % len(unique_artists))\n",
    "print(unique_artists)\n",
    "\n",
    "'''\n",
    "    100% are empty, not useful\n",
    "'''\n",
    "# How many rows have non-empty information in this\n",
    "cnt=train_3.loc[~train_3['artist_post_plus'].isin(['', 'empty']), 'artist_post_plus'].count()\n",
    "print(\"Train set has %f rows not empty after and\" % (cnt/TRAIN_SIZE))\n",
    "\n",
    "cnt=test_3.loc[~test_3['artist_post_plus'].isin(['', 'empty']), 'artist_post_plus'].count()\n",
    "print(\"Test set has %f rows not empty after and\" % (cnt/TEST_SIZE))"
   ]
  },
  {
   "cell_type": "code",
   "execution_count": 87,
   "metadata": {
    "collapsed": false
   },
   "outputs": [
    {
     "name": "stdout",
     "output_type": "stream",
     "text": [
      "Reduced song names by 0.000542\n",
      "Number of unique strings after and: 351\n",
      "Train set has 0.001723 rows not empty after and\n",
      "Test set has 0.001948 rows not empty after and\n"
     ]
    }
   ],
   "source": [
    "# Apply to song name as well\n",
    "plus_train=train_3['song_name'].apply(split_plus).to_frame()\n",
    "train_3[['song_pre_plus', 'song_post_plus']]=pd.DataFrame(plus_train['song_name'].tolist())\n",
    "\n",
    "plus_test=test_3['song_name'].apply(split_plus).to_frame()\n",
    "test_3[['song_pre_plus', 'song_post_plus']]=pd.DataFrame(plus_test['song_name'].tolist())\n",
    "\n",
    "'''\n",
    "    Reduced 13.1%, useful\n",
    "'''\n",
    "# How many song names are there now\n",
    "song_names=set(train_3['song_pre_plus'].unique()) | set(test_3['song_pre_plus'].unique())\n",
    "print(\"Reduced song names by %f\" % (1.0-(len(song_names)/SONG_SIZE)))\n",
    "del song_names\n",
    "\n",
    "# How many information does the post-slash contain\n",
    "unique_songs=set(train_3['song_post_plus'].unique()) | set(test_3['song_post_plus'].unique())\n",
    "print(\"Number of unique strings after and: %i\" % len(unique_songs))\n",
    "\n",
    "'''\n",
    "    99.9% are empty, not useful\n",
    "'''\n",
    "# How many rows have non-empty information in this\n",
    "cnt=train_3.loc[~train_3['song_post_plus'].isin(['', 'empty']), 'song_post_plus'].count()\n",
    "print(\"Train set has %f rows not empty after plus\" % (cnt/TRAIN_SIZE))\n",
    "\n",
    "cnt=test_3.loc[~test_3['song_post_plus'].isin(['', 'empty']), 'song_post_plus'].count()\n",
    "print(\"Test set has %f rows not empty after plus\" % (cnt/TEST_SIZE))"
   ]
  },
  {
   "cell_type": "code",
   "execution_count": 88,
   "metadata": {
    "collapsed": false
   },
   "outputs": [
    {
     "name": "stdout",
     "output_type": "stream",
     "text": [
      "Dropping uninformative columns: ['artist_pre_plus', 'artist_post_plus', 'song_pre_plus', 'song_post_plus']\n"
     ]
    }
   ],
   "source": [
    "# Drop not informative columns\n",
    "drop_cols=['artist_pre_plus', 'artist_post_plus', 'song_pre_plus', 'song_post_plus']\n",
    "print('Dropping uninformative columns: %s' % str(drop_cols))\n",
    "\n",
    "train_3.drop(drop_cols, inplace=True, axis=1)\n",
    "test_3.drop(drop_cols, inplace=True, axis=1)"
   ]
  },
  {
   "cell_type": "markdown",
   "metadata": {},
   "source": [
    "# Comma"
   ]
  },
  {
   "cell_type": "code",
   "execution_count": 89,
   "metadata": {
    "collapsed": true
   },
   "outputs": [],
   "source": [
    "def split_comma(x):\n",
    "    if ',' in str(x):\n",
    "        pre=x[:x.find(\",\")].strip()\n",
    "        post=x[x.rfind(\",\")+1:].strip()\n",
    "    elif '，' in str(x):\n",
    "        pre=x[:x.find(\"，\")].strip()\n",
    "        post=x[x.rfind(\"，\")+1:].strip()\n",
    "    else:\n",
    "        pre=x\n",
    "        post='empty'\n",
    "    return pre, post"
   ]
  },
  {
   "cell_type": "code",
   "execution_count": 90,
   "metadata": {
    "collapsed": false
   },
   "outputs": [
    {
     "name": "stdout",
     "output_type": "stream",
     "text": [
      "Reduced artist names by 0.000000\n",
      "Number of unique strings after comma: 15\n",
      "{'與我同去', '龍貓睡著了', 'kazha＆yuqui-lah', '勿語', '東京愛樂管弦樂團演奏', '和田贵史＆とくさしけんご', 'empty', '安啦電影原聲帶', '我們一起追的女孩 電影原聲帶', '另類聖誕歌曲', '般若＆dabo', '我的王', '二本松はじめ＆中山譲)', '這就是愛情 原聲帶', '幸福電視原聲帶'}\n",
      "Train set has 0.001098 rows not empty after and\n",
      "Test set has 0.000910 rows not empty after and\n"
     ]
    }
   ],
   "source": [
    "comma_train=train_3['artist_name'].apply(split_comma).to_frame()\n",
    "train_3[['artist_pre_comma', 'artist_post_comma']]=pd.DataFrame(comma_train['artist_name'].tolist())\n",
    "\n",
    "comma_test=test_3['artist_name'].apply(split_comma).to_frame()\n",
    "test_3[['artist_pre_comma', 'artist_post_comma']]=pd.DataFrame(comma_test['artist_name'].tolist())\n",
    "\n",
    "# How many artist names are there now\n",
    "artist_names=set(train_3['artist_pre_comma'].unique()) | set(test_3['artist_pre_comma'].unique())\n",
    "print(\"Reduced artist names by %f\" % (1.0-(len(artist_names)/ARTIST_SIZE)))\n",
    "del artist_names\n",
    "\n",
    "# How many information does the post-slash contain\n",
    "unique_artists=set(train_3['artist_post_comma'].unique()) | set(test_3['artist_post_comma'].unique())\n",
    "print(\"Number of unique strings after comma: %i\" % len(unique_artists))\n",
    "print(unique_artists)\n",
    "\n",
    "'''\n",
    "    100% are empty, not useful\n",
    "'''\n",
    "# How many rows have non-empty information in this\n",
    "cnt=train_3.loc[~train_3['artist_post_comma'].isin(['', 'empty']), 'artist_post_comma'].count()\n",
    "print(\"Train set has %f rows not empty after and\" % (cnt/TRAIN_SIZE))\n",
    "\n",
    "cnt=test_3.loc[~test_3['artist_post_comma'].isin(['', 'empty']), 'artist_post_comma'].count()\n",
    "print(\"Test set has %f rows not empty after and\" % (cnt/TEST_SIZE))"
   ]
  },
  {
   "cell_type": "code",
   "execution_count": 91,
   "metadata": {
    "collapsed": false
   },
   "outputs": [
    {
     "name": "stdout",
     "output_type": "stream",
     "text": [
      "Reduced song names by 0.001236\n",
      "Number of unique strings after comma: 814\n",
      "Train set has 0.005136 rows not empty after comma\n",
      "Test set has 0.003534 rows not empty after comma\n"
     ]
    }
   ],
   "source": [
    "# Apply to song name as well\n",
    "comma_train=train_3['song_name'].apply(split_comma).to_frame()\n",
    "train_3[['song_pre_comma', 'song_post_comma']]=pd.DataFrame(comma_train['song_name'].tolist())\n",
    "\n",
    "comma_test=test_3['song_name'].apply(split_comma).to_frame()\n",
    "test_3[['song_pre_comma', 'song_post_comma']]=pd.DataFrame(comma_test['song_name'].tolist())\n",
    "\n",
    "'''\n",
    "    Reduced 13.1%, useful\n",
    "'''\n",
    "# How many song names are there now\n",
    "song_names=set(train_3['song_pre_comma'].unique()) | set(test_3['song_pre_comma'].unique())\n",
    "print(\"Reduced song names by %f\" % (1.0-(len(song_names)/SONG_SIZE)))\n",
    "del song_names\n",
    "\n",
    "# How many information does the post-slash contain\n",
    "unique_songs=set(train_3['song_post_comma'].unique()) | set(test_3['song_post_comma'].unique())\n",
    "print(\"Number of unique strings after comma: %i\" % len(unique_songs))\n",
    "\n",
    "'''\n",
    "    99.9% are empty, not useful\n",
    "'''\n",
    "# How many rows have non-empty information in this\n",
    "cnt=train_3.loc[~train_3['song_post_comma'].isin(['', 'empty']), 'song_post_comma'].count()\n",
    "print(\"Train set has %f rows not empty after comma\" % (cnt/TRAIN_SIZE))\n",
    "\n",
    "cnt=test_3.loc[~test_3['song_post_comma'].isin(['', 'empty']), 'song_post_comma'].count()\n",
    "print(\"Test set has %f rows not empty after comma\" % (cnt/TEST_SIZE))"
   ]
  },
  {
   "cell_type": "code",
   "execution_count": 92,
   "metadata": {
    "collapsed": false
   },
   "outputs": [
    {
     "name": "stdout",
     "output_type": "stream",
     "text": [
      "Dropping uninformative columns: ['artist_pre_comma', 'artist_post_comma', 'song_pre_comma', 'song_post_comma']\n"
     ]
    }
   ],
   "source": [
    "# Drop not informative columns\n",
    "drop_cols=['artist_pre_comma', 'artist_post_comma', 'song_pre_comma', 'song_post_comma']\n",
    "print('Dropping uninformative columns: %s' % str(drop_cols))\n",
    "\n",
    "train_3.drop(drop_cols, inplace=True, axis=1)\n",
    "test_3.drop(drop_cols, inplace=True, axis=1)"
   ]
  },
  {
   "cell_type": "code",
   "execution_count": null,
   "metadata": {
    "collapsed": true
   },
   "outputs": [],
   "source": []
  },
  {
   "cell_type": "code",
   "execution_count": null,
   "metadata": {
    "collapsed": true
   },
   "outputs": [],
   "source": []
  },
  {
   "cell_type": "code",
   "execution_count": null,
   "metadata": {
    "collapsed": true
   },
   "outputs": [],
   "source": []
  },
  {
   "cell_type": "code",
   "execution_count": null,
   "metadata": {
    "collapsed": true
   },
   "outputs": [],
   "source": []
  },
  {
   "cell_type": "code",
   "execution_count": null,
   "metadata": {
    "collapsed": true
   },
   "outputs": [],
   "source": []
  },
  {
   "cell_type": "code",
   "execution_count": 114,
   "metadata": {
    "collapsed": true
   },
   "outputs": [],
   "source": [
    "def find_special_char(x, c):\n",
    "    i=x.find(c)\n",
    "    if i==-1:\n",
    "        return len(x)\n",
    "    return i\n",
    "def before_special_char(x):\n",
    "    print(\"String %s\" % x)\n",
    "    #\"|\"\n",
    "    bar_idx=min(find_special_char(x,\"|\"),find_special_char(x,\"|\"))\n",
    "    print(\"Bar at %i\" % bar_idx)\n",
    "    # slash\n",
    "    slash_idx=min(find_special_char(x,\"/\"),find_special_char(x,\"、\"))\n",
    "    print(\"Slash at %i\" % slash_idx)\n",
    "    # and\n",
    "    and_idx=min(find_special_char(x,\"&\"),find_special_char(x,\"＆\"))\n",
    "    print(\"And at %i\" % and_idx)\n",
    "    # plus\n",
    "    plus_idx=find_special_char(x,\"+\")\n",
    "    print(\"Plus at %i\" % plus_idx)\n",
    "    # comma\n",
    "    comma_idx=min(find_special_char(x,\",\"),find_special_char(x,\"，\"))\n",
    "    print(\"Comma at %i\" % comma_idx)\n",
    "    # parenthesis\n",
    "    par_idx=min(find_special_char(x, \"(\"), find_special_char(x, \")\"), find_special_char(x, \"（\"), find_special_char(x, \"）\"))\n",
    "    print(\"Parenthesis at %i\" % par_idx)\n",
    "    \n",
    "    before_special=min(bar_idx, slash_idx, and_idx, plus_idx, comma_idx, par_idx)\n",
    "    extract=x[:before_special].strip()\n",
    "    print(\"Before everything %i gets %s\" % (before_special, extract))\n",
    "    return extract\n",
    "    \n",
    "    "
   ]
  },
  {
   "cell_type": "code",
   "execution_count": 110,
   "metadata": {
    "collapsed": true
   },
   "outputs": [],
   "source": [
    "train_3['artist_name_main']=train_3['artist_name'].apply(before_special_char)\n",
    "test_3['artist_name_main']=test_3['artist_name'].apply(before_special_char)"
   ]
  },
  {
   "cell_type": "code",
   "execution_count": 111,
   "metadata": {
    "collapsed": false,
    "scrolled": true
   },
   "outputs": [
    {
     "data": {
      "text/plain": [
       "0                                  梁文音\n",
       "1                                  林俊傑\n",
       "2                         yu takahashi\n",
       "3                                   u2\n",
       "4                        yoga mr sound\n",
       "5                               lee hi\n",
       "6                                  boa\n",
       "7                                  周傳雄\n",
       "8                                  嚴藝丹\n",
       "9                              bigbang\n",
       "10                                 潘瑋柏\n",
       "11                         hoshino gen\n",
       "12                                 林宥嘉\n",
       "13                                 賴銘偉\n",
       "14                                 蕭敬騰\n",
       "15                     伍佰 & china blue\n",
       "16                                  楊靜\n",
       "17                       martin garrix\n",
       "18                                原子邦妮\n",
       "19                                  阿牛\n",
       "20                                 周杰倫\n",
       "21                                 戴佩妮\n",
       "22                                 方大同\n",
       "23                                 陳奕迅\n",
       "24                             fun4 樂團\n",
       "25                                 李聖傑\n",
       "26                            jessie j\n",
       "27                                 劉嘉亮\n",
       "28                                   信\n",
       "29                           shontelle\n",
       "                      ...             \n",
       "2556760                            林俊傑\n",
       "2556761                s.m. the ballad\n",
       "2556762                            李玉璽\n",
       "2556763                  walk the moon\n",
       "2556764               gym class heroes\n",
       "2556765                         tiësto\n",
       "2556766                            范瑋琪\n",
       "2556767                            黃乙玲\n",
       "2556768                             江蕙\n",
       "2556769                       min chae\n",
       "2556770                            吳建豪\n",
       "2556771    the chainsmokers & coldplay\n",
       "2556772               the chainsmokers\n",
       "2556773                       maroon 5\n",
       "2556774                various artists\n",
       "2556775                             暴君\n",
       "2556776                            郭富城\n",
       "2556777                      berrygood\n",
       "2556778                various artists\n",
       "2556779                            彭佳慧\n",
       "2556780                        頑童mj116\n",
       "2556781                          azumi\n",
       "2556782                various artists\n",
       "2556783                            曾靜玟\n",
       "2556784                         alesso\n",
       "2556785    the chainsmokers & coldplay\n",
       "2556786                            郭美美\n",
       "2556787                            問樂團\n",
       "2556788                            陳冠宇\n",
       "2556789                             嘎嘎\n",
       "Name: artist_name_main, Length: 2556790, dtype: object"
      ]
     },
     "execution_count": 111,
     "metadata": {},
     "output_type": "execute_result"
    }
   ],
   "source": [
    "test_3['artist_name_main']"
   ]
  },
  {
   "cell_type": "code",
   "execution_count": 112,
   "metadata": {
    "collapsed": false
   },
   "outputs": [
    {
     "name": "stdout",
     "output_type": "stream",
     "text": [
      "44600 artist names found after extracting special char\n"
     ]
    }
   ],
   "source": [
    "ARTIST_MAIN=set()\n",
    "def collect_artist_main(x):\n",
    "    global ARTIST_MAIN\n",
    "    ARTIST_MAIN.add(x)\n",
    "train_3['artist_name_main'].apply(collect_artist_main)\n",
    "test_3['artist_name_main'].apply(collect_artist_main)\n",
    "print(\"%i artist names found after extracting special char\" % len(ARTIST_MAIN))"
   ]
  },
  {
   "cell_type": "code",
   "execution_count": 132,
   "metadata": {
    "collapsed": false,
    "scrolled": true
   },
   "outputs": [
    {
     "data": {
      "text/plain": [
       "0          None\n",
       "1          None\n",
       "2          None\n",
       "3          None\n",
       "4          None\n",
       "5          None\n",
       "6          None\n",
       "7          None\n",
       "8          None\n",
       "9          None\n",
       "10         None\n",
       "11         None\n",
       "12         None\n",
       "13         None\n",
       "14         None\n",
       "15         None\n",
       "16         None\n",
       "17         None\n",
       "18         None\n",
       "19         None\n",
       "20         None\n",
       "21         None\n",
       "22         None\n",
       "23         None\n",
       "24         None\n",
       "25         None\n",
       "26         None\n",
       "27         None\n",
       "28         None\n",
       "29         None\n",
       "           ... \n",
       "2556760    None\n",
       "2556761    None\n",
       "2556762    None\n",
       "2556763    None\n",
       "2556764    None\n",
       "2556765    None\n",
       "2556766    None\n",
       "2556767    None\n",
       "2556768    None\n",
       "2556769    None\n",
       "2556770    None\n",
       "2556771    None\n",
       "2556772    None\n",
       "2556773    None\n",
       "2556774    None\n",
       "2556775    None\n",
       "2556776    None\n",
       "2556777    None\n",
       "2556778    None\n",
       "2556779    None\n",
       "2556780    None\n",
       "2556781    None\n",
       "2556782    None\n",
       "2556783    None\n",
       "2556784    None\n",
       "2556785    None\n",
       "2556786    None\n",
       "2556787    None\n",
       "2556788    None\n",
       "2556789    None\n",
       "Name: artist_name, Length: 2556790, dtype: object"
      ]
     },
     "execution_count": 132,
     "metadata": {},
     "output_type": "execute_result"
    }
   ],
   "source": [
    "# Find the non-English parts from artist names\n",
    "NON_ENGLISH=set()\n",
    "def is_english(x):\n",
    "    if all(ord(char) < 128 for char in str(x)):\n",
    "        return\n",
    "    else:\n",
    "        global NON_ENGLISH\n",
    "        NON_ENGLISH.add(x.strip())\n",
    "train_3['artist_name'].apply(is_english)\n",
    "test_3['artist_name'].apply(is_english)\n",
    "    "
   ]
  },
  {
   "cell_type": "code",
   "execution_count": 133,
   "metadata": {
    "collapsed": true
   },
   "outputs": [],
   "source": [
    "not_eng=open('non_english.txt', 'w+')\n",
    "for s in NON_ENGLISH:\n",
    "    not_eng.write(\"%s\\n\" % s)\n",
    "not_eng.close()"
   ]
  },
  {
   "cell_type": "code",
   "execution_count": 136,
   "metadata": {
    "collapsed": true
   },
   "outputs": [],
   "source": []
  }
 ],
 "metadata": {
  "kernelspec": {
   "display_name": "Python [default]",
   "language": "python",
   "name": "python3"
  },
  "language_info": {
   "codemirror_mode": {
    "name": "ipython",
    "version": 3
   },
   "file_extension": ".py",
   "mimetype": "text/x-python",
   "name": "python",
   "nbconvert_exporter": "python",
   "pygments_lexer": "ipython3",
   "version": "3.5.2"
  }
 },
 "nbformat": 4,
 "nbformat_minor": 1
}
