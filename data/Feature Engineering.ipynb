{
 "cells": [
  {
   "cell_type": "code",
   "execution_count": 3,
   "metadata": {},
   "outputs": [],
   "source": [
    "# https://www.kaggle.com/asmitavikas/feature-engineered-0-68310\n",
    "import numpy as np\n",
    "import pandas as pd\n",
    "import lightgbm as lgb\n",
    "import datetime\n",
    "import math"
   ]
  },
  {
   "cell_type": "code",
   "execution_count": 4,
   "metadata": {},
   "outputs": [
    {
     "name": "stdout",
     "output_type": "stream",
     "text": [
      "Loading data...\n",
      "Done loading...\n"
     ]
    }
   ],
   "source": [
    "print('Loading data...')\n",
    "data_path = './raw/'\n",
    "train = pd.read_csv(data_path + 'train.csv')\n",
    "test = pd.read_csv(data_path + 'test.csv')\n",
    "songs = pd.read_csv(data_path + 'songs.csv')\n",
    "members = pd.read_csv(data_path + 'members.csv',\n",
    "                     parse_dates=['registration_init_time','expiration_date'])\n",
    "songs_extra = pd.read_csv(data_path + 'song_extra_info.csv')\n",
    "print('Done loading...')"
   ]
  },
  {
   "cell_type": "code",
   "execution_count": 5,
   "metadata": {},
   "outputs": [
    {
     "name": "stdout",
     "output_type": "stream",
     "text": [
      "<class 'pandas.core.frame.DataFrame'>\n",
      "RangeIndex: 2296320 entries, 0 to 2296319\n",
      "Data columns (total 7 columns):\n",
      "song_id        object\n",
      "song_length    int64\n",
      "genre_ids      object\n",
      "artist_name    object\n",
      "composer       object\n",
      "lyricist       object\n",
      "language       float64\n",
      "dtypes: float64(1), int64(1), object(5)\n",
      "memory usage: 122.6+ MB\n"
     ]
    }
   ],
   "source": [
    "songs.info()"
   ]
  },
  {
   "cell_type": "code",
   "execution_count": 6,
   "metadata": {
    "scrolled": true
   },
   "outputs": [
    {
     "data": {
      "text/plain": [
       "0                      465\n",
       "1                      444\n",
       "2                      465\n",
       "3                      465\n",
       "4                      726\n",
       "5          864|857|850|843\n",
       "6                      458\n",
       "7                      465\n",
       "8                      465\n",
       "9                 352|1995\n",
       "10                    2157\n",
       "11                     465\n",
       "12                     726\n",
       "13                     458\n",
       "14                     359\n",
       "15                     359\n",
       "16                     458\n",
       "17                     465\n",
       "18                     726\n",
       "19                     465\n",
       "20                     465\n",
       "21                     465\n",
       "22                     465\n",
       "23                     465\n",
       "24                    1609\n",
       "25                    1609\n",
       "26                     465\n",
       "27                     139\n",
       "28                    1609\n",
       "29                     465\n",
       "                ...       \n",
       "2296290               1259\n",
       "2296291                880\n",
       "2296292                465\n",
       "2296293                958\n",
       "2296294                465\n",
       "2296295        139|125|109\n",
       "2296296                465\n",
       "2296297               1259\n",
       "2296298                359\n",
       "2296299               2022\n",
       "2296300                958\n",
       "2296301                388\n",
       "2296302               1011\n",
       "2296303               1616\n",
       "2296304                958\n",
       "2296305                465\n",
       "2296306               2122\n",
       "2296307                359\n",
       "2296308                465\n",
       "2296309          1616|2058\n",
       "2296310                958\n",
       "2296311                465\n",
       "2296312           1572|275\n",
       "2296313                465\n",
       "2296314               2122\n",
       "2296315                958\n",
       "2296316                465\n",
       "2296317               1609\n",
       "2296318                465\n",
       "2296319                829\n",
       "Name: genre_ids, Length: 2296320, dtype: object"
      ]
     },
     "execution_count": 6,
     "metadata": {},
     "output_type": "execute_result"
    }
   ],
   "source": [
    "songs['genre_ids']"
   ]
  },
  {
   "cell_type": "code",
   "execution_count": 7,
   "metadata": {
    "scrolled": true
   },
   "outputs": [
    {
     "data": {
      "text/plain": [
       "0                                           張信哲 (Jeff Chang)\n",
       "1                                                  BLACKPINK\n",
       "2                                               SUPER JUNIOR\n",
       "3                                                      S.H.E\n",
       "4                                                       貴族精選\n",
       "5                                                       貴族精選\n",
       "6                                            伍佰 & China Blue\n",
       "7                                          光良 (Michael Wong)\n",
       "8                                               林俊傑 (JJ Lin)\n",
       "9                                                   Kodaline\n",
       "10                                       D.L 羅時豐 (Daniel Lo)\n",
       "11                                                  白安 (Ann)\n",
       "12                                                Littlesong\n",
       "13                                             蔡旻佑 (Evan Yo)\n",
       "14                                                  Coldplay\n",
       "15                                             Maggie Rogers\n",
       "16                                 小男孩樂團 (Men Envy Children)\n",
       "17                                                   BIGBANG\n",
       "18                                               White Noise\n",
       "19                                               步步驚心主題曲原聲EP\n",
       "20                                                Katy Perry\n",
       "21                                            劉若英 (Rene Liu)\n",
       "22                                           傅又宣 (Maggie Fu)\n",
       "23                                           BIGBANG TAEYANG\n",
       "24                                   Danny Marquez & Ferry B\n",
       "25                            Kyary Pamyu Pamyu (きゃりーぱみゅぱみゅ)\n",
       "26                                          品冠 (Victor Wong)\n",
       "27                                                The Weeknd\n",
       "28                                        Marvin Gaye & Kygo\n",
       "29                                              五月天 (Mayday)\n",
       "                                 ...                        \n",
       "2296290                                       Charley Brownn\n",
       "2296291                                         Jason Nelson\n",
       "2296292                                         Amanda Perez\n",
       "2296293                                            鈴木理恵子/若林顕\n",
       "2296294                                               Mecano\n",
       "2296295                                         Peabo Bryson\n",
       "2296296                         Avaleya and The GlitterHawks\n",
       "2296297                                               Father\n",
       "2296298                                            FAIRCHILD\n",
       "2296299                                      Various Artists\n",
       "2296300                                   Seiji Ozawa (小澤征爾)\n",
       "2296301                                     Yin Yoga Academy\n",
       "2296302                                        Kenny Chesney\n",
       "2296303                     Renato pezzella| Renato Pezzella\n",
       "2296304                                    Felix Mendelssohn\n",
       "2296305                                                   欒生\n",
       "2296306                    Michael Silverman Jazz Piano Trio\n",
       "2296307                                        Philip Selway\n",
       "2296308                                           Noosa Hedz\n",
       "2296309    Bobby Gasparakis| Edo Mela| Bodega| Randy Garc...\n",
       "2296310                                   Orgel Carrol 오르골캐롤\n",
       "2296311                                          Karen Jonas\n",
       "2296312                                          The Jackals\n",
       "2296313                                      Various Artists\n",
       "2296314                     Art Blakey & The Jazz Messengers\n",
       "2296315                                    Catherine Collard\n",
       "2296316                                    紀文惠 (Justine Chi)\n",
       "2296317                                      Various Artists\n",
       "2296318                                    Peter Paul & Mary\n",
       "2296319                                        Kim Robertson\n",
       "Name: artist_name, Length: 2296320, dtype: object"
      ]
     },
     "execution_count": 7,
     "metadata": {},
     "output_type": "execute_result"
    }
   ],
   "source": [
    "songs['artist_name']"
   ]
  },
  {
   "cell_type": "code",
   "execution_count": 8,
   "metadata": {},
   "outputs": [],
   "source": [
    "# Convert to lower case\n",
    "# NaN values are kept for replacement\n",
    "songs['artist_name']=songs['artist_name'].str.lower()\n",
    "songs['composer']=songs['composer'].str.lower()\n",
    "songs['lyricist']=songs['lyricist'].str.lower()"
   ]
  },
  {
   "cell_type": "code",
   "execution_count": 9,
   "metadata": {},
   "outputs": [],
   "source": [
    "# Convert to categorical\n",
    "def to_categorical(X):\n",
    "    print(\"Before convert to categorical\")\n",
    "    print(X.info())\n",
    "    X_cat = pd.concat([\n",
    "        X.select_dtypes([], ['object']),\n",
    "        X.select_dtypes(['object']).apply(pd.Series.astype, dtype='category')\n",
    "        ], axis=1).reindex_axis(X.columns, axis=1)\n",
    "    print(\"After convertion\")\n",
    "    print(X_cat.info())\n",
    "    return X_cat"
   ]
  },
  {
   "cell_type": "code",
   "execution_count": 10,
   "metadata": {
    "scrolled": true
   },
   "outputs": [
    {
     "name": "stdout",
     "output_type": "stream",
     "text": [
      "Before convert to categorical\n",
      "<class 'pandas.core.frame.DataFrame'>\n",
      "RangeIndex: 7377418 entries, 0 to 7377417\n",
      "Data columns (total 6 columns):\n",
      "msno                  object\n",
      "song_id               object\n",
      "source_system_tab     object\n",
      "source_screen_name    object\n",
      "source_type           object\n",
      "target                int64\n",
      "dtypes: int64(1), object(5)\n",
      "memory usage: 337.7+ MB\n",
      "None\n"
     ]
    },
    {
     "name": "stderr",
     "output_type": "stream",
     "text": [
      "/anaconda/lib/python3.6/site-packages/ipykernel_launcher.py:8: FutureWarning: '.reindex_axis' is deprecated and will be removed in a future version. Use '.reindex' instead.\n",
      "  \n"
     ]
    },
    {
     "name": "stdout",
     "output_type": "stream",
     "text": [
      "After convertion\n",
      "<class 'pandas.core.frame.DataFrame'>\n",
      "RangeIndex: 7377418 entries, 0 to 7377417\n",
      "Data columns (total 6 columns):\n",
      "msno                  category\n",
      "song_id               category\n",
      "source_system_tab     category\n",
      "source_screen_name    category\n",
      "source_type           category\n",
      "target                int64\n",
      "dtypes: category(5), int64(1)\n",
      "memory usage: 133.8 MB\n",
      "None\n",
      "Before convert to categorical\n",
      "<class 'pandas.core.frame.DataFrame'>\n",
      "RangeIndex: 2556790 entries, 0 to 2556789\n",
      "Data columns (total 6 columns):\n",
      "id                    int64\n",
      "msno                  object\n",
      "song_id               object\n",
      "source_system_tab     object\n",
      "source_screen_name    object\n",
      "source_type           object\n",
      "dtypes: int64(1), object(5)\n",
      "memory usage: 117.0+ MB\n",
      "None\n",
      "After convertion\n",
      "<class 'pandas.core.frame.DataFrame'>\n",
      "RangeIndex: 2556790 entries, 0 to 2556789\n",
      "Data columns (total 6 columns):\n",
      "id                    int64\n",
      "msno                  category\n",
      "song_id               category\n",
      "source_system_tab     category\n",
      "source_screen_name    category\n",
      "source_type           category\n",
      "dtypes: category(5), int64(1)\n",
      "memory usage: 54.0 MB\n",
      "None\n",
      "Before convert to categorical\n",
      "<class 'pandas.core.frame.DataFrame'>\n",
      "RangeIndex: 2296320 entries, 0 to 2296319\n",
      "Data columns (total 7 columns):\n",
      "song_id        object\n",
      "song_length    int64\n",
      "genre_ids      object\n",
      "artist_name    object\n",
      "composer       object\n",
      "lyricist       object\n",
      "language       float64\n",
      "dtypes: float64(1), int64(1), object(5)\n",
      "memory usage: 122.6+ MB\n",
      "None\n",
      "After convertion\n",
      "<class 'pandas.core.frame.DataFrame'>\n",
      "RangeIndex: 2296320 entries, 0 to 2296319\n",
      "Data columns (total 7 columns):\n",
      "song_id        category\n",
      "song_length    int64\n",
      "genre_ids      category\n",
      "artist_name    category\n",
      "composer       category\n",
      "lyricist       category\n",
      "language       float64\n",
      "dtypes: category(5), float64(1), int64(1)\n",
      "memory usage: 202.0 MB\n",
      "None\n",
      "Before convert to categorical\n",
      "<class 'pandas.core.frame.DataFrame'>\n",
      "RangeIndex: 34403 entries, 0 to 34402\n",
      "Data columns (total 7 columns):\n",
      "msno                      34403 non-null object\n",
      "city                      34403 non-null int64\n",
      "bd                        34403 non-null int64\n",
      "gender                    14501 non-null object\n",
      "registered_via            34403 non-null int64\n",
      "registration_init_time    34403 non-null datetime64[ns]\n",
      "expiration_date           34403 non-null datetime64[ns]\n",
      "dtypes: datetime64[ns](2), int64(3), object(2)\n",
      "memory usage: 1.8+ MB\n",
      "None\n",
      "After convertion\n",
      "<class 'pandas.core.frame.DataFrame'>\n",
      "RangeIndex: 34403 entries, 0 to 34402\n",
      "Data columns (total 7 columns):\n",
      "msno                      34403 non-null category\n",
      "city                      34403 non-null int64\n",
      "bd                        34403 non-null int64\n",
      "gender                    14501 non-null category\n",
      "registered_via            34403 non-null int64\n",
      "registration_init_time    34403 non-null datetime64[ns]\n",
      "expiration_date           34403 non-null datetime64[ns]\n",
      "dtypes: category(2), datetime64[ns](2), int64(3)\n",
      "memory usage: 3.0 MB\n",
      "None\n"
     ]
    }
   ],
   "source": [
    "train_cat=to_categorical(train)\n",
    "test_cat=to_categorical(test)\n",
    "songs_cat=to_categorical(songs)\n",
    "members_cat=to_categorical(members)"
   ]
  },
  {
   "cell_type": "code",
   "execution_count": 11,
   "metadata": {},
   "outputs": [],
   "source": [
    "# Merge songs\n",
    "train_cat = train_cat.merge(songs, on='song_id', how='left')\n",
    "test_cat = test_cat.merge(songs, on='song_id', how='left')"
   ]
  },
  {
   "cell_type": "code",
   "execution_count": 12,
   "metadata": {},
   "outputs": [],
   "source": [
    "# Engineering on members\n",
    "members_cat['membership_days'] = members_cat['expiration_date'].subtract(members_cat['registration_init_time']).dt.days.astype(int)\n",
    "\n",
    "members_cat['registration_year'] = members_cat['registration_init_time'].dt.year\n",
    "members_cat['registration_month'] = members_cat['registration_init_time'].dt.month\n",
    "members_cat['registration_date'] = members_cat['registration_init_time'].dt.day\n",
    "\n",
    "members_cat['expiration_year'] = members_cat['expiration_date'].dt.year\n",
    "members_cat['expiration_month'] = members_cat['expiration_date'].dt.month\n",
    "members_cat['expiration_date'] = members_cat['expiration_date'].dt.day\n",
    "members_cat = members_cat.drop(['registration_init_time'], axis=1)"
   ]
  },
  {
   "cell_type": "code",
   "execution_count": 8,
   "metadata": {
    "collapsed": true
   },
   "outputs": [],
   "source": [
    "# Merge members\n",
    "train_cat = train_cat.merge(members_cat, on='msno', how='left')\n",
    "test_cat = test_cat.merge(members_cat, on='msno', how='left')"
   ]
  },
  {
   "cell_type": "code",
   "execution_count": 9,
   "metadata": {},
   "outputs": [
    {
     "name": "stdout",
     "output_type": "stream",
     "text": [
      "<class 'pandas.core.frame.DataFrame'>\n",
      "Int64Index: 7377418 entries, 0 to 7377417\n",
      "Data columns (total 23 columns):\n",
      "msno                  object\n",
      "song_id               object\n",
      "source_system_tab     object\n",
      "source_screen_name    object\n",
      "source_type           object\n",
      "target                int64\n",
      "song_length           float64\n",
      "genre_ids             object\n",
      "artist_name           object\n",
      "composer              object\n",
      "lyricist              object\n",
      "language              float64\n",
      "city                  int64\n",
      "bd                    int64\n",
      "gender                object\n",
      "registered_via        int64\n",
      "expiration_date       int64\n",
      "membership_days       int64\n",
      "registration_year     int64\n",
      "registration_month    int64\n",
      "registration_date     int64\n",
      "expiration_year       int64\n",
      "expiration_month      int64\n",
      "dtypes: float64(2), int64(11), object(10)\n",
      "memory usage: 1.3+ GB\n"
     ]
    }
   ],
   "source": [
    "train_cat.info()"
   ]
  },
  {
   "cell_type": "code",
   "execution_count": 10,
   "metadata": {
    "collapsed": true
   },
   "outputs": [],
   "source": [
    "def isrc_to_year(isrc):\n",
    "    if type(isrc) == str:\n",
    "        if int(isrc[5:7]) > 17:\n",
    "            return 1900 + int(isrc[5:7])\n",
    "        else:\n",
    "            return 2000 + int(isrc[5:7])\n",
    "    else:\n",
    "        return np.nan"
   ]
  },
  {
   "cell_type": "code",
   "execution_count": 11,
   "metadata": {},
   "outputs": [
    {
     "name": "stdout",
     "output_type": "stream",
     "text": [
      "<class 'pandas.core.frame.DataFrame'>\n",
      "RangeIndex: 2295971 entries, 0 to 2295970\n",
      "Data columns (total 3 columns):\n",
      "song_id    object\n",
      "name       object\n",
      "isrc       object\n",
      "dtypes: object(3)\n",
      "memory usage: 52.6+ MB\n"
     ]
    }
   ],
   "source": [
    "songs_extra.info()"
   ]
  },
  {
   "cell_type": "code",
   "execution_count": 12,
   "metadata": {
    "scrolled": true
   },
   "outputs": [],
   "source": [
    "# Process songs_extra\n",
    "songs_extra['song_year'] = songs_extra['isrc'].apply(isrc_to_year)\n",
    "songs_extra.drop(['isrc', 'name'], axis = 1, inplace = True)"
   ]
  },
  {
   "cell_type": "code",
   "execution_count": 13,
   "metadata": {},
   "outputs": [],
   "source": [
    "# Merge songs_extra\n",
    "train_cat = train_cat.merge(songs_extra, on = 'song_id', how = 'left')\n",
    "train_cat.song_length.fillna(200000,inplace=True)\n",
    "train_cat.song_length = train_cat.song_length.astype(np.uint32)\n",
    "train_cat.song_id = train_cat.song_id.astype('category')\n",
    "\n",
    "\n",
    "test_cat = test_cat.merge(songs_extra, on = 'song_id', how = 'left')\n",
    "test_cat.song_length.fillna(200000,inplace=True)\n",
    "test_cat.song_length = test_cat.song_length.astype(np.uint32)\n",
    "test_cat.song_id = test_cat.song_id.astype('category')"
   ]
  },
  {
   "cell_type": "code",
   "execution_count": 13,
   "metadata": {
    "scrolled": true
   },
   "outputs": [
    {
     "name": "stdout",
     "output_type": "stream",
     "text": [
      "<class 'pandas.core.frame.DataFrame'>\n",
      "Int64Index: 7377418 entries, 0 to 7377417\n",
      "Data columns (total 12 columns):\n",
      "msno                  category\n",
      "song_id               object\n",
      "source_system_tab     category\n",
      "source_screen_name    category\n",
      "source_type           category\n",
      "target                int64\n",
      "song_length           float64\n",
      "genre_ids             object\n",
      "artist_name           object\n",
      "composer              object\n",
      "lyricist              object\n",
      "language              float64\n",
      "dtypes: category(4), float64(2), int64(1), object(5)\n",
      "memory usage: 543.2+ MB\n"
     ]
    }
   ],
   "source": [
    "train_cat.info()"
   ]
  },
  {
   "cell_type": "code",
   "execution_count": 14,
   "metadata": {
    "scrolled": true
   },
   "outputs": [
    {
     "name": "stdout",
     "output_type": "stream",
     "text": [
      "<class 'pandas.core.frame.DataFrame'>\n",
      "Int64Index: 2556790 entries, 0 to 2556789\n",
      "Data columns (total 12 columns):\n",
      "id                    int64\n",
      "msno                  category\n",
      "song_id               object\n",
      "source_system_tab     category\n",
      "source_screen_name    category\n",
      "source_type           category\n",
      "song_length           float64\n",
      "genre_ids             object\n",
      "artist_name           object\n",
      "composer              object\n",
      "lyricist              object\n",
      "language              float64\n",
      "dtypes: category(4), float64(2), int64(1), object(5)\n",
      "memory usage: 188.6+ MB\n"
     ]
    }
   ],
   "source": [
    "test_cat.info()"
   ]
  },
  {
   "cell_type": "code",
   "execution_count": 15,
   "metadata": {
    "scrolled": true
   },
   "outputs": [
    {
     "name": "stdout",
     "output_type": "stream",
     "text": [
      "Before convert to categorical\n",
      "<class 'pandas.core.frame.DataFrame'>\n",
      "Int64Index: 7377418 entries, 0 to 7377417\n",
      "Data columns (total 12 columns):\n",
      "msno                  category\n",
      "song_id               object\n",
      "source_system_tab     category\n",
      "source_screen_name    category\n",
      "source_type           category\n",
      "target                int64\n",
      "song_length           float64\n",
      "genre_ids             object\n",
      "artist_name           object\n",
      "composer              object\n",
      "lyricist              object\n",
      "language              float64\n",
      "dtypes: category(4), float64(2), int64(1), object(5)\n",
      "memory usage: 543.2+ MB\n",
      "None\n"
     ]
    },
    {
     "name": "stderr",
     "output_type": "stream",
     "text": [
      "/anaconda/lib/python3.6/site-packages/ipykernel_launcher.py:8: FutureWarning: '.reindex_axis' is deprecated and will be removed in a future version. Use '.reindex' instead.\n",
      "  \n"
     ]
    },
    {
     "name": "stdout",
     "output_type": "stream",
     "text": [
      "After convertion\n",
      "<class 'pandas.core.frame.DataFrame'>\n",
      "Int64Index: 7377418 entries, 0 to 7377417\n",
      "Data columns (total 12 columns):\n",
      "msno                  category\n",
      "song_id               category\n",
      "source_system_tab     category\n",
      "source_screen_name    category\n",
      "source_type           category\n",
      "target                int64\n",
      "song_length           float64\n",
      "genre_ids             category\n",
      "artist_name           category\n",
      "composer              category\n",
      "lyricist              category\n",
      "language              float64\n",
      "dtypes: category(9), float64(2), int64(1)\n",
      "memory usage: 407.4 MB\n",
      "None\n",
      "Before convert to categorical\n",
      "<class 'pandas.core.frame.DataFrame'>\n",
      "Int64Index: 2556790 entries, 0 to 2556789\n",
      "Data columns (total 12 columns):\n",
      "id                    int64\n",
      "msno                  category\n",
      "song_id               object\n",
      "source_system_tab     category\n",
      "source_screen_name    category\n",
      "source_type           category\n",
      "song_length           float64\n",
      "genre_ids             object\n",
      "artist_name           object\n",
      "composer              object\n",
      "lyricist              object\n",
      "language              float64\n",
      "dtypes: category(4), float64(2), int64(1), object(5)\n",
      "memory usage: 188.6+ MB\n",
      "None\n",
      "After convertion\n",
      "<class 'pandas.core.frame.DataFrame'>\n",
      "Int64Index: 2556790 entries, 0 to 2556789\n",
      "Data columns (total 12 columns):\n",
      "id                    int64\n",
      "msno                  category\n",
      "song_id               category\n",
      "source_system_tab     category\n",
      "source_screen_name    category\n",
      "source_type           category\n",
      "song_length           float64\n",
      "genre_ids             category\n",
      "artist_name           category\n",
      "composer              category\n",
      "lyricist              category\n",
      "language              float64\n",
      "dtypes: category(9), float64(2), int64(1)\n",
      "memory usage: 142.1 MB\n",
      "None\n"
     ]
    }
   ],
   "source": [
    "# Convert to categorical due to merging songs_extra\n",
    "train_1=to_categorical(train_cat)\n",
    "test_1=to_categorical(test_cat)"
   ]
  },
  {
   "cell_type": "code",
   "execution_count": 16,
   "metadata": {},
   "outputs": [],
   "source": [
    "# Output to csv\n",
    "train_1.to_csv(\"train_engineered.csv\")\n",
    "test_1.to_csv(\"test_engineered.csv\")"
   ]
  },
  {
   "cell_type": "markdown",
   "metadata": {},
   "source": [
    "Phase 1 feature engineering:\n",
    "0.66770 without cv"
   ]
  },
  {
   "cell_type": "markdown",
   "metadata": {},
   "source": [
    "# # Phase 2 feature engineering\n",
    "# See if there will be improvements"
   ]
  },
  {
   "cell_type": "code",
   "execution_count": 29,
   "metadata": {
    "collapsed": true
   },
   "outputs": [],
   "source": [
    "# Copy to new start\n",
    "train_2=train_1.copy()\n",
    "test_2=test_1.copy()"
   ]
  },
  {
   "cell_type": "code",
   "execution_count": 27,
   "metadata": {
    "scrolled": false
   },
   "outputs": [
    {
     "ename": "NameError",
     "evalue": "name 'train' is not defined",
     "output_type": "error",
     "traceback": [
      "\u001b[1;31m---------------------------------------------------------------------------\u001b[0m",
      "\u001b[1;31mNameError\u001b[0m                                 Traceback (most recent call last)",
      "\u001b[1;32m<ipython-input-27-4efb7a47b568>\u001b[0m in \u001b[0;36m<module>\u001b[1;34m()\u001b[0m\n\u001b[0;32m      1\u001b[0m \u001b[1;31m# GC old df\u001b[0m\u001b[1;33m\u001b[0m\u001b[1;33m\u001b[0m\u001b[0m\n\u001b[0;32m      2\u001b[0m \u001b[1;32mimport\u001b[0m \u001b[0mgc\u001b[0m\u001b[1;33m\u001b[0m\u001b[0m\n\u001b[1;32m----> 3\u001b[1;33m \u001b[1;32mdel\u001b[0m \u001b[0mtrain\u001b[0m\u001b[1;33m,\u001b[0m \u001b[0mtest\u001b[0m\u001b[1;33m\u001b[0m\u001b[0m\n\u001b[0m\u001b[0;32m      4\u001b[0m \u001b[1;32mdel\u001b[0m \u001b[0msongs\u001b[0m\u001b[1;33m,\u001b[0m \u001b[0mmembers\u001b[0m\u001b[1;33m\u001b[0m\u001b[0m\n\u001b[0;32m      5\u001b[0m \u001b[1;32mdel\u001b[0m \u001b[0mtrain_1\u001b[0m\u001b[1;33m,\u001b[0m \u001b[0mtest_1\u001b[0m\u001b[1;33m\u001b[0m\u001b[0m\n",
      "\u001b[1;31mNameError\u001b[0m: name 'train' is not defined"
     ]
    }
   ],
   "source": [
    "# GC old df\n",
    "import gc\n",
    "del train, test\n",
    "del songs, members\n",
    "gc.collect()"
   ]
  },
  {
   "cell_type": "code",
   "execution_count": 30,
   "metadata": {
    "collapsed": true
   },
   "outputs": [],
   "source": [
    "def genre_id_count(x):\n",
    "    if x == NO_GENRE_FILL:\n",
    "        return 0\n",
    "    else:\n",
    "        return x.count('|') + 1"
   ]
  },
  {
   "cell_type": "code",
   "execution_count": 31,
   "metadata": {},
   "outputs": [],
   "source": [
    "NO_GENRE_FILL=\"empty\"\n",
    "# this add_categories can only be run once\n",
    "train_2['genre_ids']=train_2['genre_ids'].cat.add_categories([NO_GENRE_FILL])\n",
    "test_2['genre_ids']=test_2['genre_ids'].cat.add_categories([NO_GENRE_FILL])\n",
    "\n",
    "train_2['genre_ids'].fillna(NO_GENRE_FILL,inplace=True)\n",
    "test_2['genre_ids'].fillna(NO_GENRE_FILL,inplace=True)\n",
    "train_2['genre_ids_count'] = train_2['genre_ids'].apply(genre_id_count).astype(np.int8)\n",
    "test_2['genre_ids_count'] = test_2['genre_ids'].apply(genre_id_count).astype(np.int8)"
   ]
  },
  {
   "cell_type": "code",
   "execution_count": 32,
   "metadata": {
    "collapsed": true
   },
   "outputs": [],
   "source": [
    "def lyricist_count(x):\n",
    "    if x == NO_LYRICIST_FILL:\n",
    "        return 0\n",
    "    else:\n",
    "        return sum(map(x.count, ['|', '/', '\\\\', ';'])) + 1\n",
    "    return sum(map(x.count, ['|', '/', '\\\\', ';']))"
   ]
  },
  {
   "cell_type": "code",
   "execution_count": 36,
   "metadata": {},
   "outputs": [
    {
     "data": {
      "text/plain": [
       "Index([' ', ' al stillman|robert allen ', ' bruno martino|bruno brighetti',\n",
       "       ' don black', ' ivan lins',\n",
       "       ' korean lyrics by 100%seojung (12.5%) albi albertsson',\n",
       "       ' korean lyrics by cho| yun kyoung (12.5%) albi albertsson / yuka otsuki / fabian strangl',\n",
       "       ' korean lyrics by cho| yun kyoung (12.5%) command freaks / andreas stone johansson',\n",
       "       ' korean lyrics by cho| yun kyoung (12.5%) paul 'marz' thompson (17%) / noah nwachukwu (14.32%) / adrian mckinnon / jeremy tyrone jasper / leven kali / jamil \"digi\" chammas / otha ‘vakseen' davis iii (3.58%) / mzmc (0.9%)',\n",
       "       ' korean lyrics by cho| yun kyoung (5%) / january 8th (2%) / kim| dong hyun (3%) teddy riley| dom| lee| hyun seung for (trx) / j.sol (jason j lopez) / dantae johnson',\n",
       "       ...\n",
       "       'ｔｅｒｒｙ　ｃａｌｌｉｅｒ', 'ｔｈｅ　ｓｕｐｅｒ　ｂａｌｌ', 'ｔｓｕｒｕ', 'ｕ－ｑｙｏ', 'ｲﾄｦｶｼ', 'ｹﾂﾒｲｼ',\n",
       "       'ﾊﾔｼｹｲ', 'ﾋﾞｯｹﾌﾞﾗﾝｶ', 'ﾛｰﾄﾞｵﾌﾞﾒｼﾞｬｰ', 'empty'],\n",
       "      dtype='object', length=33635)"
      ]
     },
     "execution_count": 36,
     "metadata": {},
     "output_type": "execute_result"
    }
   ],
   "source": [
    "train_2['lyricist'].cat.categories"
   ]
  },
  {
   "cell_type": "code",
   "execution_count": 38,
   "metadata": {},
   "outputs": [],
   "source": [
    "NO_LYRICIST_FILL=\"empty\"\n",
    "# this add_categories can only be run once\n",
    "train_2['lyricist']=train_2['lyricist'].cat.add_categories([NO_LYRICIST_FILL])\n",
    "test_2['lyricist']=test_2['lyricist'].cat.add_categories([NO_LYRICIST_FILL])\n",
    "\n",
    "train_2['lyricist'].fillna(NO_LYRICIST_FILL,inplace=True)\n",
    "test_2['lyricist'].fillna(NO_LYRICIST_FILL,inplace=True)\n",
    "train_2['lyricists_count'] = train_2['lyricist'].apply(lyricist_count).astype(np.int8)\n",
    "test_2['lyricists_count'] = test_2['lyricist'].apply(lyricist_count).astype(np.int8)"
   ]
  },
  {
   "cell_type": "code",
   "execution_count": 39,
   "metadata": {
    "collapsed": true
   },
   "outputs": [],
   "source": [
    "def composer_count(x):\n",
    "    if x == NO_COMPOSER_FILL:\n",
    "        return 0\n",
    "    else:\n",
    "        return sum(map(x.count, ['|', '/', '\\\\', ';'])) + 1"
   ]
  },
  {
   "cell_type": "code",
   "execution_count": 40,
   "metadata": {},
   "outputs": [],
   "source": [
    "NO_COMPOSER_FILL=\"empty\"\n",
    "# this add_categories can only be run once\n",
    "train_2['composer']=train_2['composer'].cat.add_categories([NO_COMPOSER_FILL])\n",
    "test_2['composer']=test_2['composer'].cat.add_categories([NO_COMPOSER_FILL])\n",
    "\n",
    "train_2['composer'].fillna(NO_COMPOSER_FILL,inplace=True)\n",
    "test_2['composer'].fillna(NO_COMPOSER_FILL,inplace=True)\n",
    "train_2['composer_count'] = train_2['composer'].apply(composer_count).astype(np.int8)\n",
    "test_2['composer_count'] = test_2['composer'].apply(composer_count).astype(np.int8)"
   ]
  },
  {
   "cell_type": "code",
   "execution_count": 41,
   "metadata": {
    "collapsed": true
   },
   "outputs": [],
   "source": [
    "NO_ARTIST_FILL='empty'\n",
    "# this add_categories can only be run once\n",
    "train_2['artist_name']=train_2['artist_name'].cat.add_categories([NO_ARTIST_FILL])\n",
    "test_2['artist_name']=test_2['artist_name'].cat.add_categories([NO_ARTIST_FILL])\n",
    "\n",
    "train_2['artist_name'].fillna(NO_ARTIST_FILL,inplace=True)\n",
    "test_2['artist_name'].fillna(NO_ARTIST_FILL,inplace=True)"
   ]
  },
  {
   "cell_type": "code",
   "execution_count": 48,
   "metadata": {
    "scrolled": true
   },
   "outputs": [
    {
     "ename": "TypeError",
     "evalue": "Categoricals can only be compared if 'categories' are the same",
     "output_type": "error",
     "traceback": [
      "\u001b[1;31m---------------------------------------------------------------------------\u001b[0m",
      "\u001b[1;31mTypeError\u001b[0m                                 Traceback (most recent call last)",
      "\u001b[1;32m<ipython-input-48-b968e4ed0f1f>\u001b[0m in \u001b[0;36m<module>\u001b[1;34m()\u001b[0m\n\u001b[0;32m      1\u001b[0m \u001b[1;31m# if artist is same as composer\u001b[0m\u001b[1;33m\u001b[0m\u001b[1;33m\u001b[0m\u001b[0m\n\u001b[1;32m----> 2\u001b[1;33m \u001b[0mtrain_2\u001b[0m\u001b[1;33m[\u001b[0m\u001b[1;34m'artist_is_composer'\u001b[0m\u001b[1;33m]\u001b[0m \u001b[1;33m=\u001b[0m \u001b[1;33m(\u001b[0m\u001b[0mtrain_2\u001b[0m\u001b[1;33m[\u001b[0m\u001b[1;34m'artist_name'\u001b[0m\u001b[1;33m]\u001b[0m \u001b[1;33m==\u001b[0m \u001b[0mtrain_2\u001b[0m\u001b[1;33m[\u001b[0m\u001b[1;34m'composer'\u001b[0m\u001b[1;33m]\u001b[0m\u001b[1;33m)\u001b[0m\u001b[1;33m.\u001b[0m\u001b[0mastype\u001b[0m\u001b[1;33m(\u001b[0m\u001b[0mnp\u001b[0m\u001b[1;33m.\u001b[0m\u001b[0mint8\u001b[0m\u001b[1;33m)\u001b[0m\u001b[1;33m\u001b[0m\u001b[0m\n\u001b[0m\u001b[0;32m      3\u001b[0m \u001b[0mtest_2\u001b[0m\u001b[1;33m[\u001b[0m\u001b[1;34m'artist_is_composer'\u001b[0m\u001b[1;33m]\u001b[0m \u001b[1;33m=\u001b[0m \u001b[1;33m(\u001b[0m\u001b[0mtest_2\u001b[0m\u001b[1;33m[\u001b[0m\u001b[1;34m'artist_name'\u001b[0m\u001b[1;33m]\u001b[0m \u001b[1;33m==\u001b[0m \u001b[0mtest_2\u001b[0m\u001b[1;33m[\u001b[0m\u001b[1;34m'composer'\u001b[0m\u001b[1;33m]\u001b[0m\u001b[1;33m)\u001b[0m\u001b[1;33m.\u001b[0m\u001b[0mastype\u001b[0m\u001b[1;33m(\u001b[0m\u001b[0mnp\u001b[0m\u001b[1;33m.\u001b[0m\u001b[0mint8\u001b[0m\u001b[1;33m)\u001b[0m\u001b[1;33m\u001b[0m\u001b[0m\n",
      "\u001b[1;32m/home/jiacheliu3/anaconda3/lib/python3.5/site-packages/pandas/core/ops.py\u001b[0m in \u001b[0;36mwrapper\u001b[1;34m(self, other, axis)\u001b[0m\n\u001b[0;32m    732\u001b[0m             \u001b[1;32mif\u001b[0m \u001b[0mlen\u001b[0m\u001b[1;33m(\u001b[0m\u001b[0mself\u001b[0m\u001b[1;33m)\u001b[0m \u001b[1;33m!=\u001b[0m \u001b[0mlen\u001b[0m\u001b[1;33m(\u001b[0m\u001b[0mother\u001b[0m\u001b[1;33m)\u001b[0m\u001b[1;33m:\u001b[0m\u001b[1;33m\u001b[0m\u001b[0m\n\u001b[0;32m    733\u001b[0m                 \u001b[1;32mraise\u001b[0m \u001b[0mValueError\u001b[0m\u001b[1;33m(\u001b[0m\u001b[1;34m'Series lengths must match to compare'\u001b[0m\u001b[1;33m)\u001b[0m\u001b[1;33m\u001b[0m\u001b[0m\n\u001b[1;32m--> 734\u001b[1;33m             return self._constructor(na_op(self.values, other.values),\n\u001b[0m\u001b[0;32m    735\u001b[0m                                      index=self.index, name=name)\n\u001b[0;32m    736\u001b[0m         \u001b[1;32melif\u001b[0m \u001b[0misinstance\u001b[0m\u001b[1;33m(\u001b[0m\u001b[0mother\u001b[0m\u001b[1;33m,\u001b[0m \u001b[0mpd\u001b[0m\u001b[1;33m.\u001b[0m\u001b[0mDataFrame\u001b[0m\u001b[1;33m)\u001b[0m\u001b[1;33m:\u001b[0m  \u001b[1;31m# pragma: no cover\u001b[0m\u001b[1;33m\u001b[0m\u001b[0m\n",
      "\u001b[1;32m/home/jiacheliu3/anaconda3/lib/python3.5/site-packages/pandas/core/ops.py\u001b[0m in \u001b[0;36mna_op\u001b[1;34m(x, y)\u001b[0m\n\u001b[0;32m    665\u001b[0m         \u001b[1;31m# in either operand\u001b[0m\u001b[1;33m\u001b[0m\u001b[1;33m\u001b[0m\u001b[0m\n\u001b[0;32m    666\u001b[0m         \u001b[1;32mif\u001b[0m \u001b[0mis_categorical_dtype\u001b[0m\u001b[1;33m(\u001b[0m\u001b[0mx\u001b[0m\u001b[1;33m)\u001b[0m\u001b[1;33m:\u001b[0m\u001b[1;33m\u001b[0m\u001b[0m\n\u001b[1;32m--> 667\u001b[1;33m             \u001b[1;32mreturn\u001b[0m \u001b[0mop\u001b[0m\u001b[1;33m(\u001b[0m\u001b[0mx\u001b[0m\u001b[1;33m,\u001b[0m \u001b[0my\u001b[0m\u001b[1;33m)\u001b[0m\u001b[1;33m\u001b[0m\u001b[0m\n\u001b[0m\u001b[0;32m    668\u001b[0m         \u001b[1;32melif\u001b[0m \u001b[0mis_categorical_dtype\u001b[0m\u001b[1;33m(\u001b[0m\u001b[0my\u001b[0m\u001b[1;33m)\u001b[0m \u001b[1;32mand\u001b[0m \u001b[1;32mnot\u001b[0m \u001b[0misscalar\u001b[0m\u001b[1;33m(\u001b[0m\u001b[0my\u001b[0m\u001b[1;33m)\u001b[0m\u001b[1;33m:\u001b[0m\u001b[1;33m\u001b[0m\u001b[0m\n\u001b[0;32m    669\u001b[0m             \u001b[1;32mreturn\u001b[0m \u001b[0mop\u001b[0m\u001b[1;33m(\u001b[0m\u001b[0my\u001b[0m\u001b[1;33m,\u001b[0m \u001b[0mx\u001b[0m\u001b[1;33m)\u001b[0m\u001b[1;33m\u001b[0m\u001b[0m\n",
      "\u001b[1;32m/home/jiacheliu3/anaconda3/lib/python3.5/site-packages/pandas/core/categorical.py\u001b[0m in \u001b[0;36mf\u001b[1;34m(self, other)\u001b[0m\n\u001b[0;32m     41\u001b[0m             if ((len(self.categories) != len(other.categories)) or\n\u001b[0;32m     42\u001b[0m                     not ((self.categories == other.categories).all())):\n\u001b[1;32m---> 43\u001b[1;33m                 raise TypeError(\"Categoricals can only be compared if \"\n\u001b[0m\u001b[0;32m     44\u001b[0m                                 \"'categories' are the same\")\n\u001b[0;32m     45\u001b[0m             \u001b[1;32mif\u001b[0m \u001b[1;32mnot\u001b[0m \u001b[1;33m(\u001b[0m\u001b[0mself\u001b[0m\u001b[1;33m.\u001b[0m\u001b[0mordered\u001b[0m \u001b[1;33m==\u001b[0m \u001b[0mother\u001b[0m\u001b[1;33m.\u001b[0m\u001b[0mordered\u001b[0m\u001b[1;33m)\u001b[0m\u001b[1;33m:\u001b[0m\u001b[1;33m\u001b[0m\u001b[0m\n",
      "\u001b[1;31mTypeError\u001b[0m: Categoricals can only be compared if 'categories' are the same"
     ]
    }
   ],
   "source": [
    "# if artist is same as composer\n",
    "train_2['artist_is_composer'] = (train_2['artist_name'] == train_2['composer']).astype(np.int8)\n",
    "test_2['artist_is_composer'] = (test_2['artist_name'] == test_2['composer']).astype(np.int8)"
   ]
  },
  {
   "cell_type": "code",
   "execution_count": null,
   "metadata": {
    "collapsed": true
   },
   "outputs": [],
   "source": [
    "# if artist, lyricist and composer are all three same\n",
    "train_2['artist_is_composer_is_lyricist'] = ((train_2['artist_name'] == train['composer']) & (train['artist_name'] == train['lyricist']) & (train['composer'] == train['lyricist'])).astype(np.int8)\n",
    "test_2['artist_is_composer_is_lyricist'] = ((test_2['artist_name'] == test['composer']) & (test['artist_name'] == test['lyricist']) & (test['composer'] == test['lyricist'])).astype(np.int8)"
   ]
  },
  {
   "cell_type": "code",
   "execution_count": 42,
   "metadata": {
    "collapsed": true
   },
   "outputs": [],
   "source": [
    "def is_featured(x):\n",
    "    if 'feat' in str(x) :\n",
    "        return 1\n",
    "    return 0"
   ]
  },
  {
   "cell_type": "code",
   "execution_count": 43,
   "metadata": {
    "collapsed": true
   },
   "outputs": [],
   "source": [
    "# Find if the song is featured\n",
    "train_2['is_featured'] = train_2['artist_name'].apply(is_featured).astype(np.int8)\n",
    "test_2['is_featured'] = test_2['artist_name'].apply(is_featured).astype(np.int8)"
   ]
  },
  {
   "cell_type": "code",
   "execution_count": 44,
   "metadata": {},
   "outputs": [
    {
     "data": {
      "text/plain": [
       "207                alex goot feat. kurt hugo schneider & atc\n",
       "2217                            mark ronson feat. bruno mars\n",
       "4291              a great big world feat. christina aguilera\n",
       "5702                         madilyn bailey feat. josh evans\n",
       "5824                            mark ronson feat. bruno mars\n",
       "6139                               doriko feat. hatsune miku\n",
       "6325                            mark ronson feat. bruno mars\n",
       "6530                           ruslan-set featuring eva kade\n",
       "6574                            mark ronson feat. bruno mars\n",
       "6806                                       madeon feat. kyan\n",
       "7323                            the chainsmokers feat. rozes\n",
       "7511                            mark ronson feat. bruno mars\n",
       "8089                            mark ronson feat. bruno mars\n",
       "8099                        armin van buuren feat. mr. probz\n",
       "9074                            mark ronson feat. bruno mars\n",
       "9348                            the chainsmokers feat. rozes\n",
       "10144                             joel fletcher feat. bianca\n",
       "10145            dmitri saidi & no hopes feat. adriana lucia\n",
       "10929                           mark ronson feat. bruno mars\n",
       "14029                           mark ronson feat. bruno mars\n",
       "15104                                    livetune feat. 初音ミク\n",
       "16719      scott bradlee's postmodern jukebox feat. haley...\n",
       "18472                             prince royce feat. pitbull\n",
       "19367                           acourve feat. hanol & rewind\n",
       "19422                        min yeon jae feat. yoon min soo\n",
       "19502      scott bradlee's postmodern jukebox feat. haley...\n",
       "19769                              doriko feat. hatsune miku\n",
       "19786             a great big world feat. christina aguilera\n",
       "19809                           the chainsmokers feat. rozes\n",
       "20509                              listenbee feat. naz tokio\n",
       "                                 ...                        \n",
       "7368937      dios/シグナルp feat. 鏡音リン・鏡音レン・gumi・初音ミク・巡音ルカ・kaito\n",
       "7368938                            doriko feat. hatsune miku\n",
       "7368939      dios/シグナルp feat. 鏡音リン・鏡音レン・gumi・初音ミク・巡音ルカ・kaito\n",
       "7368940                            doriko feat. hatsune miku\n",
       "7368942                            doriko feat. hatsune miku\n",
       "7368943      dios/シグナルp feat. 鏡音リン・鏡音レン・gumi・初音ミク・巡音ルカ・kaito\n",
       "7368945                                  mitchie m feat.初音未來\n",
       "7368946    ryo(supercell) feat. hatsune miku (ryo(superce...\n",
       "7368948                            doriko feat. hatsune miku\n",
       "7368950      dios/シグナルp feat. 鏡音リン・鏡音レン・gumi・初音ミク・巡音ルカ・kaito\n",
       "7368951                                  supercell feat.初音未來\n",
       "7368952                            doriko feat. hatsune miku\n",
       "7369625                              louis futon feat. rozes\n",
       "7370226                                snbrn feat. nate dogg\n",
       "7372233                   calvin harris feat. florence welch\n",
       "7372235                   calvin harris feat. florence welch\n",
       "7372326                  giorgio moroder feat. kylie minogue\n",
       "7372612         chris brown feat. lil wayne & french montana\n",
       "7372797                                  alex goot feat. atc\n",
       "7373093                         mark ronson feat. bruno mars\n",
       "7373386                            martin garrix feat. usher\n",
       "7373449                          alicia keys featuring drake\n",
       "7373974               fatal bazooka feat yelle et christelle\n",
       "7374793            alex goot feat. kurt hugo schneider & atc\n",
       "7375109                           tamar braxton feat. future\n",
       "7376333                         mark ronson feat. bruno mars\n",
       "7376713                       hardwell featuring mitch crown\n",
       "7376757                      lucas & steve featuring bethany\n",
       "7376763                         stereo sound feat. valentine\n",
       "7377414                           r. city feat.  adam levine\n",
       "Name: artist_name, dtype: category\n",
       "Categories (40520, object): [!conz, !magnic!, #037 (#037), #1 beatles now, ..., ｄ‐５１, ｗ２ｗｇｏ！ｇｏ！ぱわふる学園, ｗａｋａｉ　ｐｒｏｊｅｃｔ, empty]"
      ]
     },
     "execution_count": 44,
     "metadata": {},
     "output_type": "execute_result"
    }
   ],
   "source": [
    "# Look at artist names that contains 'feat'\n",
    "check_feat=train_2.loc[train_2['is_featured'] == 1]\n",
    "check_feat['artist_name']"
   ]
  },
  {
   "cell_type": "code",
   "execution_count": 45,
   "metadata": {
    "collapsed": true
   },
   "outputs": [],
   "source": [
    "def feat_artist_name(x):\n",
    "    if 'feat.' in str(x) :\n",
    "        idx=x.find('feat.')\n",
    "        feat_name=x[idx+5:].strip()\n",
    "#         print(\"Feating names %s from %s\" % (feat_name, x))\n",
    "        return feat_name\n",
    "    elif 'feat' in str(x) :\n",
    "        idx=x.find('feat')\n",
    "        feat_name=x[idx+5:].strip()\n",
    "#         print(\"Feating names %s from %s\" % (feat_name, x))\n",
    "        return feat_name\n",
    "    return \"no_feat\""
   ]
  },
  {
   "cell_type": "code",
   "execution_count": 46,
   "metadata": {
    "collapsed": true
   },
   "outputs": [],
   "source": [
    "def main_artist_name(x):\n",
    "    if 'feat' in str(x) :\n",
    "        idx=x.find('feat.')\n",
    "        main_name=x[:idx].strip()\n",
    "#         print(\"Main artist name %s from %s\" % (main_name, x))\n",
    "        return main_name\n",
    "\n",
    "    return x"
   ]
  },
  {
   "cell_type": "code",
   "execution_count": 47,
   "metadata": {},
   "outputs": [],
   "source": [
    "# Split featuring artist names\n",
    "train_2['feat_artist'] = train_2['artist_name'].apply(feat_artist_name)\n",
    "test_2['feat_artist'] = test_2['artist_name'].apply(feat_artist_name)\n",
    "\n",
    "train_2['main_artist'] = train_2['artist_name'].apply(main_artist_name)\n",
    "test_2['main_artist'] = test_2['artist_name'].apply(main_artist_name)\n"
   ]
  },
  {
   "cell_type": "code",
   "execution_count": 106,
   "metadata": {
    "collapsed": true
   },
   "outputs": [],
   "source": [
    "def artist_count(x):\n",
    "    if x == 'no_artist':\n",
    "        return 0\n",
    "    else:\n",
    "        return x.count('and') + x.count(',') + x.count('feat') + x.count('&')"
   ]
  },
  {
   "cell_type": "code",
   "execution_count": 107,
   "metadata": {
    "collapsed": true
   },
   "outputs": [],
   "source": [
    "train_2['artist_count'] = train_2['artist_name'].apply(artist_count).astype(np.int8)\n",
    "test_2['artist_count'] = test_2['artist_name'].apply(artist_count).astype(np.int8)"
   ]
  },
  {
   "cell_type": "code",
   "execution_count": 112,
   "metadata": {
    "collapsed": true
   },
   "outputs": [],
   "source": [
    "def is_remix(x):\n",
    "    if 'remix' in str(x):\n",
    "        return 1\n",
    "    return 0"
   ]
  },
  {
   "cell_type": "code",
   "execution_count": 113,
   "metadata": {
    "collapsed": true
   },
   "outputs": [],
   "source": [
    "train_2['is_remix']=train_2['artist_name'].apply(is_remix)\n",
    "test_2['is_remix']=test_2['artist_name'].apply(is_remix)"
   ]
  },
  {
   "cell_type": "code",
   "execution_count": 114,
   "metadata": {
    "scrolled": true
   },
   "outputs": [
    {
     "data": {
      "text/plain": [
       "2901                        dj remix factory\n",
       "26418                         群星 (remix 101)\n",
       "30596      various artists (bhangra remixes)\n",
       "38607                       dj remix factory\n",
       "53650                         remix radio dj\n",
       "55112      various artists (bhangra remixes)\n",
       "110496                        remix radio dj\n",
       "110499                   dance remix factory\n",
       "110500                      dance remix inc.\n",
       "112951                      dj remix factory\n",
       "112952                      dj remix factory\n",
       "112954                      dj remix factory\n",
       "112958                      dj remix factory\n",
       "117139     various artists (bhangra remixes)\n",
       "119215                      dj remix factory\n",
       "119216                      dj remix factory\n",
       "119222                      dj remix factory\n",
       "127261                      dj remix factory\n",
       "146015                      dj remix factory\n",
       "146028                      dj remix factory\n",
       "175439                        群星 (remix 101)\n",
       "177061                 workout remix factory\n",
       "180077                 workout remix factory\n",
       "180963     various artists (bhangra remixes)\n",
       "183495                      dance remix inc.\n",
       "184751                 workout remix factory\n",
       "184753                 workout remix factory\n",
       "184787                 workout remix factory\n",
       "189412     various artists (bhangra remixes)\n",
       "190781                 workout remix factory\n",
       "                         ...                \n",
       "7206566                             哈林搖remix\n",
       "7210737    various artists (bhangra remixes)\n",
       "7219368                workout remix factory\n",
       "7219371                workout remix factory\n",
       "7219372                workout remix factory\n",
       "7220631                     dj remix factory\n",
       "7220633                workout remix factory\n",
       "7220634                workout remix factory\n",
       "7220636                workout remix factory\n",
       "7221086    various artists (bhangra remixes)\n",
       "7222401                       群星 (remix 101)\n",
       "7223094                workout remix factory\n",
       "7240176                       remix & repent\n",
       "7240955    various artists (bhangra remixes)\n",
       "7240959    various artists (bhangra remixes)\n",
       "7243062                     dj remix factory\n",
       "7243066                     dj remix factory\n",
       "7245459                     dj remix factory\n",
       "7274539                       群星 (remix 101)\n",
       "7274881                workout remix factory\n",
       "7280392    various artists (bhangra remixes)\n",
       "7286365    various artists (bhangra remixes)\n",
       "7291317                workout remix factory\n",
       "7309586    various artists (bhangra remixes)\n",
       "7350097                       remix & repent\n",
       "7351589                     dj remix factory\n",
       "7365028                       remix radio dj\n",
       "7365238                workout remix factory\n",
       "7370847                workout remix factory\n",
       "7376837                       群星 (remix 101)\n",
       "Name: artist_name, dtype: category\n",
       "Categories (40520, object): [!conz, !magnic!, #037 (#037), #1 beatles now, ..., ｄ‐５１, ｗ２ｗｇｏ！ｇｏ！ぱわふる学園, ｗａｋａｉ　ｐｒｏｊｅｃｔ, no_artist]"
      ]
     },
     "execution_count": 114,
     "metadata": {},
     "output_type": "execute_result"
    }
   ],
   "source": [
    "# Look at artist names that contains 'remix'\n",
    "check_remix=train_2.loc[train_2['is_remix'] == 1]\n",
    "check_remix['artist_name']"
   ]
  },
  {
   "cell_type": "code",
   "execution_count": 118,
   "metadata": {
    "collapsed": true
   },
   "outputs": [],
   "source": [
    "def is_live(x):\n",
    "    # some sings name start with 'live'\n",
    "    if ' live' in str(x):\n",
    "        return 1\n",
    "    return 0"
   ]
  },
  {
   "cell_type": "code",
   "execution_count": 119,
   "metadata": {
    "collapsed": true
   },
   "outputs": [],
   "source": [
    "# if the song is live\n",
    "train_2['is_live']=train_2['artist_name'].apply(is_live)\n",
    "test_2['is_live']=test_2['artist_name'].apply(is_live)"
   ]
  },
  {
   "cell_type": "code",
   "execution_count": 120,
   "metadata": {
    "scrolled": true
   },
   "outputs": [
    {
     "data": {
      "text/plain": [
       "37025                 hillsong live\n",
       "37027                 hillsong live\n",
       "37028                 hillsong live\n",
       "39879                 hillsong live\n",
       "39880                 hillsong live\n",
       "39881                 hillsong live\n",
       "50863      romeo & juliette-en live\n",
       "52756      romeo & juliette-en live\n",
       "52788      romeo & juliette-en live\n",
       "52792      romeo & juliette-en live\n",
       "52818      romeo & juliette-en live\n",
       "77410      romeo & juliette-en live\n",
       "111619                hillsong live\n",
       "126992     romeo & juliette-en live\n",
       "129796        chuckie & jetlag live\n",
       "141406               vh1 divas live\n",
       "141415               vh1 divas live\n",
       "141417               vh1 divas live\n",
       "141418               vh1 divas live\n",
       "141420               vh1 divas live\n",
       "141423               vh1 divas live\n",
       "141424               vh1 divas live\n",
       "141429               vh1 divas live\n",
       "141430               vh1 divas live\n",
       "141435               vh1 divas live\n",
       "141439               vh1 divas live\n",
       "141445               vh1 divas live\n",
       "141449               vh1 divas live\n",
       "150408     romeo & juliette-en live\n",
       "155452                hillsong live\n",
       "                     ...           \n",
       "7204441    romeo & juliette-en live\n",
       "7204813    romeo & juliette-en live\n",
       "7204814    romeo & juliette-en live\n",
       "7204815    romeo & juliette-en live\n",
       "7204816    romeo & juliette-en live\n",
       "7204817    romeo & juliette-en live\n",
       "7204819    romeo & juliette-en live\n",
       "7204820    romeo & juliette-en live\n",
       "7204821    romeo & juliette-en live\n",
       "7204822    romeo & juliette-en live\n",
       "7204823    romeo & juliette-en live\n",
       "7204824    romeo & juliette-en live\n",
       "7204825    romeo & juliette-en live\n",
       "7204826    romeo & juliette-en live\n",
       "7204827    romeo & juliette-en live\n",
       "7205597    romeo & juliette-en live\n",
       "7205598    romeo & juliette-en live\n",
       "7205599    romeo & juliette-en live\n",
       "7205600    romeo & juliette-en live\n",
       "7205601    romeo & juliette-en live\n",
       "7205602    romeo & juliette-en live\n",
       "7205603    romeo & juliette-en live\n",
       "7205604    romeo & juliette-en live\n",
       "7205605    romeo & juliette-en live\n",
       "7205606    romeo & juliette-en live\n",
       "7205607    romeo & juliette-en live\n",
       "7232839    romeo & juliette-en live\n",
       "7232844    romeo & juliette-en live\n",
       "7311725    romeo & juliette-en live\n",
       "7352091    romeo & juliette-en live\n",
       "Name: artist_name, dtype: category\n",
       "Categories (40520, object): [!conz, !magnic!, #037 (#037), #1 beatles now, ..., ｄ‐５１, ｗ２ｗｇｏ！ｇｏ！ぱわふる学園, ｗａｋａｉ　ｐｒｏｊｅｃｔ, no_artist]"
      ]
     },
     "execution_count": 120,
     "metadata": {},
     "output_type": "execute_result"
    }
   ],
   "source": [
    "# Look at artist names that contains 'remix'\n",
    "check_live=train_2.loc[train_2['is_live'] == 1]\n",
    "check_live['artist_name']"
   ]
  },
  {
   "cell_type": "code",
   "execution_count": 121,
   "metadata": {
    "collapsed": true
   },
   "outputs": [],
   "source": [
    "def is_acoustic(x):\n",
    "    if 'acoustic' in str(x):\n",
    "        return 1\n",
    "    return 0"
   ]
  },
  {
   "cell_type": "code",
   "execution_count": 122,
   "metadata": {
    "collapsed": true
   },
   "outputs": [],
   "source": [
    "train_2['is_acoustic']=train_2['artist_name'].apply(is_acoustic)\n",
    "test_2['is_acoustic']=test_2['artist_name'].apply(is_acoustic)"
   ]
  },
  {
   "cell_type": "code",
   "execution_count": 123,
   "metadata": {
    "scrolled": true
   },
   "outputs": [
    {
     "data": {
      "text/plain": [
       "4080                             jacoustic\n",
       "29654              10cm & acoustic collabo\n",
       "44723                        the acoustics\n",
       "101718                    vanilla acoustic\n",
       "101719                    vanilla acoustic\n",
       "101720                    vanilla acoustic\n",
       "101721                    vanilla acoustic\n",
       "105210                    vanilla acoustic\n",
       "105211                    vanilla acoustic\n",
       "105212                    vanilla acoustic\n",
       "149393                       acoustic hits\n",
       "165049                    vanilla acoustic\n",
       "179507                    acoustic alchemy\n",
       "206928             10cm & acoustic collabo\n",
       "226086     acoustic guitar tribute players\n",
       "226087     acoustic guitar tribute players\n",
       "226089     acoustic guitar tribute players\n",
       "226090     acoustic guitar tribute players\n",
       "226092     acoustic guitar tribute players\n",
       "227186     acoustic guitar tribute players\n",
       "227188     acoustic guitar tribute players\n",
       "227191     acoustic guitar tribute players\n",
       "227192     acoustic guitar tribute players\n",
       "228016     acoustic guitar tribute players\n",
       "228017     acoustic guitar tribute players\n",
       "228018     acoustic guitar tribute players\n",
       "228019     acoustic guitar tribute players\n",
       "234152     acoustic guitar tribute players\n",
       "318545                           jacoustic\n",
       "389585                     marlai acoustic\n",
       "                        ...               \n",
       "6009701                   vanilla acoustic\n",
       "6009702                   vanilla acoustic\n",
       "6009703                   vanilla acoustic\n",
       "6009706                   vanilla acoustic\n",
       "6009707                   vanilla acoustic\n",
       "6009708                   vanilla acoustic\n",
       "6009710                   vanilla acoustic\n",
       "6009711                   vanilla acoustic\n",
       "6064333                      the acoustics\n",
       "6081531                          jacoustic\n",
       "6085165                   vanilla acoustic\n",
       "6098859            10cm & acoustic collabo\n",
       "6134510                   acoustic alchemy\n",
       "6149043                        dalacoustic\n",
       "6152318                   vanilla acoustic\n",
       "6160291                      the acoustics\n",
       "6199166                   vanilla acoustic\n",
       "6301391                      the acoustics\n",
       "6441464                   vanilla acoustic\n",
       "6588809            10cm & acoustic collabo\n",
       "6606261                          jacoustic\n",
       "6680709                          jacoustic\n",
       "6688254                 afternoon acoustic\n",
       "6758567                      the acoustics\n",
       "6796489            10cm & acoustic collabo\n",
       "6901697                      acoustic hits\n",
       "7175768                maranatha! acoustic\n",
       "7226284                          jacoustic\n",
       "7291222    acoustic guitar tribute players\n",
       "7294906         postmen & vanilla acoustic\n",
       "Name: artist_name, dtype: category\n",
       "Categories (40520, object): [!conz, !magnic!, #037 (#037), #1 beatles now, ..., ｄ‐５１, ｗ２ｗｇｏ！ｇｏ！ぱわふる学園, ｗａｋａｉ　ｐｒｏｊｅｃｔ, no_artist]"
      ]
     },
     "execution_count": 123,
     "metadata": {},
     "output_type": "execute_result"
    }
   ],
   "source": [
    "# Look at artist names that contains 'remix'\n",
    "check_acoustic=train_2.loc[train_2['is_acoustic'] == 1]\n",
    "check_acoustic['artist_name']"
   ]
  },
  {
   "cell_type": "code",
   "execution_count": 127,
   "metadata": {
    "collapsed": true
   },
   "outputs": [],
   "source": [
    "def is_instrumental(x):\n",
    "    if 'instrumental' in str(x) or 'instru' in str(x):\n",
    "        return 1\n",
    "    return 0"
   ]
  },
  {
   "cell_type": "code",
   "execution_count": 128,
   "metadata": {
    "collapsed": true
   },
   "outputs": [],
   "source": [
    "train_2['is_instrumental']=train_2['artist_name'].apply(is_instrumental)\n",
    "test_2['is_instrumental']=test_2['artist_name'].apply(is_instrumental)"
   ]
  },
  {
   "cell_type": "code",
   "execution_count": 129,
   "metadata": {
    "scrolled": true
   },
   "outputs": [
    {
     "data": {
      "text/plain": [
       "22075      piano music for christmas & instrumental chris...\n",
       "22076      piano music for christmas & instrumental chris...\n",
       "22077      piano music for christmas & instrumental chris...\n",
       "41854                                the art of instrumental\n",
       "46749                                the art of instrumental\n",
       "46750                                the art of instrumental\n",
       "65832      the mortal instruments: city of bones (origina...\n",
       "79827                                           instrumental\n",
       "107346     the mortal instruments: city of bones (origina...\n",
       "108134                               the art of instrumental\n",
       "110581     the mortal instruments: city of bones (origina...\n",
       "110583     the mortal instruments: city of bones (origina...\n",
       "110585     the mortal instruments: city of bones (origina...\n",
       "153033     the mortal instruments: city of bones (origina...\n",
       "165544     the mortal instruments: city of bones (origina...\n",
       "174091         be still & know - instrumental songs of faith\n",
       "185500                                               instrum\n",
       "189594                               the art of instrumental\n",
       "189887     the mortal instruments: city of bones (origina...\n",
       "189890     the mortal instruments: city of bones (origina...\n",
       "189891     the mortal instruments: city of bones (origina...\n",
       "194604                               the art of instrumental\n",
       "194613                               the art of instrumental\n",
       "197584                               the art of instrumental\n",
       "201866     the mortal instruments: city of bones (origina...\n",
       "206810                               the art of instrumental\n",
       "213933     the mortal instruments: city of bones (origina...\n",
       "214692                               the art of instrumental\n",
       "218875                               the art of instrumental\n",
       "235972                               the art of instrumental\n",
       "                                 ...                        \n",
       "7028485                              the art of instrumental\n",
       "7050175                          relaxing instrumental music\n",
       "7051542                          relaxing instrumental music\n",
       "7066519                          instrumental music ensemble\n",
       "7074617                              the art of instrumental\n",
       "7090024    the mortal instruments: city of bones (origina...\n",
       "7104889                              the art of instrumental\n",
       "7121727                              the art of instrumental\n",
       "7128775                     relaxation yoga instrumentalists\n",
       "7130016                     relaxation yoga instrumentalists\n",
       "7130017                     relaxation yoga instrumentalists\n",
       "7133092                     relaxation yoga instrumentalists\n",
       "7134234                     relaxation yoga instrumentalists\n",
       "7134236                     relaxation yoga instrumentalists\n",
       "7139039                     relaxation yoga instrumentalists\n",
       "7139795                              instrumental bossa nova\n",
       "7143314    the mortal instruments: city of bones (origina...\n",
       "7165743    the mortal instruments: city of bones (origina...\n",
       "7180933                              the art of instrumental\n",
       "7199794                              the art of instrumental\n",
       "7200857                              the art of instrumental\n",
       "7207182                              the art of instrumental\n",
       "7236437                              the art of instrumental\n",
       "7274059                              the art of instrumental\n",
       "7295284    piano love songs: classic easy listening piano...\n",
       "7313293                              the art of instrumental\n",
       "7324973    piano love songs: classic easy listening piano...\n",
       "7329920                             instrumental music group\n",
       "7344002                              the art of instrumental\n",
       "7361108                              the art of instrumental\n",
       "Name: artist_name, dtype: category\n",
       "Categories (40520, object): [!conz, !magnic!, #037 (#037), #1 beatles now, ..., ｄ‐５１, ｗ２ｗｇｏ！ｇｏ！ぱわふる学園, ｗａｋａｉ　ｐｒｏｊｅｃｔ, no_artist]"
      ]
     },
     "execution_count": 129,
     "metadata": {},
     "output_type": "execute_result"
    }
   ],
   "source": [
    "# Look at artist names that contains 'instrumental'\n",
    "check_instrumental=train_2.loc[train_2['is_instrumental'] == 1]\n",
    "check_instrumental['artist_name']"
   ]
  },
  {
   "cell_type": "code",
   "execution_count": 130,
   "metadata": {
    "collapsed": true
   },
   "outputs": [],
   "source": [
    "# Magic feature\n",
    "# is song language 17 or 45. \n",
    "def song_lang_boolean(x):\n",
    "    if '17.0' in str(x) or '45.0' in str(x):\n",
    "        return 1\n",
    "    return 0\n",
    "\n",
    "train_2['song_lang_magic'] = train_2['language'].apply(song_lang_boolean).astype(np.int8)\n",
    "test_2['song_lang_magic'] = test_2['language'].apply(song_lang_boolean).astype(np.int8)"
   ]
  },
  {
   "cell_type": "code",
   "execution_count": 134,
   "metadata": {},
   "outputs": [
    {
     "name": "stdout",
     "output_type": "stream",
     "text": [
      "Song length mean: 245120.272126  std: 67344.419765\n"
     ]
    }
   ],
   "source": [
    "# Song length\n",
    "mean_song_length = np.mean(train_2['song_length'])\n",
    "std_song_length = np.std(train_2['song_length'])\n",
    "print(\"Song length mean: %f  std: %f\" % (mean_song_length, std_song_length))\n",
    "\n",
    "def shorter_song(x):\n",
    "    if x < mean_song_length:\n",
    "        return 1\n",
    "    return 0\n",
    "\n",
    "train_2['short_song'] = train_2['song_length'].apply(shorter_song).astype(np.int8)\n",
    "test_2['short_song'] = test_2['song_length'].apply(shorter_song).astype(np.int8)"
   ]
  },
  {
   "cell_type": "code",
   "execution_count": 135,
   "metadata": {
    "collapsed": true
   },
   "outputs": [],
   "source": [
    "# How many std is the song length from mean\n",
    "def mean_length_dist(x):\n",
    "    num_std=(x-mean_song_length)/std_song_length\n",
    "    return num_std\n",
    "\n",
    "train_2['mean_length_distance'] = train_2['song_length'].apply(shorter_song).astype(np.float16)\n",
    "test_2['mean_length_distance'] = test_2['song_length'].apply(shorter_song).astype(np.float16)"
   ]
  },
  {
   "cell_type": "code",
   "execution_count": 136,
   "metadata": {
    "collapsed": true
   },
   "outputs": [],
   "source": [
    "# number of times a song has been played before\n",
    "_dict_count_song_played_train = {k: v for k, v in train_2['song_id'].value_counts().iteritems()}\n",
    "_dict_count_song_played_test = {k: v for k, v in test_2['song_id'].value_counts().iteritems()}\n",
    "def count_song_played(x):\n",
    "    try:\n",
    "        return _dict_count_song_played_train[x]\n",
    "    except KeyError:\n",
    "        try:\n",
    "            return _dict_count_song_played_test[x]\n",
    "        except KeyError:\n",
    "            return 0\n",
    "    \n",
    "\n",
    "train_2['count_song_played'] = train_2['song_id'].apply(count_song_played).astype(np.int64)\n",
    "test_2['count_song_played'] = test_2['song_id'].apply(count_song_played).astype(np.int64)"
   ]
  },
  {
   "cell_type": "code",
   "execution_count": 137,
   "metadata": {
    "collapsed": true
   },
   "outputs": [],
   "source": [
    "# number of times the artist has been played\n",
    "_dict_count_artist_played_train = {k: v for k, v in train_2['artist_name'].value_counts().iteritems()}\n",
    "_dict_count_artist_played_test = {k: v for k, v in test_2['artist_name'].value_counts().iteritems()}\n",
    "def count_artist_played(x):\n",
    "    try:\n",
    "        return _dict_count_artist_played_train[x]\n",
    "    except KeyError:\n",
    "        try:\n",
    "            return _dict_count_artist_played_test[x]\n",
    "        except KeyError:\n",
    "            return 0\n",
    "\n",
    "train_2['count_artist_played'] = train_2['artist_name'].apply(count_artist_played).astype(np.int64)\n",
    "test_2['count_artist_played'] = test_2['artist_name'].apply(count_artist_played).astype(np.int64)\n"
   ]
  },
  {
   "cell_type": "markdown",
   "metadata": {},
   "source": [
    "End of phase 2\n"
   ]
  },
  {
   "cell_type": "code",
   "execution_count": 138,
   "metadata": {},
   "outputs": [
    {
     "data": {
      "text/plain": [
       "<pandas.core.categorical.CategoricalAccessor object at 0x7fb2f250ada0>"
      ]
     },
     "execution_count": 138,
     "metadata": {},
     "output_type": "execute_result"
    }
   ],
   "source": [
    "# Check categories\n",
    "train_2['artist_name'].cat"
   ]
  },
  {
   "cell_type": "code",
   "execution_count": 139,
   "metadata": {
    "collapsed": true
   },
   "outputs": [],
   "source": [
    "# Output to csv\n",
    "train_2.to_csv(\"train_engineered.csv\")\n",
    "test_2.to_csv(\"test_engineered.csv\")"
   ]
  },
  {
   "cell_type": "markdown",
   "metadata": {},
   "source": [
    "# Phase 3"
   ]
  }
 ],
 "metadata": {
  "kernelspec": {
   "display_name": "Python 3",
   "language": "python",
   "name": "python3"
  },
  "language_info": {
   "codemirror_mode": {
    "name": "ipython",
    "version": 3
   },
   "file_extension": ".py",
   "mimetype": "text/x-python",
   "name": "python",
   "nbconvert_exporter": "python",
   "pygments_lexer": "ipython3",
   "version": "3.6.2"
  }
 },
 "nbformat": 4,
 "nbformat_minor": 1
}
