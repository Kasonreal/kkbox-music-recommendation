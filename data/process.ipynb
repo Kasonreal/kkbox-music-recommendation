{
 "cells": [
  {
   "cell_type": "code",
   "execution_count": null,
   "metadata": {},
   "outputs": [],
   "source": [
    "import pandas as pd\n",
    "import numpy as np"
   ]
  },
  {
   "cell_type": "code",
   "execution_count": null,
   "metadata": {},
   "outputs": [],
   "source": [
    "raw_train = pd.read_csv('raw/train.csv', sep=',')\n",
    "raw_test = pd.read_csv('raw/test.csv', sep=',')\n",
    "songs = pd.read_csv('raw/songs.csv', sep=',')\n",
    "members = pd.read_csv('raw/members.csv', sep=',')"
   ]
  },
  {
   "cell_type": "code",
   "execution_count": null,
   "metadata": {},
   "outputs": [],
   "source": [
    "labeled_train = pd.merge(raw_train, songs, on='song_id', how='left')\n",
    "labeled_train = pd.merge(labeled_train, members, on='msno', how='left')\n",
    "labeled_test = pd.merge(raw_test, songs, on='song_id', how='left')\n",
    "labeled_test = pd.merge(labeled_test, members, on='msno', how='left')"
   ]
  },
  {
   "cell_type": "code",
   "execution_count": null,
   "metadata": {},
   "outputs": [],
   "source": [
    "def labelize(raw_data):\n",
    "    \"\"\"labelize categorical string columns to int, in place\"\"\"\"\n",
    "    for col in raw_data:\n",
    "        if raw_data[col].dtypes == 'object':\n",
    "            raw_data[col] = pd.factorize(raw_data[col])[0]\n",
    "\n",
    "# process training data\n",
    "labeled_train['target'].to_csv('train_y.csv')\n",
    "labelize(labeled_train)\n",
    "labeled_train.drop(['target'], inplace=True, axis=1)\n",
    "labeled_train.to_csv('labeled_train_X.csv')\n",
    "\n",
    "# process testing data\n",
    "labelize(labeled_test)\n",
    "labeled_test.to_csv('labeled_test_X.csv')"
   ]
  }
 ],
 "metadata": {
  "kernelspec": {
   "display_name": "Python [conda env:py35]",
   "language": "python",
   "name": "conda-env-py35-py"
  },
  "language_info": {
   "codemirror_mode": {
    "name": "ipython",
    "version": 3
   },
   "file_extension": ".py",
   "mimetype": "text/x-python",
   "name": "python",
   "nbconvert_exporter": "python",
   "pygments_lexer": "ipython3",
   "version": "3.5.4"
  }
 },
 "nbformat": 4,
 "nbformat_minor": 2
}
