{
 "cells": [
  {
   "cell_type": "code",
   "execution_count": 2,
   "metadata": {},
   "outputs": [],
   "source": [
    "# https://www.kaggle.com/asmitavikas/feature-engineered-0-68310\n",
    "import numpy as np\n",
    "import pandas as pd\n",
    "import lightgbm as lgb\n",
    "import datetime\n",
    "import math"
   ]
  },
  {
   "cell_type": "code",
   "execution_count": 5,
   "metadata": {},
   "outputs": [
    {
     "name": "stdout",
     "output_type": "stream",
     "text": [
      "Current directory: /home/jiacheliu3/Kaggle/kkbox-music-recommendation/data\n",
      "Loading data...\n",
      "Done loading...\n"
     ]
    }
   ],
   "source": [
    "import os\n",
    "cwd = os.getcwd()\n",
    "print(\"Current directory: %s\" % cwd)\n",
    "\n",
    "print('Loading data...')\n",
    "data_path = '../../kaggle_data/'\n",
    "train = pd.read_csv(data_path + 'train.csv')\n",
    "test = pd.read_csv(data_path + 'test.csv')\n",
    "songs = pd.read_csv(data_path + 'songs.csv')\n",
    "members = pd.read_csv(data_path + 'members.csv',\n",
    "                     parse_dates=['registration_init_time','expiration_date'])\n",
    "songs_extra = pd.read_csv(data_path + 'song_extra_info.csv')\n",
    "print('Done loading...')"
   ]
  },
  {
   "cell_type": "code",
   "execution_count": 6,
   "metadata": {},
   "outputs": [
    {
     "name": "stdout",
     "output_type": "stream",
     "text": [
      "<class 'pandas.core.frame.DataFrame'>\n",
      "RangeIndex: 2295971 entries, 0 to 2295970\n",
      "Data columns (total 3 columns):\n",
      "song_id    object\n",
      "name       object\n",
      "isrc       object\n",
      "dtypes: object(3)\n",
      "memory usage: 52.6+ MB\n"
     ]
    }
   ],
   "source": [
    "# Should contain song names\n",
    "songs_extra.info()"
   ]
  },
  {
   "cell_type": "code",
   "execution_count": 7,
   "metadata": {
    "scrolled": true
   },
   "outputs": [
    {
     "data": {
      "text/plain": [
       "0                                                         我們\n",
       "1                                            Let Me Love You\n",
       "2                                                        原諒我\n",
       "3                                                    Classic\n",
       "4                                                       愛投羅網\n",
       "5                                                   Our Time\n",
       "6                                                          癢\n",
       "7          Aloha| E Komo Mai (Theme Song from Lilo & Stit...\n",
       "8                                                    每天愛你多一些\n",
       "9                                                       你是你的\n",
       "10                         Guilty All The Same (feat. Rakim)\n",
       "11                                             Steal My Girl\n",
       "12                                                     月亮惹的禍\n",
       "13                                                      什麼東西\n",
       "14                                                     雨水我問你\n",
       "15                                                    如此美麗的妳\n",
       "16                                                      老鷹之歌\n",
       "17                                                        離開\n",
       "18                                      Standing In The Rain\n",
       "19                                          ONLY TIME (唯有時光)\n",
       "20                                          Joy to the World\n",
       "21                                                        手語\n",
       "22                                                     只要我長大\n",
       "23                                                       海芋戀\n",
       "24                                                   ラピュタの崩壊\n",
       "25                                          You're Beautiful\n",
       "26                                                       保護你\n",
       "27                                                   誰人愛我親像你\n",
       "28                  你是被抹去的那一段風景 (You are the Scene I Erased)\n",
       "29                                                       真的嗎\n",
       "                                 ...                        \n",
       "2295941                                Living After Midnight\n",
       "2295942                                     Let's Play House\n",
       "2295943                                           Mambo Soul\n",
       "2295944                                       Ever Ever Said\n",
       "2295945                                         At the Front\n",
       "2295946                                              Fanatic\n",
       "2295947                                      C Is for Cookie\n",
       "2295948                             If I Never Get To Heaven\n",
       "2295949                                            After You\n",
       "2295950                                    The Song Is Ended\n",
       "2295951                     Say You Love Me or Say Goodnight\n",
       "2295952                                     Love Me| Love Me\n",
       "2295953                                        Misconception\n",
       "2295954                                                Tango\n",
       "2295955                                     Arrivederci Roma\n",
       "2295956                                           Waterspell\n",
       "2295957                                      Are You Insane?\n",
       "2295958                                       It's a Miracle\n",
       "2295959                                         Wino's Click\n",
       "2295960         Macarena y Fontiveros: Macarena & Fontiveros\n",
       "2295961                Here's To Never Growing Up (Acoustic)\n",
       "2295962                                       My Blue Heaven\n",
       "2295963                                      Who Are You Now\n",
       "2295964                                          All In Love\n",
       "2295965    If You Can't Live Without Me Then Why Aren't Y...\n",
       "2295966                                       Deep Breathing\n",
       "2295967                                            In Hiding\n",
       "2295968                            Il Est Ne Le Divin Enfant\n",
       "2295969                                      The Exodus Song\n",
       "2295970                                            Like This\n",
       "Name: name, Length: 2295971, dtype: object"
      ]
     },
     "execution_count": 7,
     "metadata": {},
     "output_type": "execute_result"
    }
   ],
   "source": [
    "songs_extra['name']"
   ]
  },
  {
   "cell_type": "code",
   "execution_count": 43,
   "metadata": {},
   "outputs": [
    {
     "name": "stdout",
     "output_type": "stream",
     "text": [
      "<class 'pandas.core.frame.DataFrame'>\n",
      "RangeIndex: 2296320 entries, 0 to 2296319\n",
      "Data columns (total 7 columns):\n",
      "song_id        object\n",
      "song_length    int64\n",
      "genre_ids      object\n",
      "artist_name    object\n",
      "composer       object\n",
      "lyricist       object\n",
      "language       float64\n",
      "dtypes: float64(1), int64(1), object(5)\n",
      "memory usage: 122.6+ MB\n"
     ]
    }
   ],
   "source": [
    "songs.info()"
   ]
  },
  {
   "cell_type": "code",
   "execution_count": 47,
   "metadata": {
    "scrolled": true
   },
   "outputs": [
    {
     "data": {
      "text/plain": [
       "0                      465\n",
       "1                      444\n",
       "2                      465\n",
       "3                      465\n",
       "4                      726\n",
       "5          864|857|850|843\n",
       "6                      458\n",
       "7                      465\n",
       "8                      465\n",
       "9                 352|1995\n",
       "10                    2157\n",
       "11                     465\n",
       "12                     726\n",
       "13                     458\n",
       "14                     359\n",
       "15                     359\n",
       "16                     458\n",
       "17                     465\n",
       "18                     726\n",
       "19                     465\n",
       "20                     465\n",
       "21                     465\n",
       "22                     465\n",
       "23                     465\n",
       "24                    1609\n",
       "25                    1609\n",
       "26                     465\n",
       "27                     139\n",
       "28                    1609\n",
       "29                     465\n",
       "                ...       \n",
       "2296290               1259\n",
       "2296291                880\n",
       "2296292                465\n",
       "2296293                958\n",
       "2296294                465\n",
       "2296295        139|125|109\n",
       "2296296                465\n",
       "2296297               1259\n",
       "2296298                359\n",
       "2296299               2022\n",
       "2296300                958\n",
       "2296301                388\n",
       "2296302               1011\n",
       "2296303               1616\n",
       "2296304                958\n",
       "2296305                465\n",
       "2296306               2122\n",
       "2296307                359\n",
       "2296308                465\n",
       "2296309          1616|2058\n",
       "2296310                958\n",
       "2296311                465\n",
       "2296312           1572|275\n",
       "2296313                465\n",
       "2296314               2122\n",
       "2296315                958\n",
       "2296316                465\n",
       "2296317               1609\n",
       "2296318                465\n",
       "2296319                829\n",
       "Name: genre_ids, dtype: object"
      ]
     },
     "execution_count": 47,
     "metadata": {},
     "output_type": "execute_result"
    }
   ],
   "source": [
    "songs['genre_ids']"
   ]
  },
  {
   "cell_type": "code",
   "execution_count": 45,
   "metadata": {
    "scrolled": true
   },
   "outputs": [
    {
     "data": {
      "text/plain": [
       "0                                           張信哲 (Jeff Chang)\n",
       "1                                                  BLACKPINK\n",
       "2                                               SUPER JUNIOR\n",
       "3                                                      S.H.E\n",
       "4                                                       貴族精選\n",
       "5                                                       貴族精選\n",
       "6                                            伍佰 & China Blue\n",
       "7                                          光良 (Michael Wong)\n",
       "8                                               林俊傑 (JJ Lin)\n",
       "9                                                   Kodaline\n",
       "10                                       D.L 羅時豐 (Daniel Lo)\n",
       "11                                                  白安 (Ann)\n",
       "12                                                Littlesong\n",
       "13                                             蔡旻佑 (Evan Yo)\n",
       "14                                                  Coldplay\n",
       "15                                             Maggie Rogers\n",
       "16                                 小男孩樂團 (Men Envy Children)\n",
       "17                                                   BIGBANG\n",
       "18                                               White Noise\n",
       "19                                               步步驚心主題曲原聲EP\n",
       "20                                                Katy Perry\n",
       "21                                            劉若英 (Rene Liu)\n",
       "22                                           傅又宣 (Maggie Fu)\n",
       "23                                           BIGBANG TAEYANG\n",
       "24                                   Danny Marquez & Ferry B\n",
       "25                            Kyary Pamyu Pamyu (きゃりーぱみゅぱみゅ)\n",
       "26                                          品冠 (Victor Wong)\n",
       "27                                                The Weeknd\n",
       "28                                        Marvin Gaye & Kygo\n",
       "29                                              五月天 (Mayday)\n",
       "                                 ...                        \n",
       "2296290                                       Charley Brownn\n",
       "2296291                                         Jason Nelson\n",
       "2296292                                         Amanda Perez\n",
       "2296293                                            鈴木理恵子/若林顕\n",
       "2296294                                               Mecano\n",
       "2296295                                         Peabo Bryson\n",
       "2296296                         Avaleya and The GlitterHawks\n",
       "2296297                                               Father\n",
       "2296298                                            FAIRCHILD\n",
       "2296299                                      Various Artists\n",
       "2296300                                   Seiji Ozawa (小澤征爾)\n",
       "2296301                                     Yin Yoga Academy\n",
       "2296302                                        Kenny Chesney\n",
       "2296303                     Renato pezzella| Renato Pezzella\n",
       "2296304                                    Felix Mendelssohn\n",
       "2296305                                                   欒生\n",
       "2296306                    Michael Silverman Jazz Piano Trio\n",
       "2296307                                        Philip Selway\n",
       "2296308                                           Noosa Hedz\n",
       "2296309    Bobby Gasparakis| Edo Mela| Bodega| Randy Garc...\n",
       "2296310                                   Orgel Carrol 오르골캐롤\n",
       "2296311                                          Karen Jonas\n",
       "2296312                                          The Jackals\n",
       "2296313                                      Various Artists\n",
       "2296314                     Art Blakey & The Jazz Messengers\n",
       "2296315                                    Catherine Collard\n",
       "2296316                                    紀文惠 (Justine Chi)\n",
       "2296317                                      Various Artists\n",
       "2296318                                    Peter Paul & Mary\n",
       "2296319                                        Kim Robertson\n",
       "Name: artist_name, dtype: object"
      ]
     },
     "execution_count": 45,
     "metadata": {},
     "output_type": "execute_result"
    }
   ],
   "source": [
    "songs['artist_name']"
   ]
  },
  {
   "cell_type": "code",
   "execution_count": 8,
   "metadata": {},
   "outputs": [],
   "source": [
    "# Convert to lower case\n",
    "# NaN values are kept for replacement\n",
    "songs['artist_name']=songs['artist_name'].str.lower()\n",
    "songs['composer']=songs['composer'].str.lower()\n",
    "songs['lyricist']=songs['lyricist'].str.lower()"
   ]
  },
  {
   "cell_type": "code",
   "execution_count": 9,
   "metadata": {},
   "outputs": [],
   "source": [
    "# Convert to categorical\n",
    "def to_categorical(X):\n",
    "    print(\"Before convert to categorical\")\n",
    "    print(X.info())\n",
    "    X_cat = pd.concat([\n",
    "        X.select_dtypes([], ['object']),\n",
    "        X.select_dtypes(['object']).apply(pd.Series.astype, dtype='category')\n",
    "        ], axis=1).reindex_axis(X.columns, axis=1)\n",
    "    print(\"After convertion\")\n",
    "    print(X_cat.info())\n",
    "    return X_cat"
   ]
  },
  {
   "cell_type": "code",
   "execution_count": 10,
   "metadata": {
    "scrolled": true
   },
   "outputs": [
    {
     "name": "stdout",
     "output_type": "stream",
     "text": [
      "Before convert to categorical\n",
      "<class 'pandas.core.frame.DataFrame'>\n",
      "RangeIndex: 7377418 entries, 0 to 7377417\n",
      "Data columns (total 6 columns):\n",
      "msno                  object\n",
      "song_id               object\n",
      "source_system_tab     object\n",
      "source_screen_name    object\n",
      "source_type           object\n",
      "target                int64\n",
      "dtypes: int64(1), object(5)\n",
      "memory usage: 337.7+ MB\n",
      "None\n",
      "After convertion\n",
      "<class 'pandas.core.frame.DataFrame'>\n",
      "RangeIndex: 7377418 entries, 0 to 7377417\n",
      "Data columns (total 6 columns):\n",
      "msno                  category\n",
      "song_id               category\n",
      "source_system_tab     category\n",
      "source_screen_name    category\n",
      "source_type           category\n",
      "target                int64\n",
      "dtypes: category(5), int64(1)\n",
      "memory usage: 133.8 MB\n",
      "None\n",
      "Before convert to categorical\n",
      "<class 'pandas.core.frame.DataFrame'>\n",
      "RangeIndex: 2556790 entries, 0 to 2556789\n",
      "Data columns (total 6 columns):\n",
      "id                    int64\n",
      "msno                  object\n",
      "song_id               object\n",
      "source_system_tab     object\n",
      "source_screen_name    object\n",
      "source_type           object\n",
      "dtypes: int64(1), object(5)\n",
      "memory usage: 117.0+ MB\n",
      "None\n",
      "After convertion\n",
      "<class 'pandas.core.frame.DataFrame'>\n",
      "RangeIndex: 2556790 entries, 0 to 2556789\n",
      "Data columns (total 6 columns):\n",
      "id                    int64\n",
      "msno                  category\n",
      "song_id               category\n",
      "source_system_tab     category\n",
      "source_screen_name    category\n",
      "source_type           category\n",
      "dtypes: category(5), int64(1)\n",
      "memory usage: 54.0 MB\n",
      "None\n",
      "Before convert to categorical\n",
      "<class 'pandas.core.frame.DataFrame'>\n",
      "RangeIndex: 2296320 entries, 0 to 2296319\n",
      "Data columns (total 7 columns):\n",
      "song_id        object\n",
      "song_length    int64\n",
      "genre_ids      object\n",
      "artist_name    object\n",
      "composer       object\n",
      "lyricist       object\n",
      "language       float64\n",
      "dtypes: float64(1), int64(1), object(5)\n",
      "memory usage: 122.6+ MB\n",
      "None\n",
      "After convertion\n",
      "<class 'pandas.core.frame.DataFrame'>\n",
      "RangeIndex: 2296320 entries, 0 to 2296319\n",
      "Data columns (total 7 columns):\n",
      "song_id        category\n",
      "song_length    int64\n",
      "genre_ids      category\n",
      "artist_name    category\n",
      "composer       category\n",
      "lyricist       category\n",
      "language       float64\n",
      "dtypes: category(5), float64(1), int64(1)\n",
      "memory usage: 202.0 MB\n",
      "None\n",
      "Before convert to categorical\n",
      "<class 'pandas.core.frame.DataFrame'>\n",
      "RangeIndex: 34403 entries, 0 to 34402\n",
      "Data columns (total 7 columns):\n",
      "msno                      34403 non-null object\n",
      "city                      34403 non-null int64\n",
      "bd                        34403 non-null int64\n",
      "gender                    14501 non-null object\n",
      "registered_via            34403 non-null int64\n",
      "registration_init_time    34403 non-null datetime64[ns]\n",
      "expiration_date           34403 non-null datetime64[ns]\n",
      "dtypes: datetime64[ns](2), int64(3), object(2)\n",
      "memory usage: 1.8+ MB\n",
      "None\n",
      "After convertion\n",
      "<class 'pandas.core.frame.DataFrame'>\n",
      "RangeIndex: 34403 entries, 0 to 34402\n",
      "Data columns (total 7 columns):\n",
      "msno                      34403 non-null category\n",
      "city                      34403 non-null int64\n",
      "bd                        34403 non-null int64\n",
      "gender                    14501 non-null category\n",
      "registered_via            34403 non-null int64\n",
      "registration_init_time    34403 non-null datetime64[ns]\n",
      "expiration_date           34403 non-null datetime64[ns]\n",
      "dtypes: category(2), datetime64[ns](2), int64(3)\n",
      "memory usage: 3.0 MB\n",
      "None\n"
     ]
    }
   ],
   "source": [
    "train_cat=to_categorical(train)\n",
    "test_cat=to_categorical(test)\n",
    "songs_cat=to_categorical(songs)\n",
    "members_cat=to_categorical(members)"
   ]
  },
  {
   "cell_type": "code",
   "execution_count": 11,
   "metadata": {
    "collapsed": true
   },
   "outputs": [],
   "source": [
    "# Merge songs\n",
    "train_cat = train_cat.merge(songs, on='song_id', how='left')\n",
    "test_cat = test_cat.merge(songs, on='song_id', how='left')"
   ]
  },
  {
   "cell_type": "code",
   "execution_count": 12,
   "metadata": {
    "collapsed": true
   },
   "outputs": [],
   "source": [
    "# Engineering on members\n",
    "members_cat['membership_days'] = members_cat['expiration_date'].subtract(members_cat['registration_init_time']).dt.days.astype(int)\n",
    "\n",
    "members_cat['registration_year'] = members_cat['registration_init_time'].dt.year\n",
    "members_cat['registration_month'] = members_cat['registration_init_time'].dt.month\n",
    "members_cat['registration_date'] = members_cat['registration_init_time'].dt.day\n",
    "\n",
    "members_cat['expiration_year'] = members_cat['expiration_date'].dt.year\n",
    "members_cat['expiration_month'] = members_cat['expiration_date'].dt.month\n",
    "members_cat['expiration_date'] = members_cat['expiration_date'].dt.day\n",
    "members_cat = members_cat.drop(['registration_init_time'], axis=1)"
   ]
  },
  {
   "cell_type": "code",
   "execution_count": 13,
   "metadata": {
    "collapsed": true
   },
   "outputs": [],
   "source": [
    "# Merge members\n",
    "train_cat = train_cat.merge(members_cat, on='msno', how='left')\n",
    "test_cat = test_cat.merge(members_cat, on='msno', how='left')"
   ]
  },
  {
   "cell_type": "code",
   "execution_count": 14,
   "metadata": {},
   "outputs": [
    {
     "name": "stdout",
     "output_type": "stream",
     "text": [
      "<class 'pandas.core.frame.DataFrame'>\n",
      "Int64Index: 7377418 entries, 0 to 7377417\n",
      "Data columns (total 23 columns):\n",
      "msno                  object\n",
      "song_id               object\n",
      "source_system_tab     category\n",
      "source_screen_name    category\n",
      "source_type           category\n",
      "target                int64\n",
      "song_length           float64\n",
      "genre_ids             object\n",
      "artist_name           object\n",
      "composer              object\n",
      "lyricist              object\n",
      "language              float64\n",
      "city                  int64\n",
      "bd                    int64\n",
      "gender                category\n",
      "registered_via        int64\n",
      "expiration_date       int64\n",
      "membership_days       int64\n",
      "registration_year     int64\n",
      "registration_month    int64\n",
      "registration_date     int64\n",
      "expiration_year       int64\n",
      "expiration_month      int64\n",
      "dtypes: category(4), float64(2), int64(11), object(6)\n",
      "memory usage: 1.1+ GB\n"
     ]
    }
   ],
   "source": [
    "train_cat.info()"
   ]
  },
  {
   "cell_type": "code",
   "execution_count": 15,
   "metadata": {
    "collapsed": true
   },
   "outputs": [],
   "source": [
    "def isrc_to_year(isrc):\n",
    "    if type(isrc) == str:\n",
    "        if int(isrc[5:7]) > 17:\n",
    "            return 1900 + int(isrc[5:7])\n",
    "        else:\n",
    "            return 2000 + int(isrc[5:7])\n",
    "    else:\n",
    "        return np.nan"
   ]
  },
  {
   "cell_type": "code",
   "execution_count": 16,
   "metadata": {},
   "outputs": [
    {
     "name": "stdout",
     "output_type": "stream",
     "text": [
      "<class 'pandas.core.frame.DataFrame'>\n",
      "RangeIndex: 2295971 entries, 0 to 2295970\n",
      "Data columns (total 3 columns):\n",
      "song_id    object\n",
      "name       object\n",
      "isrc       object\n",
      "dtypes: object(3)\n",
      "memory usage: 52.6+ MB\n"
     ]
    }
   ],
   "source": [
    "songs_extra.info()"
   ]
  },
  {
   "cell_type": "code",
   "execution_count": 17,
   "metadata": {
    "scrolled": true
   },
   "outputs": [],
   "source": [
    "# Process songs_extra\n",
    "songs_extra['song_year'] = songs_extra['isrc'].apply(isrc_to_year)\n",
    "songs_extra.drop(['isrc', 'name'], axis = 1, inplace = True)"
   ]
  },
  {
   "cell_type": "code",
   "execution_count": 18,
   "metadata": {},
   "outputs": [],
   "source": [
    "# Merge songs_extra\n",
    "train_cat = train_cat.merge(songs_extra, on = 'song_id', how = 'left')\n",
    "train_cat.song_length.fillna(200000,inplace=True)\n",
    "train_cat.song_length = train_cat.song_length.astype(np.uint32)\n",
    "train_cat.song_id = train_cat.song_id.astype('category')\n",
    "\n",
    "\n",
    "test_cat = test_cat.merge(songs_extra, on = 'song_id', how = 'left')\n",
    "test_cat.song_length.fillna(200000,inplace=True)\n",
    "test_cat.song_length = test_cat.song_length.astype(np.uint32)\n",
    "test_cat.song_id = test_cat.song_id.astype('category')"
   ]
  },
  {
   "cell_type": "code",
   "execution_count": 19,
   "metadata": {
    "scrolled": true
   },
   "outputs": [
    {
     "name": "stdout",
     "output_type": "stream",
     "text": [
      "<class 'pandas.core.frame.DataFrame'>\n",
      "Int64Index: 7377418 entries, 0 to 7377417\n",
      "Data columns (total 24 columns):\n",
      "msno                  object\n",
      "song_id               category\n",
      "source_system_tab     category\n",
      "source_screen_name    category\n",
      "source_type           category\n",
      "target                int64\n",
      "song_length           uint32\n",
      "genre_ids             object\n",
      "artist_name           object\n",
      "composer              object\n",
      "lyricist              object\n",
      "language              float64\n",
      "city                  int64\n",
      "bd                    int64\n",
      "gender                category\n",
      "registered_via        int64\n",
      "expiration_date       int64\n",
      "membership_days       int64\n",
      "registration_year     int64\n",
      "registration_month    int64\n",
      "registration_date     int64\n",
      "expiration_year       int64\n",
      "expiration_month      int64\n",
      "song_year             float64\n",
      "dtypes: category(5), float64(2), int64(11), object(5), uint32(1)\n",
      "memory usage: 1.1+ GB\n"
     ]
    }
   ],
   "source": [
    "train_cat.info()"
   ]
  },
  {
   "cell_type": "code",
   "execution_count": 20,
   "metadata": {
    "scrolled": true
   },
   "outputs": [
    {
     "name": "stdout",
     "output_type": "stream",
     "text": [
      "<class 'pandas.core.frame.DataFrame'>\n",
      "Int64Index: 2556790 entries, 0 to 2556789\n",
      "Data columns (total 24 columns):\n",
      "id                    int64\n",
      "msno                  object\n",
      "song_id               category\n",
      "source_system_tab     category\n",
      "source_screen_name    category\n",
      "source_type           category\n",
      "song_length           uint32\n",
      "genre_ids             object\n",
      "artist_name           object\n",
      "composer              object\n",
      "lyricist              object\n",
      "language              float64\n",
      "city                  int64\n",
      "bd                    int64\n",
      "gender                category\n",
      "registered_via        int64\n",
      "expiration_date       int64\n",
      "membership_days       int64\n",
      "registration_year     int64\n",
      "registration_month    int64\n",
      "registration_date     int64\n",
      "expiration_year       int64\n",
      "expiration_month      int64\n",
      "song_year             float64\n",
      "dtypes: category(5), float64(2), int64(11), object(5), uint32(1)\n",
      "memory usage: 411.6+ MB\n"
     ]
    }
   ],
   "source": [
    "test_cat.info()"
   ]
  },
  {
   "cell_type": "code",
   "execution_count": 21,
   "metadata": {
    "scrolled": true
   },
   "outputs": [
    {
     "name": "stdout",
     "output_type": "stream",
     "text": [
      "Before convert to categorical\n",
      "<class 'pandas.core.frame.DataFrame'>\n",
      "Int64Index: 7377418 entries, 0 to 7377417\n",
      "Data columns (total 24 columns):\n",
      "msno                  object\n",
      "song_id               category\n",
      "source_system_tab     category\n",
      "source_screen_name    category\n",
      "source_type           category\n",
      "target                int64\n",
      "song_length           uint32\n",
      "genre_ids             object\n",
      "artist_name           object\n",
      "composer              object\n",
      "lyricist              object\n",
      "language              float64\n",
      "city                  int64\n",
      "bd                    int64\n",
      "gender                category\n",
      "registered_via        int64\n",
      "expiration_date       int64\n",
      "membership_days       int64\n",
      "registration_year     int64\n",
      "registration_month    int64\n",
      "registration_date     int64\n",
      "expiration_year       int64\n",
      "expiration_month      int64\n",
      "song_year             float64\n",
      "dtypes: category(5), float64(2), int64(11), object(5), uint32(1)\n",
      "memory usage: 1.1+ GB\n",
      "None\n",
      "After convertion\n",
      "<class 'pandas.core.frame.DataFrame'>\n",
      "Int64Index: 7377418 entries, 0 to 7377417\n",
      "Data columns (total 24 columns):\n",
      "msno                  category\n",
      "song_id               category\n",
      "source_system_tab     category\n",
      "source_screen_name    category\n",
      "source_type           category\n",
      "target                int64\n",
      "song_length           uint32\n",
      "genre_ids             category\n",
      "artist_name           category\n",
      "composer              category\n",
      "lyricist              category\n",
      "language              float64\n",
      "city                  int64\n",
      "bd                    int64\n",
      "gender                category\n",
      "registered_via        int64\n",
      "expiration_date       int64\n",
      "membership_days       int64\n",
      "registration_year     int64\n",
      "registration_month    int64\n",
      "registration_date     int64\n",
      "expiration_year       int64\n",
      "expiration_month      int64\n",
      "song_year             float64\n",
      "dtypes: category(10), float64(2), int64(11), uint32(1)\n",
      "memory usage: 1005.4 MB\n",
      "None\n",
      "Before convert to categorical\n",
      "<class 'pandas.core.frame.DataFrame'>\n",
      "Int64Index: 2556790 entries, 0 to 2556789\n",
      "Data columns (total 24 columns):\n",
      "id                    int64\n",
      "msno                  object\n",
      "song_id               category\n",
      "source_system_tab     category\n",
      "source_screen_name    category\n",
      "source_type           category\n",
      "song_length           uint32\n",
      "genre_ids             object\n",
      "artist_name           object\n",
      "composer              object\n",
      "lyricist              object\n",
      "language              float64\n",
      "city                  int64\n",
      "bd                    int64\n",
      "gender                category\n",
      "registered_via        int64\n",
      "expiration_date       int64\n",
      "membership_days       int64\n",
      "registration_year     int64\n",
      "registration_month    int64\n",
      "registration_date     int64\n",
      "expiration_year       int64\n",
      "expiration_month      int64\n",
      "song_year             float64\n",
      "dtypes: category(5), float64(2), int64(11), object(5), uint32(1)\n",
      "memory usage: 411.6+ MB\n",
      "None\n",
      "After convertion\n",
      "<class 'pandas.core.frame.DataFrame'>\n",
      "Int64Index: 2556790 entries, 0 to 2556789\n",
      "Data columns (total 24 columns):\n",
      "id                    int64\n",
      "msno                  category\n",
      "song_id               category\n",
      "source_system_tab     category\n",
      "source_screen_name    category\n",
      "source_type           category\n",
      "song_length           uint32\n",
      "genre_ids             category\n",
      "artist_name           category\n",
      "composer              category\n",
      "lyricist              category\n",
      "language              float64\n",
      "city                  int64\n",
      "bd                    int64\n",
      "gender                category\n",
      "registered_via        int64\n",
      "expiration_date       int64\n",
      "membership_days       int64\n",
      "registration_year     int64\n",
      "registration_month    int64\n",
      "registration_date     int64\n",
      "expiration_year       int64\n",
      "expiration_month      int64\n",
      "song_year             float64\n",
      "dtypes: category(10), float64(2), int64(11), uint32(1)\n",
      "memory usage: 349.3 MB\n",
      "None\n"
     ]
    }
   ],
   "source": [
    "# Convert to categorical due to merging songs_extra\n",
    "train_1=to_categorical(train_cat)\n",
    "test_1=to_categorical(test_cat)"
   ]
  },
  {
   "cell_type": "code",
   "execution_count": 17,
   "metadata": {
    "collapsed": true
   },
   "outputs": [],
   "source": [
    "# Output to csv\n",
    "train_1.to_csv(data_path+\"train_engineered.csv\")\n",
    "test_1.to_csv(data_path+\"test_engineered.csv\")"
   ]
  },
  {
   "cell_type": "markdown",
   "metadata": {},
   "source": [
    "Phase 1 feature engineering:\n",
    "0.66770 without cv"
   ]
  },
  {
   "cell_type": "markdown",
   "metadata": {},
   "source": [
    "# # Phase 2 feature engineering\n",
    "# See if there will be improvements"
   ]
  },
  {
   "cell_type": "code",
   "execution_count": 22,
   "metadata": {
    "collapsed": true
   },
   "outputs": [],
   "source": [
    "# Copy to new start\n",
    "train_2=train_1.copy()\n",
    "test_2=test_1.copy()"
   ]
  },
  {
   "cell_type": "code",
   "execution_count": 81,
   "metadata": {
    "scrolled": false
   },
   "outputs": [
    {
     "data": {
      "text/plain": [
       "1184"
      ]
     },
     "execution_count": 81,
     "metadata": {},
     "output_type": "execute_result"
    }
   ],
   "source": [
    "# GC old df\n",
    "import gc\n",
    "del train, test\n",
    "del songs, members\n",
    "gc.collect()"
   ]
  },
  {
   "cell_type": "code",
   "execution_count": 23,
   "metadata": {
    "collapsed": true
   },
   "outputs": [],
   "source": [
    "def genre_id_count(x):\n",
    "    if x == NO_GENRE_FILL:\n",
    "        return 0\n",
    "    else:\n",
    "        return x.count('|') + 1"
   ]
  },
  {
   "cell_type": "code",
   "execution_count": 24,
   "metadata": {},
   "outputs": [],
   "source": [
    "NO_GENRE_FILL=\"empty\"\n",
    "# this add_categories can only be run once\n",
    "train_2['genre_ids']=train_2['genre_ids'].cat.add_categories([NO_GENRE_FILL])\n",
    "test_2['genre_ids']=test_2['genre_ids'].cat.add_categories([NO_GENRE_FILL])\n",
    "\n",
    "train_2['genre_ids'].fillna(NO_GENRE_FILL,inplace=True)\n",
    "test_2['genre_ids'].fillna(NO_GENRE_FILL,inplace=True)\n",
    "train_2['genre_ids_count'] = train_2['genre_ids'].apply(genre_id_count).astype(np.int8)\n",
    "test_2['genre_ids_count'] = test_2['genre_ids'].apply(genre_id_count).astype(np.int8)"
   ]
  },
  {
   "cell_type": "code",
   "execution_count": 25,
   "metadata": {
    "collapsed": true
   },
   "outputs": [],
   "source": [
    "def lyricist_count(x):\n",
    "    if x == NO_LYRICIST_FILL:\n",
    "        return 0\n",
    "    else:\n",
    "        return sum(map(x.count, ['|', '/', '\\\\', ';'])) + 1\n",
    "    return sum(map(x.count, ['|', '/', '\\\\', ';']))"
   ]
  },
  {
   "cell_type": "code",
   "execution_count": 26,
   "metadata": {},
   "outputs": [
    {
     "data": {
      "text/plain": [
       "Index([' ', ' al stillman|robert allen ', ' bruno martino|bruno brighetti',\n",
       "       ' don black', ' ivan lins',\n",
       "       ' korean lyrics by 100%seojung (12.5%) albi albertsson',\n",
       "       ' korean lyrics by cho| yun kyoung (12.5%) albi albertsson / yuka otsuki / fabian strangl',\n",
       "       ' korean lyrics by cho| yun kyoung (12.5%) command freaks / andreas stone johansson',\n",
       "       ' korean lyrics by cho| yun kyoung (12.5%) paul 'marz' thompson (17%) / noah nwachukwu (14.32%) / adrian mckinnon / jeremy tyrone jasper / leven kali / jamil \"digi\" chammas / otha ‘vakseen' davis iii (3.58%) / mzmc (0.9%)',\n",
       "       ' korean lyrics by cho| yun kyoung (5%) / january 8th (2%) / kim| dong hyun (3%) teddy riley| dom| lee| hyun seung for (trx) / j.sol (jason j lopez) / dantae johnson',\n",
       "       ...\n",
       "       'ｔａｍａｓ　ｗｅｌｌｓ', 'ｔｅｒｒｙ　ｃａｌｌｉｅｒ', 'ｔｈｅ　ｓｕｐｅｒ　ｂａｌｌ', 'ｔｓｕｒｕ', 'ｕ－ｑｙｏ',\n",
       "       'ｲﾄｦｶｼ', 'ｹﾂﾒｲｼ', 'ﾊﾔｼｹｲ', 'ﾋﾞｯｹﾌﾞﾗﾝｶ', 'ﾛｰﾄﾞｵﾌﾞﾒｼﾞｬｰ'],\n",
       "      dtype='object', length=33634)"
      ]
     },
     "execution_count": 26,
     "metadata": {},
     "output_type": "execute_result"
    }
   ],
   "source": [
    "train_2['lyricist'].cat.categories"
   ]
  },
  {
   "cell_type": "code",
   "execution_count": 27,
   "metadata": {},
   "outputs": [],
   "source": [
    "NO_LYRICIST_FILL=\"empty\"\n",
    "# this add_categories can only be run once\n",
    "train_2['lyricist']=train_2['lyricist'].cat.add_categories([NO_LYRICIST_FILL])\n",
    "test_2['lyricist']=test_2['lyricist'].cat.add_categories([NO_LYRICIST_FILL])\n",
    "\n",
    "train_2['lyricist'].fillna(NO_LYRICIST_FILL,inplace=True)\n",
    "test_2['lyricist'].fillna(NO_LYRICIST_FILL,inplace=True)\n",
    "train_2['lyricists_count'] = train_2['lyricist'].apply(lyricist_count).astype(np.int8)\n",
    "test_2['lyricists_count'] = test_2['lyricist'].apply(lyricist_count).astype(np.int8)"
   ]
  },
  {
   "cell_type": "code",
   "execution_count": 28,
   "metadata": {
    "collapsed": true
   },
   "outputs": [],
   "source": [
    "def composer_count(x):\n",
    "    if x == NO_COMPOSER_FILL:\n",
    "        return 0\n",
    "    else:\n",
    "        return sum(map(x.count, ['|', '/', '\\\\', ';'])) + 1"
   ]
  },
  {
   "cell_type": "code",
   "execution_count": 29,
   "metadata": {},
   "outputs": [],
   "source": [
    "NO_COMPOSER_FILL=\"empty\"\n",
    "# this add_categories can only be run once\n",
    "train_2['composer']=train_2['composer'].cat.add_categories([NO_COMPOSER_FILL])\n",
    "test_2['composer']=test_2['composer'].cat.add_categories([NO_COMPOSER_FILL])\n",
    "\n",
    "train_2['composer'].fillna(NO_COMPOSER_FILL,inplace=True)\n",
    "test_2['composer'].fillna(NO_COMPOSER_FILL,inplace=True)\n",
    "train_2['composer_count'] = train_2['composer'].apply(composer_count).astype(np.int8)\n",
    "test_2['composer_count'] = test_2['composer'].apply(composer_count).astype(np.int8)"
   ]
  },
  {
   "cell_type": "code",
   "execution_count": 30,
   "metadata": {
    "collapsed": true
   },
   "outputs": [],
   "source": [
    "NO_ARTIST_FILL='empty'\n",
    "# this add_categories can only be run once\n",
    "train_2['artist_name']=train_2['artist_name'].cat.add_categories([NO_ARTIST_FILL])\n",
    "test_2['artist_name']=test_2['artist_name'].cat.add_categories([NO_ARTIST_FILL])\n",
    "\n",
    "train_2['artist_name'].fillna(NO_ARTIST_FILL,inplace=True)\n",
    "test_2['artist_name'].fillna(NO_ARTIST_FILL,inplace=True)"
   ]
  },
  {
   "cell_type": "code",
   "execution_count": 32,
   "metadata": {
    "collapsed": true
   },
   "outputs": [],
   "source": [
    "def is_featured(x):\n",
    "    if 'feat' in str(x) :\n",
    "        return 1\n",
    "    return 0"
   ]
  },
  {
   "cell_type": "code",
   "execution_count": 33,
   "metadata": {
    "collapsed": true
   },
   "outputs": [],
   "source": [
    "# Find if the song is featured\n",
    "train_2['is_featured'] = train_2['artist_name'].apply(is_featured).astype(np.int8)\n",
    "test_2['is_featured'] = test_2['artist_name'].apply(is_featured).astype(np.int8)"
   ]
  },
  {
   "cell_type": "code",
   "execution_count": 34,
   "metadata": {
    "scrolled": true
   },
   "outputs": [
    {
     "data": {
      "text/plain": [
       "207                alex goot feat. kurt hugo schneider & atc\n",
       "2217                            mark ronson feat. bruno mars\n",
       "4291              a great big world feat. christina aguilera\n",
       "5702                         madilyn bailey feat. josh evans\n",
       "5824                            mark ronson feat. bruno mars\n",
       "6139                               doriko feat. hatsune miku\n",
       "6325                            mark ronson feat. bruno mars\n",
       "6530                           ruslan-set featuring eva kade\n",
       "6574                            mark ronson feat. bruno mars\n",
       "6806                                       madeon feat. kyan\n",
       "7323                            the chainsmokers feat. rozes\n",
       "7511                            mark ronson feat. bruno mars\n",
       "8089                            mark ronson feat. bruno mars\n",
       "8099                        armin van buuren feat. mr. probz\n",
       "9074                            mark ronson feat. bruno mars\n",
       "9348                            the chainsmokers feat. rozes\n",
       "10144                             joel fletcher feat. bianca\n",
       "10145            dmitri saidi & no hopes feat. adriana lucia\n",
       "10929                           mark ronson feat. bruno mars\n",
       "14029                           mark ronson feat. bruno mars\n",
       "15104                                    livetune feat. 初音ミク\n",
       "16719      scott bradlee's postmodern jukebox feat. haley...\n",
       "18472                             prince royce feat. pitbull\n",
       "19367                           acourve feat. hanol & rewind\n",
       "19422                        min yeon jae feat. yoon min soo\n",
       "19502      scott bradlee's postmodern jukebox feat. haley...\n",
       "19769                              doriko feat. hatsune miku\n",
       "19786             a great big world feat. christina aguilera\n",
       "19809                           the chainsmokers feat. rozes\n",
       "20509                              listenbee feat. naz tokio\n",
       "                                 ...                        \n",
       "7368937      dios/シグナルp feat. 鏡音リン・鏡音レン・gumi・初音ミク・巡音ルカ・kaito\n",
       "7368938                            doriko feat. hatsune miku\n",
       "7368939      dios/シグナルp feat. 鏡音リン・鏡音レン・gumi・初音ミク・巡音ルカ・kaito\n",
       "7368940                            doriko feat. hatsune miku\n",
       "7368942                            doriko feat. hatsune miku\n",
       "7368943      dios/シグナルp feat. 鏡音リン・鏡音レン・gumi・初音ミク・巡音ルカ・kaito\n",
       "7368945                                  mitchie m feat.初音未來\n",
       "7368946    ryo(supercell) feat. hatsune miku (ryo(superce...\n",
       "7368948                            doriko feat. hatsune miku\n",
       "7368950      dios/シグナルp feat. 鏡音リン・鏡音レン・gumi・初音ミク・巡音ルカ・kaito\n",
       "7368951                                  supercell feat.初音未來\n",
       "7368952                            doriko feat. hatsune miku\n",
       "7369625                              louis futon feat. rozes\n",
       "7370226                                snbrn feat. nate dogg\n",
       "7372233                   calvin harris feat. florence welch\n",
       "7372235                   calvin harris feat. florence welch\n",
       "7372326                  giorgio moroder feat. kylie minogue\n",
       "7372612         chris brown feat. lil wayne & french montana\n",
       "7372797                                  alex goot feat. atc\n",
       "7373093                         mark ronson feat. bruno mars\n",
       "7373386                            martin garrix feat. usher\n",
       "7373449                          alicia keys featuring drake\n",
       "7373974               fatal bazooka feat yelle et christelle\n",
       "7374793            alex goot feat. kurt hugo schneider & atc\n",
       "7375109                           tamar braxton feat. future\n",
       "7376333                         mark ronson feat. bruno mars\n",
       "7376713                       hardwell featuring mitch crown\n",
       "7376757                      lucas & steve featuring bethany\n",
       "7376763                         stereo sound feat. valentine\n",
       "7377414                           r. city feat.  adam levine\n",
       "Name: artist_name, Length: 15647, dtype: category\n",
       "Categories (40520, object): [!conz, !magnic!, #037 (#037), #1 beatles now, ..., ｄ‐５１, ｗ２ｗｇｏ！ｇｏ！ぱわふる学園, ｗａｋａｉ　ｐｒｏｊｅｃｔ, empty]"
      ]
     },
     "execution_count": 34,
     "metadata": {},
     "output_type": "execute_result"
    }
   ],
   "source": [
    "# Look at artist names that contains 'feat'\n",
    "check_feat=train_2.loc[train_2['is_featured'] == 1]\n",
    "check_feat['artist_name']"
   ]
  },
  {
   "cell_type": "code",
   "execution_count": 35,
   "metadata": {
    "collapsed": true
   },
   "outputs": [],
   "source": [
    "def feat_artist_name(x):\n",
    "    if 'feat.' in str(x) :\n",
    "        idx=x.find('feat.')\n",
    "        feat_name=x[idx+5:].strip()\n",
    "#         print(\"Feating names %s from %s\" % (feat_name, x))\n",
    "        return feat_name\n",
    "    elif 'feat' in str(x) :\n",
    "        idx=x.find('feat')\n",
    "        feat_name=x[idx+5:].strip()\n",
    "#         print(\"Feating names %s from %s\" % (feat_name, x))\n",
    "        return feat_name\n",
    "    return \"no_feat\""
   ]
  },
  {
   "cell_type": "code",
   "execution_count": 36,
   "metadata": {
    "collapsed": true
   },
   "outputs": [],
   "source": [
    "def main_artist_name(x):\n",
    "    if 'feat' in str(x) :\n",
    "        idx=x.find('feat.')\n",
    "        main_name=x[:idx].strip()\n",
    "#         print(\"Main artist name %s from %s\" % (main_name, x))\n",
    "        return main_name\n",
    "\n",
    "    return x"
   ]
  },
  {
   "cell_type": "code",
   "execution_count": 37,
   "metadata": {},
   "outputs": [],
   "source": [
    "# Split featuring artist names\n",
    "train_2['feat_artist'] = train_2['artist_name'].apply(feat_artist_name)\n",
    "test_2['feat_artist'] = test_2['artist_name'].apply(feat_artist_name)\n",
    "\n",
    "train_2['main_artist'] = train_2['artist_name'].apply(main_artist_name)\n",
    "test_2['main_artist'] = test_2['artist_name'].apply(main_artist_name)\n"
   ]
  },
  {
   "cell_type": "code",
   "execution_count": 38,
   "metadata": {
    "collapsed": true
   },
   "outputs": [],
   "source": [
    "def artist_count(x):\n",
    "    if x == 'no_artist':\n",
    "        return 0\n",
    "    else:\n",
    "        return x.count('and') + x.count(',') + x.count('feat') + x.count('&')"
   ]
  },
  {
   "cell_type": "code",
   "execution_count": 39,
   "metadata": {
    "collapsed": true
   },
   "outputs": [],
   "source": [
    "train_2['artist_count'] = train_2['artist_name'].apply(artist_count).astype(np.int8)\n",
    "test_2['artist_count'] = test_2['artist_name'].apply(artist_count).astype(np.int8)"
   ]
  },
  {
   "cell_type": "code",
   "execution_count": 40,
   "metadata": {
    "collapsed": true
   },
   "outputs": [],
   "source": [
    "def is_remix(x):\n",
    "    if 'remix' in str(x):\n",
    "        return 1\n",
    "    return 0"
   ]
  },
  {
   "cell_type": "code",
   "execution_count": 41,
   "metadata": {
    "collapsed": true
   },
   "outputs": [],
   "source": [
    "train_2['is_remix']=train_2['artist_name'].apply(is_remix)\n",
    "test_2['is_remix']=test_2['artist_name'].apply(is_remix)"
   ]
  },
  {
   "cell_type": "code",
   "execution_count": 42,
   "metadata": {
    "scrolled": true
   },
   "outputs": [
    {
     "data": {
      "text/plain": [
       "2901                        dj remix factory\n",
       "26418                         群星 (remix 101)\n",
       "30596      various artists (bhangra remixes)\n",
       "38607                       dj remix factory\n",
       "53650                         remix radio dj\n",
       "55112      various artists (bhangra remixes)\n",
       "110496                        remix radio dj\n",
       "110499                   dance remix factory\n",
       "110500                      dance remix inc.\n",
       "112951                      dj remix factory\n",
       "112952                      dj remix factory\n",
       "112954                      dj remix factory\n",
       "112958                      dj remix factory\n",
       "117139     various artists (bhangra remixes)\n",
       "119215                      dj remix factory\n",
       "119216                      dj remix factory\n",
       "119222                      dj remix factory\n",
       "127261                      dj remix factory\n",
       "146015                      dj remix factory\n",
       "146028                      dj remix factory\n",
       "175439                        群星 (remix 101)\n",
       "177061                 workout remix factory\n",
       "180077                 workout remix factory\n",
       "180963     various artists (bhangra remixes)\n",
       "183495                      dance remix inc.\n",
       "184751                 workout remix factory\n",
       "184753                 workout remix factory\n",
       "184787                 workout remix factory\n",
       "189412     various artists (bhangra remixes)\n",
       "190781                 workout remix factory\n",
       "                         ...                \n",
       "7206566                             哈林搖remix\n",
       "7210737    various artists (bhangra remixes)\n",
       "7219368                workout remix factory\n",
       "7219371                workout remix factory\n",
       "7219372                workout remix factory\n",
       "7220631                     dj remix factory\n",
       "7220633                workout remix factory\n",
       "7220634                workout remix factory\n",
       "7220636                workout remix factory\n",
       "7221086    various artists (bhangra remixes)\n",
       "7222401                       群星 (remix 101)\n",
       "7223094                workout remix factory\n",
       "7240176                       remix & repent\n",
       "7240955    various artists (bhangra remixes)\n",
       "7240959    various artists (bhangra remixes)\n",
       "7243062                     dj remix factory\n",
       "7243066                     dj remix factory\n",
       "7245459                     dj remix factory\n",
       "7274539                       群星 (remix 101)\n",
       "7274881                workout remix factory\n",
       "7280392    various artists (bhangra remixes)\n",
       "7286365    various artists (bhangra remixes)\n",
       "7291317                workout remix factory\n",
       "7309586    various artists (bhangra remixes)\n",
       "7350097                       remix & repent\n",
       "7351589                     dj remix factory\n",
       "7365028                       remix radio dj\n",
       "7365238                workout remix factory\n",
       "7370847                workout remix factory\n",
       "7376837                       群星 (remix 101)\n",
       "Name: artist_name, Length: 1404, dtype: category\n",
       "Categories (40520, object): [!conz, !magnic!, #037 (#037), #1 beatles now, ..., ｄ‐５１, ｗ２ｗｇｏ！ｇｏ！ぱわふる学園, ｗａｋａｉ　ｐｒｏｊｅｃｔ, empty]"
      ]
     },
     "execution_count": 42,
     "metadata": {},
     "output_type": "execute_result"
    }
   ],
   "source": [
    "# Look at artist names that contains 'remix'\n",
    "check_remix=train_2.loc[train_2['is_remix'] == 1]\n",
    "check_remix['artist_name']"
   ]
  },
  {
   "cell_type": "code",
   "execution_count": 43,
   "metadata": {
    "collapsed": true
   },
   "outputs": [],
   "source": [
    "def is_live(x):\n",
    "    # some sings name start with 'live'\n",
    "    if ' live' in str(x):\n",
    "        return 1\n",
    "    return 0"
   ]
  },
  {
   "cell_type": "code",
   "execution_count": 44,
   "metadata": {
    "collapsed": true
   },
   "outputs": [],
   "source": [
    "# if the song is live\n",
    "train_2['is_live']=train_2['artist_name'].apply(is_live)\n",
    "test_2['is_live']=test_2['artist_name'].apply(is_live)"
   ]
  },
  {
   "cell_type": "code",
   "execution_count": 45,
   "metadata": {
    "scrolled": true
   },
   "outputs": [
    {
     "data": {
      "text/plain": [
       "37025                 hillsong live\n",
       "37027                 hillsong live\n",
       "37028                 hillsong live\n",
       "39879                 hillsong live\n",
       "39880                 hillsong live\n",
       "39881                 hillsong live\n",
       "50863      romeo & juliette-en live\n",
       "52756      romeo & juliette-en live\n",
       "52788      romeo & juliette-en live\n",
       "52792      romeo & juliette-en live\n",
       "52818      romeo & juliette-en live\n",
       "77410      romeo & juliette-en live\n",
       "111619                hillsong live\n",
       "126992     romeo & juliette-en live\n",
       "129796        chuckie & jetlag live\n",
       "141406               vh1 divas live\n",
       "141415               vh1 divas live\n",
       "141417               vh1 divas live\n",
       "141418               vh1 divas live\n",
       "141420               vh1 divas live\n",
       "141423               vh1 divas live\n",
       "141424               vh1 divas live\n",
       "141429               vh1 divas live\n",
       "141430               vh1 divas live\n",
       "141435               vh1 divas live\n",
       "141439               vh1 divas live\n",
       "141445               vh1 divas live\n",
       "141449               vh1 divas live\n",
       "150408     romeo & juliette-en live\n",
       "155452                hillsong live\n",
       "                     ...           \n",
       "7204441    romeo & juliette-en live\n",
       "7204813    romeo & juliette-en live\n",
       "7204814    romeo & juliette-en live\n",
       "7204815    romeo & juliette-en live\n",
       "7204816    romeo & juliette-en live\n",
       "7204817    romeo & juliette-en live\n",
       "7204819    romeo & juliette-en live\n",
       "7204820    romeo & juliette-en live\n",
       "7204821    romeo & juliette-en live\n",
       "7204822    romeo & juliette-en live\n",
       "7204823    romeo & juliette-en live\n",
       "7204824    romeo & juliette-en live\n",
       "7204825    romeo & juliette-en live\n",
       "7204826    romeo & juliette-en live\n",
       "7204827    romeo & juliette-en live\n",
       "7205597    romeo & juliette-en live\n",
       "7205598    romeo & juliette-en live\n",
       "7205599    romeo & juliette-en live\n",
       "7205600    romeo & juliette-en live\n",
       "7205601    romeo & juliette-en live\n",
       "7205602    romeo & juliette-en live\n",
       "7205603    romeo & juliette-en live\n",
       "7205604    romeo & juliette-en live\n",
       "7205605    romeo & juliette-en live\n",
       "7205606    romeo & juliette-en live\n",
       "7205607    romeo & juliette-en live\n",
       "7232839    romeo & juliette-en live\n",
       "7232844    romeo & juliette-en live\n",
       "7311725    romeo & juliette-en live\n",
       "7352091    romeo & juliette-en live\n",
       "Name: artist_name, Length: 625, dtype: category\n",
       "Categories (40520, object): [!conz, !magnic!, #037 (#037), #1 beatles now, ..., ｄ‐５１, ｗ２ｗｇｏ！ｇｏ！ぱわふる学園, ｗａｋａｉ　ｐｒｏｊｅｃｔ, empty]"
      ]
     },
     "execution_count": 45,
     "metadata": {},
     "output_type": "execute_result"
    }
   ],
   "source": [
    "# Look at artist names that contains 'remix'\n",
    "check_live=train_2.loc[train_2['is_live'] == 1]\n",
    "check_live['artist_name']"
   ]
  },
  {
   "cell_type": "code",
   "execution_count": 46,
   "metadata": {
    "collapsed": true
   },
   "outputs": [],
   "source": [
    "def is_acoustic(x):\n",
    "    if 'acoustic' in str(x):\n",
    "        return 1\n",
    "    return 0"
   ]
  },
  {
   "cell_type": "code",
   "execution_count": 47,
   "metadata": {
    "collapsed": true
   },
   "outputs": [],
   "source": [
    "train_2['is_acoustic']=train_2['artist_name'].apply(is_acoustic)\n",
    "test_2['is_acoustic']=test_2['artist_name'].apply(is_acoustic)"
   ]
  },
  {
   "cell_type": "code",
   "execution_count": 48,
   "metadata": {
    "scrolled": true
   },
   "outputs": [
    {
     "data": {
      "text/plain": [
       "4080                             jacoustic\n",
       "29654              10cm & acoustic collabo\n",
       "44723                        the acoustics\n",
       "101718                    vanilla acoustic\n",
       "101719                    vanilla acoustic\n",
       "101720                    vanilla acoustic\n",
       "101721                    vanilla acoustic\n",
       "105210                    vanilla acoustic\n",
       "105211                    vanilla acoustic\n",
       "105212                    vanilla acoustic\n",
       "149393                       acoustic hits\n",
       "165049                    vanilla acoustic\n",
       "179507                    acoustic alchemy\n",
       "206928             10cm & acoustic collabo\n",
       "226086     acoustic guitar tribute players\n",
       "226087     acoustic guitar tribute players\n",
       "226089     acoustic guitar tribute players\n",
       "226090     acoustic guitar tribute players\n",
       "226092     acoustic guitar tribute players\n",
       "227186     acoustic guitar tribute players\n",
       "227188     acoustic guitar tribute players\n",
       "227191     acoustic guitar tribute players\n",
       "227192     acoustic guitar tribute players\n",
       "228016     acoustic guitar tribute players\n",
       "228017     acoustic guitar tribute players\n",
       "228018     acoustic guitar tribute players\n",
       "228019     acoustic guitar tribute players\n",
       "234152     acoustic guitar tribute players\n",
       "318545                           jacoustic\n",
       "389585                     marlai acoustic\n",
       "                        ...               \n",
       "6009701                   vanilla acoustic\n",
       "6009702                   vanilla acoustic\n",
       "6009703                   vanilla acoustic\n",
       "6009706                   vanilla acoustic\n",
       "6009707                   vanilla acoustic\n",
       "6009708                   vanilla acoustic\n",
       "6009710                   vanilla acoustic\n",
       "6009711                   vanilla acoustic\n",
       "6064333                      the acoustics\n",
       "6081531                          jacoustic\n",
       "6085165                   vanilla acoustic\n",
       "6098859            10cm & acoustic collabo\n",
       "6134510                   acoustic alchemy\n",
       "6149043                        dalacoustic\n",
       "6152318                   vanilla acoustic\n",
       "6160291                      the acoustics\n",
       "6199166                   vanilla acoustic\n",
       "6301391                      the acoustics\n",
       "6441464                   vanilla acoustic\n",
       "6588809            10cm & acoustic collabo\n",
       "6606261                          jacoustic\n",
       "6680709                          jacoustic\n",
       "6688254                 afternoon acoustic\n",
       "6758567                      the acoustics\n",
       "6796489            10cm & acoustic collabo\n",
       "6901697                      acoustic hits\n",
       "7175768                maranatha! acoustic\n",
       "7226284                          jacoustic\n",
       "7291222    acoustic guitar tribute players\n",
       "7294906         postmen & vanilla acoustic\n",
       "Name: artist_name, Length: 199, dtype: category\n",
       "Categories (40520, object): [!conz, !magnic!, #037 (#037), #1 beatles now, ..., ｄ‐５１, ｗ２ｗｇｏ！ｇｏ！ぱわふる学園, ｗａｋａｉ　ｐｒｏｊｅｃｔ, empty]"
      ]
     },
     "execution_count": 48,
     "metadata": {},
     "output_type": "execute_result"
    }
   ],
   "source": [
    "# Look at artist names that contains 'remix'\n",
    "check_acoustic=train_2.loc[train_2['is_acoustic'] == 1]\n",
    "check_acoustic['artist_name']"
   ]
  },
  {
   "cell_type": "code",
   "execution_count": 49,
   "metadata": {
    "collapsed": true
   },
   "outputs": [],
   "source": [
    "def is_instrumental(x):\n",
    "    if 'instrumental' in str(x) or 'instru' in str(x):\n",
    "        return 1\n",
    "    return 0"
   ]
  },
  {
   "cell_type": "code",
   "execution_count": 50,
   "metadata": {
    "collapsed": true
   },
   "outputs": [],
   "source": [
    "train_2['is_instrumental']=train_2['artist_name'].apply(is_instrumental)\n",
    "test_2['is_instrumental']=test_2['artist_name'].apply(is_instrumental)"
   ]
  },
  {
   "cell_type": "code",
   "execution_count": 51,
   "metadata": {
    "scrolled": true
   },
   "outputs": [
    {
     "data": {
      "text/plain": [
       "22075      piano music for christmas & instrumental chris...\n",
       "22076      piano music for christmas & instrumental chris...\n",
       "22077      piano music for christmas & instrumental chris...\n",
       "41854                                the art of instrumental\n",
       "46749                                the art of instrumental\n",
       "46750                                the art of instrumental\n",
       "65832      the mortal instruments: city of bones (origina...\n",
       "79827                                           instrumental\n",
       "107346     the mortal instruments: city of bones (origina...\n",
       "108134                               the art of instrumental\n",
       "110581     the mortal instruments: city of bones (origina...\n",
       "110583     the mortal instruments: city of bones (origina...\n",
       "110585     the mortal instruments: city of bones (origina...\n",
       "153033     the mortal instruments: city of bones (origina...\n",
       "165544     the mortal instruments: city of bones (origina...\n",
       "174091         be still & know - instrumental songs of faith\n",
       "185500                                               instrum\n",
       "189594                               the art of instrumental\n",
       "189887     the mortal instruments: city of bones (origina...\n",
       "189890     the mortal instruments: city of bones (origina...\n",
       "189891     the mortal instruments: city of bones (origina...\n",
       "194604                               the art of instrumental\n",
       "194613                               the art of instrumental\n",
       "197584                               the art of instrumental\n",
       "201866     the mortal instruments: city of bones (origina...\n",
       "206810                               the art of instrumental\n",
       "213933     the mortal instruments: city of bones (origina...\n",
       "214692                               the art of instrumental\n",
       "218875                               the art of instrumental\n",
       "235972                               the art of instrumental\n",
       "                                 ...                        \n",
       "7028485                              the art of instrumental\n",
       "7050175                          relaxing instrumental music\n",
       "7051542                          relaxing instrumental music\n",
       "7066519                          instrumental music ensemble\n",
       "7074617                              the art of instrumental\n",
       "7090024    the mortal instruments: city of bones (origina...\n",
       "7104889                              the art of instrumental\n",
       "7121727                              the art of instrumental\n",
       "7128775                     relaxation yoga instrumentalists\n",
       "7130016                     relaxation yoga instrumentalists\n",
       "7130017                     relaxation yoga instrumentalists\n",
       "7133092                     relaxation yoga instrumentalists\n",
       "7134234                     relaxation yoga instrumentalists\n",
       "7134236                     relaxation yoga instrumentalists\n",
       "7139039                     relaxation yoga instrumentalists\n",
       "7139795                              instrumental bossa nova\n",
       "7143314    the mortal instruments: city of bones (origina...\n",
       "7165743    the mortal instruments: city of bones (origina...\n",
       "7180933                              the art of instrumental\n",
       "7199794                              the art of instrumental\n",
       "7200857                              the art of instrumental\n",
       "7207182                              the art of instrumental\n",
       "7236437                              the art of instrumental\n",
       "7274059                              the art of instrumental\n",
       "7295284    piano love songs: classic easy listening piano...\n",
       "7313293                              the art of instrumental\n",
       "7324973    piano love songs: classic easy listening piano...\n",
       "7329920                             instrumental music group\n",
       "7344002                              the art of instrumental\n",
       "7361108                              the art of instrumental\n",
       "Name: artist_name, Length: 738, dtype: category\n",
       "Categories (40520, object): [!conz, !magnic!, #037 (#037), #1 beatles now, ..., ｄ‐５１, ｗ２ｗｇｏ！ｇｏ！ぱわふる学園, ｗａｋａｉ　ｐｒｏｊｅｃｔ, empty]"
      ]
     },
     "execution_count": 51,
     "metadata": {},
     "output_type": "execute_result"
    }
   ],
   "source": [
    "# Look at artist names that contains 'instrumental'\n",
    "check_instrumental=train_2.loc[train_2['is_instrumental'] == 1]\n",
    "check_instrumental['artist_name']"
   ]
  },
  {
   "cell_type": "code",
   "execution_count": 52,
   "metadata": {
    "collapsed": true
   },
   "outputs": [],
   "source": [
    "# Magic feature\n",
    "# is song language 17 or 45. \n",
    "def song_lang_boolean(x):\n",
    "    if '17.0' in str(x) or '45.0' in str(x):\n",
    "        return 1\n",
    "    return 0\n",
    "\n",
    "train_2['song_lang_magic'] = train_2['language'].apply(song_lang_boolean).astype(np.int8)\n",
    "test_2['song_lang_magic'] = test_2['language'].apply(song_lang_boolean).astype(np.int8)"
   ]
  },
  {
   "cell_type": "code",
   "execution_count": 53,
   "metadata": {},
   "outputs": [
    {
     "name": "stdout",
     "output_type": "stream",
     "text": [
      "Song length mean: 245120.272126  std: 67344.419765\n"
     ]
    }
   ],
   "source": [
    "# Song length\n",
    "mean_song_length = np.mean(train_2['song_length'])\n",
    "std_song_length = np.std(train_2['song_length'])\n",
    "print(\"Song length mean: %f  std: %f\" % (mean_song_length, std_song_length))\n",
    "\n",
    "def shorter_song(x):\n",
    "    if x < mean_song_length:\n",
    "        return 1\n",
    "    return 0\n",
    "\n",
    "train_2['short_song'] = train_2['song_length'].apply(shorter_song).astype(np.int8)\n",
    "test_2['short_song'] = test_2['song_length'].apply(shorter_song).astype(np.int8)"
   ]
  },
  {
   "cell_type": "code",
   "execution_count": 54,
   "metadata": {
    "collapsed": true
   },
   "outputs": [],
   "source": [
    "# How many std is the song length from mean\n",
    "def mean_length_dist(x):\n",
    "    num_std=(x-mean_song_length)/std_song_length\n",
    "    return num_std\n",
    "\n",
    "train_2['mean_length_distance'] = train_2['song_length'].apply(shorter_song).astype(np.float16)\n",
    "test_2['mean_length_distance'] = test_2['song_length'].apply(shorter_song).astype(np.float16)"
   ]
  },
  {
   "cell_type": "code",
   "execution_count": 55,
   "metadata": {
    "collapsed": true
   },
   "outputs": [],
   "source": [
    "# number of times a song has been played before\n",
    "_dict_count_song_played_train = {k: v for k, v in train_2['song_id'].value_counts().iteritems()}\n",
    "_dict_count_song_played_test = {k: v for k, v in test_2['song_id'].value_counts().iteritems()}\n",
    "def count_song_played(x):\n",
    "    try:\n",
    "        return _dict_count_song_played_train[x]\n",
    "    except KeyError:\n",
    "        try:\n",
    "            return _dict_count_song_played_test[x]\n",
    "        except KeyError:\n",
    "            return 0\n",
    "    \n",
    "\n",
    "train_2['count_song_played'] = train_2['song_id'].apply(count_song_played).astype(np.int64)\n",
    "test_2['count_song_played'] = test_2['song_id'].apply(count_song_played).astype(np.int64)"
   ]
  },
  {
   "cell_type": "code",
   "execution_count": 56,
   "metadata": {
    "collapsed": true
   },
   "outputs": [],
   "source": [
    "# number of times the artist has been played\n",
    "_dict_count_artist_played_train = {k: v for k, v in train_2['artist_name'].value_counts().iteritems()}\n",
    "_dict_count_artist_played_test = {k: v for k, v in test_2['artist_name'].value_counts().iteritems()}\n",
    "def count_artist_played(x):\n",
    "    try:\n",
    "        return _dict_count_artist_played_train[x]\n",
    "    except KeyError:\n",
    "        try:\n",
    "            return _dict_count_artist_played_test[x]\n",
    "        except KeyError:\n",
    "            return 0\n",
    "\n",
    "train_2['count_artist_played'] = train_2['artist_name'].apply(count_artist_played).astype(np.int64)\n",
    "test_2['count_artist_played'] = test_2['artist_name'].apply(count_artist_played).astype(np.int64)\n"
   ]
  },
  {
   "cell_type": "markdown",
   "metadata": {},
   "source": [
    "End of phase 2\n"
   ]
  },
  {
   "cell_type": "code",
   "execution_count": 57,
   "metadata": {},
   "outputs": [
    {
     "data": {
      "text/plain": [
       "<pandas.core.categorical.CategoricalAccessor object at 0x7fe56b304ef0>"
      ]
     },
     "execution_count": 57,
     "metadata": {},
     "output_type": "execute_result"
    }
   ],
   "source": [
    "# Check categories\n",
    "train_2['artist_name'].cat"
   ]
  },
  {
   "cell_type": "code",
   "execution_count": 58,
   "metadata": {
    "collapsed": true
   },
   "outputs": [],
   "source": [
    "# Output to csv\n",
    "train_2.to_csv(data_path+\"train_engineered.csv\")\n",
    "test_2.to_csv(data_path+\"test_engineered.csv\")"
   ]
  },
  {
   "cell_type": "markdown",
   "metadata": {},
   "source": [
    "# Phase 3"
   ]
  },
  {
   "cell_type": "code",
   "execution_count": 59,
   "metadata": {
    "collapsed": true
   },
   "outputs": [],
   "source": [
    "train_3=train_2.copy()\n",
    "test_3=test_2.copy()"
   ]
  },
  {
   "cell_type": "code",
   "execution_count": null,
   "metadata": {
    "collapsed": true
   },
   "outputs": [],
   "source": [
    "# if artist is same as composer\n",
    "train_2['artist_is_composer'] = (train_2['artist_name'] == train_2['composer']).astype(np.int8)\n",
    "test_2['artist_is_composer'] = (test_2['artist_name'] == test_2['composer']).astype(np.int8)\n",
    "\n",
    "# if artist, lyricist and composer are all three same\n",
    "train_2['artist_is_composer_is_lyricist'] = ((train_2['artist_name'] == train['composer']) & (train['artist_name'] == train['lyricist']) & (train['composer'] == train['lyricist'])).astype(np.int8)\n",
    "test_2['artist_is_composer_is_lyricist'] = ((test_2['artist_name'] == test['composer']) & (test['artist_name'] == test['lyricist']) & (test['composer'] == test['lyricist'])).astype(np.int8)"
   ]
  },
  {
   "cell_type": "code",
   "execution_count": 70,
   "metadata": {},
   "outputs": [],
   "source": [
    "# One hot-convert genre ids\n",
    "GENRE_SET=set([])\n",
    "\n",
    "def collect_genre(x):\n",
    "    parts=x.split('|')\n",
    "    global GENRE_SET\n",
    "    siz=len(GENRE_SET)\n",
    "    for s in parts:\n",
    "        if s=='empty':\n",
    "            GENRE_SET.add(3000)\n",
    "        else:\n",
    "            GENRE_SET.add(int(s))\n",
    "    if len(GENRE_SET)>siz:\n",
    "        print(\"Now %i genres\" % len(GENRE_SET))"
   ]
  },
  {
   "cell_type": "code",
   "execution_count": 71,
   "metadata": {},
   "outputs": [
    {
     "name": "stdout",
     "output_type": "stream",
     "text": [
      "Now 1 genres\n",
      "Now 2 genres\n",
      "Now 3 genres\n",
      "Now 5 genres\n",
      "Now 6 genres\n",
      "Now 7 genres\n",
      "Now 8 genres\n",
      "Now 9 genres\n",
      "Now 10 genres\n",
      "Now 11 genres\n",
      "Now 12 genres\n",
      "Now 13 genres\n",
      "Now 14 genres\n",
      "Now 15 genres\n",
      "Now 16 genres\n",
      "Now 17 genres\n",
      "Now 18 genres\n",
      "Now 19 genres\n",
      "Now 20 genres\n",
      "Now 21 genres\n",
      "Now 22 genres\n",
      "Now 23 genres\n",
      "Now 24 genres\n",
      "Now 25 genres\n",
      "Now 26 genres\n",
      "Now 27 genres\n",
      "Now 28 genres\n",
      "Now 29 genres\n",
      "Now 30 genres\n",
      "Now 31 genres\n",
      "Now 32 genres\n",
      "Now 33 genres\n",
      "Now 34 genres\n",
      "Now 35 genres\n",
      "Now 36 genres\n",
      "Now 37 genres\n",
      "Now 39 genres\n",
      "Now 42 genres\n",
      "Now 43 genres\n",
      "Now 44 genres\n",
      "Now 45 genres\n",
      "Now 46 genres\n",
      "Now 47 genres\n",
      "Now 48 genres\n",
      "Now 49 genres\n",
      "Now 50 genres\n",
      "Now 51 genres\n",
      "Now 52 genres\n",
      "Now 53 genres\n",
      "Now 54 genres\n",
      "Now 55 genres\n",
      "Now 56 genres\n",
      "Now 57 genres\n",
      "Now 58 genres\n",
      "Now 59 genres\n",
      "Now 60 genres\n",
      "Now 61 genres\n",
      "Now 62 genres\n",
      "Now 63 genres\n",
      "Now 64 genres\n",
      "Now 65 genres\n",
      "Now 66 genres\n",
      "Now 67 genres\n",
      "Now 68 genres\n",
      "Now 69 genres\n",
      "Now 70 genres\n",
      "Now 71 genres\n",
      "Now 72 genres\n",
      "Now 73 genres\n",
      "Now 74 genres\n",
      "Now 75 genres\n",
      "Now 77 genres\n",
      "Now 78 genres\n",
      "Now 79 genres\n",
      "Now 80 genres\n",
      "Now 81 genres\n",
      "Now 82 genres\n",
      "Now 83 genres\n",
      "Now 84 genres\n",
      "Now 85 genres\n",
      "Now 86 genres\n",
      "Now 87 genres\n",
      "Now 88 genres\n",
      "Now 89 genres\n",
      "Now 90 genres\n",
      "Now 91 genres\n",
      "Now 92 genres\n",
      "Now 93 genres\n",
      "Now 94 genres\n",
      "Now 95 genres\n",
      "Now 96 genres\n",
      "Now 97 genres\n",
      "Now 98 genres\n",
      "Now 100 genres\n",
      "Now 101 genres\n",
      "Now 103 genres\n",
      "Now 104 genres\n",
      "Now 105 genres\n",
      "Now 106 genres\n",
      "Now 107 genres\n",
      "Now 108 genres\n",
      "Now 109 genres\n",
      "Now 110 genres\n",
      "Now 111 genres\n",
      "Now 112 genres\n",
      "Now 113 genres\n",
      "Now 114 genres\n",
      "Now 115 genres\n",
      "Now 116 genres\n",
      "Now 117 genres\n",
      "Now 118 genres\n",
      "Now 119 genres\n",
      "Now 120 genres\n",
      "Now 121 genres\n",
      "Now 122 genres\n",
      "Now 123 genres\n",
      "Now 124 genres\n",
      "Now 125 genres\n",
      "Now 126 genres\n",
      "Now 127 genres\n",
      "Now 128 genres\n",
      "Now 129 genres\n",
      "Now 130 genres\n",
      "Now 131 genres\n",
      "Now 132 genres\n",
      "Now 133 genres\n",
      "Now 134 genres\n",
      "Now 135 genres\n",
      "Now 136 genres\n",
      "Now 137 genres\n",
      "Now 138 genres\n",
      "Now 139 genres\n",
      "Now 140 genres\n",
      "Now 141 genres\n",
      "Now 142 genres\n",
      "Now 143 genres\n",
      "Now 144 genres\n",
      "Now 145 genres\n",
      "Now 146 genres\n",
      "Now 147 genres\n",
      "Now 148 genres\n",
      "Now 149 genres\n",
      "Now 150 genres\n",
      "Now 151 genres\n",
      "Now 152 genres\n",
      "Now 153 genres\n",
      "Now 155 genres\n",
      "Now 156 genres\n",
      "Now 157 genres\n",
      "Now 158 genres\n",
      "Now 159 genres\n",
      "Now 160 genres\n",
      "Now 161 genres\n",
      "Now 162 genres\n",
      "Now 163 genres\n",
      "Now 164 genres\n",
      "Now 165 genres\n",
      "Now 166 genres\n",
      "Now 167 genres\n",
      "Now 168 genres\n",
      "Now 169 genres\n",
      "Now 170 genres\n",
      "Now 171 genres\n",
      "Now 172 genres\n",
      "Now 173 genres\n"
     ]
    },
    {
     "data": {
      "text/plain": [
       "0          None\n",
       "1          None\n",
       "2          None\n",
       "3          None\n",
       "4          None\n",
       "5          None\n",
       "6          None\n",
       "7          None\n",
       "8          None\n",
       "9          None\n",
       "10         None\n",
       "11         None\n",
       "12         None\n",
       "13         None\n",
       "14         None\n",
       "15         None\n",
       "16         None\n",
       "17         None\n",
       "18         None\n",
       "19         None\n",
       "20         None\n",
       "21         None\n",
       "22         None\n",
       "23         None\n",
       "24         None\n",
       "25         None\n",
       "26         None\n",
       "27         None\n",
       "28         None\n",
       "29         None\n",
       "           ... \n",
       "2556760    None\n",
       "2556761    None\n",
       "2556762    None\n",
       "2556763    None\n",
       "2556764    None\n",
       "2556765    None\n",
       "2556766    None\n",
       "2556767    None\n",
       "2556768    None\n",
       "2556769    None\n",
       "2556770    None\n",
       "2556771    None\n",
       "2556772    None\n",
       "2556773    None\n",
       "2556774    None\n",
       "2556775    None\n",
       "2556776    None\n",
       "2556777    None\n",
       "2556778    None\n",
       "2556779    None\n",
       "2556780    None\n",
       "2556781    None\n",
       "2556782    None\n",
       "2556783    None\n",
       "2556784    None\n",
       "2556785    None\n",
       "2556786    None\n",
       "2556787    None\n",
       "2556788    None\n",
       "2556789    None\n",
       "Name: genre_ids, Length: 2556790, dtype: object"
      ]
     },
     "execution_count": 71,
     "metadata": {},
     "output_type": "execute_result"
    }
   ],
   "source": [
    "train_3['genre_ids'].apply(collect_genre)\n",
    "test_3['genre_ids'].apply(collect_genre)"
   ]
  },
  {
   "cell_type": "code",
   "execution_count": 72,
   "metadata": {},
   "outputs": [
    {
     "data": {
      "text/plain": [
       "{87,\n",
       " 94,\n",
       " 95,\n",
       " 102,\n",
       " 109,\n",
       " 118,\n",
       " 125,\n",
       " 139,\n",
       " 152,\n",
       " 166,\n",
       " 177,\n",
       " 184,\n",
       " 191,\n",
       " 198,\n",
       " 205,\n",
       " 212,\n",
       " 242,\n",
       " 252,\n",
       " 275,\n",
       " 282,\n",
       " 296,\n",
       " 303,\n",
       " 310,\n",
       " 331,\n",
       " 338,\n",
       " 352,\n",
       " 359,\n",
       " 367,\n",
       " 374,\n",
       " 381,\n",
       " 388,\n",
       " 402,\n",
       " 409,\n",
       " 416,\n",
       " 423,\n",
       " 430,\n",
       " 437,\n",
       " 444,\n",
       " 451,\n",
       " 458,\n",
       " 465,\n",
       " 474,\n",
       " 481,\n",
       " 488,\n",
       " 502,\n",
       " 509,\n",
       " 516,\n",
       " 531,\n",
       " 545,\n",
       " 649,\n",
       " 656,\n",
       " 670,\n",
       " 677,\n",
       " 691,\n",
       " 698,\n",
       " 712,\n",
       " 719,\n",
       " 726,\n",
       " 744,\n",
       " 751,\n",
       " 765,\n",
       " 779,\n",
       " 786,\n",
       " 798,\n",
       " 808,\n",
       " 822,\n",
       " 829,\n",
       " 843,\n",
       " 850,\n",
       " 857,\n",
       " 864,\n",
       " 873,\n",
       " 880,\n",
       " 893,\n",
       " 900,\n",
       " 907,\n",
       " 921,\n",
       " 940,\n",
       " 947,\n",
       " 958,\n",
       " 965,\n",
       " 972,\n",
       " 979,\n",
       " 986,\n",
       " 993,\n",
       " 1000,\n",
       " 1007,\n",
       " 1011,\n",
       " 1019,\n",
       " 1026,\n",
       " 1033,\n",
       " 1040,\n",
       " 1047,\n",
       " 1054,\n",
       " 1061,\n",
       " 1068,\n",
       " 1082,\n",
       " 1089,\n",
       " 1096,\n",
       " 1103,\n",
       " 1110,\n",
       " 1117,\n",
       " 1124,\n",
       " 1131,\n",
       " 1138,\n",
       " 1145,\n",
       " 1152,\n",
       " 1155,\n",
       " 1162,\n",
       " 1169,\n",
       " 1180,\n",
       " 1187,\n",
       " 1194,\n",
       " 1201,\n",
       " 1208,\n",
       " 1259,\n",
       " 1266,\n",
       " 1273,\n",
       " 1280,\n",
       " 1287,\n",
       " 1568,\n",
       " 1572,\n",
       " 1579,\n",
       " 1598,\n",
       " 1605,\n",
       " 1609,\n",
       " 1616,\n",
       " 1630,\n",
       " 1633,\n",
       " 1944,\n",
       " 1955,\n",
       " 1965,\n",
       " 1969,\n",
       " 1977,\n",
       " 1981,\n",
       " 1988,\n",
       " 1995,\n",
       " 2008,\n",
       " 2015,\n",
       " 2022,\n",
       " 2029,\n",
       " 2032,\n",
       " 2045,\n",
       " 2052,\n",
       " 2058,\n",
       " 2065,\n",
       " 2072,\n",
       " 2079,\n",
       " 2086,\n",
       " 2093,\n",
       " 2100,\n",
       " 2107,\n",
       " 2109,\n",
       " 2116,\n",
       " 2122,\n",
       " 2127,\n",
       " 2130,\n",
       " 2144,\n",
       " 2150,\n",
       " 2157,\n",
       " 2172,\n",
       " 2176,\n",
       " 2183,\n",
       " 2189,\n",
       " 2192,\n",
       " 2194,\n",
       " 2206,\n",
       " 2213,\n",
       " 2215,\n",
       " 2219,\n",
       " 2245,\n",
       " 2248,\n",
       " 3000}"
      ]
     },
     "execution_count": 72,
     "metadata": {},
     "output_type": "execute_result"
    }
   ],
   "source": [
    "GENRE_SET"
   ]
  },
  {
   "cell_type": "code",
   "execution_count": 73,
   "metadata": {
    "collapsed": true
   },
   "outputs": [],
   "source": [
    "# Manually generate a category for genres\n",
    "GENRE_CATEGORY={}\n",
    "i=0\n",
    "for g in GENRE_SET:\n",
    "    GENRE_CATEGORY[g]=i\n",
    "    i+=1"
   ]
  },
  {
   "cell_type": "code",
   "execution_count": 78,
   "metadata": {},
   "outputs": [],
   "source": [
    "# Generate columns for genres\n",
    "GENRE_COLUMNS=[]\n",
    "for k in GENRE_CATEGORY:\n",
    "    GENRE_COLUMNS.append('genre_'+str(k))"
   ]
  },
  {
   "cell_type": "code",
   "execution_count": 79,
   "metadata": {},
   "outputs": [
    {
     "data": {
      "text/plain": [
       "['genre_1026',\n",
       " 'genre_2052',\n",
       " 'genre_516',\n",
       " 'genre_1033',\n",
       " 'genre_2058',\n",
       " 'genre_1040',\n",
       " 'genre_2065',\n",
       " 'genre_531',\n",
       " 'genre_1047',\n",
       " 'genre_2072',\n",
       " 'genre_1054',\n",
       " 'genre_2079',\n",
       " 'genre_1568',\n",
       " 'genre_545',\n",
       " 'genre_1572',\n",
       " 'genre_1061',\n",
       " 'genre_2086',\n",
       " 'genre_1579',\n",
       " 'genre_1068',\n",
       " 'genre_2093',\n",
       " 'genre_2045',\n",
       " 'genre_2100',\n",
       " 'genre_1082',\n",
       " 'genre_2107',\n",
       " 'genre_2109',\n",
       " 'genre_1598',\n",
       " 'genre_1089',\n",
       " 'genre_2116',\n",
       " 'genre_1605',\n",
       " 'genre_1096',\n",
       " 'genre_1609',\n",
       " 'genre_2122',\n",
       " 'genre_1103',\n",
       " 'genre_1616',\n",
       " 'genre_2127',\n",
       " 'genre_2130',\n",
       " 'genre_1110',\n",
       " 'genre_87',\n",
       " 'genre_1117',\n",
       " 'genre_94',\n",
       " 'genre_95',\n",
       " 'genre_1630',\n",
       " 'genre_1633',\n",
       " 'genre_2144',\n",
       " 'genre_1124',\n",
       " 'genre_2150',\n",
       " 'genre_102',\n",
       " 'genre_1131',\n",
       " 'genre_109',\n",
       " 'genre_2157',\n",
       " 'genre_1138',\n",
       " 'genre_118',\n",
       " 'genre_1145',\n",
       " 'genre_2172',\n",
       " 'genre_125',\n",
       " 'genre_1152',\n",
       " 'genre_2176',\n",
       " 'genre_1155',\n",
       " 'genre_2183',\n",
       " 'genre_649',\n",
       " 'genre_1162',\n",
       " 'genre_139',\n",
       " 'genre_2189',\n",
       " 'genre_2192',\n",
       " 'genre_1169',\n",
       " 'genre_2194',\n",
       " 'genre_656',\n",
       " 'genre_152',\n",
       " 'genre_1180',\n",
       " 'genre_2206',\n",
       " 'genre_670',\n",
       " 'genre_1187',\n",
       " 'genre_2213',\n",
       " 'genre_677',\n",
       " 'genre_2215',\n",
       " 'genre_166',\n",
       " 'genre_1194',\n",
       " 'genre_2219',\n",
       " 'genre_1201',\n",
       " 'genre_177',\n",
       " 'genre_691',\n",
       " 'genre_1208',\n",
       " 'genre_184',\n",
       " 'genre_698',\n",
       " 'genre_191',\n",
       " 'genre_2245',\n",
       " 'genre_198',\n",
       " 'genre_2248',\n",
       " 'genre_712',\n",
       " 'genre_205',\n",
       " 'genre_719',\n",
       " 'genre_212',\n",
       " 'genre_726',\n",
       " 'genre_744',\n",
       " 'genre_1259',\n",
       " 'genre_751',\n",
       " 'genre_242',\n",
       " 'genre_1266',\n",
       " 'genre_1273',\n",
       " 'genre_252',\n",
       " 'genre_765',\n",
       " 'genre_1280',\n",
       " 'genre_1287',\n",
       " 'genre_779',\n",
       " 'genre_786',\n",
       " 'genre_275',\n",
       " 'genre_282',\n",
       " 'genre_798',\n",
       " 'genre_296',\n",
       " 'genre_808',\n",
       " 'genre_303',\n",
       " 'genre_310',\n",
       " 'genre_822',\n",
       " 'genre_829',\n",
       " 'genre_331',\n",
       " 'genre_843',\n",
       " 'genre_338',\n",
       " 'genre_850',\n",
       " 'genre_857',\n",
       " 'genre_352',\n",
       " 'genre_864',\n",
       " 'genre_359',\n",
       " 'genre_873',\n",
       " 'genre_367',\n",
       " 'genre_880',\n",
       " 'genre_374',\n",
       " 'genre_381',\n",
       " 'genre_893',\n",
       " 'genre_388',\n",
       " 'genre_900',\n",
       " 'genre_907',\n",
       " 'genre_402',\n",
       " 'genre_1944',\n",
       " 'genre_921',\n",
       " 'genre_409',\n",
       " 'genre_416',\n",
       " 'genre_1955',\n",
       " 'genre_423',\n",
       " 'genre_940',\n",
       " 'genre_1965',\n",
       " 'genre_430',\n",
       " 'genre_1969',\n",
       " 'genre_947',\n",
       " 'genre_437',\n",
       " 'genre_3000',\n",
       " 'genre_1977',\n",
       " 'genre_444',\n",
       " 'genre_1981',\n",
       " 'genre_958',\n",
       " 'genre_451',\n",
       " 'genre_1988',\n",
       " 'genre_965',\n",
       " 'genre_458',\n",
       " 'genre_1995',\n",
       " 'genre_972',\n",
       " 'genre_465',\n",
       " 'genre_979',\n",
       " 'genre_2008',\n",
       " 'genre_474',\n",
       " 'genre_986',\n",
       " 'genre_2015',\n",
       " 'genre_481',\n",
       " 'genre_993',\n",
       " 'genre_2022',\n",
       " 'genre_1000',\n",
       " 'genre_488',\n",
       " 'genre_2029',\n",
       " 'genre_1007',\n",
       " 'genre_2032',\n",
       " 'genre_1011',\n",
       " 'genre_502',\n",
       " 'genre_1019',\n",
       " 'genre_509']"
      ]
     },
     "execution_count": 79,
     "metadata": {},
     "output_type": "execute_result"
    }
   ],
   "source": [
    "GENRE_COLUMNS"
   ]
  },
  {
   "cell_type": "code",
   "execution_count": 83,
   "metadata": {},
   "outputs": [
    {
     "data": {
      "text/plain": [
       "array([      0,       1,       2, ..., 7377415, 7377416, 7377417])"
      ]
     },
     "execution_count": 83,
     "metadata": {},
     "output_type": "execute_result"
    }
   ],
   "source": [
    "train_3.index.values"
   ]
  },
  {
   "cell_type": "code",
   "execution_count": 84,
   "metadata": {},
   "outputs": [
    {
     "data": {
      "text/plain": [
       "603"
      ]
     },
     "execution_count": 84,
     "metadata": {},
     "output_type": "execute_result"
    }
   ],
   "source": [
    "del train_cat, test_cat\n",
    "gc.collect()"
   ]
  },
  {
   "cell_type": "code",
   "execution_count": 86,
   "metadata": {},
   "outputs": [],
   "source": [
    "test_genre = pd.DataFrame(0, index=test_3.index.values, columns=GENRE_COLUMNS)"
   ]
  },
  {
   "cell_type": "code",
   "execution_count": 87,
   "metadata": {},
   "outputs": [
    {
     "data": {
      "text/plain": [
       "83"
      ]
     },
     "execution_count": 87,
     "metadata": {},
     "output_type": "execute_result"
    }
   ],
   "source": [
    "del test_genre\n",
    "gc.collect()"
   ]
  },
  {
   "cell_type": "code",
   "execution_count": 88,
   "metadata": {
    "collapsed": true
   },
   "outputs": [],
   "source": [
    "# Extract parenthesis and put content into new feature\n",
    "def has_parenthesis(x):\n",
    "    # English and Chinese parenthesis\n",
    "    if ('(' in str(x)) or ('（' in str(x)):\n",
    "        return 1\n",
    "    return 0"
   ]
  },
  {
   "cell_type": "code",
   "execution_count": 89,
   "metadata": {
    "collapsed": true
   },
   "outputs": [],
   "source": [
    "def in_parenthesis(x):\n",
    "    if '(' in str(x):\n",
    "        s=x[x.find(\"(\")+1:x.find(\")\")]\n",
    "        return s\n",
    "    elif '（' in str(x):\n",
    "        s=x[x.find(\"（\")+1:x.find(\"）\")]\n",
    "        return s\n",
    "    else:\n",
    "        return \"empty\""
   ]
  },
  {
   "cell_type": "code",
   "execution_count": 90,
   "metadata": {
    "collapsed": true
   },
   "outputs": [],
   "source": [
    "def pre_parenthesis(x):\n",
    "    if '(' in str(x):\n",
    "        s=x[:x.find(\"(\")]\n",
    "        return s\n",
    "    elif '（' in str(x):\n",
    "        s=x[:x.find(\"（\")]\n",
    "        return s\n",
    "    else:\n",
    "        return x"
   ]
  },
  {
   "cell_type": "code",
   "execution_count": 91,
   "metadata": {
    "collapsed": true
   },
   "outputs": [],
   "source": [
    "def post_parenthesis(x):\n",
    "    if ')' in str(x):\n",
    "        s=x[x.find(\")\")+1:]\n",
    "        return s\n",
    "    elif '）' in str(x):\n",
    "        s=x[x.find(\"）\")+1:]\n",
    "        return s\n",
    "    else:\n",
    "        return \"empty\""
   ]
  },
  {
   "cell_type": "code",
   "execution_count": 94,
   "metadata": {
    "collapsed": true
   },
   "outputs": [],
   "source": [
    "# TODO: Process on song names\n",
    "train_3['artist_in_parenthesis']=train_3['artist_name'].apply(in_parenthesis)\n",
    "test_3['artist_in_parenthesis']=test_3['artist_name'].apply(in_parenthesis)\n",
    "train_3['artist_pre_parenthesis']=train_3['artist_name'].apply(pre_parenthesis)\n",
    "test_3['artist_pre_parenthesis']=test_3['artist_name'].apply(pre_parenthesis)\n",
    "train_3['artist_post_parenthesis']=train_3['artist_name'].apply(post_parenthesis)\n",
    "test_3['artist_post_parenthesis']=test_3['artist_name'].apply(post_parenthesis)"
   ]
  },
  {
   "cell_type": "code",
   "execution_count": null,
   "metadata": {
    "collapsed": true
   },
   "outputs": [],
   "source": []
  }
 ],
 "metadata": {
  "kernelspec": {
   "display_name": "Python 3",
   "language": "python",
   "name": "python3"
  },
  "language_info": {
   "codemirror_mode": {
    "name": "ipython",
    "version": 3
   },
   "file_extension": ".py",
   "mimetype": "text/x-python",
   "name": "python",
   "nbconvert_exporter": "python",
   "pygments_lexer": "ipython3",
   "version": "3.6.3"
  }
 },
 "nbformat": 4,
 "nbformat_minor": 1
}
