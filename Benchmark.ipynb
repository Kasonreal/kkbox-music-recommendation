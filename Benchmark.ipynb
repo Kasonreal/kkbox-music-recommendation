{
 "cells": [
  {
   "cell_type": "markdown",
   "metadata": {},
   "source": [
    "# This is for 3 Gradient Boosting Machine benchmark models"
   ]
  },
  {
   "cell_type": "code",
   "execution_count": 1,
   "metadata": {
    "collapsed": true
   },
   "outputs": [],
   "source": [
    "import numpy as np\n",
    "import pandas as pd\n",
    "import lightgbm as lgb\n",
    "import datetime\n",
    "import math\n",
    "import gc"
   ]
  },
  {
   "cell_type": "code",
   "execution_count": 2,
   "metadata": {
    "collapsed": false
   },
   "outputs": [
    {
     "name": "stderr",
     "output_type": "stream",
     "text": [
      "/home/jiacheliu3/anaconda3/lib/python3.5/site-packages/numpy/lib/arraysetops.py:463: FutureWarning: elementwise comparison failed; returning scalar instead, but in the future will perform elementwise comparison\n",
      "  mask |= (ar1 == a)\n"
     ]
    }
   ],
   "source": [
    "data_path='../data/'\n",
    "train=pd.read_csv(data_path + 'train_phase5.csv', index_col=0)\n",
    "test=pd.read_csv(data_path + 'test_phase5.csv', index_col=0)"
   ]
  },
  {
   "cell_type": "code",
   "execution_count": 3,
   "metadata": {
    "collapsed": false,
    "scrolled": true
   },
   "outputs": [
    {
     "name": "stdout",
     "output_type": "stream",
     "text": [
      "<class 'pandas.core.frame.DataFrame'>\n",
      "Int64Index: 7377418 entries, 0 to 7377417\n",
      "Data columns (total 67 columns):\n",
      "msno                              object\n",
      "song_id                           object\n",
      "source_system_tab                 object\n",
      "source_screen_name                object\n",
      "source_type                       object\n",
      "target                            int64\n",
      "song_length                       float64\n",
      "composer                          object\n",
      "lyricist                          object\n",
      "language                          float64\n",
      "short_song                        float64\n",
      "mean_length_distance              float64\n",
      "city                              int64\n",
      "bd                                float64\n",
      "gender                            object\n",
      "registered_via                    int64\n",
      "membership_days                   int64\n",
      "registration_timestamp            float64\n",
      "expiration_timestamp              float64\n",
      "country_code                      object\n",
      "issuer                            object\n",
      "issue_year                        float64\n",
      "unique_id                         object\n",
      "genre_ids_count                   int64\n",
      "lyricists_count                   int64\n",
      "composer_count                    int64\n",
      "artist_count                      int64\n",
      "is_featured                       int64\n",
      "feat_artist                       object\n",
      "main_artist                       object\n",
      "feat_song_name                    object\n",
      "main_song_name                    object\n",
      "is_remix                          int64\n",
      "is_live                           int64\n",
      "is_acoustic                       int64\n",
      "is_instrumental                   int64\n",
      "artist_is_composer                int64\n",
      "artist_is_composer_is_lyricist    int64\n",
      "song_lang_magic                   int64\n",
      "count_song_played                 int64\n",
      "count_artist_played               int64\n",
      "count_composer_played             int64\n",
      "count_lyricist_played             int64\n",
      "count_member_action               int64\n",
      "member_action_per_day             float64\n",
      "artist_main                       object\n",
      "song_main                         object\n",
      "artist_in_parenthesis             object\n",
      "artist_in_titlemark               object\n",
      "song_pre_parenthesis              object\n",
      "song_in_parenthesis               object\n",
      "song_pre_titlemark                object\n",
      "song_in_titlemark                 object\n",
      "genre_pca_1                       float64\n",
      "genre_pca_2                       float64\n",
      "genre_pca_3                       float64\n",
      "genre_pca_4                       float64\n",
      "genre_pca_5                       float64\n",
      "genre_pca_6                       float64\n",
      "genre_pca_7                       float64\n",
      "genre_pca_8                       float64\n",
      "genre_pca_9                       float64\n",
      "genre_pca_10                      float64\n",
      "genre_pca_11                      float64\n",
      "genre_pca_12                      float64\n",
      "keyword_cluster_pca_0             float64\n",
      "keyword_cluster_pca_1             float64\n",
      "dtypes: float64(23), int64(21), object(23)\n",
      "memory usage: 3.7+ GB\n"
     ]
    }
   ],
   "source": [
    "train.info()"
   ]
  },
  {
   "cell_type": "code",
   "execution_count": 7,
   "metadata": {
    "collapsed": true
   },
   "outputs": [],
   "source": [
    "X_train=train_num.drop(['target'], axis=1)"
   ]
  },
  {
   "cell_type": "code",
   "execution_count": 10,
   "metadata": {
    "collapsed": true
   },
   "outputs": [],
   "source": [
    "y_train=train_num['target'].values"
   ]
  },
  {
   "cell_type": "code",
   "execution_count": 6,
   "metadata": {
    "collapsed": false,
    "scrolled": true
   },
   "outputs": [
    {
     "name": "stdout",
     "output_type": "stream",
     "text": [
      "<class 'pandas.core.frame.DataFrame'>\n",
      "Int64Index: 2556790 entries, 0 to 2556789\n",
      "Data columns (total 44 columns):\n",
      "id                                int64\n",
      "song_length                       float64\n",
      "language                          float64\n",
      "short_song                        float64\n",
      "mean_length_distance              float64\n",
      "city                              int64\n",
      "bd                                float64\n",
      "registered_via                    int64\n",
      "membership_days                   int64\n",
      "registration_timestamp            float64\n",
      "expiration_timestamp              float64\n",
      "issue_year                        float64\n",
      "genre_ids_count                   int64\n",
      "lyricists_count                   int64\n",
      "composer_count                    int64\n",
      "artist_count                      int64\n",
      "is_featured                       int64\n",
      "is_remix                          int64\n",
      "is_live                           int64\n",
      "is_acoustic                       int64\n",
      "is_instrumental                   int64\n",
      "artist_is_composer                int64\n",
      "artist_is_composer_is_lyricist    int64\n",
      "song_lang_magic                   int64\n",
      "count_song_played                 int64\n",
      "count_artist_played               int64\n",
      "count_composer_played             int64\n",
      "count_lyricist_played             int64\n",
      "count_member_action               int64\n",
      "member_action_per_day             float64\n",
      "genre_pca_1                       float64\n",
      "genre_pca_2                       float64\n",
      "genre_pca_3                       float64\n",
      "genre_pca_4                       float64\n",
      "genre_pca_5                       float64\n",
      "genre_pca_6                       float64\n",
      "genre_pca_7                       float64\n",
      "genre_pca_8                       float64\n",
      "genre_pca_9                       float64\n",
      "genre_pca_10                      float64\n",
      "genre_pca_11                      float64\n",
      "genre_pca_12                      float64\n",
      "keyword_cluster_pca_0             float64\n",
      "keyword_cluster_pca_1             float64\n",
      "dtypes: float64(23), int64(21)\n",
      "memory usage: 877.8 MB\n"
     ]
    }
   ],
   "source": [
    "test_num=test.select_dtypes(exclude=['object'])\n",
    "test_num.info()"
   ]
  },
  {
   "cell_type": "code",
   "execution_count": 11,
   "metadata": {
    "collapsed": true
   },
   "outputs": [],
   "source": [
    "X_test=test_num.drop(['id'], axis=1)"
   ]
  },
  {
   "cell_type": "code",
   "execution_count": 12,
   "metadata": {
    "collapsed": false,
    "scrolled": true
   },
   "outputs": [
    {
     "name": "stdout",
     "output_type": "stream",
     "text": [
      "<class 'pandas.core.frame.DataFrame'>\n",
      "Int64Index: 2556790 entries, 0 to 2556789\n",
      "Data columns (total 43 columns):\n",
      "song_length                       float64\n",
      "language                          float64\n",
      "short_song                        float64\n",
      "mean_length_distance              float64\n",
      "city                              int64\n",
      "bd                                float64\n",
      "registered_via                    int64\n",
      "membership_days                   int64\n",
      "registration_timestamp            float64\n",
      "expiration_timestamp              float64\n",
      "issue_year                        float64\n",
      "genre_ids_count                   int64\n",
      "lyricists_count                   int64\n",
      "composer_count                    int64\n",
      "artist_count                      int64\n",
      "is_featured                       int64\n",
      "is_remix                          int64\n",
      "is_live                           int64\n",
      "is_acoustic                       int64\n",
      "is_instrumental                   int64\n",
      "artist_is_composer                int64\n",
      "artist_is_composer_is_lyricist    int64\n",
      "song_lang_magic                   int64\n",
      "count_song_played                 int64\n",
      "count_artist_played               int64\n",
      "count_composer_played             int64\n",
      "count_lyricist_played             int64\n",
      "count_member_action               int64\n",
      "member_action_per_day             float64\n",
      "genre_pca_1                       float64\n",
      "genre_pca_2                       float64\n",
      "genre_pca_3                       float64\n",
      "genre_pca_4                       float64\n",
      "genre_pca_5                       float64\n",
      "genre_pca_6                       float64\n",
      "genre_pca_7                       float64\n",
      "genre_pca_8                       float64\n",
      "genre_pca_9                       float64\n",
      "genre_pca_10                      float64\n",
      "genre_pca_11                      float64\n",
      "genre_pca_12                      float64\n",
      "keyword_cluster_pca_0             float64\n",
      "keyword_cluster_pca_1             float64\n",
      "dtypes: float64(23), int64(20)\n",
      "memory usage: 858.3 MB\n"
     ]
    }
   ],
   "source": [
    "X_test.info()"
   ]
  },
  {
   "cell_type": "code",
   "execution_count": 4,
   "metadata": {
    "collapsed": false
   },
   "outputs": [
    {
     "name": "stdout",
     "output_type": "stream",
     "text": [
      "Train test and validation sets\n",
      "Processed data...\n"
     ]
    }
   ],
   "source": [
    "# Convert to category for the model to perceive\n",
    "print (\"Train test and validation sets\")\n",
    "for col in train.columns:\n",
    "    if train[col].dtype == object:\n",
    "        train[col] = train[col].astype('category')\n",
    "        test[col] = test[col].astype('category')\n",
    "\n",
    "\n",
    "X_train = train.drop(['target'], axis=1)\n",
    "y_train = train['target'].values\n",
    "\n",
    "\n",
    "X_test = test.drop(['id'], axis=1)\n",
    "ids = test['id'].values\n",
    "\n",
    "\n",
    "# del train, test; gc.collect();\n",
    "\n",
    "d_train_final = lgb.Dataset(X_train, y_train)\n",
    "watchlist_final = lgb.Dataset(X_train, y_train)\n",
    "print('Processed data...')"
   ]
  },
  {
   "cell_type": "code",
   "execution_count": 6,
   "metadata": {
    "collapsed": false,
    "scrolled": true
   },
   "outputs": [
    {
     "name": "stdout",
     "output_type": "stream",
     "text": [
      "<class 'pandas.core.frame.DataFrame'>\n",
      "Int64Index: 7377418 entries, 0 to 7377417\n",
      "Data columns (total 67 columns):\n",
      "msno                              int64\n",
      "song_id                           int64\n",
      "source_system_tab                 int64\n",
      "source_screen_name                int64\n",
      "source_type                       int64\n",
      "target                            int64\n",
      "song_length                       float64\n",
      "composer                          int64\n",
      "lyricist                          int64\n",
      "language                          float64\n",
      "short_song                        float64\n",
      "mean_length_distance              float64\n",
      "city                              int64\n",
      "bd                                float64\n",
      "gender                            int64\n",
      "registered_via                    int64\n",
      "membership_days                   int64\n",
      "registration_timestamp            float64\n",
      "expiration_timestamp              float64\n",
      "country_code                      int64\n",
      "issuer                            int64\n",
      "issue_year                        float64\n",
      "unique_id                         int64\n",
      "genre_ids_count                   int64\n",
      "lyricists_count                   int64\n",
      "composer_count                    int64\n",
      "artist_count                      int64\n",
      "is_featured                       int64\n",
      "feat_artist                       int64\n",
      "main_artist                       int64\n",
      "feat_song_name                    int64\n",
      "main_song_name                    int64\n",
      "is_remix                          int64\n",
      "is_live                           int64\n",
      "is_acoustic                       int64\n",
      "is_instrumental                   int64\n",
      "artist_is_composer                int64\n",
      "artist_is_composer_is_lyricist    int64\n",
      "song_lang_magic                   int64\n",
      "count_song_played                 int64\n",
      "count_artist_played               int64\n",
      "count_composer_played             int64\n",
      "count_lyricist_played             int64\n",
      "count_member_action               int64\n",
      "member_action_per_day             float64\n",
      "artist_main                       int64\n",
      "song_main                         int64\n",
      "artist_in_parenthesis             int64\n",
      "artist_in_titlemark               int64\n",
      "song_pre_parenthesis              int64\n",
      "song_in_parenthesis               int64\n",
      "song_pre_titlemark                int64\n",
      "song_in_titlemark                 int64\n",
      "genre_pca_1                       float64\n",
      "genre_pca_2                       float64\n",
      "genre_pca_3                       float64\n",
      "genre_pca_4                       float64\n",
      "genre_pca_5                       float64\n",
      "genre_pca_6                       float64\n",
      "genre_pca_7                       float64\n",
      "genre_pca_8                       float64\n",
      "genre_pca_9                       float64\n",
      "genre_pca_10                      float64\n",
      "genre_pca_11                      float64\n",
      "genre_pca_12                      float64\n",
      "keyword_cluster_pca_0             float64\n",
      "keyword_cluster_pca_1             float64\n",
      "dtypes: float64(23), int64(44)\n",
      "memory usage: 3.7 GB\n"
     ]
    }
   ],
   "source": [
    "train.info()"
   ]
  },
  {
   "cell_type": "code",
   "execution_count": 5,
   "metadata": {
    "collapsed": false,
    "scrolled": true
   },
   "outputs": [
    {
     "name": "stderr",
     "output_type": "stream",
     "text": [
      "/home/jiacheliu3/anaconda3/lib/python3.5/site-packages/lightgbm/engine.py:98: UserWarning: Found `num_rounds` in params. Will use it instead of argument\n",
      "  warnings.warn(\"Found `{}` in params. Will use it instead of argument\".format(alias))\n"
     ]
    },
    {
     "name": "stdout",
     "output_type": "stream",
     "text": [
      "[5]\tvalid_0's auc: 0.724517\n",
      "[10]\tvalid_0's auc: 0.733021\n",
      "[15]\tvalid_0's auc: 0.736848\n",
      "[20]\tvalid_0's auc: 0.741851\n",
      "[25]\tvalid_0's auc: 0.745155\n",
      "[30]\tvalid_0's auc: 0.747926\n",
      "[35]\tvalid_0's auc: 0.751994\n",
      "[40]\tvalid_0's auc: 0.755433\n",
      "[45]\tvalid_0's auc: 0.75872\n",
      "[50]\tvalid_0's auc: 0.762065\n",
      "[55]\tvalid_0's auc: 0.765025\n",
      "[60]\tvalid_0's auc: 0.768085\n",
      "[65]\tvalid_0's auc: 0.771043\n",
      "[70]\tvalid_0's auc: 0.773732\n",
      "[75]\tvalid_0's auc: 0.77631\n",
      "[80]\tvalid_0's auc: 0.778459\n",
      "[85]\tvalid_0's auc: 0.780629\n",
      "[90]\tvalid_0's auc: 0.782546\n",
      "[95]\tvalid_0's auc: 0.784173\n",
      "[100]\tvalid_0's auc: 0.786065\n",
      "[105]\tvalid_0's auc: 0.787538\n",
      "[110]\tvalid_0's auc: 0.788936\n",
      "[115]\tvalid_0's auc: 0.790385\n",
      "[120]\tvalid_0's auc: 0.79152\n",
      "[125]\tvalid_0's auc: 0.79254\n",
      "[130]\tvalid_0's auc: 0.793714\n",
      "[135]\tvalid_0's auc: 0.794682\n",
      "[140]\tvalid_0's auc: 0.795575\n",
      "[145]\tvalid_0's auc: 0.79632\n",
      "[150]\tvalid_0's auc: 0.797145\n",
      "[155]\tvalid_0's auc: 0.797985\n",
      "[160]\tvalid_0's auc: 0.798728\n",
      "[165]\tvalid_0's auc: 0.799817\n",
      "[170]\tvalid_0's auc: 0.800593\n",
      "[175]\tvalid_0's auc: 0.801437\n",
      "[180]\tvalid_0's auc: 0.802137\n",
      "[185]\tvalid_0's auc: 0.802846\n",
      "[190]\tvalid_0's auc: 0.803372\n",
      "[195]\tvalid_0's auc: 0.803973\n",
      "[200]\tvalid_0's auc: 0.80465\n",
      "[205]\tvalid_0's auc: 0.805292\n",
      "[210]\tvalid_0's auc: 0.805819\n",
      "[215]\tvalid_0's auc: 0.806416\n",
      "[220]\tvalid_0's auc: 0.806932\n",
      "[225]\tvalid_0's auc: 0.807467\n",
      "[230]\tvalid_0's auc: 0.807955\n",
      "[235]\tvalid_0's auc: 0.808473\n",
      "[240]\tvalid_0's auc: 0.809083\n",
      "[245]\tvalid_0's auc: 0.809584\n",
      "[250]\tvalid_0's auc: 0.809924\n",
      "[255]\tvalid_0's auc: 0.810308\n",
      "[260]\tvalid_0's auc: 0.810745\n",
      "[265]\tvalid_0's auc: 0.811125\n",
      "[270]\tvalid_0's auc: 0.81149\n",
      "[275]\tvalid_0's auc: 0.811827\n",
      "[280]\tvalid_0's auc: 0.812244\n",
      "[285]\tvalid_0's auc: 0.812569\n",
      "[290]\tvalid_0's auc: 0.812923\n",
      "[295]\tvalid_0's auc: 0.81329\n",
      "[300]\tvalid_0's auc: 0.813612\n",
      "[305]\tvalid_0's auc: 0.813945\n",
      "[310]\tvalid_0's auc: 0.814323\n",
      "[315]\tvalid_0's auc: 0.81467\n",
      "[320]\tvalid_0's auc: 0.814992\n",
      "[325]\tvalid_0's auc: 0.815317\n",
      "[330]\tvalid_0's auc: 0.815593\n",
      "[335]\tvalid_0's auc: 0.815889\n",
      "[340]\tvalid_0's auc: 0.816148\n",
      "[345]\tvalid_0's auc: 0.81653\n",
      "[350]\tvalid_0's auc: 0.816879\n",
      "[355]\tvalid_0's auc: 0.817167\n",
      "[360]\tvalid_0's auc: 0.817434\n",
      "[365]\tvalid_0's auc: 0.817746\n",
      "[370]\tvalid_0's auc: 0.818104\n",
      "[375]\tvalid_0's auc: 0.818411\n",
      "[380]\tvalid_0's auc: 0.818703\n",
      "[385]\tvalid_0's auc: 0.818939\n",
      "[390]\tvalid_0's auc: 0.819262\n",
      "[395]\tvalid_0's auc: 0.81962\n",
      "[400]\tvalid_0's auc: 0.819893\n",
      "CPU times: user 2h 5min 24s, sys: 13.1 s, total: 2h 5min 37s\n",
      "Wall time: 19min 17s\n"
     ]
    }
   ],
   "source": [
    "params = {\n",
    "        'objective': 'binary',\n",
    "        'boosting': 'gbdt',\n",
    "        'learning_rate': 0.05 ,\n",
    "        'verbose': 0,\n",
    "        'num_leaves': 100,\n",
    "        'bagging_fraction': 0.95,\n",
    "        'bagging_freq': 1,\n",
    "        'bagging_seed': 1,\n",
    "        'feature_fraction': 0.9,\n",
    "        'feature_fraction_seed': 1,\n",
    "        'max_bin': 256,\n",
    "        'num_rounds': 400,\n",
    "        'metric' : 'auc'\n",
    "    }\n",
    "\n",
    "evals_result={}\n",
    "%time model_f0 = lgb.train(params, train_set=d_train_final,  valid_sets=watchlist_final, verbose_eval=5, feature_name=list(X_train), evals_result=evals_result)"
   ]
  },
  {
   "cell_type": "code",
   "execution_count": 7,
   "metadata": {
    "collapsed": false,
    "scrolled": true
   },
   "outputs": [
    {
     "name": "stderr",
     "output_type": "stream",
     "text": [
      "/home/jiacheliu3/anaconda3/lib/python3.5/site-packages/lightgbm/engine.py:98: UserWarning: Found `num_rounds` in params. Will use it instead of argument\n",
      "  warnings.warn(\"Found `{}` in params. Will use it instead of argument\".format(alias))\n"
     ]
    },
    {
     "name": "stdout",
     "output_type": "stream",
     "text": [
      "[5]\tvalid_0's auc: 0.714207\n",
      "[10]\tvalid_0's auc: 0.721202\n",
      "[15]\tvalid_0's auc: 0.725274\n",
      "[20]\tvalid_0's auc: 0.730795\n",
      "[25]\tvalid_0's auc: 0.734449\n",
      "[30]\tvalid_0's auc: 0.737539\n",
      "[35]\tvalid_0's auc: 0.740113\n",
      "[40]\tvalid_0's auc: 0.742837\n",
      "[45]\tvalid_0's auc: 0.745718\n",
      "[50]\tvalid_0's auc: 0.748053\n",
      "[55]\tvalid_0's auc: 0.749842\n",
      "[60]\tvalid_0's auc: 0.751911\n",
      "[65]\tvalid_0's auc: 0.753937\n",
      "[70]\tvalid_0's auc: 0.755549\n",
      "[75]\tvalid_0's auc: 0.756843\n",
      "[80]\tvalid_0's auc: 0.757801\n",
      "[85]\tvalid_0's auc: 0.75843\n",
      "[90]\tvalid_0's auc: 0.75911\n",
      "[95]\tvalid_0's auc: 0.759781\n",
      "[100]\tvalid_0's auc: 0.760374\n",
      "[105]\tvalid_0's auc: 0.761404\n",
      "[110]\tvalid_0's auc: 0.762153\n",
      "[115]\tvalid_0's auc: 0.76294\n",
      "[120]\tvalid_0's auc: 0.763808\n",
      "[125]\tvalid_0's auc: 0.764334\n",
      "[130]\tvalid_0's auc: 0.764878\n",
      "[135]\tvalid_0's auc: 0.765647\n",
      "[140]\tvalid_0's auc: 0.766306\n",
      "[145]\tvalid_0's auc: 0.76698\n",
      "[150]\tvalid_0's auc: 0.767571\n",
      "[155]\tvalid_0's auc: 0.768045\n",
      "[160]\tvalid_0's auc: 0.768458\n",
      "[165]\tvalid_0's auc: 0.768795\n",
      "[170]\tvalid_0's auc: 0.769163\n",
      "[175]\tvalid_0's auc: 0.769592\n",
      "[180]\tvalid_0's auc: 0.770033\n",
      "[185]\tvalid_0's auc: 0.77042\n",
      "[190]\tvalid_0's auc: 0.770807\n",
      "[195]\tvalid_0's auc: 0.771268\n",
      "[200]\tvalid_0's auc: 0.771687\n",
      "[205]\tvalid_0's auc: 0.772064\n",
      "[210]\tvalid_0's auc: 0.772554\n",
      "[215]\tvalid_0's auc: 0.772971\n",
      "[220]\tvalid_0's auc: 0.77334\n",
      "[225]\tvalid_0's auc: 0.773672\n",
      "[230]\tvalid_0's auc: 0.774033\n",
      "[235]\tvalid_0's auc: 0.774419\n",
      "[240]\tvalid_0's auc: 0.774809\n",
      "[245]\tvalid_0's auc: 0.775251\n",
      "[250]\tvalid_0's auc: 0.775593\n",
      "[255]\tvalid_0's auc: 0.7761\n",
      "[260]\tvalid_0's auc: 0.776502\n",
      "[265]\tvalid_0's auc: 0.776965\n",
      "[270]\tvalid_0's auc: 0.777332\n",
      "[275]\tvalid_0's auc: 0.777801\n",
      "[280]\tvalid_0's auc: 0.77816\n",
      "[285]\tvalid_0's auc: 0.778529\n",
      "[290]\tvalid_0's auc: 0.778835\n",
      "[295]\tvalid_0's auc: 0.779162\n",
      "[300]\tvalid_0's auc: 0.779486\n",
      "[305]\tvalid_0's auc: 0.779772\n",
      "[310]\tvalid_0's auc: 0.780103\n",
      "[315]\tvalid_0's auc: 0.780452\n",
      "[320]\tvalid_0's auc: 0.780841\n",
      "[325]\tvalid_0's auc: 0.781166\n",
      "[330]\tvalid_0's auc: 0.78149\n",
      "[335]\tvalid_0's auc: 0.781799\n",
      "[340]\tvalid_0's auc: 0.78209\n",
      "[345]\tvalid_0's auc: 0.782363\n",
      "[350]\tvalid_0's auc: 0.782716\n",
      "[355]\tvalid_0's auc: 0.782988\n",
      "[360]\tvalid_0's auc: 0.783304\n",
      "[365]\tvalid_0's auc: 0.783584\n",
      "[370]\tvalid_0's auc: 0.783853\n",
      "[375]\tvalid_0's auc: 0.784121\n",
      "[380]\tvalid_0's auc: 0.784418\n",
      "[385]\tvalid_0's auc: 0.78466\n",
      "[390]\tvalid_0's auc: 0.784909\n",
      "[395]\tvalid_0's auc: 0.785196\n",
      "[400]\tvalid_0's auc: 0.785464\n",
      "CPU times: user 1h 2min 36s, sys: 836 ms, total: 1h 2min 37s\n",
      "Wall time: 10min 21s\n"
     ]
    }
   ],
   "source": [
    "params = {\n",
    "        'objective': 'binary',\n",
    "        'metric': 'binary_logloss',\n",
    "        'boosting': 'gbdt',\n",
    "        'learning_rate': 0.05 ,\n",
    "        'verbose': 0,\n",
    "        'num_leaves': 108,\n",
    "        'bagging_fraction': 0.95,\n",
    "        'bagging_freq': 1,\n",
    "        'bagging_seed': 1,\n",
    "        'feature_fraction': 0.9,\n",
    "        'feature_fraction_seed': 1,\n",
    "        'max_bin': 256,\n",
    "        'max_depth': 10,\n",
    "        'num_rounds': 400,\n",
    "        'metric' : 'auc'\n",
    "    }\n",
    "\n",
    "evals_result={}\n",
    "%time model_f1 = lgb.train(params, train_set=d_train_final,  valid_sets=watchlist_final, verbose_eval=5, feature_name=list(X_train), evals_result=evals_result)"
   ]
  },
  {
   "cell_type": "code",
   "execution_count": 8,
   "metadata": {
    "collapsed": false,
    "scrolled": true
   },
   "outputs": [
    {
     "name": "stderr",
     "output_type": "stream",
     "text": [
      "/home/jiacheliu3/anaconda3/lib/python3.5/site-packages/lightgbm/engine.py:98: UserWarning: Found `num_rounds` in params. Will use it instead of argument\n",
      "  warnings.warn(\"Found `{}` in params. Will use it instead of argument\".format(alias))\n"
     ]
    },
    {
     "name": "stdout",
     "output_type": "stream",
     "text": [
      "[5]\tvalid_0's auc: 0.714207\n",
      "[10]\tvalid_0's auc: 0.720003\n",
      "[15]\tvalid_0's auc: 0.72422\n",
      "[20]\tvalid_0's auc: 0.728612\n",
      "[25]\tvalid_0's auc: 0.731594\n",
      "[30]\tvalid_0's auc: 0.73384\n",
      "[35]\tvalid_0's auc: 0.735816\n",
      "[40]\tvalid_0's auc: 0.738132\n",
      "[45]\tvalid_0's auc: 0.739601\n",
      "[50]\tvalid_0's auc: 0.740765\n",
      "[55]\tvalid_0's auc: 0.742501\n",
      "[60]\tvalid_0's auc: 0.743618\n",
      "[65]\tvalid_0's auc: 0.744282\n",
      "[70]\tvalid_0's auc: 0.745579\n",
      "[75]\tvalid_0's auc: 0.746594\n",
      "[80]\tvalid_0's auc: 0.747385\n",
      "[85]\tvalid_0's auc: 0.747531\n",
      "[90]\tvalid_0's auc: 0.747706\n",
      "[95]\tvalid_0's auc: 0.747876\n",
      "[100]\tvalid_0's auc: 0.748871\n",
      "[105]\tvalid_0's auc: 0.748968\n",
      "[110]\tvalid_0's auc: 0.74902\n",
      "[115]\tvalid_0's auc: 0.750052\n",
      "[120]\tvalid_0's auc: 0.750909\n",
      "[125]\tvalid_0's auc: 0.751347\n",
      "[130]\tvalid_0's auc: 0.751753\n",
      "[135]\tvalid_0's auc: 0.752207\n",
      "[140]\tvalid_0's auc: 0.752807\n",
      "[145]\tvalid_0's auc: 0.752767\n",
      "[150]\tvalid_0's auc: 0.753142\n",
      "[155]\tvalid_0's auc: 0.753232\n",
      "[160]\tvalid_0's auc: 0.752961\n",
      "[165]\tvalid_0's auc: 0.753928\n",
      "[170]\tvalid_0's auc: 0.754957\n",
      "[175]\tvalid_0's auc: 0.756305\n",
      "[180]\tvalid_0's auc: 0.756437\n",
      "[185]\tvalid_0's auc: 0.757149\n",
      "[190]\tvalid_0's auc: 0.758094\n",
      "[195]\tvalid_0's auc: 0.75874\n",
      "[200]\tvalid_0's auc: 0.759086\n",
      "[205]\tvalid_0's auc: 0.75899\n",
      "[210]\tvalid_0's auc: 0.759052\n",
      "[215]\tvalid_0's auc: 0.759581\n",
      "[220]\tvalid_0's auc: 0.760051\n",
      "[225]\tvalid_0's auc: 0.76033\n",
      "[230]\tvalid_0's auc: 0.760609\n",
      "[235]\tvalid_0's auc: 0.761105\n",
      "[240]\tvalid_0's auc: 0.76206\n",
      "[245]\tvalid_0's auc: 0.762337\n",
      "[250]\tvalid_0's auc: 0.762874\n",
      "[255]\tvalid_0's auc: 0.763294\n",
      "[260]\tvalid_0's auc: 0.763942\n",
      "[265]\tvalid_0's auc: 0.764487\n",
      "[270]\tvalid_0's auc: 0.764846\n",
      "[275]\tvalid_0's auc: 0.765212\n",
      "[280]\tvalid_0's auc: 0.765361\n",
      "[285]\tvalid_0's auc: 0.765594\n",
      "[290]\tvalid_0's auc: 0.76636\n",
      "[295]\tvalid_0's auc: 0.76649\n",
      "[300]\tvalid_0's auc: 0.766623\n",
      "[305]\tvalid_0's auc: 0.766535\n",
      "[310]\tvalid_0's auc: 0.766631\n",
      "[315]\tvalid_0's auc: 0.766908\n",
      "[320]\tvalid_0's auc: 0.767259\n",
      "[325]\tvalid_0's auc: 0.767569\n",
      "[330]\tvalid_0's auc: 0.767763\n",
      "[335]\tvalid_0's auc: 0.767762\n",
      "[340]\tvalid_0's auc: 0.76783\n",
      "[345]\tvalid_0's auc: 0.768295\n",
      "[350]\tvalid_0's auc: 0.768555\n",
      "[355]\tvalid_0's auc: 0.769102\n",
      "[360]\tvalid_0's auc: 0.769498\n",
      "[365]\tvalid_0's auc: 0.769962\n",
      "[370]\tvalid_0's auc: 0.770051\n",
      "[375]\tvalid_0's auc: 0.770636\n",
      "[380]\tvalid_0's auc: 0.770789\n",
      "[385]\tvalid_0's auc: 0.770908\n",
      "[390]\tvalid_0's auc: 0.771697\n",
      "[395]\tvalid_0's auc: 0.772428\n",
      "[400]\tvalid_0's auc: 0.773131\n",
      "CPU times: user 5h 43min 34s, sys: 2.04 s, total: 5h 43min 36s\n",
      "Wall time: 45min 6s\n"
     ]
    }
   ],
   "source": [
    "params = {\n",
    "        'objective': 'binary',\n",
    "        'metric': 'binary_logloss',\n",
    "        'boosting': 'dart',\n",
    "        'learning_rate': 0.05 ,\n",
    "        'verbose': 0,\n",
    "        'num_leaves': 108,\n",
    "        'bagging_fraction': 0.95,\n",
    "        'bagging_freq': 1,\n",
    "        'bagging_seed': 1,\n",
    "        'feature_fraction': 0.9,\n",
    "        'feature_fraction_seed': 1,\n",
    "        'max_bin': 256,\n",
    "        'max_depth': 10,\n",
    "        'num_rounds': 400,\n",
    "        'metric' : 'auc'\n",
    "    }\n",
    "\n",
    "%time model_f2 = lgb.train(params, train_set=d_train_final,  valid_sets=watchlist_final, verbose_eval=5)"
   ]
  },
  {
   "cell_type": "code",
   "execution_count": 6,
   "metadata": {
    "collapsed": false
   },
   "outputs": [
    {
     "name": "stdout",
     "output_type": "stream",
     "text": [
      "Making predictions\n"
     ]
    }
   ],
   "source": [
    "print('Making predictions')\n",
    "p_test_0 = model_f0.predict(X_test)"
   ]
  },
  {
   "cell_type": "code",
   "execution_count": 10,
   "metadata": {
    "collapsed": false
   },
   "outputs": [
    {
     "name": "stdout",
     "output_type": "stream",
     "text": [
      "Making predictions\n"
     ]
    }
   ],
   "source": [
    "print('Making predictions')\n",
    "p_test_1 = model_f1.predict(X_test)\n",
    "p_test_2 = model_f2.predict(X_test)\n",
    "# p_test_avg = np.mean([p_test_1, p_test_2, p_test_0], axis = 0)"
   ]
  },
  {
   "cell_type": "code",
   "execution_count": 11,
   "metadata": {
    "collapsed": true
   },
   "outputs": [],
   "source": [
    "test_df=pd.DataFrame()\n",
    "test_df['id']=ids\n",
    "test_df['target']=p_test_1\n",
    "test_df.to_csv(data_path + 'test_lgbm_phase5_model1.csv')\n",
    "\n",
    "test_df=pd.DataFrame()\n",
    "test_df['id']=ids\n",
    "test_df['target']=p_test_2\n",
    "test_df.to_csv(data_path + 'test_lgbm_phase5_model2.csv')"
   ]
  },
  {
   "cell_type": "code",
   "execution_count": 8,
   "metadata": {
    "collapsed": true
   },
   "outputs": [],
   "source": [
    "p_train_0 = model_f0.predict(X_train)"
   ]
  },
  {
   "cell_type": "code",
   "execution_count": 13,
   "metadata": {
    "collapsed": true
   },
   "outputs": [],
   "source": [
    "p_train_1 = model_f1.predict(X_train)\n",
    "p_train_2 = model_f2.predict(X_train)\n",
    "\n",
    "train_df=pd.DataFrame(index = X_train.index)\n",
    "train_df['target']=p_train_1\n",
    "train_df.to_csv(data_path + 'train_lgbm_phase5_model1.csv')\n",
    "\n",
    "train_df=pd.DataFrame(index = X_train.index)\n",
    "train_df['target']=p_train_2\n",
    "train_df.to_csv(data_path + 'train_lgbm_phase5_model2.csv')"
   ]
  },
  {
   "cell_type": "code",
   "execution_count": 10,
   "metadata": {
    "collapsed": false
   },
   "outputs": [],
   "source": [
    "train_df=pd.DataFrame(index = X_train.index)\n",
    "train_df['target']=p_train_0\n",
    "train_df.to_csv(data_path + 'train_lgbm_phase5_new.csv')"
   ]
  },
  {
   "cell_type": "code",
   "execution_count": null,
   "metadata": {
    "collapsed": true
   },
   "outputs": [],
   "source": [
    "p_test_1 = model_f1.predict(X_test)"
   ]
  },
  {
   "cell_type": "markdown",
   "metadata": {},
   "source": [
    "# Average the GBM models"
   ]
  },
  {
   "cell_type": "code",
   "execution_count": 15,
   "metadata": {
    "collapsed": false
   },
   "outputs": [
    {
     "name": "stdout",
     "output_type": "stream",
     "text": [
      "Done!\n"
     ]
    }
   ],
   "source": [
    "subm = pd.DataFrame()\n",
    "subm['id'] = ids\n",
    "subm['target'] = p_test_avg\n",
    "subm.to_csv(data_path + 'submission_lgbm_phase5_newavg.csv', index=False, float_format = '%.5f')\n",
    "\n",
    "print('Done!')"
   ]
  },
  {
   "cell_type": "code",
   "execution_count": null,
   "metadata": {
    "collapsed": true
   },
   "outputs": [],
   "source": []
  }
 ],
 "metadata": {
  "anaconda-cloud": {},
  "kernelspec": {
   "display_name": "Python [conda root]",
   "language": "python",
   "name": "conda-root-py"
  },
  "language_info": {
   "codemirror_mode": {
    "name": "ipython",
    "version": 3
   },
   "file_extension": ".py",
   "mimetype": "text/x-python",
   "name": "python",
   "nbconvert_exporter": "python",
   "pygments_lexer": "ipython3",
   "version": "3.5.2"
  }
 },
 "nbformat": 4,
 "nbformat_minor": 1
}
